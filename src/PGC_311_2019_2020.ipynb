{
 "metadata": {
  "language_info": {
   "codemirror_mode": {
    "name": "ipython",
    "version": 3
   },
   "file_extension": ".py",
   "mimetype": "text/x-python",
   "name": "python",
   "nbconvert_exporter": "python",
   "pygments_lexer": "ipython3",
   "version": "3.8.3"
  },
  "orig_nbformat": 2,
  "kernelspec": {
   "name": "python383jvsc74a57bd0dca0ade3e726a953b501b15e8e990130d2b7799f14cfd9f4271676035ebe5511",
   "display_name": "Python 3.8.3 64-bit ('base': conda)"
  }
 },
 "nbformat": 4,
 "nbformat_minor": 2,
 "cells": [
  {
   "source": [
    "## Prince George's County (PGC) 311 Requests Analysis\n",
    "1. Analyze the # of 311 requests for each type before and after lock down (March 2020)\n",
    "2. Exploratay analysis on FEMS requests"
   ],
   "cell_type": "markdown",
   "metadata": {}
  },
  {
   "source": [
    "### Some findings:\n",
    "1. 39 types of service requests changed significantly after lock down (p-val <0.05)\n",
    "2. t-test results can be found at the result directory (../result/PGC_service_type_ttest.csv) \n",
    "3. Box plots can be found at the figure directory (../figure/PGC_ServiceTypeBoxPlt/)"
   ],
   "cell_type": "markdown",
   "metadata": {}
  },
  {
   "cell_type": "code",
   "execution_count": 1,
   "metadata": {},
   "outputs": [],
   "source": [
    "import numpy as np\n",
    "import pandas as pd\n",
    "import os\n",
    "import re\n",
    "import glob\n",
    "import csv\n",
    "import warnings\n",
    "import matplotlib\n",
    "import matplotlib.pyplot as plt\n",
    "import seaborn as sns\n",
    "from scipy import stats\n",
    "import math\n",
    "warnings.filterwarnings(\"ignore\")\n",
    "PGC_311_2019 = '/Users/julia/Box/Data_311/DMV_311/DMV_nonEM/Prince George County/311_Prince George County_MD_2019.csv'\n",
    "PGC_311_2020 = '/Users/julia/Box/Data_311/DMV_311/DMV_nonEM/Prince George County/311_Prince George County_MD_2020.csv'"
   ]
  },
  {
   "source": [
    "### All 311 Requests in PGC during 2019 to 2020"
   ],
   "cell_type": "markdown",
   "metadata": {}
  },
  {
   "source": [
    "1. PGC 2019"
   ],
   "cell_type": "markdown",
   "metadata": {}
  },
  {
   "cell_type": "code",
   "execution_count": 2,
   "metadata": {},
   "outputs": [
    {
     "output_type": "execute_result",
     "data": {
      "text/plain": [
       "  Service Request #     Date Request Opened Request Status     SLA  \\\n",
       "0       19-00104025  12/19/2019 02:01:48 PM         CLOSED  CLOSED   \n",
       "1       19-00104020  12/19/2019 01:33:38 PM         CLOSED  CLOSED   \n",
       "2       19-00104015  12/19/2019 01:15:29 PM         CLOSED  CLOSED   \n",
       "3       19-00069381  07/30/2019 09:38:28 AM         CLOSED  CLOSED   \n",
       "4       19-00105069  12/27/2019 10:56:07 AM         CLOSED  CLOSED   \n",
       "\n",
       "                  Service Group                           Agency Responsible  \\\n",
       "0  Public Safety Communications                            Homeland Security   \n",
       "1   Traffic Operations Division  Department of Public Works & Transportation   \n",
       "2                 Rva - General                            Revenue Authority   \n",
       "3         Construction Division  Department of Public Works & Transportation   \n",
       "4        Field Activities - Amd                 Dept. of The Environment-DOE   \n",
       "\n",
       "                     Request Name               Street Address   Latitude  \\\n",
       "0     PSC Audio Recording Request                          NaN        NaN   \n",
       "1  Traffic Signs - Repair/Replace          3950 Garden City Dr        NaN   \n",
       "2              Parking Complaints                 511 ABEL AVE  38.883792   \n",
       "3             Roadway Emergencies     WOODYARD RD & DEBORAH ST        NaN   \n",
       "4               Animal - Deceased  SUITLAND PKY & SOUTHERN AVE        NaN   \n",
       "\n",
       "   Longitude                     Location TNI Area Description  \\\n",
       "0        NaN                          NaN       County Address   \n",
       "1        NaN                          NaN       County Address   \n",
       "2 -76.920057  (38.88379244, -76.92005729)       County Address   \n",
       "3        NaN                          NaN       County Address   \n",
       "4        NaN                          NaN       County Address   \n",
       "\n",
       "           opened_date  \n",
       "0  2019-12-19 14:01:48  \n",
       "1  2019-12-19 13:33:38  \n",
       "2  2019-12-19 13:15:29  \n",
       "3  2019-07-30 09:38:28  \n",
       "4  2019-12-27 10:56:07  "
      ],
      "text/html": "<div>\n<style scoped>\n    .dataframe tbody tr th:only-of-type {\n        vertical-align: middle;\n    }\n\n    .dataframe tbody tr th {\n        vertical-align: top;\n    }\n\n    .dataframe thead th {\n        text-align: right;\n    }\n</style>\n<table border=\"1\" class=\"dataframe\">\n  <thead>\n    <tr style=\"text-align: right;\">\n      <th></th>\n      <th>Service Request #</th>\n      <th>Date Request Opened</th>\n      <th>Request Status</th>\n      <th>SLA</th>\n      <th>Service Group</th>\n      <th>Agency Responsible</th>\n      <th>Request Name</th>\n      <th>Street Address</th>\n      <th>Latitude</th>\n      <th>Longitude</th>\n      <th>Location</th>\n      <th>TNI Area Description</th>\n      <th>opened_date</th>\n    </tr>\n  </thead>\n  <tbody>\n    <tr>\n      <th>0</th>\n      <td>19-00104025</td>\n      <td>12/19/2019 02:01:48 PM</td>\n      <td>CLOSED</td>\n      <td>CLOSED</td>\n      <td>Public Safety Communications</td>\n      <td>Homeland Security</td>\n      <td>PSC Audio Recording Request</td>\n      <td>NaN</td>\n      <td>NaN</td>\n      <td>NaN</td>\n      <td>NaN</td>\n      <td>County Address</td>\n      <td>2019-12-19 14:01:48</td>\n    </tr>\n    <tr>\n      <th>1</th>\n      <td>19-00104020</td>\n      <td>12/19/2019 01:33:38 PM</td>\n      <td>CLOSED</td>\n      <td>CLOSED</td>\n      <td>Traffic Operations Division</td>\n      <td>Department of Public Works &amp; Transportation</td>\n      <td>Traffic Signs - Repair/Replace</td>\n      <td>3950 Garden City Dr</td>\n      <td>NaN</td>\n      <td>NaN</td>\n      <td>NaN</td>\n      <td>County Address</td>\n      <td>2019-12-19 13:33:38</td>\n    </tr>\n    <tr>\n      <th>2</th>\n      <td>19-00104015</td>\n      <td>12/19/2019 01:15:29 PM</td>\n      <td>CLOSED</td>\n      <td>CLOSED</td>\n      <td>Rva - General</td>\n      <td>Revenue Authority</td>\n      <td>Parking Complaints</td>\n      <td>511 ABEL AVE</td>\n      <td>38.883792</td>\n      <td>-76.920057</td>\n      <td>(38.88379244, -76.92005729)</td>\n      <td>County Address</td>\n      <td>2019-12-19 13:15:29</td>\n    </tr>\n    <tr>\n      <th>3</th>\n      <td>19-00069381</td>\n      <td>07/30/2019 09:38:28 AM</td>\n      <td>CLOSED</td>\n      <td>CLOSED</td>\n      <td>Construction Division</td>\n      <td>Department of Public Works &amp; Transportation</td>\n      <td>Roadway Emergencies</td>\n      <td>WOODYARD RD &amp; DEBORAH ST</td>\n      <td>NaN</td>\n      <td>NaN</td>\n      <td>NaN</td>\n      <td>County Address</td>\n      <td>2019-07-30 09:38:28</td>\n    </tr>\n    <tr>\n      <th>4</th>\n      <td>19-00105069</td>\n      <td>12/27/2019 10:56:07 AM</td>\n      <td>CLOSED</td>\n      <td>CLOSED</td>\n      <td>Field Activities - Amd</td>\n      <td>Dept. of The Environment-DOE</td>\n      <td>Animal - Deceased</td>\n      <td>SUITLAND PKY &amp; SOUTHERN AVE</td>\n      <td>NaN</td>\n      <td>NaN</td>\n      <td>NaN</td>\n      <td>County Address</td>\n      <td>2019-12-27 10:56:07</td>\n    </tr>\n  </tbody>\n</table>\n</div>"
     },
     "metadata": {},
     "execution_count": 2
    }
   ],
   "source": [
    "PGC_311_2019_df = pd.read_csv(PGC_311_2019,index_col=0)\n",
    "PGC_311_2019_df.head()"
   ]
  },
  {
   "cell_type": "code",
   "execution_count": 3,
   "metadata": {},
   "outputs": [
    {
     "output_type": "execute_result",
     "data": {
      "text/plain": [
       "Index(['Service Request #', 'Date Request Opened', 'Request Status', 'SLA',\n",
       "       'Service Group', 'Agency Responsible', 'Request Name', 'Street Address',\n",
       "       'Latitude', 'Longitude', 'Location', 'TNI Area Description',\n",
       "       'opened_date'],\n",
       "      dtype='object')"
      ]
     },
     "metadata": {},
     "execution_count": 3
    }
   ],
   "source": [
    "PGC_311_2019_df.columns"
   ]
  },
  {
   "cell_type": "code",
   "execution_count": 4,
   "metadata": {},
   "outputs": [
    {
     "output_type": "stream",
     "name": "stdout",
     "text": [
      "#311 reports between 2019-01-01 01:21:16 and 2019-12-31 17:15:41: 57553\n"
     ]
    }
   ],
   "source": [
    "PGC_311_2019_df['opened_date'] = pd.to_datetime(PGC_311_2019_df['Date Request Opened'], format='%m/%d/%Y %I:%M:%S %p')\n",
    "PGC_311_2019_df = PGC_311_2019_df.loc[ PGC_311_2019_df['opened_date'].dt.year == 2019]\n",
    "PGC_311_2019_df.drop_duplicates(subset=['Service Request #'], inplace = True)\n",
    "min_date = min(PGC_311_2019_df['opened_date'])\n",
    "max_date = max(PGC_311_2019_df['opened_date'])\n",
    "print(\"#311 reports between \" + str(min_date) + \" and \" + str(max_date) + \": \" + str(PGC_311_2019_df.shape[0]))"
   ]
  },
  {
   "source": [
    "2. PGC 2020"
   ],
   "cell_type": "markdown",
   "metadata": {}
  },
  {
   "cell_type": "code",
   "execution_count": 5,
   "metadata": {},
   "outputs": [
    {
     "output_type": "execute_result",
     "data": {
      "text/plain": [
       "      Service Request #     Date Request Opened Request Status      SLA  \\\n",
       "0           20-00067998  10/13/2020 07:40:26 AM         CLOSED   CLOSED   \n",
       "1           20-00030537  05/30/2020 08:01:29 AM         CLOSED   CLOSED   \n",
       "2           20-00079887  12/01/2020 01:49:38 PM         CLOSED   CLOSED   \n",
       "3           20-00079924  12/01/2020 03:04:16 PM         CLOSED   CLOSED   \n",
       "4           20-00079861  12/01/2020 12:15:56 PM         CLOSED   CLOSED   \n",
       "...                 ...                     ...            ...      ...   \n",
       "47140       20-00012020  02/24/2020 06:38:16 PM           OPEN  OVERDUE   \n",
       "47141       20-00012030  02/24/2020 09:44:09 PM           OPEN  OVERDUE   \n",
       "47142       20-00013370  03/02/2020 01:27:00 PM           OPEN     OPEN   \n",
       "47143       20-00055745  08/27/2020 12:06:48 PM           OPEN     OPEN   \n",
       "47144       20-00076156  11/15/2020 04:04:57 PM           OPEN     OPEN   \n",
       "\n",
       "                          Service Group  \\\n",
       "0                     Police Department   \n",
       "1             Special Services Division   \n",
       "2                       Collections-WMD   \n",
       "3             Special Services Division   \n",
       "4                                Zoning   \n",
       "...                                 ...   \n",
       "47140             Construction Division   \n",
       "47141             Construction Division   \n",
       "47142                            Zoning   \n",
       "47143  Single Family (Code Enforcement)   \n",
       "47144  Single Family (Code Enforcement)   \n",
       "\n",
       "                                Agency Responsible  \\\n",
       "0                                Police Department   \n",
       "1      Department of Public Works & Transportation   \n",
       "2                     Dept. of The Environment-DOE   \n",
       "3      Department of Public Works & Transportation   \n",
       "4                                             DPIE   \n",
       "...                                            ...   \n",
       "47140  Department of Public Works & Transportation   \n",
       "47141  Department of Public Works & Transportation   \n",
       "47142                                         DPIE   \n",
       "47143                                         DPIE   \n",
       "47144                                         DPIE   \n",
       "\n",
       "                                    Request Name       Street Address  \\\n",
       "0                          Traffic Hazard/Safety      4800 IVERSON PL   \n",
       "1      Litter Removal (from County Right-of-Way)     7167 ACCOKEEK RD   \n",
       "2                     Cancellation - Bulky Trash      3810 ASQUITH CT   \n",
       "3           Tree Trimming in Public Right-of-Way       10604 CROOM RD   \n",
       "4                ENF-Business Operation Concerns          4816 EMO ST   \n",
       "...                                          ...                  ...   \n",
       "47140                          Sidewalk - Repair       10000 NICOL CT   \n",
       "47141                          Sidewalk - Repair      10106 ELGIN CIR   \n",
       "47142  ENF-Business/Commercial Exterior Concerns  111 WESTHAMPTON AVE   \n",
       "47143          ENF-Residential Property Concerns         16411 LEA DR   \n",
       "47144          ENF-Residential Property Concerns  2502 SAINT CLAIR DR   \n",
       "\n",
       "        Latitude  Longitude                     Location TNI Area Description  \\\n",
       "0            NaN        NaN                          NaN       County Address   \n",
       "1            NaN        NaN                          NaN       County Address   \n",
       "2            NaN        NaN                          NaN       County Address   \n",
       "3            NaN        NaN                          NaN       County Address   \n",
       "4            NaN        NaN                          NaN       County Address   \n",
       "...          ...        ...                          ...                  ...   \n",
       "47140  38.922900 -76.833760  (38.92289987, -76.83375981)       County Address   \n",
       "47141  38.922476 -76.831500  (38.92247581, -76.83149972)       County Address   \n",
       "47142  38.888102 -76.865453  (38.88810163, -76.86545272)       County Address   \n",
       "47143  38.970168 -76.708779  (38.97016759, -76.70877855)       County Address   \n",
       "47144        NaN        NaN                          NaN       County Address   \n",
       "\n",
       "               opened_date  \n",
       "0      2020-10-13 07:40:26  \n",
       "1      2020-05-30 08:01:29  \n",
       "2      2020-12-01 13:49:38  \n",
       "3      2020-12-01 15:04:16  \n",
       "4      2020-12-01 12:15:56  \n",
       "...                    ...  \n",
       "47140  2020-02-24 18:38:16  \n",
       "47141  2020-02-24 21:44:09  \n",
       "47142  2020-03-02 13:27:00  \n",
       "47143  2020-08-27 12:06:48  \n",
       "47144  2020-11-15 16:04:57  \n",
       "\n",
       "[47145 rows x 13 columns]"
      ],
      "text/html": "<div>\n<style scoped>\n    .dataframe tbody tr th:only-of-type {\n        vertical-align: middle;\n    }\n\n    .dataframe tbody tr th {\n        vertical-align: top;\n    }\n\n    .dataframe thead th {\n        text-align: right;\n    }\n</style>\n<table border=\"1\" class=\"dataframe\">\n  <thead>\n    <tr style=\"text-align: right;\">\n      <th></th>\n      <th>Service Request #</th>\n      <th>Date Request Opened</th>\n      <th>Request Status</th>\n      <th>SLA</th>\n      <th>Service Group</th>\n      <th>Agency Responsible</th>\n      <th>Request Name</th>\n      <th>Street Address</th>\n      <th>Latitude</th>\n      <th>Longitude</th>\n      <th>Location</th>\n      <th>TNI Area Description</th>\n      <th>opened_date</th>\n    </tr>\n  </thead>\n  <tbody>\n    <tr>\n      <th>0</th>\n      <td>20-00067998</td>\n      <td>10/13/2020 07:40:26 AM</td>\n      <td>CLOSED</td>\n      <td>CLOSED</td>\n      <td>Police Department</td>\n      <td>Police Department</td>\n      <td>Traffic Hazard/Safety</td>\n      <td>4800 IVERSON PL</td>\n      <td>NaN</td>\n      <td>NaN</td>\n      <td>NaN</td>\n      <td>County Address</td>\n      <td>2020-10-13 07:40:26</td>\n    </tr>\n    <tr>\n      <th>1</th>\n      <td>20-00030537</td>\n      <td>05/30/2020 08:01:29 AM</td>\n      <td>CLOSED</td>\n      <td>CLOSED</td>\n      <td>Special Services Division</td>\n      <td>Department of Public Works &amp; Transportation</td>\n      <td>Litter Removal (from County Right-of-Way)</td>\n      <td>7167 ACCOKEEK RD</td>\n      <td>NaN</td>\n      <td>NaN</td>\n      <td>NaN</td>\n      <td>County Address</td>\n      <td>2020-05-30 08:01:29</td>\n    </tr>\n    <tr>\n      <th>2</th>\n      <td>20-00079887</td>\n      <td>12/01/2020 01:49:38 PM</td>\n      <td>CLOSED</td>\n      <td>CLOSED</td>\n      <td>Collections-WMD</td>\n      <td>Dept. of The Environment-DOE</td>\n      <td>Cancellation - Bulky Trash</td>\n      <td>3810 ASQUITH CT</td>\n      <td>NaN</td>\n      <td>NaN</td>\n      <td>NaN</td>\n      <td>County Address</td>\n      <td>2020-12-01 13:49:38</td>\n    </tr>\n    <tr>\n      <th>3</th>\n      <td>20-00079924</td>\n      <td>12/01/2020 03:04:16 PM</td>\n      <td>CLOSED</td>\n      <td>CLOSED</td>\n      <td>Special Services Division</td>\n      <td>Department of Public Works &amp; Transportation</td>\n      <td>Tree Trimming in Public Right-of-Way</td>\n      <td>10604 CROOM RD</td>\n      <td>NaN</td>\n      <td>NaN</td>\n      <td>NaN</td>\n      <td>County Address</td>\n      <td>2020-12-01 15:04:16</td>\n    </tr>\n    <tr>\n      <th>4</th>\n      <td>20-00079861</td>\n      <td>12/01/2020 12:15:56 PM</td>\n      <td>CLOSED</td>\n      <td>CLOSED</td>\n      <td>Zoning</td>\n      <td>DPIE</td>\n      <td>ENF-Business Operation Concerns</td>\n      <td>4816 EMO ST</td>\n      <td>NaN</td>\n      <td>NaN</td>\n      <td>NaN</td>\n      <td>County Address</td>\n      <td>2020-12-01 12:15:56</td>\n    </tr>\n    <tr>\n      <th>...</th>\n      <td>...</td>\n      <td>...</td>\n      <td>...</td>\n      <td>...</td>\n      <td>...</td>\n      <td>...</td>\n      <td>...</td>\n      <td>...</td>\n      <td>...</td>\n      <td>...</td>\n      <td>...</td>\n      <td>...</td>\n      <td>...</td>\n    </tr>\n    <tr>\n      <th>47140</th>\n      <td>20-00012020</td>\n      <td>02/24/2020 06:38:16 PM</td>\n      <td>OPEN</td>\n      <td>OVERDUE</td>\n      <td>Construction Division</td>\n      <td>Department of Public Works &amp; Transportation</td>\n      <td>Sidewalk - Repair</td>\n      <td>10000 NICOL CT</td>\n      <td>38.922900</td>\n      <td>-76.833760</td>\n      <td>(38.92289987, -76.83375981)</td>\n      <td>County Address</td>\n      <td>2020-02-24 18:38:16</td>\n    </tr>\n    <tr>\n      <th>47141</th>\n      <td>20-00012030</td>\n      <td>02/24/2020 09:44:09 PM</td>\n      <td>OPEN</td>\n      <td>OVERDUE</td>\n      <td>Construction Division</td>\n      <td>Department of Public Works &amp; Transportation</td>\n      <td>Sidewalk - Repair</td>\n      <td>10106 ELGIN CIR</td>\n      <td>38.922476</td>\n      <td>-76.831500</td>\n      <td>(38.92247581, -76.83149972)</td>\n      <td>County Address</td>\n      <td>2020-02-24 21:44:09</td>\n    </tr>\n    <tr>\n      <th>47142</th>\n      <td>20-00013370</td>\n      <td>03/02/2020 01:27:00 PM</td>\n      <td>OPEN</td>\n      <td>OPEN</td>\n      <td>Zoning</td>\n      <td>DPIE</td>\n      <td>ENF-Business/Commercial Exterior Concerns</td>\n      <td>111 WESTHAMPTON AVE</td>\n      <td>38.888102</td>\n      <td>-76.865453</td>\n      <td>(38.88810163, -76.86545272)</td>\n      <td>County Address</td>\n      <td>2020-03-02 13:27:00</td>\n    </tr>\n    <tr>\n      <th>47143</th>\n      <td>20-00055745</td>\n      <td>08/27/2020 12:06:48 PM</td>\n      <td>OPEN</td>\n      <td>OPEN</td>\n      <td>Single Family (Code Enforcement)</td>\n      <td>DPIE</td>\n      <td>ENF-Residential Property Concerns</td>\n      <td>16411 LEA DR</td>\n      <td>38.970168</td>\n      <td>-76.708779</td>\n      <td>(38.97016759, -76.70877855)</td>\n      <td>County Address</td>\n      <td>2020-08-27 12:06:48</td>\n    </tr>\n    <tr>\n      <th>47144</th>\n      <td>20-00076156</td>\n      <td>11/15/2020 04:04:57 PM</td>\n      <td>OPEN</td>\n      <td>OPEN</td>\n      <td>Single Family (Code Enforcement)</td>\n      <td>DPIE</td>\n      <td>ENF-Residential Property Concerns</td>\n      <td>2502 SAINT CLAIR DR</td>\n      <td>NaN</td>\n      <td>NaN</td>\n      <td>NaN</td>\n      <td>County Address</td>\n      <td>2020-11-15 16:04:57</td>\n    </tr>\n  </tbody>\n</table>\n<p>47145 rows × 13 columns</p>\n</div>"
     },
     "metadata": {},
     "execution_count": 5
    }
   ],
   "source": [
    "PGC_311_2020_df = pd.read_csv(PGC_311_2020,index_col=0)\n",
    "PGC_311_2020_df"
   ]
  },
  {
   "cell_type": "code",
   "execution_count": 6,
   "metadata": {},
   "outputs": [
    {
     "output_type": "execute_result",
     "data": {
      "text/plain": [
       "Index(['Service Request #', 'Date Request Opened', 'Request Status', 'SLA',\n",
       "       'Service Group', 'Agency Responsible', 'Request Name', 'Street Address',\n",
       "       'Latitude', 'Longitude', 'Location', 'TNI Area Description',\n",
       "       'opened_date'],\n",
       "      dtype='object')"
      ]
     },
     "metadata": {},
     "execution_count": 6
    }
   ],
   "source": [
    "PGC_311_2020_df.columns"
   ]
  },
  {
   "cell_type": "code",
   "execution_count": 7,
   "metadata": {},
   "outputs": [
    {
     "output_type": "stream",
     "name": "stdout",
     "text": [
      "#311 reports between 2020-01-01 08:08:42 and 2020-12-31 21:57:12: 47145\n"
     ]
    }
   ],
   "source": [
    "PGC_311_2020_df['opened_date'] = pd.to_datetime(PGC_311_2020_df['Date Request Opened'], format='%m/%d/%Y %I:%M:%S %p')\n",
    "PGC_311_2020_df = PGC_311_2020_df.loc[ PGC_311_2020_df['opened_date'].dt.year == 2020]\n",
    "PGC_311_2020_df.drop_duplicates(subset=['Service Request #'], inplace = True)\n",
    "min_date = min(PGC_311_2020_df['opened_date'])\n",
    "max_date = max(PGC_311_2020_df['opened_date'])\n",
    "print(\"#311 reports between \" + str(min_date) + \" and \" + str(max_date) + \": \" + str(PGC_311_2020_df.shape[0]))"
   ]
  },
  {
   "cell_type": "code",
   "execution_count": 8,
   "metadata": {},
   "outputs": [
    {
     "output_type": "execute_result",
     "data": {
      "text/plain": [
       "177"
      ]
     },
     "metadata": {},
     "execution_count": 8
    }
   ],
   "source": [
    "service_desc_2019 = PGC_311_2019_df['Request Name'].unique().tolist()\n",
    "len(service_desc_2019)"
   ]
  },
  {
   "cell_type": "code",
   "execution_count": 9,
   "metadata": {},
   "outputs": [
    {
     "output_type": "execute_result",
     "data": {
      "text/plain": [
       "173"
      ]
     },
     "metadata": {},
     "execution_count": 9
    }
   ],
   "source": [
    "service_desc_2020 = PGC_311_2020_df['Request Name'].unique().tolist()\n",
    "len(service_desc_2020)"
   ]
  },
  {
   "cell_type": "code",
   "execution_count": 10,
   "metadata": {},
   "outputs": [
    {
     "output_type": "stream",
     "name": "stdout",
     "text": [
      "156\n"
     ]
    },
    {
     "output_type": "execute_result",
     "data": {
      "text/plain": [
       "{'Air/Land/Water Contamination Complaint',\n",
       " 'Alarm Registration (False Alarm Registration)',\n",
       " 'Animal - At Large (Domestic)',\n",
       " 'Animal - Barking Complaint',\n",
       " 'Animal - Bite',\n",
       " 'Animal - Cruelty',\n",
       " 'Animal - Deceased',\n",
       " 'Animal - Illegal Breeds',\n",
       " 'Animal - Injured',\n",
       " 'Animal - Lost & Found',\n",
       " 'Animal - Noise (i.e. dogs/chickens)',\n",
       " 'Animal - Not Customarily Household Pet',\n",
       " 'Animal - Vicious',\n",
       " 'Asphalt Curb Repair/Installation',\n",
       " 'Boat Trailer/Camping Trailer/Equipment Trailer on Roadway',\n",
       " 'Burial Assistance Program',\n",
       " 'Bus Stop - New',\n",
       " 'Bus Stop Trash Can Overflowing',\n",
       " 'Cable Commission Complaint',\n",
       " 'Call-a-Bus Issues',\n",
       " 'Cancellation - Bulky Trash',\n",
       " 'Cemetery For-Profit Complaint',\n",
       " 'Channel Maintenance',\n",
       " 'Child & Adult Protective Services Adoption Foster Care',\n",
       " 'Citation - Code Enforcement',\n",
       " 'Civil Expungements',\n",
       " 'Clean Lot',\n",
       " 'Clean Water Act Fee',\n",
       " 'Comprehensive Community Clean-up - CCCC',\n",
       " 'Concrete Work (Contractor)',\n",
       " 'Concrete Work (In House)',\n",
       " 'Construction Issues',\n",
       " 'Contract Administration & Procurement (CAP)',\n",
       " 'County Executive - Meeting Request',\n",
       " 'County Executive Emails',\n",
       " 'County Vehicles - Reporting Misuse/Mishandling of Vehicles',\n",
       " 'CountyClick 311 Changes',\n",
       " 'CountyClick 311 Emails',\n",
       " 'Curb and Gutter Repair',\n",
       " 'Cut and Patch (Contractor)',\n",
       " 'Cut and Patch (In House)',\n",
       " 'Damage Caused by Utility Companies',\n",
       " 'Damaged Mailbox',\n",
       " 'Damaged Structure',\n",
       " 'Discrimination Complaint',\n",
       " 'Ditch Reconstruction (Contractor)',\n",
       " 'Drainage Ditch',\n",
       " 'Driveway Apron Repair',\n",
       " 'EAFC Eviction and Relocation Assistance',\n",
       " 'ENF-Apartment Complex Common Area Issues',\n",
       " 'ENF-Business Activity in Residential Area',\n",
       " 'ENF-Business Operation Concerns',\n",
       " 'ENF-Business/Commercial Exterior Concerns',\n",
       " 'ENF-Rental Issues  Apartment Unit',\n",
       " 'ENF-Rental Issues  Single Family Home',\n",
       " 'ENF-Residential Property Concerns',\n",
       " 'Election-related Requests',\n",
       " 'Fence Repair -Contractor',\n",
       " 'Fire Report Request',\n",
       " 'Fire/EMS General Inquiries',\n",
       " 'Flood Control',\n",
       " 'Flooding (Yard/Private Property)',\n",
       " 'Flooding and Drainage Issues (Public Right-of-Way)',\n",
       " 'Foam Free PGC Ban',\n",
       " 'Food Facility Complaint',\n",
       " 'Food Poisoning (Possible)',\n",
       " 'Food Supplement Program (Food Stamps)',\n",
       " 'Food Truck(s) NOT in a Hub (Street etc.)',\n",
       " 'Graffiti Removal',\n",
       " 'Grass/Weeds Along Roadway (in County Right-of-Way)',\n",
       " 'Guardrail - Install New',\n",
       " 'Guardrail - Repair',\n",
       " 'Handicapped Ramp - Install New',\n",
       " 'Handicapped Ramp - Repair',\n",
       " 'Health Dept. Invoice Process',\n",
       " 'Illegal Drugs Complaints/Tips',\n",
       " 'Illegal Dumping Removal (from County Right-of-Way)',\n",
       " 'License-related Requests',\n",
       " 'Liquor-related Complaint / Inspection',\n",
       " 'Litter Removal (from County Right-of-Way)',\n",
       " 'Loitering Complaints',\n",
       " 'MTC Service Request',\n",
       " 'Medical Assistance',\n",
       " 'MyPGC',\n",
       " 'PSC Audio Recording Request',\n",
       " 'PSC Customer Service',\n",
       " 'Parked Vehicle Causing Hazard (On Public Road)',\n",
       " 'Parking Complaints',\n",
       " 'Pavement Markings - Existing',\n",
       " 'Pavement Markings - New',\n",
       " 'Permit-related Requests',\n",
       " 'Pipe Repair/Replacement',\n",
       " 'Pipe Repair/Replacement (Contractor)',\n",
       " 'Pond Issues',\n",
       " 'Pothole Repair',\n",
       " 'Property Alterations w/o a Permit',\n",
       " 'Property Request to Purchase (County-owned)',\n",
       " 'Public Pool/Spa Complaint',\n",
       " 'RRD - Composting',\n",
       " 'RRD - One Bag Rule',\n",
       " 'Recycling - Business/Multi Family Complaint',\n",
       " 'Recycling - Business/Multi Family Plan Assistance',\n",
       " 'Recycling - Business/Multi Family Required Report',\n",
       " 'Rental License Inspection (Single Family)',\n",
       " 'Request a County Agency Representative',\n",
       " 'Road Resurfacing',\n",
       " 'Roadway Emergencies',\n",
       " 'School Flasher Maintenance',\n",
       " 'Sewage Overflow',\n",
       " 'Shoulder Repair',\n",
       " 'Sidewalk - New',\n",
       " 'Sidewalk - Repair',\n",
       " 'Sidewalk Replacement - Contractor',\n",
       " 'Sidewalk Replacement - In House',\n",
       " 'Sinkholes (Private Property)',\n",
       " 'Sinkholes (Public Right-of-Way)',\n",
       " 'Smoking-related Requests',\n",
       " 'Snow - Complaints about Snow/Ice on Sidewalks',\n",
       " 'Snow Removal (Roadways)',\n",
       " 'Storage Pod/Dumpster/Container without a Permit',\n",
       " 'Storm Drain Maintenance',\n",
       " 'Storm Drain Pipes - Repair/Replace',\n",
       " 'Storm Drain Pipes - Repair/Replace (Contractor)',\n",
       " 'Storm Drain Video Inspection (Contractor)',\n",
       " 'Stormwater Pollution Complaints',\n",
       " 'Street Light New Install (PGC)',\n",
       " 'Street Light Outage(s)',\n",
       " 'Street Median Maintenance',\n",
       " 'Street Sweeping',\n",
       " 'Stump Removal (in County right-of-way)',\n",
       " 'Sump Pump Discharge onto Roadway & Sidewalk',\n",
       " 'Surface Drainage/Under Drain Issues in Public Right-of-Way',\n",
       " 'Tax - General Inquiry',\n",
       " 'Taxi Complaint',\n",
       " 'The Bus',\n",
       " 'Towing - Request a Hearing/Show Cause',\n",
       " 'Traffic Calming (Speed Humps)',\n",
       " 'Traffic Control Device - New',\n",
       " 'Traffic Hazard/Safety',\n",
       " 'Traffic Sign - New',\n",
       " 'Traffic Signal - Long Term Maintenance',\n",
       " 'Traffic Signal Maintenance',\n",
       " 'Traffic Signs - Repair/Replace',\n",
       " 'Trap Wildlife (Contractor)',\n",
       " 'Tree Debris Removal in Public Right-of-Way',\n",
       " 'Tree Removal - Emergency in Public Right-of-Way',\n",
       " 'Tree Removal in Public Right-of-Way',\n",
       " 'Tree Replacement in Public Right-of-Way',\n",
       " 'Tree Trimming in Public Right-of-Way',\n",
       " 'Under Drain - New',\n",
       " 'Vehicle - Abandoned (No Plates)',\n",
       " 'Vehicle Audit - Incoming Referral',\n",
       " 'Volunteer Neighborhood Clean-up - Roll-Off Dumpster',\n",
       " 'Volunteer Neighborhood Cleanup - Supplies Only',\n",
       " 'Zoning - Issue Use & Occupancy (U&O) Certificate',\n",
       " 'zzz location test'}"
      ]
     },
     "metadata": {},
     "execution_count": 10
    }
   ],
   "source": [
    "intersect_service_desc = set(service_desc_2019) & set(service_desc_2020)\n",
    "print(len(intersect_service_desc))\n",
    "intersect_service_desc"
   ]
  },
  {
   "source": [
    "#### Difference of service description between 2019 and 2020"
   ],
   "cell_type": "markdown",
   "metadata": {}
  },
  {
   "cell_type": "code",
   "execution_count": 11,
   "metadata": {},
   "outputs": [
    {
     "output_type": "stream",
     "name": "stdout",
     "text": [
      "38\n"
     ]
    },
    {
     "output_type": "execute_result",
     "data": {
      "text/plain": [
       "{'Abandoned Construction',\n",
       " 'Animal - Commercial Facility Complaint',\n",
       " 'Animal - Pet License Application',\n",
       " 'Animal - Pet Waste',\n",
       " 'Animal - Volunteering',\n",
       " 'Board Structure',\n",
       " 'Building Maintenance (Internal)',\n",
       " 'CEX - Correspondence',\n",
       " 'Call-a-Bus Program Information',\n",
       " 'Call-a-Cab',\n",
       " 'Children Youth and Families',\n",
       " 'Clean Lot/Board Structure',\n",
       " 'Coronavirus/COVID-19',\n",
       " 'County Council Record-Keeping',\n",
       " 'CountyClick 311 Site Enhancement Suggestion',\n",
       " 'Court Case - Code Enforcement',\n",
       " 'Court Paper Status',\n",
       " 'Expedited Food Supplement Benefit (Food Stamps)',\n",
       " 'Food Truck(s) in a Hub - Food Complaints Only',\n",
       " 'Food Truck(s) in a Hub - Other Complaints',\n",
       " 'Mediation Request',\n",
       " 'Open Enrollment',\n",
       " 'PS - Theft',\n",
       " 'PS - Vandalism',\n",
       " 'Section 8 (Housing Choice Voucher) Concern',\n",
       " 'Sign Blitz',\n",
       " 'Status of Open Warrants',\n",
       " 'Temporary Cash Assistance (TCA) Program',\n",
       " 'Town Hall - COVID-19',\n",
       " 'Under Drain - Remove and Replace',\n",
       " 'Vehicle - Remove Vehicle Requested by Property Owner',\n",
       " 'Vehicle Audit - Patrol',\n",
       " 'Violations - COVID-19',\n",
       " 'Work Order - Street & Drainage Maintenance',\n",
       " 'Zoning - Issue Sign Permit',\n",
       " 'Zoning - Stats (Other)',\n",
       " 'Zoning - Temporary Use & Occupancy (U&O) Certificate',\n",
       " 'Zoning Periodic Inspections'}"
      ]
     },
     "metadata": {},
     "execution_count": 11
    }
   ],
   "source": [
    "sym_diff_service_desc = set(service_desc_2019) ^ set(service_desc_2020)\n",
    "print(len(sym_diff_service_desc))\n",
    "sym_diff_service_desc"
   ]
  },
  {
   "source": [
    "1. Services only appeared 2019"
   ],
   "cell_type": "markdown",
   "metadata": {}
  },
  {
   "cell_type": "code",
   "execution_count": 12,
   "metadata": {},
   "outputs": [
    {
     "output_type": "stream",
     "name": "stdout",
     "text": [
      "21\n"
     ]
    }
   ],
   "source": [
    "diff_service_desc_2019 =  set(service_desc_2019) - set(service_desc_2020)\n",
    "print(len(diff_service_desc_2019))\n",
    "diff_service_desc_2019_ls = list(diff_service_desc_2019)"
   ]
  },
  {
   "cell_type": "code",
   "execution_count": 13,
   "metadata": {},
   "outputs": [
    {
     "output_type": "execute_result",
     "data": {
      "text/plain": [
       "Request Name\n",
       "Abandoned Construction                                    1\n",
       "Animal - Commercial Facility Complaint                    8\n",
       "Animal - Pet Waste                                        2\n",
       "Board Structure                                           9\n",
       "Building Maintenance (Internal)                           1\n",
       "Call-a-Bus Program Information                            6\n",
       "Call-a-Cab                                                3\n",
       "Children Youth and Families                               1\n",
       "Clean Lot/Board Structure                                57\n",
       "County Council Record-Keeping                             1\n",
       "CountyClick 311 Site Enhancement Suggestion              12\n",
       "Court Case - Code Enforcement                           351\n",
       "Food Truck(s) in a Hub - Food Complaints Only             1\n",
       "Food Truck(s) in a Hub - Other Complaints                 3\n",
       "Mediation Request                                         1\n",
       "Open Enrollment                                         575\n",
       "Section 8 (Housing Choice Voucher) Concern                3\n",
       "Sign Blitz                                                2\n",
       "Vehicle - Remove Vehicle Requested by Property Owner     88\n",
       "Zoning - Issue Sign Permit                                1\n",
       "Zoning - Temporary Use & Occupancy (U&O) Certificate      1\n",
       "dtype: int64"
      ]
     },
     "metadata": {},
     "execution_count": 13
    }
   ],
   "source": [
    "PGC_311_2019_df.loc[PGC_311_2019_df['Request Name'].isin(diff_service_desc_2019_ls)].groupby('Request Name').size()"
   ]
  },
  {
   "source": [
    "2. Services only appeared in 2020"
   ],
   "cell_type": "markdown",
   "metadata": {}
  },
  {
   "cell_type": "code",
   "execution_count": 14,
   "metadata": {},
   "outputs": [
    {
     "output_type": "stream",
     "name": "stdout",
     "text": [
      "17\n"
     ]
    }
   ],
   "source": [
    "diff_service_desc_2020 =  set(service_desc_2020) - set(service_desc_2019) \n",
    "print(len(diff_service_desc_2020))\n",
    "diff_service_desc_2020_ls = list(diff_service_desc_2020)"
   ]
  },
  {
   "cell_type": "code",
   "execution_count": 15,
   "metadata": {},
   "outputs": [
    {
     "output_type": "execute_result",
     "data": {
      "text/plain": [
       "Request Name\n",
       "Animal - Pet License Application                      9\n",
       "Animal - Volunteering                                 1\n",
       "CEX - Correspondence                                  2\n",
       "Coronavirus/COVID-19                                 35\n",
       "Court Paper Status                                    1\n",
       "Expedited Food Supplement Benefit (Food Stamps)       2\n",
       "PS - Theft                                            1\n",
       "PS - Vandalism                                        1\n",
       "Status of Open Warrants                               1\n",
       "Temporary Cash Assistance (TCA) Program               2\n",
       "Town Hall - COVID-19                                 92\n",
       "Under Drain - Remove and Replace                      2\n",
       "Vehicle Audit - Patrol                                3\n",
       "Violations - COVID-19                              1559\n",
       "Work Order - Street & Drainage Maintenance            1\n",
       "Zoning - Stats (Other)                                1\n",
       "Zoning Periodic Inspections                           1\n",
       "dtype: int64"
      ]
     },
     "metadata": {},
     "execution_count": 15
    }
   ],
   "source": [
    "PGC_311_2020_df.loc[PGC_311_2020_df['Request Name'].isin(diff_service_desc_2020_ls)].groupby('Request Name').size()"
   ]
  },
  {
   "cell_type": "code",
   "execution_count": 16,
   "metadata": {},
   "outputs": [
    {
     "output_type": "execute_result",
     "data": {
      "text/plain": [
       "                                        Request Name  2019_1  2019_2  2019_3  \\\n",
       "0                  ENF-Residential Property Concerns     429     402     645   \n",
       "1                                     Pothole Repair     529     844     917   \n",
       "2                        PSC Audio Recording Request       1       0     193   \n",
       "3                                 Parking Complaints     274     241     389   \n",
       "4                             CountyClick 311 Emails       0      54     137   \n",
       "5  Illegal Dumping Removal (from County Right-of-...     221     217     291   \n",
       "6                         Cancellation - Bulky Trash     156     127     150   \n",
       "7                  ENF-Rental Issues  Apartment Unit     104      97      85   \n",
       "8               Tree Trimming in Public Right-of-Way      36      36      75   \n",
       "9                    Vehicle - Abandoned (No Plates)     135     118     148   \n",
       "\n",
       "   2019_4  2019_5  2019_6  2019_7  2019_8  2019_9  2019_10  2019_11  2019_12  \\\n",
       "0     687     879     696     607     557     541      447      282      273   \n",
       "1     584     473     368     296     175     133      130      158      204   \n",
       "2     465     411     347     533     412     358      458      392      402   \n",
       "3     294     315     303     322     312     294      281      243      218   \n",
       "4     508     794     367     599     558     330        2        2        0   \n",
       "5     218     250     248     332     267     297      301      209      190   \n",
       "6     127     155     187     203     182     164      185      122      145   \n",
       "7     104     126     126     235     182     136      122      106       92   \n",
       "8      83     188     231     256     200     114      102       70       33   \n",
       "9     144     129     120      90      91     108       99       71       78   \n",
       "\n",
       "   total #reports_2019  \n",
       "0                 6445  \n",
       "1                 4811  \n",
       "2                 3972  \n",
       "3                 3486  \n",
       "4                 3351  \n",
       "5                 3041  \n",
       "6                 1903  \n",
       "7                 1515  \n",
       "8                 1424  \n",
       "9                 1331  "
      ],
      "text/html": "<div>\n<style scoped>\n    .dataframe tbody tr th:only-of-type {\n        vertical-align: middle;\n    }\n\n    .dataframe tbody tr th {\n        vertical-align: top;\n    }\n\n    .dataframe thead th {\n        text-align: right;\n    }\n</style>\n<table border=\"1\" class=\"dataframe\">\n  <thead>\n    <tr style=\"text-align: right;\">\n      <th></th>\n      <th>Request Name</th>\n      <th>2019_1</th>\n      <th>2019_2</th>\n      <th>2019_3</th>\n      <th>2019_4</th>\n      <th>2019_5</th>\n      <th>2019_6</th>\n      <th>2019_7</th>\n      <th>2019_8</th>\n      <th>2019_9</th>\n      <th>2019_10</th>\n      <th>2019_11</th>\n      <th>2019_12</th>\n      <th>total #reports_2019</th>\n    </tr>\n  </thead>\n  <tbody>\n    <tr>\n      <th>0</th>\n      <td>ENF-Residential Property Concerns</td>\n      <td>429</td>\n      <td>402</td>\n      <td>645</td>\n      <td>687</td>\n      <td>879</td>\n      <td>696</td>\n      <td>607</td>\n      <td>557</td>\n      <td>541</td>\n      <td>447</td>\n      <td>282</td>\n      <td>273</td>\n      <td>6445</td>\n    </tr>\n    <tr>\n      <th>1</th>\n      <td>Pothole Repair</td>\n      <td>529</td>\n      <td>844</td>\n      <td>917</td>\n      <td>584</td>\n      <td>473</td>\n      <td>368</td>\n      <td>296</td>\n      <td>175</td>\n      <td>133</td>\n      <td>130</td>\n      <td>158</td>\n      <td>204</td>\n      <td>4811</td>\n    </tr>\n    <tr>\n      <th>2</th>\n      <td>PSC Audio Recording Request</td>\n      <td>1</td>\n      <td>0</td>\n      <td>193</td>\n      <td>465</td>\n      <td>411</td>\n      <td>347</td>\n      <td>533</td>\n      <td>412</td>\n      <td>358</td>\n      <td>458</td>\n      <td>392</td>\n      <td>402</td>\n      <td>3972</td>\n    </tr>\n    <tr>\n      <th>3</th>\n      <td>Parking Complaints</td>\n      <td>274</td>\n      <td>241</td>\n      <td>389</td>\n      <td>294</td>\n      <td>315</td>\n      <td>303</td>\n      <td>322</td>\n      <td>312</td>\n      <td>294</td>\n      <td>281</td>\n      <td>243</td>\n      <td>218</td>\n      <td>3486</td>\n    </tr>\n    <tr>\n      <th>4</th>\n      <td>CountyClick 311 Emails</td>\n      <td>0</td>\n      <td>54</td>\n      <td>137</td>\n      <td>508</td>\n      <td>794</td>\n      <td>367</td>\n      <td>599</td>\n      <td>558</td>\n      <td>330</td>\n      <td>2</td>\n      <td>2</td>\n      <td>0</td>\n      <td>3351</td>\n    </tr>\n    <tr>\n      <th>5</th>\n      <td>Illegal Dumping Removal (from County Right-of-...</td>\n      <td>221</td>\n      <td>217</td>\n      <td>291</td>\n      <td>218</td>\n      <td>250</td>\n      <td>248</td>\n      <td>332</td>\n      <td>267</td>\n      <td>297</td>\n      <td>301</td>\n      <td>209</td>\n      <td>190</td>\n      <td>3041</td>\n    </tr>\n    <tr>\n      <th>6</th>\n      <td>Cancellation - Bulky Trash</td>\n      <td>156</td>\n      <td>127</td>\n      <td>150</td>\n      <td>127</td>\n      <td>155</td>\n      <td>187</td>\n      <td>203</td>\n      <td>182</td>\n      <td>164</td>\n      <td>185</td>\n      <td>122</td>\n      <td>145</td>\n      <td>1903</td>\n    </tr>\n    <tr>\n      <th>7</th>\n      <td>ENF-Rental Issues  Apartment Unit</td>\n      <td>104</td>\n      <td>97</td>\n      <td>85</td>\n      <td>104</td>\n      <td>126</td>\n      <td>126</td>\n      <td>235</td>\n      <td>182</td>\n      <td>136</td>\n      <td>122</td>\n      <td>106</td>\n      <td>92</td>\n      <td>1515</td>\n    </tr>\n    <tr>\n      <th>8</th>\n      <td>Tree Trimming in Public Right-of-Way</td>\n      <td>36</td>\n      <td>36</td>\n      <td>75</td>\n      <td>83</td>\n      <td>188</td>\n      <td>231</td>\n      <td>256</td>\n      <td>200</td>\n      <td>114</td>\n      <td>102</td>\n      <td>70</td>\n      <td>33</td>\n      <td>1424</td>\n    </tr>\n    <tr>\n      <th>9</th>\n      <td>Vehicle - Abandoned (No Plates)</td>\n      <td>135</td>\n      <td>118</td>\n      <td>148</td>\n      <td>144</td>\n      <td>129</td>\n      <td>120</td>\n      <td>90</td>\n      <td>91</td>\n      <td>108</td>\n      <td>99</td>\n      <td>71</td>\n      <td>78</td>\n      <td>1331</td>\n    </tr>\n  </tbody>\n</table>\n</div>"
     },
     "metadata": {},
     "execution_count": 16
    }
   ],
   "source": [
    "PGC_311_2019_df['added_month'] = PGC_311_2019_df['opened_date'].dt.month\n",
    "df = PGC_311_2019_df.groupby(['added_month','Request Name']).size().reset_index(name='count')\n",
    "service_count_2019 = pd.DataFrame(columns = df['added_month'].unique().tolist(), index = df['Request Name'].unique().tolist())\n",
    "for row in range(df.shape[0]):\n",
    "    setvice_type = df.at[row, 'Request Name']\n",
    "    month = df.at[row, 'added_month']\n",
    "    service_count_2019.at[setvice_type, month] = df.at[row, 'count']\n",
    "service_count_2019.fillna(0, inplace = True)\n",
    "service_count_2019 = service_count_2019.add_prefix('2019_')\n",
    "service_count_2019['total #reports_2019'] = service_count_2019.sum(axis=1)\n",
    "service_count_2019.sort_values(by = 'total #reports_2019', ascending=False, inplace=True)\n",
    "service_count_2019.reset_index(inplace=True)\n",
    "service_count_2019.rename(columns = {'index': 'Request Name'}, inplace = True)\n",
    "service_count_2019.head(10)\n"
   ]
  },
  {
   "cell_type": "code",
   "execution_count": 17,
   "metadata": {},
   "outputs": [
    {
     "output_type": "execute_result",
     "data": {
      "text/plain": [
       "                                        Request Name  2020_1  2020_2  2020_3  \\\n",
       "0                        PSC Audio Recording Request     427     446     529   \n",
       "1                  ENF-Residential Property Concerns     355     365     370   \n",
       "2  Illegal Dumping Removal (from County Right-of-...     274     222     194   \n",
       "3                                 Parking Complaints     272     235     169   \n",
       "4                                     Pothole Repair     321     391     215   \n",
       "5                         Cancellation - Bulky Trash     138     113      99   \n",
       "6                              Violations - COVID-19       0       0       0   \n",
       "7               Tree Trimming in Public Right-of-Way      49      56      35   \n",
       "8                            Storm Drain Maintenance      54      91      43   \n",
       "9                  ENF-Rental Issues  Apartment Unit      91      86      59   \n",
       "\n",
       "   2020_4  2020_5  2020_6  2020_7  2020_8  2020_9  2020_10  2020_11  2020_12  \\\n",
       "0     462     388     476     433     404     518      492      537      491   \n",
       "1     236     400     522     452     531     571      661      412      391   \n",
       "2     165     173     284     348     327     314      294      291      288   \n",
       "3     133     151     221     267     293     340      311      281      221   \n",
       "4      74     128     148     134     164     131       89      130      134   \n",
       "5       0       0       0      42     252     240      280      243      185   \n",
       "6      68     114      96     208     199     137      154      283      300   \n",
       "7      70     113     175     240     208     173      146       76       32   \n",
       "8      68      76      84     119     168     213      107      136       90   \n",
       "9      59      75     105     157     163     120      107      120      103   \n",
       "\n",
       "   total #reports_2020  \n",
       "0                 5603  \n",
       "1                 5266  \n",
       "2                 3174  \n",
       "3                 2894  \n",
       "4                 2059  \n",
       "5                 1592  \n",
       "6                 1559  \n",
       "7                 1373  \n",
       "8                 1249  \n",
       "9                 1245  "
      ],
      "text/html": "<div>\n<style scoped>\n    .dataframe tbody tr th:only-of-type {\n        vertical-align: middle;\n    }\n\n    .dataframe tbody tr th {\n        vertical-align: top;\n    }\n\n    .dataframe thead th {\n        text-align: right;\n    }\n</style>\n<table border=\"1\" class=\"dataframe\">\n  <thead>\n    <tr style=\"text-align: right;\">\n      <th></th>\n      <th>Request Name</th>\n      <th>2020_1</th>\n      <th>2020_2</th>\n      <th>2020_3</th>\n      <th>2020_4</th>\n      <th>2020_5</th>\n      <th>2020_6</th>\n      <th>2020_7</th>\n      <th>2020_8</th>\n      <th>2020_9</th>\n      <th>2020_10</th>\n      <th>2020_11</th>\n      <th>2020_12</th>\n      <th>total #reports_2020</th>\n    </tr>\n  </thead>\n  <tbody>\n    <tr>\n      <th>0</th>\n      <td>PSC Audio Recording Request</td>\n      <td>427</td>\n      <td>446</td>\n      <td>529</td>\n      <td>462</td>\n      <td>388</td>\n      <td>476</td>\n      <td>433</td>\n      <td>404</td>\n      <td>518</td>\n      <td>492</td>\n      <td>537</td>\n      <td>491</td>\n      <td>5603</td>\n    </tr>\n    <tr>\n      <th>1</th>\n      <td>ENF-Residential Property Concerns</td>\n      <td>355</td>\n      <td>365</td>\n      <td>370</td>\n      <td>236</td>\n      <td>400</td>\n      <td>522</td>\n      <td>452</td>\n      <td>531</td>\n      <td>571</td>\n      <td>661</td>\n      <td>412</td>\n      <td>391</td>\n      <td>5266</td>\n    </tr>\n    <tr>\n      <th>2</th>\n      <td>Illegal Dumping Removal (from County Right-of-...</td>\n      <td>274</td>\n      <td>222</td>\n      <td>194</td>\n      <td>165</td>\n      <td>173</td>\n      <td>284</td>\n      <td>348</td>\n      <td>327</td>\n      <td>314</td>\n      <td>294</td>\n      <td>291</td>\n      <td>288</td>\n      <td>3174</td>\n    </tr>\n    <tr>\n      <th>3</th>\n      <td>Parking Complaints</td>\n      <td>272</td>\n      <td>235</td>\n      <td>169</td>\n      <td>133</td>\n      <td>151</td>\n      <td>221</td>\n      <td>267</td>\n      <td>293</td>\n      <td>340</td>\n      <td>311</td>\n      <td>281</td>\n      <td>221</td>\n      <td>2894</td>\n    </tr>\n    <tr>\n      <th>4</th>\n      <td>Pothole Repair</td>\n      <td>321</td>\n      <td>391</td>\n      <td>215</td>\n      <td>74</td>\n      <td>128</td>\n      <td>148</td>\n      <td>134</td>\n      <td>164</td>\n      <td>131</td>\n      <td>89</td>\n      <td>130</td>\n      <td>134</td>\n      <td>2059</td>\n    </tr>\n    <tr>\n      <th>5</th>\n      <td>Cancellation - Bulky Trash</td>\n      <td>138</td>\n      <td>113</td>\n      <td>99</td>\n      <td>0</td>\n      <td>0</td>\n      <td>0</td>\n      <td>42</td>\n      <td>252</td>\n      <td>240</td>\n      <td>280</td>\n      <td>243</td>\n      <td>185</td>\n      <td>1592</td>\n    </tr>\n    <tr>\n      <th>6</th>\n      <td>Violations - COVID-19</td>\n      <td>0</td>\n      <td>0</td>\n      <td>0</td>\n      <td>68</td>\n      <td>114</td>\n      <td>96</td>\n      <td>208</td>\n      <td>199</td>\n      <td>137</td>\n      <td>154</td>\n      <td>283</td>\n      <td>300</td>\n      <td>1559</td>\n    </tr>\n    <tr>\n      <th>7</th>\n      <td>Tree Trimming in Public Right-of-Way</td>\n      <td>49</td>\n      <td>56</td>\n      <td>35</td>\n      <td>70</td>\n      <td>113</td>\n      <td>175</td>\n      <td>240</td>\n      <td>208</td>\n      <td>173</td>\n      <td>146</td>\n      <td>76</td>\n      <td>32</td>\n      <td>1373</td>\n    </tr>\n    <tr>\n      <th>8</th>\n      <td>Storm Drain Maintenance</td>\n      <td>54</td>\n      <td>91</td>\n      <td>43</td>\n      <td>68</td>\n      <td>76</td>\n      <td>84</td>\n      <td>119</td>\n      <td>168</td>\n      <td>213</td>\n      <td>107</td>\n      <td>136</td>\n      <td>90</td>\n      <td>1249</td>\n    </tr>\n    <tr>\n      <th>9</th>\n      <td>ENF-Rental Issues  Apartment Unit</td>\n      <td>91</td>\n      <td>86</td>\n      <td>59</td>\n      <td>59</td>\n      <td>75</td>\n      <td>105</td>\n      <td>157</td>\n      <td>163</td>\n      <td>120</td>\n      <td>107</td>\n      <td>120</td>\n      <td>103</td>\n      <td>1245</td>\n    </tr>\n  </tbody>\n</table>\n</div>"
     },
     "metadata": {},
     "execution_count": 17
    }
   ],
   "source": [
    "PGC_311_2020_df['added_month'] = PGC_311_2020_df['opened_date'].dt.month\n",
    "df = PGC_311_2020_df.groupby(['added_month','Request Name']).size().reset_index(name='count')\n",
    "service_count_2020 = pd.DataFrame(columns = df['added_month'].unique().tolist(), index = df['Request Name'].unique().tolist())\n",
    "for row in range(df.shape[0]):\n",
    "    setvice_type = df.at[row, 'Request Name']\n",
    "    month = df.at[row, 'added_month']\n",
    "    service_count_2020.at[setvice_type, month] = df.at[row, 'count']\n",
    "service_count_2020.fillna(0, inplace = True)\n",
    "service_count_2020 = service_count_2020.add_prefix('2020_')\n",
    "service_count_2020['total #reports_2020'] = service_count_2020.sum(axis=1)\n",
    "service_count_2020.sort_values(by = 'total #reports_2020', ascending=False, inplace=True)\n",
    "service_count_2020.reset_index(inplace=True)\n",
    "service_count_2020.rename(columns = {'index': 'Request Name'}, inplace = True)\n",
    "service_count_2020.head(10)"
   ]
  },
  {
   "cell_type": "code",
   "execution_count": 18,
   "metadata": {},
   "outputs": [
    {
     "output_type": "execute_result",
     "data": {
      "text/plain": [
       "                        Request Name  2019_1  2019_2  2019_3  2019_4  2019_5  \\\n",
       "0  ENF-Residential Property Concerns   429.0   402.0   645.0   687.0   879.0   \n",
       "1                     Pothole Repair   529.0   844.0   917.0   584.0   473.0   \n",
       "2        PSC Audio Recording Request     1.0     0.0   193.0   465.0   411.0   \n",
       "3                 Parking Complaints   274.0   241.0   389.0   294.0   315.0   \n",
       "4             CountyClick 311 Emails     0.0    54.0   137.0   508.0   794.0   \n",
       "\n",
       "   2019_6  2019_7  2019_8  2019_9  ...  2020_3  2020_4  2020_5  2020_6  \\\n",
       "0   696.0   607.0   557.0   541.0  ...   370.0   236.0   400.0   522.0   \n",
       "1   368.0   296.0   175.0   133.0  ...   215.0    74.0   128.0   148.0   \n",
       "2   347.0   533.0   412.0   358.0  ...   529.0   462.0   388.0   476.0   \n",
       "3   303.0   322.0   312.0   294.0  ...   169.0   133.0   151.0   221.0   \n",
       "4   367.0   599.0   558.0   330.0  ...     1.0     0.0     0.0     0.0   \n",
       "\n",
       "   2020_7  2020_8  2020_9  2020_10  2020_11  2020_12  \n",
       "0   452.0   531.0   571.0    661.0    412.0    391.0  \n",
       "1   134.0   164.0   131.0     89.0    130.0    134.0  \n",
       "2   433.0   404.0   518.0    492.0    537.0    491.0  \n",
       "3   267.0   293.0   340.0    311.0    281.0    221.0  \n",
       "4     0.0     0.0     4.0      1.0      1.0      0.0  \n",
       "\n",
       "[5 rows x 25 columns]"
      ],
      "text/html": "<div>\n<style scoped>\n    .dataframe tbody tr th:only-of-type {\n        vertical-align: middle;\n    }\n\n    .dataframe tbody tr th {\n        vertical-align: top;\n    }\n\n    .dataframe thead th {\n        text-align: right;\n    }\n</style>\n<table border=\"1\" class=\"dataframe\">\n  <thead>\n    <tr style=\"text-align: right;\">\n      <th></th>\n      <th>Request Name</th>\n      <th>2019_1</th>\n      <th>2019_2</th>\n      <th>2019_3</th>\n      <th>2019_4</th>\n      <th>2019_5</th>\n      <th>2019_6</th>\n      <th>2019_7</th>\n      <th>2019_8</th>\n      <th>2019_9</th>\n      <th>...</th>\n      <th>2020_3</th>\n      <th>2020_4</th>\n      <th>2020_5</th>\n      <th>2020_6</th>\n      <th>2020_7</th>\n      <th>2020_8</th>\n      <th>2020_9</th>\n      <th>2020_10</th>\n      <th>2020_11</th>\n      <th>2020_12</th>\n    </tr>\n  </thead>\n  <tbody>\n    <tr>\n      <th>0</th>\n      <td>ENF-Residential Property Concerns</td>\n      <td>429.0</td>\n      <td>402.0</td>\n      <td>645.0</td>\n      <td>687.0</td>\n      <td>879.0</td>\n      <td>696.0</td>\n      <td>607.0</td>\n      <td>557.0</td>\n      <td>541.0</td>\n      <td>...</td>\n      <td>370.0</td>\n      <td>236.0</td>\n      <td>400.0</td>\n      <td>522.0</td>\n      <td>452.0</td>\n      <td>531.0</td>\n      <td>571.0</td>\n      <td>661.0</td>\n      <td>412.0</td>\n      <td>391.0</td>\n    </tr>\n    <tr>\n      <th>1</th>\n      <td>Pothole Repair</td>\n      <td>529.0</td>\n      <td>844.0</td>\n      <td>917.0</td>\n      <td>584.0</td>\n      <td>473.0</td>\n      <td>368.0</td>\n      <td>296.0</td>\n      <td>175.0</td>\n      <td>133.0</td>\n      <td>...</td>\n      <td>215.0</td>\n      <td>74.0</td>\n      <td>128.0</td>\n      <td>148.0</td>\n      <td>134.0</td>\n      <td>164.0</td>\n      <td>131.0</td>\n      <td>89.0</td>\n      <td>130.0</td>\n      <td>134.0</td>\n    </tr>\n    <tr>\n      <th>2</th>\n      <td>PSC Audio Recording Request</td>\n      <td>1.0</td>\n      <td>0.0</td>\n      <td>193.0</td>\n      <td>465.0</td>\n      <td>411.0</td>\n      <td>347.0</td>\n      <td>533.0</td>\n      <td>412.0</td>\n      <td>358.0</td>\n      <td>...</td>\n      <td>529.0</td>\n      <td>462.0</td>\n      <td>388.0</td>\n      <td>476.0</td>\n      <td>433.0</td>\n      <td>404.0</td>\n      <td>518.0</td>\n      <td>492.0</td>\n      <td>537.0</td>\n      <td>491.0</td>\n    </tr>\n    <tr>\n      <th>3</th>\n      <td>Parking Complaints</td>\n      <td>274.0</td>\n      <td>241.0</td>\n      <td>389.0</td>\n      <td>294.0</td>\n      <td>315.0</td>\n      <td>303.0</td>\n      <td>322.0</td>\n      <td>312.0</td>\n      <td>294.0</td>\n      <td>...</td>\n      <td>169.0</td>\n      <td>133.0</td>\n      <td>151.0</td>\n      <td>221.0</td>\n      <td>267.0</td>\n      <td>293.0</td>\n      <td>340.0</td>\n      <td>311.0</td>\n      <td>281.0</td>\n      <td>221.0</td>\n    </tr>\n    <tr>\n      <th>4</th>\n      <td>CountyClick 311 Emails</td>\n      <td>0.0</td>\n      <td>54.0</td>\n      <td>137.0</td>\n      <td>508.0</td>\n      <td>794.0</td>\n      <td>367.0</td>\n      <td>599.0</td>\n      <td>558.0</td>\n      <td>330.0</td>\n      <td>...</td>\n      <td>1.0</td>\n      <td>0.0</td>\n      <td>0.0</td>\n      <td>0.0</td>\n      <td>0.0</td>\n      <td>0.0</td>\n      <td>4.0</td>\n      <td>1.0</td>\n      <td>1.0</td>\n      <td>0.0</td>\n    </tr>\n  </tbody>\n</table>\n<p>5 rows × 25 columns</p>\n</div>"
     },
     "metadata": {},
     "execution_count": 18
    }
   ],
   "source": [
    "# remove the last column\n",
    "merge_service_count = pd.merge(service_count_2019.iloc[:,0:-1], service_count_2020.iloc[:,0:-1], on = 'Request Name', how = 'outer')\n",
    "merge_service_count.fillna(0, inplace = True)\n",
    "merge_service_count.head()"
   ]
  },
  {
   "cell_type": "code",
   "execution_count": 19,
   "metadata": {},
   "outputs": [
    {
     "output_type": "execute_result",
     "data": {
      "text/plain": [
       "Index(['Request Name', '2019_1', '2019_2', '2019_3', '2019_4', '2019_5',\n",
       "       '2019_6', '2019_7', '2019_8', '2019_9', '2019_10', '2019_11', '2019_12',\n",
       "       '2020_1', '2020_2', '2020_3', '2020_4', '2020_5', '2020_6', '2020_7',\n",
       "       '2020_8', '2020_9', '2020_10', '2020_11', '2020_12'],\n",
       "      dtype='object')"
      ]
     },
     "metadata": {},
     "execution_count": 19
    }
   ],
   "source": [
    "merge_service_count.columns"
   ]
  },
  {
   "cell_type": "code",
   "execution_count": 20,
   "metadata": {},
   "outputs": [],
   "source": [
    "pre_covid_cols = ['Request Name', '2019_1', '2019_2', '2019_3', '2019_4','2019_5', '2019_6', '2019_7', '2019_8', '2019_9', '2019_10', '2019_11','2019_12', '2020_1', '2020_2']\n",
    "covid_cols = ['Request Name', '2020_3', '2020_4', '2020_5', '2020_6','2020_7', '2020_8', '2020_9', '2020_10', '2020_11','2020_12']\n",
    "pre_covid_service_count = merge_service_count[pre_covid_cols]\n",
    "covid_service_count = merge_service_count[covid_cols]"
   ]
  },
  {
   "cell_type": "code",
   "execution_count": 21,
   "metadata": {},
   "outputs": [],
   "source": [
    "pre_covid_service_count['total #reports before lockdown'] = pre_covid_service_count.sum(axis=1)\n",
    "covid_service_count['total #reports after lockdown'] = covid_service_count.sum(axis=1)"
   ]
  },
  {
   "cell_type": "code",
   "execution_count": 22,
   "metadata": {},
   "outputs": [],
   "source": [
    "pre_covid_service_count.sort_values(by = 'total #reports before lockdown', ascending=False, inplace=True)\n",
    "pre_covid_service_count.reset_index(drop= True, inplace=True)\n",
    "covid_service_count.sort_values(by = 'total #reports after lockdown', ascending=False, inplace=True)\n",
    "covid_service_count.reset_index(drop= True, inplace=True)"
   ]
  },
  {
   "cell_type": "code",
   "execution_count": 23,
   "metadata": {},
   "outputs": [],
   "source": [
    "pre_covid_types = pre_covid_service_count['Request Name'].tolist()\n",
    "covid_types = covid_service_count['Request Name'].tolist()"
   ]
  },
  {
   "cell_type": "code",
   "execution_count": 24,
   "metadata": {},
   "outputs": [
    {
     "output_type": "execute_result",
     "data": {
      "text/plain": [
       "194"
      ]
     },
     "metadata": {},
     "execution_count": 24
    }
   ],
   "source": [
    "pre_covid_service_count\n",
    "total_service_types = list(set(pre_covid_types + covid_types))\n",
    "len(total_service_types)"
   ]
  },
  {
   "source": [
    "### Perform t-test on #reports for each type across months\n",
    "* To understand the difference before and after lock down (lock down: March - Dec. 2020)"
   ],
   "cell_type": "markdown",
   "metadata": {}
  },
  {
   "cell_type": "code",
   "execution_count": 25,
   "metadata": {},
   "outputs": [],
   "source": [
    "t_test_df = pd.DataFrame(columns=['service_type','p-value','direction'])\n",
    "for service_type in total_service_types:\n",
    "    pre_covid_var = pre_covid_service_count.loc[pre_covid_service_count['Request Name']== service_type][pre_covid_cols[1:]].values.flatten()\n",
    "    covid_var = covid_service_count.loc[covid_service_count['Request Name']== service_type][covid_cols[1:]].values.flatten()\n",
    "    t_val, p_val = stats.ttest_ind(pre_covid_var, covid_var, equal_var = False)\n",
    "    direction = covid_var.mean() - pre_covid_var.mean()\n",
    "    t_test_res = {'service_type': service_type, 'p-value': p_val, 'direction': direction}\n",
    "    t_test_df = t_test_df.append(t_test_res,ignore_index = True)"
   ]
  },
  {
   "cell_type": "code",
   "execution_count": 26,
   "metadata": {},
   "outputs": [
    {
     "output_type": "execute_result",
     "data": {
      "text/plain": [
       "                                  service_type   p-value   direction\n",
       "0    Rental License Inspection (Single Family)  0.000044   39.157143\n",
       "1                      Food Facility Complaint  0.000102  -21.542857\n",
       "2                Court Case - Code Enforcement  0.000159  -25.071429\n",
       "3        Food Supplement Program (Food Stamps)  0.000422    1.900000\n",
       "4                        Violations - COVID-19  0.000525  155.900000\n",
       "..                                         ...       ...         ...\n",
       "189                   Fence Repair -Contractor  0.941048    0.028571\n",
       "190                  Handicapped Ramp - Repair  0.944872   -0.014286\n",
       "191                          zzz location test  0.954731    0.014286\n",
       "192             Street Light New Install (PGC)  0.961131   -0.071429\n",
       "193              Traffic Calming (Speed Humps)  0.965655    0.042857\n",
       "\n",
       "[194 rows x 3 columns]"
      ],
      "text/html": "<div>\n<style scoped>\n    .dataframe tbody tr th:only-of-type {\n        vertical-align: middle;\n    }\n\n    .dataframe tbody tr th {\n        vertical-align: top;\n    }\n\n    .dataframe thead th {\n        text-align: right;\n    }\n</style>\n<table border=\"1\" class=\"dataframe\">\n  <thead>\n    <tr style=\"text-align: right;\">\n      <th></th>\n      <th>service_type</th>\n      <th>p-value</th>\n      <th>direction</th>\n    </tr>\n  </thead>\n  <tbody>\n    <tr>\n      <th>0</th>\n      <td>Rental License Inspection (Single Family)</td>\n      <td>0.000044</td>\n      <td>39.157143</td>\n    </tr>\n    <tr>\n      <th>1</th>\n      <td>Food Facility Complaint</td>\n      <td>0.000102</td>\n      <td>-21.542857</td>\n    </tr>\n    <tr>\n      <th>2</th>\n      <td>Court Case - Code Enforcement</td>\n      <td>0.000159</td>\n      <td>-25.071429</td>\n    </tr>\n    <tr>\n      <th>3</th>\n      <td>Food Supplement Program (Food Stamps)</td>\n      <td>0.000422</td>\n      <td>1.900000</td>\n    </tr>\n    <tr>\n      <th>4</th>\n      <td>Violations - COVID-19</td>\n      <td>0.000525</td>\n      <td>155.900000</td>\n    </tr>\n    <tr>\n      <th>...</th>\n      <td>...</td>\n      <td>...</td>\n      <td>...</td>\n    </tr>\n    <tr>\n      <th>189</th>\n      <td>Fence Repair -Contractor</td>\n      <td>0.941048</td>\n      <td>0.028571</td>\n    </tr>\n    <tr>\n      <th>190</th>\n      <td>Handicapped Ramp - Repair</td>\n      <td>0.944872</td>\n      <td>-0.014286</td>\n    </tr>\n    <tr>\n      <th>191</th>\n      <td>zzz location test</td>\n      <td>0.954731</td>\n      <td>0.014286</td>\n    </tr>\n    <tr>\n      <th>192</th>\n      <td>Street Light New Install (PGC)</td>\n      <td>0.961131</td>\n      <td>-0.071429</td>\n    </tr>\n    <tr>\n      <th>193</th>\n      <td>Traffic Calming (Speed Humps)</td>\n      <td>0.965655</td>\n      <td>0.042857</td>\n    </tr>\n  </tbody>\n</table>\n<p>194 rows × 3 columns</p>\n</div>"
     },
     "metadata": {},
     "execution_count": 26
    }
   ],
   "source": [
    "t_test_df.sort_values(by = 'p-value', inplace=True)\n",
    "t_test_df.reset_index(drop=True, inplace = True)\n",
    "t_test_df"
   ]
  },
  {
   "cell_type": "code",
   "execution_count": 27,
   "metadata": {},
   "outputs": [],
   "source": [
    "t_test_df.to_csv('../result/PGC_service_type_ttest.csv')"
   ]
  },
  {
   "cell_type": "code",
   "execution_count": 28,
   "metadata": {},
   "outputs": [
    {
     "output_type": "execute_result",
     "data": {
      "text/plain": [
       "     inc/dec  #service types\n",
       "0  decreased              32\n",
       "1  increased               7"
      ],
      "text/html": "<div>\n<style scoped>\n    .dataframe tbody tr th:only-of-type {\n        vertical-align: middle;\n    }\n\n    .dataframe tbody tr th {\n        vertical-align: top;\n    }\n\n    .dataframe thead th {\n        text-align: right;\n    }\n</style>\n<table border=\"1\" class=\"dataframe\">\n  <thead>\n    <tr style=\"text-align: right;\">\n      <th></th>\n      <th>inc/dec</th>\n      <th>#service types</th>\n    </tr>\n  </thead>\n  <tbody>\n    <tr>\n      <th>0</th>\n      <td>decreased</td>\n      <td>32</td>\n    </tr>\n    <tr>\n      <th>1</th>\n      <td>increased</td>\n      <td>7</td>\n    </tr>\n  </tbody>\n</table>\n</div>"
     },
     "metadata": {},
     "execution_count": 28
    }
   ],
   "source": [
    "t_test_low_p = t_test_df.loc[t_test_df['p-value']<=0.05]\n",
    "t_test_low_p.sort_values(by = ['direction','p-value'], inplace=True)\n",
    "t_test_low_p.reset_index(drop = True, inplace = True)\n",
    "t_test_low_p['inc/dec'] =['increased' if sign == True else 'decreased' for sign in (t_test_low_p['direction'] >0).tolist()]\n",
    "inc_dec_df = t_test_low_p.groupby('inc/dec').size().reset_index()\n",
    "inc_dec_df.rename(columns = {0:'#service types'}, inplace = True)\n",
    "inc_dec_df"
   ]
  },
  {
   "cell_type": "code",
   "execution_count": 29,
   "metadata": {},
   "outputs": [
    {
     "output_type": "execute_result",
     "data": {
      "text/plain": [
       "                                         service_type   p-value   direction  \\\n",
       "0                                      Pothole Repair  0.002042 -259.800000   \n",
       "1                              CountyClick 311 Emails  0.007125 -238.800000   \n",
       "2                     Vehicle - Abandoned (No Plates)  0.013448  -26.285714   \n",
       "3                       Court Case - Code Enforcement  0.000159  -25.071429   \n",
       "4                             Food Facility Complaint  0.000102  -21.542857   \n",
       "5                      Traffic Signs - Repair/Replace  0.005237  -19.885714   \n",
       "6                   Vehicle Audit - Incoming Referral  0.009907  -19.371429   \n",
       "7                                PSC Customer Service  0.010285  -19.314286   \n",
       "8                                    Road Resurfacing  0.011480  -15.128571   \n",
       "9                          Cable Commission Complaint  0.003146  -15.028571   \n",
       "10                        Citation - Code Enforcement  0.000673  -14.257143   \n",
       "11                         Traffic Signal Maintenance  0.017248  -13.142857   \n",
       "12                         Fire/EMS General Inquiries  0.000902  -12.071429   \n",
       "13  Boat Trailer/Camping Trailer/Equipment Trailer...  0.035786   -7.042857   \n",
       "14  Vehicle - Remove Vehicle Requested by Property...  0.014233   -6.285714   \n",
       "15                           Concrete Work (In House)  0.004127   -5.685714   \n",
       "16                              Traffic Hazard/Safety  0.007122   -4.714286   \n",
       "17                          Food Poisoning (Possible)  0.003933   -4.142857   \n",
       "18                                            The Bus  0.000603   -4.071429   \n",
       "19                          Clean Lot/Board Structure  0.003335   -4.071429   \n",
       "20             Air/Land/Water Contamination Complaint  0.032194   -3.671429   \n",
       "21                       Pavement Markings - Existing  0.001261   -3.428571   \n",
       "22             Traffic Signal - Long Term Maintenance  0.030650   -3.028571   \n",
       "23                            CountyClick 311 Changes  0.004919   -2.385714   \n",
       "24                                  Foam Free PGC Ban  0.037490   -1.071429   \n",
       "25                              Tax - General Inquiry  0.012849   -1.057143   \n",
       "26        CountyClick 311 Site Enhancement Suggestion  0.001113   -0.857143   \n",
       "27                           Discrimination Complaint  0.022991   -0.657143   \n",
       "28                                    Board Structure  0.002216   -0.642857   \n",
       "29                                 Medical Assistance  0.013473   -0.642857   \n",
       "30             Request a County Agency Representative  0.012987   -0.500000   \n",
       "31                     Call-a-Bus Program Information  0.027532   -0.428571   \n",
       "32              Food Supplement Program (Food Stamps)  0.000422    1.900000   \n",
       "33                                   Animal - Injured  0.013658    2.828571   \n",
       "34                               Coronavirus/COVID-19  0.013219    3.500000   \n",
       "35                       Traffic Control Device - New  0.030233    9.485714   \n",
       "36          Rental License Inspection (Single Family)  0.000044   39.157143   \n",
       "37                        PSC Audio Recording Request  0.015572  126.928571   \n",
       "38                              Violations - COVID-19  0.000525  155.900000   \n",
       "\n",
       "      inc/dec  \n",
       "0   decreased  \n",
       "1   decreased  \n",
       "2   decreased  \n",
       "3   decreased  \n",
       "4   decreased  \n",
       "5   decreased  \n",
       "6   decreased  \n",
       "7   decreased  \n",
       "8   decreased  \n",
       "9   decreased  \n",
       "10  decreased  \n",
       "11  decreased  \n",
       "12  decreased  \n",
       "13  decreased  \n",
       "14  decreased  \n",
       "15  decreased  \n",
       "16  decreased  \n",
       "17  decreased  \n",
       "18  decreased  \n",
       "19  decreased  \n",
       "20  decreased  \n",
       "21  decreased  \n",
       "22  decreased  \n",
       "23  decreased  \n",
       "24  decreased  \n",
       "25  decreased  \n",
       "26  decreased  \n",
       "27  decreased  \n",
       "28  decreased  \n",
       "29  decreased  \n",
       "30  decreased  \n",
       "31  decreased  \n",
       "32  increased  \n",
       "33  increased  \n",
       "34  increased  \n",
       "35  increased  \n",
       "36  increased  \n",
       "37  increased  \n",
       "38  increased  "
      ],
      "text/html": "<div>\n<style scoped>\n    .dataframe tbody tr th:only-of-type {\n        vertical-align: middle;\n    }\n\n    .dataframe tbody tr th {\n        vertical-align: top;\n    }\n\n    .dataframe thead th {\n        text-align: right;\n    }\n</style>\n<table border=\"1\" class=\"dataframe\">\n  <thead>\n    <tr style=\"text-align: right;\">\n      <th></th>\n      <th>service_type</th>\n      <th>p-value</th>\n      <th>direction</th>\n      <th>inc/dec</th>\n    </tr>\n  </thead>\n  <tbody>\n    <tr>\n      <th>0</th>\n      <td>Pothole Repair</td>\n      <td>0.002042</td>\n      <td>-259.800000</td>\n      <td>decreased</td>\n    </tr>\n    <tr>\n      <th>1</th>\n      <td>CountyClick 311 Emails</td>\n      <td>0.007125</td>\n      <td>-238.800000</td>\n      <td>decreased</td>\n    </tr>\n    <tr>\n      <th>2</th>\n      <td>Vehicle - Abandoned (No Plates)</td>\n      <td>0.013448</td>\n      <td>-26.285714</td>\n      <td>decreased</td>\n    </tr>\n    <tr>\n      <th>3</th>\n      <td>Court Case - Code Enforcement</td>\n      <td>0.000159</td>\n      <td>-25.071429</td>\n      <td>decreased</td>\n    </tr>\n    <tr>\n      <th>4</th>\n      <td>Food Facility Complaint</td>\n      <td>0.000102</td>\n      <td>-21.542857</td>\n      <td>decreased</td>\n    </tr>\n    <tr>\n      <th>5</th>\n      <td>Traffic Signs - Repair/Replace</td>\n      <td>0.005237</td>\n      <td>-19.885714</td>\n      <td>decreased</td>\n    </tr>\n    <tr>\n      <th>6</th>\n      <td>Vehicle Audit - Incoming Referral</td>\n      <td>0.009907</td>\n      <td>-19.371429</td>\n      <td>decreased</td>\n    </tr>\n    <tr>\n      <th>7</th>\n      <td>PSC Customer Service</td>\n      <td>0.010285</td>\n      <td>-19.314286</td>\n      <td>decreased</td>\n    </tr>\n    <tr>\n      <th>8</th>\n      <td>Road Resurfacing</td>\n      <td>0.011480</td>\n      <td>-15.128571</td>\n      <td>decreased</td>\n    </tr>\n    <tr>\n      <th>9</th>\n      <td>Cable Commission Complaint</td>\n      <td>0.003146</td>\n      <td>-15.028571</td>\n      <td>decreased</td>\n    </tr>\n    <tr>\n      <th>10</th>\n      <td>Citation - Code Enforcement</td>\n      <td>0.000673</td>\n      <td>-14.257143</td>\n      <td>decreased</td>\n    </tr>\n    <tr>\n      <th>11</th>\n      <td>Traffic Signal Maintenance</td>\n      <td>0.017248</td>\n      <td>-13.142857</td>\n      <td>decreased</td>\n    </tr>\n    <tr>\n      <th>12</th>\n      <td>Fire/EMS General Inquiries</td>\n      <td>0.000902</td>\n      <td>-12.071429</td>\n      <td>decreased</td>\n    </tr>\n    <tr>\n      <th>13</th>\n      <td>Boat Trailer/Camping Trailer/Equipment Trailer...</td>\n      <td>0.035786</td>\n      <td>-7.042857</td>\n      <td>decreased</td>\n    </tr>\n    <tr>\n      <th>14</th>\n      <td>Vehicle - Remove Vehicle Requested by Property...</td>\n      <td>0.014233</td>\n      <td>-6.285714</td>\n      <td>decreased</td>\n    </tr>\n    <tr>\n      <th>15</th>\n      <td>Concrete Work (In House)</td>\n      <td>0.004127</td>\n      <td>-5.685714</td>\n      <td>decreased</td>\n    </tr>\n    <tr>\n      <th>16</th>\n      <td>Traffic Hazard/Safety</td>\n      <td>0.007122</td>\n      <td>-4.714286</td>\n      <td>decreased</td>\n    </tr>\n    <tr>\n      <th>17</th>\n      <td>Food Poisoning (Possible)</td>\n      <td>0.003933</td>\n      <td>-4.142857</td>\n      <td>decreased</td>\n    </tr>\n    <tr>\n      <th>18</th>\n      <td>The Bus</td>\n      <td>0.000603</td>\n      <td>-4.071429</td>\n      <td>decreased</td>\n    </tr>\n    <tr>\n      <th>19</th>\n      <td>Clean Lot/Board Structure</td>\n      <td>0.003335</td>\n      <td>-4.071429</td>\n      <td>decreased</td>\n    </tr>\n    <tr>\n      <th>20</th>\n      <td>Air/Land/Water Contamination Complaint</td>\n      <td>0.032194</td>\n      <td>-3.671429</td>\n      <td>decreased</td>\n    </tr>\n    <tr>\n      <th>21</th>\n      <td>Pavement Markings - Existing</td>\n      <td>0.001261</td>\n      <td>-3.428571</td>\n      <td>decreased</td>\n    </tr>\n    <tr>\n      <th>22</th>\n      <td>Traffic Signal - Long Term Maintenance</td>\n      <td>0.030650</td>\n      <td>-3.028571</td>\n      <td>decreased</td>\n    </tr>\n    <tr>\n      <th>23</th>\n      <td>CountyClick 311 Changes</td>\n      <td>0.004919</td>\n      <td>-2.385714</td>\n      <td>decreased</td>\n    </tr>\n    <tr>\n      <th>24</th>\n      <td>Foam Free PGC Ban</td>\n      <td>0.037490</td>\n      <td>-1.071429</td>\n      <td>decreased</td>\n    </tr>\n    <tr>\n      <th>25</th>\n      <td>Tax - General Inquiry</td>\n      <td>0.012849</td>\n      <td>-1.057143</td>\n      <td>decreased</td>\n    </tr>\n    <tr>\n      <th>26</th>\n      <td>CountyClick 311 Site Enhancement Suggestion</td>\n      <td>0.001113</td>\n      <td>-0.857143</td>\n      <td>decreased</td>\n    </tr>\n    <tr>\n      <th>27</th>\n      <td>Discrimination Complaint</td>\n      <td>0.022991</td>\n      <td>-0.657143</td>\n      <td>decreased</td>\n    </tr>\n    <tr>\n      <th>28</th>\n      <td>Board Structure</td>\n      <td>0.002216</td>\n      <td>-0.642857</td>\n      <td>decreased</td>\n    </tr>\n    <tr>\n      <th>29</th>\n      <td>Medical Assistance</td>\n      <td>0.013473</td>\n      <td>-0.642857</td>\n      <td>decreased</td>\n    </tr>\n    <tr>\n      <th>30</th>\n      <td>Request a County Agency Representative</td>\n      <td>0.012987</td>\n      <td>-0.500000</td>\n      <td>decreased</td>\n    </tr>\n    <tr>\n      <th>31</th>\n      <td>Call-a-Bus Program Information</td>\n      <td>0.027532</td>\n      <td>-0.428571</td>\n      <td>decreased</td>\n    </tr>\n    <tr>\n      <th>32</th>\n      <td>Food Supplement Program (Food Stamps)</td>\n      <td>0.000422</td>\n      <td>1.900000</td>\n      <td>increased</td>\n    </tr>\n    <tr>\n      <th>33</th>\n      <td>Animal - Injured</td>\n      <td>0.013658</td>\n      <td>2.828571</td>\n      <td>increased</td>\n    </tr>\n    <tr>\n      <th>34</th>\n      <td>Coronavirus/COVID-19</td>\n      <td>0.013219</td>\n      <td>3.500000</td>\n      <td>increased</td>\n    </tr>\n    <tr>\n      <th>35</th>\n      <td>Traffic Control Device - New</td>\n      <td>0.030233</td>\n      <td>9.485714</td>\n      <td>increased</td>\n    </tr>\n    <tr>\n      <th>36</th>\n      <td>Rental License Inspection (Single Family)</td>\n      <td>0.000044</td>\n      <td>39.157143</td>\n      <td>increased</td>\n    </tr>\n    <tr>\n      <th>37</th>\n      <td>PSC Audio Recording Request</td>\n      <td>0.015572</td>\n      <td>126.928571</td>\n      <td>increased</td>\n    </tr>\n    <tr>\n      <th>38</th>\n      <td>Violations - COVID-19</td>\n      <td>0.000525</td>\n      <td>155.900000</td>\n      <td>increased</td>\n    </tr>\n  </tbody>\n</table>\n</div>"
     },
     "metadata": {},
     "execution_count": 29
    }
   ],
   "source": [
    "t_test_low_p.to_csv('../result/PGC_services_inc_dec.csv')\n",
    "t_test_low_p"
   ]
  },
  {
   "source": [
    "### Box plot for types that have p-value <0.05"
   ],
   "cell_type": "markdown",
   "metadata": {}
  },
  {
   "cell_type": "code",
   "execution_count": 30,
   "metadata": {},
   "outputs": [],
   "source": [
    "low_p_types = t_test_low_p['service_type'].tolist()"
   ]
  },
  {
   "cell_type": "code",
   "execution_count": 31,
   "metadata": {},
   "outputs": [
    {
     "output_type": "execute_result",
     "data": {
      "text/plain": [
       "Request Name year_month  ENF-Residential Property Concerns  Pothole Repair  \\\n",
       "0                2019_1                              429.0           529.0   \n",
       "1                2019_2                              402.0           844.0   \n",
       "2                2019_3                              645.0           917.0   \n",
       "3                2019_4                              687.0           584.0   \n",
       "4                2019_5                              879.0           473.0   \n",
       "5                2019_6                              696.0           368.0   \n",
       "6                2019_7                              607.0           296.0   \n",
       "7                2019_8                              557.0           175.0   \n",
       "8                2019_9                              541.0           133.0   \n",
       "9               2019_10                              447.0           130.0   \n",
       "\n",
       "Request Name  PSC Audio Recording Request  Parking Complaints  \\\n",
       "0                                     1.0               274.0   \n",
       "1                                     0.0               241.0   \n",
       "2                                   193.0               389.0   \n",
       "3                                   465.0               294.0   \n",
       "4                                   411.0               315.0   \n",
       "5                                   347.0               303.0   \n",
       "6                                   533.0               322.0   \n",
       "7                                   412.0               312.0   \n",
       "8                                   358.0               294.0   \n",
       "9                                   458.0               281.0   \n",
       "\n",
       "Request Name  Illegal Dumping Removal (from County Right-of-Way)  \\\n",
       "0                                                         221.0    \n",
       "1                                                         217.0    \n",
       "2                                                         291.0    \n",
       "3                                                         218.0    \n",
       "4                                                         250.0    \n",
       "5                                                         248.0    \n",
       "6                                                         332.0    \n",
       "7                                                         267.0    \n",
       "8                                                         297.0    \n",
       "9                                                         301.0    \n",
       "\n",
       "Request Name  CountyClick 311 Emails  Cancellation - Bulky Trash  \\\n",
       "0                                0.0                       156.0   \n",
       "1                               54.0                       127.0   \n",
       "2                              137.0                       150.0   \n",
       "3                              508.0                       127.0   \n",
       "4                              794.0                       155.0   \n",
       "5                              367.0                       187.0   \n",
       "6                              599.0                       203.0   \n",
       "7                              558.0                       182.0   \n",
       "8                              330.0                       164.0   \n",
       "9                                2.0                       185.0   \n",
       "\n",
       "Request Name  ENF-Rental Issues  Apartment Unit  \\\n",
       "0                                         104.0   \n",
       "1                                          97.0   \n",
       "2                                          85.0   \n",
       "3                                         104.0   \n",
       "4                                         126.0   \n",
       "5                                         126.0   \n",
       "6                                         235.0   \n",
       "7                                         182.0   \n",
       "8                                         136.0   \n",
       "9                                         122.0   \n",
       "\n",
       "Request Name  Vehicle - Abandoned (No Plates)  ...  \\\n",
       "0                                       135.0  ...   \n",
       "1                                       118.0  ...   \n",
       "2                                       148.0  ...   \n",
       "3                                       144.0  ...   \n",
       "4                                       129.0  ...   \n",
       "5                                       120.0  ...   \n",
       "6                                        90.0  ...   \n",
       "7                                        91.0  ...   \n",
       "8                                       108.0  ...   \n",
       "9                                        99.0  ...   \n",
       "\n",
       "Request Name  Animal - Pet License Application  Animal - Volunteering  \\\n",
       "0                                          0.0                    0.0   \n",
       "1                                          0.0                    0.0   \n",
       "2                                          0.0                    0.0   \n",
       "3                                          0.0                    0.0   \n",
       "4                                          0.0                    0.0   \n",
       "5                                          0.0                    0.0   \n",
       "6                                          0.0                    0.0   \n",
       "7                                          0.0                    0.0   \n",
       "8                                          0.0                    0.0   \n",
       "9                                          0.0                    0.0   \n",
       "\n",
       "Request Name  Coronavirus/COVID-19  Town Hall - COVID-19  \\\n",
       "0                              0.0                   0.0   \n",
       "1                              0.0                   0.0   \n",
       "2                              0.0                   0.0   \n",
       "3                              0.0                   0.0   \n",
       "4                              0.0                   0.0   \n",
       "5                              0.0                   0.0   \n",
       "6                              0.0                   0.0   \n",
       "7                              0.0                   0.0   \n",
       "8                              0.0                   0.0   \n",
       "9                              0.0                   0.0   \n",
       "\n",
       "Request Name  Violations - COVID-19  Court Paper Status  PS - Vandalism  \\\n",
       "0                               0.0                 0.0             0.0   \n",
       "1                               0.0                 0.0             0.0   \n",
       "2                               0.0                 0.0             0.0   \n",
       "3                               0.0                 0.0             0.0   \n",
       "4                               0.0                 0.0             0.0   \n",
       "5                               0.0                 0.0             0.0   \n",
       "6                               0.0                 0.0             0.0   \n",
       "7                               0.0                 0.0             0.0   \n",
       "8                               0.0                 0.0             0.0   \n",
       "9                               0.0                 0.0             0.0   \n",
       "\n",
       "Request Name  PS - Theft  Work Order - Street & Drainage Maintenance  \\\n",
       "0                    0.0                                         0.0   \n",
       "1                    0.0                                         0.0   \n",
       "2                    0.0                                         0.0   \n",
       "3                    0.0                                         0.0   \n",
       "4                    0.0                                         0.0   \n",
       "5                    0.0                                         0.0   \n",
       "6                    0.0                                         0.0   \n",
       "7                    0.0                                         0.0   \n",
       "8                    0.0                                         0.0   \n",
       "9                    0.0                                         0.0   \n",
       "\n",
       "Request Name           period  \n",
       "0             before lockdown  \n",
       "1             before lockdown  \n",
       "2             before lockdown  \n",
       "3             before lockdown  \n",
       "4             before lockdown  \n",
       "5             before lockdown  \n",
       "6             before lockdown  \n",
       "7             before lockdown  \n",
       "8             before lockdown  \n",
       "9             before lockdown  \n",
       "\n",
       "[10 rows x 196 columns]"
      ],
      "text/html": "<div>\n<style scoped>\n    .dataframe tbody tr th:only-of-type {\n        vertical-align: middle;\n    }\n\n    .dataframe tbody tr th {\n        vertical-align: top;\n    }\n\n    .dataframe thead th {\n        text-align: right;\n    }\n</style>\n<table border=\"1\" class=\"dataframe\">\n  <thead>\n    <tr style=\"text-align: right;\">\n      <th>Request Name</th>\n      <th>year_month</th>\n      <th>ENF-Residential Property Concerns</th>\n      <th>Pothole Repair</th>\n      <th>PSC Audio Recording Request</th>\n      <th>Parking Complaints</th>\n      <th>Illegal Dumping Removal (from County Right-of-Way)</th>\n      <th>CountyClick 311 Emails</th>\n      <th>Cancellation - Bulky Trash</th>\n      <th>ENF-Rental Issues  Apartment Unit</th>\n      <th>Vehicle - Abandoned (No Plates)</th>\n      <th>...</th>\n      <th>Animal - Pet License Application</th>\n      <th>Animal - Volunteering</th>\n      <th>Coronavirus/COVID-19</th>\n      <th>Town Hall - COVID-19</th>\n      <th>Violations - COVID-19</th>\n      <th>Court Paper Status</th>\n      <th>PS - Vandalism</th>\n      <th>PS - Theft</th>\n      <th>Work Order - Street &amp; Drainage Maintenance</th>\n      <th>period</th>\n    </tr>\n  </thead>\n  <tbody>\n    <tr>\n      <th>0</th>\n      <td>2019_1</td>\n      <td>429.0</td>\n      <td>529.0</td>\n      <td>1.0</td>\n      <td>274.0</td>\n      <td>221.0</td>\n      <td>0.0</td>\n      <td>156.0</td>\n      <td>104.0</td>\n      <td>135.0</td>\n      <td>...</td>\n      <td>0.0</td>\n      <td>0.0</td>\n      <td>0.0</td>\n      <td>0.0</td>\n      <td>0.0</td>\n      <td>0.0</td>\n      <td>0.0</td>\n      <td>0.0</td>\n      <td>0.0</td>\n      <td>before lockdown</td>\n    </tr>\n    <tr>\n      <th>1</th>\n      <td>2019_2</td>\n      <td>402.0</td>\n      <td>844.0</td>\n      <td>0.0</td>\n      <td>241.0</td>\n      <td>217.0</td>\n      <td>54.0</td>\n      <td>127.0</td>\n      <td>97.0</td>\n      <td>118.0</td>\n      <td>...</td>\n      <td>0.0</td>\n      <td>0.0</td>\n      <td>0.0</td>\n      <td>0.0</td>\n      <td>0.0</td>\n      <td>0.0</td>\n      <td>0.0</td>\n      <td>0.0</td>\n      <td>0.0</td>\n      <td>before lockdown</td>\n    </tr>\n    <tr>\n      <th>2</th>\n      <td>2019_3</td>\n      <td>645.0</td>\n      <td>917.0</td>\n      <td>193.0</td>\n      <td>389.0</td>\n      <td>291.0</td>\n      <td>137.0</td>\n      <td>150.0</td>\n      <td>85.0</td>\n      <td>148.0</td>\n      <td>...</td>\n      <td>0.0</td>\n      <td>0.0</td>\n      <td>0.0</td>\n      <td>0.0</td>\n      <td>0.0</td>\n      <td>0.0</td>\n      <td>0.0</td>\n      <td>0.0</td>\n      <td>0.0</td>\n      <td>before lockdown</td>\n    </tr>\n    <tr>\n      <th>3</th>\n      <td>2019_4</td>\n      <td>687.0</td>\n      <td>584.0</td>\n      <td>465.0</td>\n      <td>294.0</td>\n      <td>218.0</td>\n      <td>508.0</td>\n      <td>127.0</td>\n      <td>104.0</td>\n      <td>144.0</td>\n      <td>...</td>\n      <td>0.0</td>\n      <td>0.0</td>\n      <td>0.0</td>\n      <td>0.0</td>\n      <td>0.0</td>\n      <td>0.0</td>\n      <td>0.0</td>\n      <td>0.0</td>\n      <td>0.0</td>\n      <td>before lockdown</td>\n    </tr>\n    <tr>\n      <th>4</th>\n      <td>2019_5</td>\n      <td>879.0</td>\n      <td>473.0</td>\n      <td>411.0</td>\n      <td>315.0</td>\n      <td>250.0</td>\n      <td>794.0</td>\n      <td>155.0</td>\n      <td>126.0</td>\n      <td>129.0</td>\n      <td>...</td>\n      <td>0.0</td>\n      <td>0.0</td>\n      <td>0.0</td>\n      <td>0.0</td>\n      <td>0.0</td>\n      <td>0.0</td>\n      <td>0.0</td>\n      <td>0.0</td>\n      <td>0.0</td>\n      <td>before lockdown</td>\n    </tr>\n    <tr>\n      <th>5</th>\n      <td>2019_6</td>\n      <td>696.0</td>\n      <td>368.0</td>\n      <td>347.0</td>\n      <td>303.0</td>\n      <td>248.0</td>\n      <td>367.0</td>\n      <td>187.0</td>\n      <td>126.0</td>\n      <td>120.0</td>\n      <td>...</td>\n      <td>0.0</td>\n      <td>0.0</td>\n      <td>0.0</td>\n      <td>0.0</td>\n      <td>0.0</td>\n      <td>0.0</td>\n      <td>0.0</td>\n      <td>0.0</td>\n      <td>0.0</td>\n      <td>before lockdown</td>\n    </tr>\n    <tr>\n      <th>6</th>\n      <td>2019_7</td>\n      <td>607.0</td>\n      <td>296.0</td>\n      <td>533.0</td>\n      <td>322.0</td>\n      <td>332.0</td>\n      <td>599.0</td>\n      <td>203.0</td>\n      <td>235.0</td>\n      <td>90.0</td>\n      <td>...</td>\n      <td>0.0</td>\n      <td>0.0</td>\n      <td>0.0</td>\n      <td>0.0</td>\n      <td>0.0</td>\n      <td>0.0</td>\n      <td>0.0</td>\n      <td>0.0</td>\n      <td>0.0</td>\n      <td>before lockdown</td>\n    </tr>\n    <tr>\n      <th>7</th>\n      <td>2019_8</td>\n      <td>557.0</td>\n      <td>175.0</td>\n      <td>412.0</td>\n      <td>312.0</td>\n      <td>267.0</td>\n      <td>558.0</td>\n      <td>182.0</td>\n      <td>182.0</td>\n      <td>91.0</td>\n      <td>...</td>\n      <td>0.0</td>\n      <td>0.0</td>\n      <td>0.0</td>\n      <td>0.0</td>\n      <td>0.0</td>\n      <td>0.0</td>\n      <td>0.0</td>\n      <td>0.0</td>\n      <td>0.0</td>\n      <td>before lockdown</td>\n    </tr>\n    <tr>\n      <th>8</th>\n      <td>2019_9</td>\n      <td>541.0</td>\n      <td>133.0</td>\n      <td>358.0</td>\n      <td>294.0</td>\n      <td>297.0</td>\n      <td>330.0</td>\n      <td>164.0</td>\n      <td>136.0</td>\n      <td>108.0</td>\n      <td>...</td>\n      <td>0.0</td>\n      <td>0.0</td>\n      <td>0.0</td>\n      <td>0.0</td>\n      <td>0.0</td>\n      <td>0.0</td>\n      <td>0.0</td>\n      <td>0.0</td>\n      <td>0.0</td>\n      <td>before lockdown</td>\n    </tr>\n    <tr>\n      <th>9</th>\n      <td>2019_10</td>\n      <td>447.0</td>\n      <td>130.0</td>\n      <td>458.0</td>\n      <td>281.0</td>\n      <td>301.0</td>\n      <td>2.0</td>\n      <td>185.0</td>\n      <td>122.0</td>\n      <td>99.0</td>\n      <td>...</td>\n      <td>0.0</td>\n      <td>0.0</td>\n      <td>0.0</td>\n      <td>0.0</td>\n      <td>0.0</td>\n      <td>0.0</td>\n      <td>0.0</td>\n      <td>0.0</td>\n      <td>0.0</td>\n      <td>before lockdown</td>\n    </tr>\n  </tbody>\n</table>\n<p>10 rows × 196 columns</p>\n</div>"
     },
     "metadata": {},
     "execution_count": 31
    }
   ],
   "source": [
    "pre_covid_box_plt = pre_covid_service_count.set_index('Request Name').T.iloc[:-1].reset_index()\n",
    "\n",
    "covid_box_plt = covid_service_count.set_index('Request Name').T.iloc[:-1].reset_index()\n",
    "covid_box_plt = covid_box_plt[pre_covid_box_plt.columns.to_list()]\n",
    "box_plt_df = pre_covid_box_plt.append(covid_box_plt,ignore_index=True,sort=False)\n",
    "box_plt_df.rename(columns={'index':'year_month'},inplace = True)\n",
    "period_ls = ['before lockdown']* (pre_covid_box_plt.shape[0])\n",
    "period_ls.extend(['after lockdown']* (covid_box_plt.shape[0]))\n",
    "box_plt_df['period'] = period_ls\n",
    "box_plt_df.head(10)"
   ]
  },
  {
   "cell_type": "code",
   "execution_count": 33,
   "metadata": {},
   "outputs": [],
   "source": [
    "num_imgs = math.ceil(len(low_p_types)/4)\n",
    "sns.set_theme(style=\"whitegrid\")\n",
    "type_count =0\n",
    "for img in range(num_imgs):\n",
    "    if img < num_imgs -1:\n",
    "        rows = 2\n",
    "    else:\n",
    "        rows = int(math.ceil( (len(low_p_types) - type_count)/2 ))\n",
    "    fig, axes = plt.subplots(rows,2, figsize = (20,10))\n",
    "    for row in range(rows):\n",
    "        for col in range(2):\n",
    "            if type_count < len(low_p_types):\n",
    "                if rows >1:\n",
    "                    sns.boxplot(x='period', y=low_p_types[type_count], data=box_plt_df, ax=axes[row, col])\n",
    "                else:\n",
    "                    sns.boxplot(x='period', y=low_p_types[type_count], data=box_plt_df, ax=axes[col])\n",
    "                type_count +=1\n",
    "    plt.savefig('../figure/PGC_ServiceTypesBoxPlt/box_plt_' + str(img +1))\n",
    "    plt.close()"
   ]
  },
  {
   "cell_type": "code",
   "execution_count": null,
   "metadata": {},
   "outputs": [],
   "source": []
  }
 ]
}
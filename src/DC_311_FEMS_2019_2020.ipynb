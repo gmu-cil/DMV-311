{
 "metadata": {
  "language_info": {
   "codemirror_mode": {
    "name": "ipython",
    "version": 3
   },
   "file_extension": ".py",
   "mimetype": "text/x-python",
   "name": "python",
   "nbconvert_exporter": "python",
   "pygments_lexer": "ipython3",
   "version": "3.8.5-final"
  },
  "orig_nbformat": 2,
  "kernelspec": {
   "name": "python385jvsc74a57bd0f5c9dfabb21bd2a91b63810df81acbdc6b5e617e45414f0ef050ca96090c868f",
   "display_name": "Python 3.8.5 64-bit ('myenv': conda)"
  }
 },
 "nbformat": 4,
 "nbformat_minor": 2,
 "cells": [
  {
   "cell_type": "code",
   "execution_count": 1,
   "metadata": {},
   "outputs": [],
   "source": [
    "import numpy as np\n",
    "import pandas as pd\n",
    "import os\n",
    "import re\n",
    "import glob\n",
    "import csv\n",
    "DC_311_2020 = '/Users/julia/Box/Data_311/DMV_311/DMV_nonEM/DC/311_Washington_DC_2020.csv'\n",
    "DC_311_2019 = '/Users/julia/Box/Data_311/DMV_311/DMV_nonEM/DC/311_Washington_DC_2019.csv'"
   ]
  },
  {
   "source": [
    "### All 311 Requests in D.C in 2019"
   ],
   "cell_type": "markdown",
   "metadata": {}
  },
  {
   "cell_type": "code",
   "execution_count": 2,
   "metadata": {},
   "outputs": [
    {
     "output_type": "stream",
     "name": "stderr",
     "text": [
      "/opt/anaconda3/envs/myenv/lib/python3.8/site-packages/IPython/core/interactiveshell.py:3146: DtypeWarning: Columns (12,14,16) have mixed types.Specify dtype option on import or set low_memory=False.\n  has_raised = await self.run_ast_nodes(code_ast.body, cell_name,\n"
     ]
    },
    {
     "output_type": "execute_result",
     "data": {
      "text/plain": [
       "                X          Y  OBJECTID SERVICECODE  \\\n",
       "0      -76.930018  38.904475    278741       S0031   \n",
       "1      -77.034081  38.941341    278742       S05SL   \n",
       "2      -77.034326  38.915358    278743       S05SL   \n",
       "3      -76.942364  38.898615    278744       S0336   \n",
       "4      -76.978173  38.888846    278745       S0316   \n",
       "...           ...        ...       ...         ...   \n",
       "365006 -77.017162  38.877622    722564     VACPROP   \n",
       "365007 -77.017162  38.877622    722565  ILLEGALCON   \n",
       "365008 -77.017162  38.877622    722566     VACPROP   \n",
       "365009 -77.017162  38.877622    722567     VACPROP   \n",
       "365010 -77.017162  38.877622    722568     VACPROP   \n",
       "\n",
       "                           SERVICECODEDESCRIPTION  \\\n",
       "0                                 Bulk Collection   \n",
       "1                Streetlight Repair Investigation   \n",
       "2                Streetlight Repair Investigation   \n",
       "3           Out of State Parking Violation (ROSA)   \n",
       "4                         Recycling Cart Delivery   \n",
       "...                                           ...   \n",
       "365006  DCRA - Vacant Private Property Inspection   \n",
       "365007                DCRA - Illegal Construction   \n",
       "365008  DCRA - Vacant Private Property Inspection   \n",
       "365009  DCRA - Vacant Private Property Inspection   \n",
       "365010  DCRA - Vacant Private Property Inspection   \n",
       "\n",
       "                               SERVICETYPECODEDESCRIPTION ORGANIZATIONACRONYM  \\\n",
       "0               SWMA- Solid Waste Management Admistration                 DPW   \n",
       "1                Transportation Operations Administration                DDOT   \n",
       "2                Transportation Operations Administration                DDOT   \n",
       "3       PEMA- Parking Enforcement Management Administr...                 DPW   \n",
       "4               SWMA- Solid Waste Management Admistration                 DPW   \n",
       "...                                                   ...                 ...   \n",
       "365006              Dept of Consumer & Regulatory Affairs                DCRA   \n",
       "365007              Dept of Consumer & Regulatory Affairs                DCRA   \n",
       "365008              Dept of Consumer & Regulatory Affairs                DCRA   \n",
       "365009              Dept of Consumer & Regulatory Affairs                DCRA   \n",
       "365010              Dept of Consumer & Regulatory Affairs                DCRA   \n",
       "\n",
       "        SERVICECALLCOUNT                 ADDDATE          RESOLUTIONDATE  ...  \\\n",
       "0                      1  2019/07/18 00:57:15+00  2019/08/05 19:42:09+00  ...   \n",
       "1                      1  2019/07/18 01:00:00+00  2019/07/21 03:03:10+00  ...   \n",
       "2                      1  2019/07/18 01:58:52+00  2019/07/19 07:23:15+00  ...   \n",
       "3                      1  2019/07/18 01:59:10+00  2019/07/18 06:39:36+00  ...   \n",
       "4                      1  2019/07/18 01:01:44+00  2019/08/19 11:09:05+00  ...   \n",
       "...                  ...                     ...                     ...  ...   \n",
       "365006                 1  2019/02/21 02:46:15+00  2019/03/18 18:35:59+00  ...   \n",
       "365007                 1  2019/02/22 12:08:40+00  2019/04/02 16:07:35+00  ...   \n",
       "365008                 1  2019/03/25 20:37:36+00  2019/03/25 21:02:02+00  ...   \n",
       "365009                 1  2019/04/02 15:57:01+00  2019/04/02 17:18:43+00  ...   \n",
       "365010                 1  2019/05/21 18:56:42+00  2019/05/21 19:35:02+00  ...   \n",
       "\n",
       "           XCOORD     YCOORD   LATITUDE  LONGITUDE        CITY STATE  ZIPCODE  \\\n",
       "0       406070.32  137403.48  38.904467 -76.930016  WASHINGTON    DC  20019.0   \n",
       "1       397045.59  141494.19  38.941334 -77.034079  WASHINGTON    DC  20011.0   \n",
       "2       397023.24  138609.83  38.915350 -77.034324  WASHINGTON    DC  20009.0   \n",
       "3       404999.88  136752.30  38.898608 -76.942362  WASHINGTON    DC  20019.0   \n",
       "4       401893.88  135666.52  38.888839 -76.978170  WASHINGTON    DC  20003.0   \n",
       "...           ...        ...        ...        ...         ...   ...      ...   \n",
       "365006  398511.05  134420.39  38.877614 -77.017160  WASHINGTON    DC  20024.0   \n",
       "365007  398511.05  134420.39  38.877614 -77.017160  WASHINGTON    DC  20024.0   \n",
       "365008  398511.05  134420.39  38.877614 -77.017160  WASHINGTON    DC  20024.0   \n",
       "365009  398511.05  134420.39  38.877614 -77.017160  WASHINGTON    DC  20024.0   \n",
       "365010  398511.05  134420.39  38.877614 -77.017160  WASHINGTON    DC  20024.0   \n",
       "\n",
       "       MARADDRESSREPOSITORYID WARD  \\\n",
       "0                     15976.0  7.0   \n",
       "1                    259155.0  4.0   \n",
       "2                    240017.0  2.0   \n",
       "3                     25746.0  7.0   \n",
       "4                     55558.0  6.0   \n",
       "...                       ...  ...   \n",
       "365006               307170.0  6.0   \n",
       "365007               307170.0  6.0   \n",
       "365008               307170.0  6.0   \n",
       "365009               307170.0  6.0   \n",
       "365010               307170.0  6.0   \n",
       "\n",
       "                                                  DETAILS  \n",
       "0                                                     NaN  \n",
       "1                                                     NaN  \n",
       "2                                                     NaN  \n",
       "3                                                     NaN  \n",
       "4                                                     NaN  \n",
       "...                                                   ...  \n",
       "365006                                                NaN  \n",
       "365007  After review of the submitted service request ...  \n",
       "365008                                                NaN  \n",
       "365009                                                NaN  \n",
       "365010                                                NaN  \n",
       "\n",
       "[365011 rows x 30 columns]"
      ],
      "text/html": "<div>\n<style scoped>\n    .dataframe tbody tr th:only-of-type {\n        vertical-align: middle;\n    }\n\n    .dataframe tbody tr th {\n        vertical-align: top;\n    }\n\n    .dataframe thead th {\n        text-align: right;\n    }\n</style>\n<table border=\"1\" class=\"dataframe\">\n  <thead>\n    <tr style=\"text-align: right;\">\n      <th></th>\n      <th>X</th>\n      <th>Y</th>\n      <th>OBJECTID</th>\n      <th>SERVICECODE</th>\n      <th>SERVICECODEDESCRIPTION</th>\n      <th>SERVICETYPECODEDESCRIPTION</th>\n      <th>ORGANIZATIONACRONYM</th>\n      <th>SERVICECALLCOUNT</th>\n      <th>ADDDATE</th>\n      <th>RESOLUTIONDATE</th>\n      <th>...</th>\n      <th>XCOORD</th>\n      <th>YCOORD</th>\n      <th>LATITUDE</th>\n      <th>LONGITUDE</th>\n      <th>CITY</th>\n      <th>STATE</th>\n      <th>ZIPCODE</th>\n      <th>MARADDRESSREPOSITORYID</th>\n      <th>WARD</th>\n      <th>DETAILS</th>\n    </tr>\n  </thead>\n  <tbody>\n    <tr>\n      <th>0</th>\n      <td>-76.930018</td>\n      <td>38.904475</td>\n      <td>278741</td>\n      <td>S0031</td>\n      <td>Bulk Collection</td>\n      <td>SWMA- Solid Waste Management Admistration</td>\n      <td>DPW</td>\n      <td>1</td>\n      <td>2019/07/18 00:57:15+00</td>\n      <td>2019/08/05 19:42:09+00</td>\n      <td>...</td>\n      <td>406070.32</td>\n      <td>137403.48</td>\n      <td>38.904467</td>\n      <td>-76.930016</td>\n      <td>WASHINGTON</td>\n      <td>DC</td>\n      <td>20019.0</td>\n      <td>15976.0</td>\n      <td>7.0</td>\n      <td>NaN</td>\n    </tr>\n    <tr>\n      <th>1</th>\n      <td>-77.034081</td>\n      <td>38.941341</td>\n      <td>278742</td>\n      <td>S05SL</td>\n      <td>Streetlight Repair Investigation</td>\n      <td>Transportation Operations Administration</td>\n      <td>DDOT</td>\n      <td>1</td>\n      <td>2019/07/18 01:00:00+00</td>\n      <td>2019/07/21 03:03:10+00</td>\n      <td>...</td>\n      <td>397045.59</td>\n      <td>141494.19</td>\n      <td>38.941334</td>\n      <td>-77.034079</td>\n      <td>WASHINGTON</td>\n      <td>DC</td>\n      <td>20011.0</td>\n      <td>259155.0</td>\n      <td>4.0</td>\n      <td>NaN</td>\n    </tr>\n    <tr>\n      <th>2</th>\n      <td>-77.034326</td>\n      <td>38.915358</td>\n      <td>278743</td>\n      <td>S05SL</td>\n      <td>Streetlight Repair Investigation</td>\n      <td>Transportation Operations Administration</td>\n      <td>DDOT</td>\n      <td>1</td>\n      <td>2019/07/18 01:58:52+00</td>\n      <td>2019/07/19 07:23:15+00</td>\n      <td>...</td>\n      <td>397023.24</td>\n      <td>138609.83</td>\n      <td>38.915350</td>\n      <td>-77.034324</td>\n      <td>WASHINGTON</td>\n      <td>DC</td>\n      <td>20009.0</td>\n      <td>240017.0</td>\n      <td>2.0</td>\n      <td>NaN</td>\n    </tr>\n    <tr>\n      <th>3</th>\n      <td>-76.942364</td>\n      <td>38.898615</td>\n      <td>278744</td>\n      <td>S0336</td>\n      <td>Out of State Parking Violation (ROSA)</td>\n      <td>PEMA- Parking Enforcement Management Administr...</td>\n      <td>DPW</td>\n      <td>1</td>\n      <td>2019/07/18 01:59:10+00</td>\n      <td>2019/07/18 06:39:36+00</td>\n      <td>...</td>\n      <td>404999.88</td>\n      <td>136752.30</td>\n      <td>38.898608</td>\n      <td>-76.942362</td>\n      <td>WASHINGTON</td>\n      <td>DC</td>\n      <td>20019.0</td>\n      <td>25746.0</td>\n      <td>7.0</td>\n      <td>NaN</td>\n    </tr>\n    <tr>\n      <th>4</th>\n      <td>-76.978173</td>\n      <td>38.888846</td>\n      <td>278745</td>\n      <td>S0316</td>\n      <td>Recycling Cart Delivery</td>\n      <td>SWMA- Solid Waste Management Admistration</td>\n      <td>DPW</td>\n      <td>1</td>\n      <td>2019/07/18 01:01:44+00</td>\n      <td>2019/08/19 11:09:05+00</td>\n      <td>...</td>\n      <td>401893.88</td>\n      <td>135666.52</td>\n      <td>38.888839</td>\n      <td>-76.978170</td>\n      <td>WASHINGTON</td>\n      <td>DC</td>\n      <td>20003.0</td>\n      <td>55558.0</td>\n      <td>6.0</td>\n      <td>NaN</td>\n    </tr>\n    <tr>\n      <th>...</th>\n      <td>...</td>\n      <td>...</td>\n      <td>...</td>\n      <td>...</td>\n      <td>...</td>\n      <td>...</td>\n      <td>...</td>\n      <td>...</td>\n      <td>...</td>\n      <td>...</td>\n      <td>...</td>\n      <td>...</td>\n      <td>...</td>\n      <td>...</td>\n      <td>...</td>\n      <td>...</td>\n      <td>...</td>\n      <td>...</td>\n      <td>...</td>\n      <td>...</td>\n      <td>...</td>\n    </tr>\n    <tr>\n      <th>365006</th>\n      <td>-77.017162</td>\n      <td>38.877622</td>\n      <td>722564</td>\n      <td>VACPROP</td>\n      <td>DCRA - Vacant Private Property Inspection</td>\n      <td>Dept of Consumer &amp; Regulatory Affairs</td>\n      <td>DCRA</td>\n      <td>1</td>\n      <td>2019/02/21 02:46:15+00</td>\n      <td>2019/03/18 18:35:59+00</td>\n      <td>...</td>\n      <td>398511.05</td>\n      <td>134420.39</td>\n      <td>38.877614</td>\n      <td>-77.017160</td>\n      <td>WASHINGTON</td>\n      <td>DC</td>\n      <td>20024.0</td>\n      <td>307170.0</td>\n      <td>6.0</td>\n      <td>NaN</td>\n    </tr>\n    <tr>\n      <th>365007</th>\n      <td>-77.017162</td>\n      <td>38.877622</td>\n      <td>722565</td>\n      <td>ILLEGALCON</td>\n      <td>DCRA - Illegal Construction</td>\n      <td>Dept of Consumer &amp; Regulatory Affairs</td>\n      <td>DCRA</td>\n      <td>1</td>\n      <td>2019/02/22 12:08:40+00</td>\n      <td>2019/04/02 16:07:35+00</td>\n      <td>...</td>\n      <td>398511.05</td>\n      <td>134420.39</td>\n      <td>38.877614</td>\n      <td>-77.017160</td>\n      <td>WASHINGTON</td>\n      <td>DC</td>\n      <td>20024.0</td>\n      <td>307170.0</td>\n      <td>6.0</td>\n      <td>After review of the submitted service request ...</td>\n    </tr>\n    <tr>\n      <th>365008</th>\n      <td>-77.017162</td>\n      <td>38.877622</td>\n      <td>722566</td>\n      <td>VACPROP</td>\n      <td>DCRA - Vacant Private Property Inspection</td>\n      <td>Dept of Consumer &amp; Regulatory Affairs</td>\n      <td>DCRA</td>\n      <td>1</td>\n      <td>2019/03/25 20:37:36+00</td>\n      <td>2019/03/25 21:02:02+00</td>\n      <td>...</td>\n      <td>398511.05</td>\n      <td>134420.39</td>\n      <td>38.877614</td>\n      <td>-77.017160</td>\n      <td>WASHINGTON</td>\n      <td>DC</td>\n      <td>20024.0</td>\n      <td>307170.0</td>\n      <td>6.0</td>\n      <td>NaN</td>\n    </tr>\n    <tr>\n      <th>365009</th>\n      <td>-77.017162</td>\n      <td>38.877622</td>\n      <td>722567</td>\n      <td>VACPROP</td>\n      <td>DCRA - Vacant Private Property Inspection</td>\n      <td>Dept of Consumer &amp; Regulatory Affairs</td>\n      <td>DCRA</td>\n      <td>1</td>\n      <td>2019/04/02 15:57:01+00</td>\n      <td>2019/04/02 17:18:43+00</td>\n      <td>...</td>\n      <td>398511.05</td>\n      <td>134420.39</td>\n      <td>38.877614</td>\n      <td>-77.017160</td>\n      <td>WASHINGTON</td>\n      <td>DC</td>\n      <td>20024.0</td>\n      <td>307170.0</td>\n      <td>6.0</td>\n      <td>NaN</td>\n    </tr>\n    <tr>\n      <th>365010</th>\n      <td>-77.017162</td>\n      <td>38.877622</td>\n      <td>722568</td>\n      <td>VACPROP</td>\n      <td>DCRA - Vacant Private Property Inspection</td>\n      <td>Dept of Consumer &amp; Regulatory Affairs</td>\n      <td>DCRA</td>\n      <td>1</td>\n      <td>2019/05/21 18:56:42+00</td>\n      <td>2019/05/21 19:35:02+00</td>\n      <td>...</td>\n      <td>398511.05</td>\n      <td>134420.39</td>\n      <td>38.877614</td>\n      <td>-77.017160</td>\n      <td>WASHINGTON</td>\n      <td>DC</td>\n      <td>20024.0</td>\n      <td>307170.0</td>\n      <td>6.0</td>\n      <td>NaN</td>\n    </tr>\n  </tbody>\n</table>\n<p>365011 rows × 30 columns</p>\n</div>"
     },
     "metadata": {},
     "execution_count": 2
    }
   ],
   "source": [
    "DC_311_2019_df = pd.read_csv(DC_311_2019)\n",
    "DC_311_2019_df"
   ]
  },
  {
   "cell_type": "code",
   "execution_count": 4,
   "metadata": {},
   "outputs": [
    {
     "output_type": "execute_result",
     "data": {
      "text/plain": [
       "array([nan, 'CLOSED', 'OPEN'], dtype=object)"
      ]
     },
     "metadata": {},
     "execution_count": 4
    }
   ],
   "source": [
    "DC_311_2019_df['STATUS_CODE'].unique()"
   ]
  },
  {
   "cell_type": "code",
   "execution_count": 3,
   "metadata": {},
   "outputs": [
    {
     "output_type": "stream",
     "name": "stdout",
     "text": [
      "['X', 'Y', 'OBJECTID', 'SERVICECODE', 'SERVICECODEDESCRIPTION', 'SERVICETYPECODEDESCRIPTION', 'ORGANIZATIONACRONYM', 'SERVICECALLCOUNT', 'ADDDATE', 'RESOLUTIONDATE', 'SERVICEDUEDATE', 'SERVICEORDERDATE', 'INSPECTIONFLAG', 'INSPECTIONDATE', 'INSPECTORNAME', 'SERVICEORDERSTATUS', 'STATUS_CODE', 'SERVICEREQUESTID', 'PRIORITY', 'STREETADDRESS', 'XCOORD', 'YCOORD', 'LATITUDE', 'LONGITUDE', 'CITY', 'STATE', 'ZIPCODE', 'MARADDRESSREPOSITORYID', 'WARD', 'DETAILS']\n30\n"
     ]
    }
   ],
   "source": [
    "print(DC_311_2019_df.columns.tolist())\n",
    "print(len(DC_311_2019_df.columns.tolist()))"
   ]
  },
  {
   "cell_type": "code",
   "execution_count": 4,
   "metadata": {},
   "outputs": [
    {
     "output_type": "execute_result",
     "data": {
      "text/plain": [
       "['DPW',\n",
       " 'DDOT',\n",
       " 'DOEE',\n",
       " 'DOH',\n",
       " 'FEMS',\n",
       " 'DMV',\n",
       " 'ORM',\n",
       " 'OUC',\n",
       " 'DCRA',\n",
       " nan,\n",
       " 'DDS',\n",
       " 'DGS',\n",
       " 'DFHV',\n",
       " '311 Customer Service Center']"
      ]
     },
     "metadata": {},
     "execution_count": 4
    }
   ],
   "source": [
    "DC_311_2019_df.ORGANIZATIONACRONYM.unique().tolist()"
   ]
  },
  {
   "cell_type": "code",
   "execution_count": 5,
   "metadata": {},
   "outputs": [
    {
     "output_type": "execute_result",
     "data": {
      "text/plain": [
       "                X          Y  OBJECTID   SERVICECODE  \\\n",
       "91     -76.925117  38.886951    279126      FESAADNU   \n",
       "539    -76.960797  38.877512    279574      FESAADNU   \n",
       "707    -76.981361  38.922836    279742      FESAADNU   \n",
       "1051   -77.020444  38.961513    280086      FESAADNU   \n",
       "1187   -76.993583  38.892218    280222      FESAADNU   \n",
       "...           ...        ...       ...           ...   \n",
       "359992 -77.022480  38.930865    716835      FESAADNU   \n",
       "360159 -77.000487  38.962512    717002      FESAADNU   \n",
       "363225 -77.019651  38.958943    720116      FESAADNU   \n",
       "363470 -76.995047  38.853735    720361  FEMSFIREINSP   \n",
       "363634 -77.044550  38.902192    720525  FEMSFIREINSP   \n",
       "\n",
       "                SERVICECODEDESCRIPTION SERVICETYPECODEDESCRIPTION  \\\n",
       "91      FEMS - Smoke Alarm Application          FEMS-Smoke Alarms   \n",
       "539     FEMS - Smoke Alarm Application          FEMS-Smoke Alarms   \n",
       "707     FEMS - Smoke Alarm Application          FEMS-Smoke Alarms   \n",
       "1051    FEMS - Smoke Alarm Application          FEMS-Smoke Alarms   \n",
       "1187    FEMS - Smoke Alarm Application          FEMS-Smoke Alarms   \n",
       "...                                ...                        ...   \n",
       "359992  FEMS - Smoke Alarm Application          FEMS-Smoke Alarms   \n",
       "360159  FEMS - Smoke Alarm Application          FEMS-Smoke Alarms   \n",
       "363225  FEMS - Smoke Alarm Application          FEMS-Smoke Alarms   \n",
       "363470   FEMS - Fire Safety Inspection                       FEMS   \n",
       "363634   FEMS - Fire Safety Inspection                       FEMS   \n",
       "\n",
       "       ORGANIZATIONACRONYM  SERVICECALLCOUNT                 ADDDATE  \\\n",
       "91                    FEMS                 1  2019/01/04 17:06:41+00   \n",
       "539                   FEMS                 1  2019/01/16 22:27:57+00   \n",
       "707                   FEMS                 1  2019/01/18 19:50:06+00   \n",
       "1051                  FEMS                 1  2019/01/15 18:43:00+00   \n",
       "1187                  FEMS                 1  2019/01/11 19:02:21+00   \n",
       "...                    ...               ...                     ...   \n",
       "359992                FEMS                 1  2019/12/26 14:17:21+00   \n",
       "360159                FEMS                 1  2019/12/26 21:31:56+00   \n",
       "363225                FEMS                 1  2019/12/30 19:19:01+00   \n",
       "363470                FEMS                 1  2019/12/30 21:40:15+00   \n",
       "363634                FEMS                 1  2019/12/31 13:50:03+00   \n",
       "\n",
       "                RESOLUTIONDATE  ...     XCOORD     YCOORD   LATITUDE  \\\n",
       "91      2019/01/07 15:06:27+00  ...  406497.01  135458.59  38.886944   \n",
       "539     2019/03/23 16:02:28+00  ...  403401.88  134408.80  38.877504   \n",
       "707     2019/01/23 21:05:37+00  ...  401616.50  139439.57  38.922828   \n",
       "1051    2019/02/01 19:23:58+00  ...  398228.31  143733.09  38.961505   \n",
       "1187    2019/03/14 17:30:29+00  ...  400556.86  136040.64  38.892211   \n",
       "...                        ...  ...        ...        ...        ...   \n",
       "359992  2020/01/17 20:15:20+00  ...  398051.03  140330.95  38.930858   \n",
       "360159  2020/01/03 14:58:46+00  ...  399957.95  143843.85  38.962505   \n",
       "363225  2020/01/27 19:52:12+00  ...  398297.04  143447.84  38.958936   \n",
       "363470  2019/12/30 22:22:11+00  ...  400430.11  131768.69  38.853728   \n",
       "363634  2020/01/17 20:53:57+00  ...  396135.86  137148.75  38.902185   \n",
       "\n",
       "        LONGITUDE        CITY STATE  ZIPCODE MARADDRESSREPOSITORYID WARD  \\\n",
       "91     -76.925115  WASHINGTON    DC  20019.0                10428.0  7.0   \n",
       "539    -76.960795  WASHINGTON    DC  20019.0                50666.0  7.0   \n",
       "707    -76.981359  WASHINGTON    DC  20018.0                61311.0  5.0   \n",
       "1051   -77.020442  WASHINGTON    DC  20011.0               246463.0  4.0   \n",
       "1187   -76.993581  WASHINGTON    DC  20002.0                81651.0  6.0   \n",
       "...           ...         ...   ...      ...                    ...  ...   \n",
       "359992 -77.022478  WASHINGTON    DC  20010.0               228942.0  1.0   \n",
       "360159 -77.000485  WASHINGTON    DC  20011.0                25978.0  4.0   \n",
       "363225 -77.019648  WASHINGTON    DC  20011.0               248819.0  4.0   \n",
       "363470 -76.995045  WASHINGTON    DC  20032.0               301360.0  8.0   \n",
       "363634 -77.044548  WASHINGTON    DC  20006.0               218576.0  2.0   \n",
       "\n",
       "                              DETAILS  \n",
       "91                                NaN  \n",
       "539     FIREFIGHTERS NEVER SHOWED UP.  \n",
       "707                               NaN  \n",
       "1051            REQUEST SMOKE ALARMS.  \n",
       "1187         SMOKE ALARMS, INSTALLED.  \n",
       "...                               ...  \n",
       "359992                            NaN  \n",
       "360159                            NaN  \n",
       "363225                            NaN  \n",
       "363470                            NaN  \n",
       "363634                            NaN  \n",
       "\n",
       "[1254 rows x 30 columns]"
      ],
      "text/html": "<div>\n<style scoped>\n    .dataframe tbody tr th:only-of-type {\n        vertical-align: middle;\n    }\n\n    .dataframe tbody tr th {\n        vertical-align: top;\n    }\n\n    .dataframe thead th {\n        text-align: right;\n    }\n</style>\n<table border=\"1\" class=\"dataframe\">\n  <thead>\n    <tr style=\"text-align: right;\">\n      <th></th>\n      <th>X</th>\n      <th>Y</th>\n      <th>OBJECTID</th>\n      <th>SERVICECODE</th>\n      <th>SERVICECODEDESCRIPTION</th>\n      <th>SERVICETYPECODEDESCRIPTION</th>\n      <th>ORGANIZATIONACRONYM</th>\n      <th>SERVICECALLCOUNT</th>\n      <th>ADDDATE</th>\n      <th>RESOLUTIONDATE</th>\n      <th>...</th>\n      <th>XCOORD</th>\n      <th>YCOORD</th>\n      <th>LATITUDE</th>\n      <th>LONGITUDE</th>\n      <th>CITY</th>\n      <th>STATE</th>\n      <th>ZIPCODE</th>\n      <th>MARADDRESSREPOSITORYID</th>\n      <th>WARD</th>\n      <th>DETAILS</th>\n    </tr>\n  </thead>\n  <tbody>\n    <tr>\n      <th>91</th>\n      <td>-76.925117</td>\n      <td>38.886951</td>\n      <td>279126</td>\n      <td>FESAADNU</td>\n      <td>FEMS - Smoke Alarm Application</td>\n      <td>FEMS-Smoke Alarms</td>\n      <td>FEMS</td>\n      <td>1</td>\n      <td>2019/01/04 17:06:41+00</td>\n      <td>2019/01/07 15:06:27+00</td>\n      <td>...</td>\n      <td>406497.01</td>\n      <td>135458.59</td>\n      <td>38.886944</td>\n      <td>-76.925115</td>\n      <td>WASHINGTON</td>\n      <td>DC</td>\n      <td>20019.0</td>\n      <td>10428.0</td>\n      <td>7.0</td>\n      <td>NaN</td>\n    </tr>\n    <tr>\n      <th>539</th>\n      <td>-76.960797</td>\n      <td>38.877512</td>\n      <td>279574</td>\n      <td>FESAADNU</td>\n      <td>FEMS - Smoke Alarm Application</td>\n      <td>FEMS-Smoke Alarms</td>\n      <td>FEMS</td>\n      <td>1</td>\n      <td>2019/01/16 22:27:57+00</td>\n      <td>2019/03/23 16:02:28+00</td>\n      <td>...</td>\n      <td>403401.88</td>\n      <td>134408.80</td>\n      <td>38.877504</td>\n      <td>-76.960795</td>\n      <td>WASHINGTON</td>\n      <td>DC</td>\n      <td>20019.0</td>\n      <td>50666.0</td>\n      <td>7.0</td>\n      <td>FIREFIGHTERS NEVER SHOWED UP.</td>\n    </tr>\n    <tr>\n      <th>707</th>\n      <td>-76.981361</td>\n      <td>38.922836</td>\n      <td>279742</td>\n      <td>FESAADNU</td>\n      <td>FEMS - Smoke Alarm Application</td>\n      <td>FEMS-Smoke Alarms</td>\n      <td>FEMS</td>\n      <td>1</td>\n      <td>2019/01/18 19:50:06+00</td>\n      <td>2019/01/23 21:05:37+00</td>\n      <td>...</td>\n      <td>401616.50</td>\n      <td>139439.57</td>\n      <td>38.922828</td>\n      <td>-76.981359</td>\n      <td>WASHINGTON</td>\n      <td>DC</td>\n      <td>20018.0</td>\n      <td>61311.0</td>\n      <td>5.0</td>\n      <td>NaN</td>\n    </tr>\n    <tr>\n      <th>1051</th>\n      <td>-77.020444</td>\n      <td>38.961513</td>\n      <td>280086</td>\n      <td>FESAADNU</td>\n      <td>FEMS - Smoke Alarm Application</td>\n      <td>FEMS-Smoke Alarms</td>\n      <td>FEMS</td>\n      <td>1</td>\n      <td>2019/01/15 18:43:00+00</td>\n      <td>2019/02/01 19:23:58+00</td>\n      <td>...</td>\n      <td>398228.31</td>\n      <td>143733.09</td>\n      <td>38.961505</td>\n      <td>-77.020442</td>\n      <td>WASHINGTON</td>\n      <td>DC</td>\n      <td>20011.0</td>\n      <td>246463.0</td>\n      <td>4.0</td>\n      <td>REQUEST SMOKE ALARMS.</td>\n    </tr>\n    <tr>\n      <th>1187</th>\n      <td>-76.993583</td>\n      <td>38.892218</td>\n      <td>280222</td>\n      <td>FESAADNU</td>\n      <td>FEMS - Smoke Alarm Application</td>\n      <td>FEMS-Smoke Alarms</td>\n      <td>FEMS</td>\n      <td>1</td>\n      <td>2019/01/11 19:02:21+00</td>\n      <td>2019/03/14 17:30:29+00</td>\n      <td>...</td>\n      <td>400556.86</td>\n      <td>136040.64</td>\n      <td>38.892211</td>\n      <td>-76.993581</td>\n      <td>WASHINGTON</td>\n      <td>DC</td>\n      <td>20002.0</td>\n      <td>81651.0</td>\n      <td>6.0</td>\n      <td>SMOKE ALARMS, INSTALLED.</td>\n    </tr>\n    <tr>\n      <th>...</th>\n      <td>...</td>\n      <td>...</td>\n      <td>...</td>\n      <td>...</td>\n      <td>...</td>\n      <td>...</td>\n      <td>...</td>\n      <td>...</td>\n      <td>...</td>\n      <td>...</td>\n      <td>...</td>\n      <td>...</td>\n      <td>...</td>\n      <td>...</td>\n      <td>...</td>\n      <td>...</td>\n      <td>...</td>\n      <td>...</td>\n      <td>...</td>\n      <td>...</td>\n      <td>...</td>\n    </tr>\n    <tr>\n      <th>359992</th>\n      <td>-77.022480</td>\n      <td>38.930865</td>\n      <td>716835</td>\n      <td>FESAADNU</td>\n      <td>FEMS - Smoke Alarm Application</td>\n      <td>FEMS-Smoke Alarms</td>\n      <td>FEMS</td>\n      <td>1</td>\n      <td>2019/12/26 14:17:21+00</td>\n      <td>2020/01/17 20:15:20+00</td>\n      <td>...</td>\n      <td>398051.03</td>\n      <td>140330.95</td>\n      <td>38.930858</td>\n      <td>-77.022478</td>\n      <td>WASHINGTON</td>\n      <td>DC</td>\n      <td>20010.0</td>\n      <td>228942.0</td>\n      <td>1.0</td>\n      <td>NaN</td>\n    </tr>\n    <tr>\n      <th>360159</th>\n      <td>-77.000487</td>\n      <td>38.962512</td>\n      <td>717002</td>\n      <td>FESAADNU</td>\n      <td>FEMS - Smoke Alarm Application</td>\n      <td>FEMS-Smoke Alarms</td>\n      <td>FEMS</td>\n      <td>1</td>\n      <td>2019/12/26 21:31:56+00</td>\n      <td>2020/01/03 14:58:46+00</td>\n      <td>...</td>\n      <td>399957.95</td>\n      <td>143843.85</td>\n      <td>38.962505</td>\n      <td>-77.000485</td>\n      <td>WASHINGTON</td>\n      <td>DC</td>\n      <td>20011.0</td>\n      <td>25978.0</td>\n      <td>4.0</td>\n      <td>NaN</td>\n    </tr>\n    <tr>\n      <th>363225</th>\n      <td>-77.019651</td>\n      <td>38.958943</td>\n      <td>720116</td>\n      <td>FESAADNU</td>\n      <td>FEMS - Smoke Alarm Application</td>\n      <td>FEMS-Smoke Alarms</td>\n      <td>FEMS</td>\n      <td>1</td>\n      <td>2019/12/30 19:19:01+00</td>\n      <td>2020/01/27 19:52:12+00</td>\n      <td>...</td>\n      <td>398297.04</td>\n      <td>143447.84</td>\n      <td>38.958936</td>\n      <td>-77.019648</td>\n      <td>WASHINGTON</td>\n      <td>DC</td>\n      <td>20011.0</td>\n      <td>248819.0</td>\n      <td>4.0</td>\n      <td>NaN</td>\n    </tr>\n    <tr>\n      <th>363470</th>\n      <td>-76.995047</td>\n      <td>38.853735</td>\n      <td>720361</td>\n      <td>FEMSFIREINSP</td>\n      <td>FEMS - Fire Safety Inspection</td>\n      <td>FEMS</td>\n      <td>FEMS</td>\n      <td>1</td>\n      <td>2019/12/30 21:40:15+00</td>\n      <td>2019/12/30 22:22:11+00</td>\n      <td>...</td>\n      <td>400430.11</td>\n      <td>131768.69</td>\n      <td>38.853728</td>\n      <td>-76.995045</td>\n      <td>WASHINGTON</td>\n      <td>DC</td>\n      <td>20032.0</td>\n      <td>301360.0</td>\n      <td>8.0</td>\n      <td>NaN</td>\n    </tr>\n    <tr>\n      <th>363634</th>\n      <td>-77.044550</td>\n      <td>38.902192</td>\n      <td>720525</td>\n      <td>FEMSFIREINSP</td>\n      <td>FEMS - Fire Safety Inspection</td>\n      <td>FEMS</td>\n      <td>FEMS</td>\n      <td>1</td>\n      <td>2019/12/31 13:50:03+00</td>\n      <td>2020/01/17 20:53:57+00</td>\n      <td>...</td>\n      <td>396135.86</td>\n      <td>137148.75</td>\n      <td>38.902185</td>\n      <td>-77.044548</td>\n      <td>WASHINGTON</td>\n      <td>DC</td>\n      <td>20006.0</td>\n      <td>218576.0</td>\n      <td>2.0</td>\n      <td>NaN</td>\n    </tr>\n  </tbody>\n</table>\n<p>1254 rows × 30 columns</p>\n</div>"
     },
     "metadata": {},
     "execution_count": 5
    }
   ],
   "source": [
    "DC_311_2019_fems = DC_311_2019_df.loc[DC_311_2019_df['ORGANIZATIONACRONYM'] == 'FEMS']\n",
    "DC_311_2019_fems"
   ]
  },
  {
   "source": [
    "### All 311 Requests in D.C in 2020"
   ],
   "cell_type": "markdown",
   "metadata": {}
  },
  {
   "cell_type": "code",
   "execution_count": 6,
   "metadata": {},
   "outputs": [
    {
     "output_type": "stream",
     "name": "stderr",
     "text": [
      "/opt/anaconda3/envs/myenv/lib/python3.8/site-packages/IPython/core/interactiveshell.py:3146: DtypeWarning: Columns (29) have mixed types.Specify dtype option on import or set low_memory=False.\n  has_raised = await self.run_ast_nodes(code_ast.body, cell_name,\n"
     ]
    },
    {
     "output_type": "execute_result",
     "data": {
      "text/plain": [
       "                X          Y  OBJECTID SERVICECODE  \\\n",
       "0      -77.052255  38.901881         1       S05SL   \n",
       "1      -76.995047  38.853735         2       S0311   \n",
       "2      -77.024210  38.913582         3       S0441   \n",
       "3      -77.025296  38.905826         4       S0441   \n",
       "4      -77.014662  38.881105         5       EMNPV   \n",
       "...           ...        ...       ...         ...   \n",
       "304745 -76.992409  38.882031    659524       S0422   \n",
       "304746 -77.013005  38.915761    659841       S0451   \n",
       "304747 -76.973669  38.896967    659842    TRACO001   \n",
       "304748 -77.057243  38.919885    659843       S0451   \n",
       "304749 -77.032325  38.965948    660161       S0451   \n",
       "\n",
       "                   SERVICECODEDESCRIPTION  \\\n",
       "0        Streetlight Repair Investigation   \n",
       "1         Rodent Inspection and Treatment   \n",
       "2               Trash Collection - Missed   \n",
       "3               Trash Collection - Missed   \n",
       "4       Emergency No-Parking Verification   \n",
       "...                                   ...   \n",
       "304745                Supercan - Delivery   \n",
       "304746              Trash Cart - Delivery   \n",
       "304747                  Trash Cart Repair   \n",
       "304748              Trash Cart - Delivery   \n",
       "304749              Trash Cart - Delivery   \n",
       "\n",
       "                               SERVICETYPECODEDESCRIPTION ORGANIZATIONACRONYM  \\\n",
       "0                Transportation Operations Administration                DDOT   \n",
       "1                               DOH- Department Of Health                 DOH   \n",
       "2               SWMA- Solid Waste Management Admistration                 DPW   \n",
       "3               SWMA- Solid Waste Management Admistration                 DPW   \n",
       "4       PEMA- Parking Enforcement Management Administr...                 DPW   \n",
       "...                                                   ...                 ...   \n",
       "304745          SWMA- Solid Waste Management Admistration                 DPW   \n",
       "304746          SWMA- Solid Waste Management Admistration                 DPW   \n",
       "304747          SWMA- Solid Waste Management Admistration                 DPW   \n",
       "304748          SWMA- Solid Waste Management Admistration                 DPW   \n",
       "304749          SWMA- Solid Waste Management Admistration                 DPW   \n",
       "\n",
       "        SERVICECALLCOUNT                 ADDDATE          RESOLUTIONDATE  ...  \\\n",
       "0                      1  2020/01/01 05:00:38+00  2020/01/04 08:35:04+00  ...   \n",
       "1                      1  2020/01/01 05:02:57+00  2020/01/01 05:12:17+00  ...   \n",
       "2                      1  2020/01/01 05:20:59+00  2020/01/02 13:08:05+00  ...   \n",
       "3                      1  2020/01/01 06:34:21+00  2020/01/02 13:05:05+00  ...   \n",
       "4                      1  2020/01/01 09:07:20+00  2020/01/01 09:18:13+00  ...   \n",
       "...                  ...                     ...                     ...  ...   \n",
       "304745                 1  2020/12/23 12:40:13+00  2021/01/13 14:43:16+00  ...   \n",
       "304746                 1  2020/12/22 20:00:59+00  2021/01/28 13:57:34+00  ...   \n",
       "304747                 1  2020/11/09 14:00:51+00  2021/02/04 13:22:26+00  ...   \n",
       "304748                 1  2020/10/14 16:01:01+00  2021/02/05 19:52:36+00  ...   \n",
       "304749                 1  2020/10/06 10:25:04+00  2021/01/28 14:14:10+00  ...   \n",
       "\n",
       "           XCOORD     YCOORD   LATITUDE  LONGITUDE        CITY STATE  ZIPCODE  \\\n",
       "0       395467.53  137114.59  38.901874 -77.052253  WASHINGTON    DC  20037.0   \n",
       "1       400430.11  131768.69  38.853728 -76.995045  WASHINGTON    DC  20032.0   \n",
       "2       397900.54  138412.45  38.913575 -77.024208  WASHINGTON    DC  20001.0   \n",
       "3       397806.12  137551.45  38.905818 -77.025294  WASHINGTON    DC  20001.0   \n",
       "4       398728.03  134807.00  38.881097 -77.014660  WASHINGTON    DC  20024.0   \n",
       "...           ...        ...        ...        ...         ...   ...      ...   \n",
       "304745  400658.86  134909.78  38.882024 -76.992406  WASHINGTON    DC  20003.0   \n",
       "304746  398872.32  138654.15  38.915754 -77.013003  WASHINGTON    DC  20001.0   \n",
       "304747  402284.35  136568.07  38.896959 -76.973667  WASHINGTON    DC  20002.0   \n",
       "304748  395036.12  139113.39  38.919878 -77.057241  WASHINGTON    DC  20008.0   \n",
       "304749  397198.77  144225.69  38.965940 -77.032323  WASHINGTON    DC  20011.0   \n",
       "\n",
       "       MARADDRESSREPOSITORYID WARD DETAILS  \n",
       "0                    273983.0  2.0     NaN  \n",
       "1                    301360.0  8.0     NaN  \n",
       "2                    239705.0  6.0     NaN  \n",
       "3                    239755.0  2.0     NaN  \n",
       "4                    277827.0  6.0     NaN  \n",
       "...                       ...  ...     ...  \n",
       "304745                12224.0  6.0     NaN  \n",
       "304746               227465.0  5.0     NaN  \n",
       "304747                10348.0  7.0     NaN  \n",
       "304748               220401.0  3.0     NaN  \n",
       "304749               257627.0  4.0     NaN  \n",
       "\n",
       "[304750 rows x 30 columns]"
      ],
      "text/html": "<div>\n<style scoped>\n    .dataframe tbody tr th:only-of-type {\n        vertical-align: middle;\n    }\n\n    .dataframe tbody tr th {\n        vertical-align: top;\n    }\n\n    .dataframe thead th {\n        text-align: right;\n    }\n</style>\n<table border=\"1\" class=\"dataframe\">\n  <thead>\n    <tr style=\"text-align: right;\">\n      <th></th>\n      <th>X</th>\n      <th>Y</th>\n      <th>OBJECTID</th>\n      <th>SERVICECODE</th>\n      <th>SERVICECODEDESCRIPTION</th>\n      <th>SERVICETYPECODEDESCRIPTION</th>\n      <th>ORGANIZATIONACRONYM</th>\n      <th>SERVICECALLCOUNT</th>\n      <th>ADDDATE</th>\n      <th>RESOLUTIONDATE</th>\n      <th>...</th>\n      <th>XCOORD</th>\n      <th>YCOORD</th>\n      <th>LATITUDE</th>\n      <th>LONGITUDE</th>\n      <th>CITY</th>\n      <th>STATE</th>\n      <th>ZIPCODE</th>\n      <th>MARADDRESSREPOSITORYID</th>\n      <th>WARD</th>\n      <th>DETAILS</th>\n    </tr>\n  </thead>\n  <tbody>\n    <tr>\n      <th>0</th>\n      <td>-77.052255</td>\n      <td>38.901881</td>\n      <td>1</td>\n      <td>S05SL</td>\n      <td>Streetlight Repair Investigation</td>\n      <td>Transportation Operations Administration</td>\n      <td>DDOT</td>\n      <td>1</td>\n      <td>2020/01/01 05:00:38+00</td>\n      <td>2020/01/04 08:35:04+00</td>\n      <td>...</td>\n      <td>395467.53</td>\n      <td>137114.59</td>\n      <td>38.901874</td>\n      <td>-77.052253</td>\n      <td>WASHINGTON</td>\n      <td>DC</td>\n      <td>20037.0</td>\n      <td>273983.0</td>\n      <td>2.0</td>\n      <td>NaN</td>\n    </tr>\n    <tr>\n      <th>1</th>\n      <td>-76.995047</td>\n      <td>38.853735</td>\n      <td>2</td>\n      <td>S0311</td>\n      <td>Rodent Inspection and Treatment</td>\n      <td>DOH- Department Of Health</td>\n      <td>DOH</td>\n      <td>1</td>\n      <td>2020/01/01 05:02:57+00</td>\n      <td>2020/01/01 05:12:17+00</td>\n      <td>...</td>\n      <td>400430.11</td>\n      <td>131768.69</td>\n      <td>38.853728</td>\n      <td>-76.995045</td>\n      <td>WASHINGTON</td>\n      <td>DC</td>\n      <td>20032.0</td>\n      <td>301360.0</td>\n      <td>8.0</td>\n      <td>NaN</td>\n    </tr>\n    <tr>\n      <th>2</th>\n      <td>-77.024210</td>\n      <td>38.913582</td>\n      <td>3</td>\n      <td>S0441</td>\n      <td>Trash Collection - Missed</td>\n      <td>SWMA- Solid Waste Management Admistration</td>\n      <td>DPW</td>\n      <td>1</td>\n      <td>2020/01/01 05:20:59+00</td>\n      <td>2020/01/02 13:08:05+00</td>\n      <td>...</td>\n      <td>397900.54</td>\n      <td>138412.45</td>\n      <td>38.913575</td>\n      <td>-77.024208</td>\n      <td>WASHINGTON</td>\n      <td>DC</td>\n      <td>20001.0</td>\n      <td>239705.0</td>\n      <td>6.0</td>\n      <td>NaN</td>\n    </tr>\n    <tr>\n      <th>3</th>\n      <td>-77.025296</td>\n      <td>38.905826</td>\n      <td>4</td>\n      <td>S0441</td>\n      <td>Trash Collection - Missed</td>\n      <td>SWMA- Solid Waste Management Admistration</td>\n      <td>DPW</td>\n      <td>1</td>\n      <td>2020/01/01 06:34:21+00</td>\n      <td>2020/01/02 13:05:05+00</td>\n      <td>...</td>\n      <td>397806.12</td>\n      <td>137551.45</td>\n      <td>38.905818</td>\n      <td>-77.025294</td>\n      <td>WASHINGTON</td>\n      <td>DC</td>\n      <td>20001.0</td>\n      <td>239755.0</td>\n      <td>2.0</td>\n      <td>NaN</td>\n    </tr>\n    <tr>\n      <th>4</th>\n      <td>-77.014662</td>\n      <td>38.881105</td>\n      <td>5</td>\n      <td>EMNPV</td>\n      <td>Emergency No-Parking Verification</td>\n      <td>PEMA- Parking Enforcement Management Administr...</td>\n      <td>DPW</td>\n      <td>1</td>\n      <td>2020/01/01 09:07:20+00</td>\n      <td>2020/01/01 09:18:13+00</td>\n      <td>...</td>\n      <td>398728.03</td>\n      <td>134807.00</td>\n      <td>38.881097</td>\n      <td>-77.014660</td>\n      <td>WASHINGTON</td>\n      <td>DC</td>\n      <td>20024.0</td>\n      <td>277827.0</td>\n      <td>6.0</td>\n      <td>NaN</td>\n    </tr>\n    <tr>\n      <th>...</th>\n      <td>...</td>\n      <td>...</td>\n      <td>...</td>\n      <td>...</td>\n      <td>...</td>\n      <td>...</td>\n      <td>...</td>\n      <td>...</td>\n      <td>...</td>\n      <td>...</td>\n      <td>...</td>\n      <td>...</td>\n      <td>...</td>\n      <td>...</td>\n      <td>...</td>\n      <td>...</td>\n      <td>...</td>\n      <td>...</td>\n      <td>...</td>\n      <td>...</td>\n      <td>...</td>\n    </tr>\n    <tr>\n      <th>304745</th>\n      <td>-76.992409</td>\n      <td>38.882031</td>\n      <td>659524</td>\n      <td>S0422</td>\n      <td>Supercan - Delivery</td>\n      <td>SWMA- Solid Waste Management Admistration</td>\n      <td>DPW</td>\n      <td>1</td>\n      <td>2020/12/23 12:40:13+00</td>\n      <td>2021/01/13 14:43:16+00</td>\n      <td>...</td>\n      <td>400658.86</td>\n      <td>134909.78</td>\n      <td>38.882024</td>\n      <td>-76.992406</td>\n      <td>WASHINGTON</td>\n      <td>DC</td>\n      <td>20003.0</td>\n      <td>12224.0</td>\n      <td>6.0</td>\n      <td>NaN</td>\n    </tr>\n    <tr>\n      <th>304746</th>\n      <td>-77.013005</td>\n      <td>38.915761</td>\n      <td>659841</td>\n      <td>S0451</td>\n      <td>Trash Cart - Delivery</td>\n      <td>SWMA- Solid Waste Management Admistration</td>\n      <td>DPW</td>\n      <td>1</td>\n      <td>2020/12/22 20:00:59+00</td>\n      <td>2021/01/28 13:57:34+00</td>\n      <td>...</td>\n      <td>398872.32</td>\n      <td>138654.15</td>\n      <td>38.915754</td>\n      <td>-77.013003</td>\n      <td>WASHINGTON</td>\n      <td>DC</td>\n      <td>20001.0</td>\n      <td>227465.0</td>\n      <td>5.0</td>\n      <td>NaN</td>\n    </tr>\n    <tr>\n      <th>304747</th>\n      <td>-76.973669</td>\n      <td>38.896967</td>\n      <td>659842</td>\n      <td>TRACO001</td>\n      <td>Trash Cart Repair</td>\n      <td>SWMA- Solid Waste Management Admistration</td>\n      <td>DPW</td>\n      <td>1</td>\n      <td>2020/11/09 14:00:51+00</td>\n      <td>2021/02/04 13:22:26+00</td>\n      <td>...</td>\n      <td>402284.35</td>\n      <td>136568.07</td>\n      <td>38.896959</td>\n      <td>-76.973667</td>\n      <td>WASHINGTON</td>\n      <td>DC</td>\n      <td>20002.0</td>\n      <td>10348.0</td>\n      <td>7.0</td>\n      <td>NaN</td>\n    </tr>\n    <tr>\n      <th>304748</th>\n      <td>-77.057243</td>\n      <td>38.919885</td>\n      <td>659843</td>\n      <td>S0451</td>\n      <td>Trash Cart - Delivery</td>\n      <td>SWMA- Solid Waste Management Admistration</td>\n      <td>DPW</td>\n      <td>1</td>\n      <td>2020/10/14 16:01:01+00</td>\n      <td>2021/02/05 19:52:36+00</td>\n      <td>...</td>\n      <td>395036.12</td>\n      <td>139113.39</td>\n      <td>38.919878</td>\n      <td>-77.057241</td>\n      <td>WASHINGTON</td>\n      <td>DC</td>\n      <td>20008.0</td>\n      <td>220401.0</td>\n      <td>3.0</td>\n      <td>NaN</td>\n    </tr>\n    <tr>\n      <th>304749</th>\n      <td>-77.032325</td>\n      <td>38.965948</td>\n      <td>660161</td>\n      <td>S0451</td>\n      <td>Trash Cart - Delivery</td>\n      <td>SWMA- Solid Waste Management Admistration</td>\n      <td>DPW</td>\n      <td>1</td>\n      <td>2020/10/06 10:25:04+00</td>\n      <td>2021/01/28 14:14:10+00</td>\n      <td>...</td>\n      <td>397198.77</td>\n      <td>144225.69</td>\n      <td>38.965940</td>\n      <td>-77.032323</td>\n      <td>WASHINGTON</td>\n      <td>DC</td>\n      <td>20011.0</td>\n      <td>257627.0</td>\n      <td>4.0</td>\n      <td>NaN</td>\n    </tr>\n  </tbody>\n</table>\n<p>304750 rows × 30 columns</p>\n</div>"
     },
     "metadata": {},
     "execution_count": 6
    }
   ],
   "source": [
    "DC_311_2020_df = pd.read_csv(DC_311_2020)\n",
    "DC_311_2020_df"
   ]
  },
  {
   "cell_type": "code",
   "execution_count": 7,
   "metadata": {},
   "outputs": [
    {
     "output_type": "stream",
     "name": "stdout",
     "text": [
      "['X', 'Y', 'OBJECTID', 'SERVICECODE', 'SERVICECODEDESCRIPTION', 'SERVICETYPECODEDESCRIPTION', 'ORGANIZATIONACRONYM', 'SERVICECALLCOUNT', 'ADDDATE', 'RESOLUTIONDATE', 'SERVICEDUEDATE', 'SERVICEORDERDATE', 'INSPECTIONFLAG', 'INSPECTIONDATE', 'INSPECTORNAME', 'SERVICEORDERSTATUS', 'STATUS_CODE', 'SERVICEREQUESTID', 'PRIORITY', 'STREETADDRESS', 'XCOORD', 'YCOORD', 'LATITUDE', 'LONGITUDE', 'CITY', 'STATE', 'ZIPCODE', 'MARADDRESSREPOSITORYID', 'WARD', 'DETAILS']\n30\n"
     ]
    }
   ],
   "source": [
    "print(DC_311_2020_df.columns.tolist())\n",
    "print(len(DC_311_2020_df.columns.tolist()))"
   ]
  },
  {
   "cell_type": "code",
   "execution_count": 8,
   "metadata": {},
   "outputs": [
    {
     "output_type": "execute_result",
     "data": {
      "text/plain": [
       "               X          Y  OBJECTID SERVICECODE  \\\n",
       "4948  -77.000547  38.962513      6405    FESAADNU   \n",
       "5495  -76.935298  38.902693      7208    FEMEDUPR   \n",
       "5561  -76.988792  38.835090      7274    FESAADNU   \n",
       "6401  -76.936911  38.880609      8306    FESPEDNU   \n",
       "6471  -76.991575  38.903698      8376    FESPEDNU   \n",
       "...          ...        ...       ...         ...   \n",
       "79629 -76.993517  38.881809    111901    FESAADNU   \n",
       "80583 -77.004331  38.914935    113639    FESAADNU   \n",
       "84250 -77.021938  38.957644    118682    FESAADNU   \n",
       "88092 -76.990267  38.950702    125308    FESAADNU   \n",
       "88861 -76.985839  38.858020    126269    FESAADNU   \n",
       "\n",
       "               SERVICECODEDESCRIPTION SERVICETYPECODEDESCRIPTION  \\\n",
       "4948   FEMS - Smoke Alarm Application          FEMS-Smoke Alarms   \n",
       "5495     FEMS - Fire Safety Education                       FEMS   \n",
       "5561   FEMS - Smoke Alarm Application          FEMS-Smoke Alarms   \n",
       "6401          FEMS - Community Events        FEMS-Special Events   \n",
       "6471          FEMS - Community Events        FEMS-Special Events   \n",
       "...                               ...                        ...   \n",
       "79629  FEMS - Smoke Alarm Application          FEMS-Smoke Alarms   \n",
       "80583  FEMS - Smoke Alarm Application          FEMS-Smoke Alarms   \n",
       "84250  FEMS - Smoke Alarm Application          FEMS-Smoke Alarms   \n",
       "88092  FEMS - Smoke Alarm Application          FEMS-Smoke Alarms   \n",
       "88861  FEMS - Smoke Alarm Application          FEMS-Smoke Alarms   \n",
       "\n",
       "      ORGANIZATIONACRONYM  SERVICECALLCOUNT                 ADDDATE  \\\n",
       "4948                 FEMS                 1  2020/01/04 23:27:47+00   \n",
       "5495                 FEMS                 1  2020/01/06 12:29:45+00   \n",
       "5561                 FEMS                 1  2020/01/06 14:17:17+00   \n",
       "6401                 FEMS                 1  2020/01/06 18:58:23+00   \n",
       "6471                 FEMS                 1  2020/01/06 17:49:35+00   \n",
       "...                   ...               ...                     ...   \n",
       "79629                FEMS                 1  2020/03/27 18:59:13+00   \n",
       "80583                FEMS                 1  2020/03/29 03:02:57+00   \n",
       "84250                FEMS                 1  2020/04/03 05:15:51+00   \n",
       "88092                FEMS                 1  2020/04/08 18:51:25+00   \n",
       "88861                FEMS                 1  2020/04/09 15:40:04+00   \n",
       "\n",
       "               RESOLUTIONDATE  ...     XCOORD     YCOORD   LATITUDE  \\\n",
       "4948   2020/01/16 20:52:53+00  ...  399952.76  143843.87  38.962505   \n",
       "5495   2020/02/20 14:39:52+00  ...  405612.45  137205.37  38.902686   \n",
       "5561   2020/01/27 19:53:13+00  ...  400973.34  129699.06  38.835083   \n",
       "6401   2020/01/10 19:00:26+00  ...  405474.30  134753.82  38.880602   \n",
       "6471   2020/01/09 15:13:11+00  ...  400730.97  137315.00  38.903690   \n",
       "...                       ...  ...        ...        ...        ...   \n",
       "79629  2020/04/09 13:54:48+00  ...  400562.70  134885.09  38.881801   \n",
       "80583  2020/04/09 13:54:48+00  ...  399624.61  138562.33  38.914927   \n",
       "84250  2020/04/09 13:54:48+00  ...  398098.71  143303.60  38.957636   \n",
       "88092  2020/04/09 13:54:48+00  ...  400843.90  142532.81  38.950694   \n",
       "88861  2021/02/12 18:36:13+00  ...  401229.33  132244.44  38.858013   \n",
       "\n",
       "       LONGITUDE        CITY STATE  ZIPCODE MARADDRESSREPOSITORYID WARD  \\\n",
       "4948  -77.000545  WASHINGTON    DC  20011.0                26070.0  4.0   \n",
       "5495  -76.935296  WASHINGTON    DC  20019.0                18109.0  7.0   \n",
       "5561  -76.988789  WASHINGTON    DC  20032.0               279187.0  8.0   \n",
       "6401  -76.936908  WASHINGTON    DC  20019.0                21041.0  7.0   \n",
       "6471  -76.991573  WASHINGTON    DC  20002.0               285821.0  5.0   \n",
       "...          ...         ...   ...      ...                    ...  ...   \n",
       "79629 -76.993515  WASHINGTON    DC  20003.0                10968.0  6.0   \n",
       "80583 -77.004328  WASHINGTON    DC  20002.0               296345.0  5.0   \n",
       "84250 -77.021936  WASHINGTON    DC  20011.0               246643.0  4.0   \n",
       "88092 -76.990264  WASHINGTON    DC  20017.0                15424.0  5.0   \n",
       "88861 -76.985836  WASHINGTON    DC  20020.0                48567.0  8.0   \n",
       "\n",
       "      DETAILS  \n",
       "4948      NaN  \n",
       "5495      NaN  \n",
       "5561      NaN  \n",
       "6401      NaN  \n",
       "6471      NaN  \n",
       "...       ...  \n",
       "79629     NaN  \n",
       "80583     NaN  \n",
       "84250     NaN  \n",
       "88092     NaN  \n",
       "88861     NaN  \n",
       "\n",
       "[160 rows x 30 columns]"
      ],
      "text/html": "<div>\n<style scoped>\n    .dataframe tbody tr th:only-of-type {\n        vertical-align: middle;\n    }\n\n    .dataframe tbody tr th {\n        vertical-align: top;\n    }\n\n    .dataframe thead th {\n        text-align: right;\n    }\n</style>\n<table border=\"1\" class=\"dataframe\">\n  <thead>\n    <tr style=\"text-align: right;\">\n      <th></th>\n      <th>X</th>\n      <th>Y</th>\n      <th>OBJECTID</th>\n      <th>SERVICECODE</th>\n      <th>SERVICECODEDESCRIPTION</th>\n      <th>SERVICETYPECODEDESCRIPTION</th>\n      <th>ORGANIZATIONACRONYM</th>\n      <th>SERVICECALLCOUNT</th>\n      <th>ADDDATE</th>\n      <th>RESOLUTIONDATE</th>\n      <th>...</th>\n      <th>XCOORD</th>\n      <th>YCOORD</th>\n      <th>LATITUDE</th>\n      <th>LONGITUDE</th>\n      <th>CITY</th>\n      <th>STATE</th>\n      <th>ZIPCODE</th>\n      <th>MARADDRESSREPOSITORYID</th>\n      <th>WARD</th>\n      <th>DETAILS</th>\n    </tr>\n  </thead>\n  <tbody>\n    <tr>\n      <th>4948</th>\n      <td>-77.000547</td>\n      <td>38.962513</td>\n      <td>6405</td>\n      <td>FESAADNU</td>\n      <td>FEMS - Smoke Alarm Application</td>\n      <td>FEMS-Smoke Alarms</td>\n      <td>FEMS</td>\n      <td>1</td>\n      <td>2020/01/04 23:27:47+00</td>\n      <td>2020/01/16 20:52:53+00</td>\n      <td>...</td>\n      <td>399952.76</td>\n      <td>143843.87</td>\n      <td>38.962505</td>\n      <td>-77.000545</td>\n      <td>WASHINGTON</td>\n      <td>DC</td>\n      <td>20011.0</td>\n      <td>26070.0</td>\n      <td>4.0</td>\n      <td>NaN</td>\n    </tr>\n    <tr>\n      <th>5495</th>\n      <td>-76.935298</td>\n      <td>38.902693</td>\n      <td>7208</td>\n      <td>FEMEDUPR</td>\n      <td>FEMS - Fire Safety Education</td>\n      <td>FEMS</td>\n      <td>FEMS</td>\n      <td>1</td>\n      <td>2020/01/06 12:29:45+00</td>\n      <td>2020/02/20 14:39:52+00</td>\n      <td>...</td>\n      <td>405612.45</td>\n      <td>137205.37</td>\n      <td>38.902686</td>\n      <td>-76.935296</td>\n      <td>WASHINGTON</td>\n      <td>DC</td>\n      <td>20019.0</td>\n      <td>18109.0</td>\n      <td>7.0</td>\n      <td>NaN</td>\n    </tr>\n    <tr>\n      <th>5561</th>\n      <td>-76.988792</td>\n      <td>38.835090</td>\n      <td>7274</td>\n      <td>FESAADNU</td>\n      <td>FEMS - Smoke Alarm Application</td>\n      <td>FEMS-Smoke Alarms</td>\n      <td>FEMS</td>\n      <td>1</td>\n      <td>2020/01/06 14:17:17+00</td>\n      <td>2020/01/27 19:53:13+00</td>\n      <td>...</td>\n      <td>400973.34</td>\n      <td>129699.06</td>\n      <td>38.835083</td>\n      <td>-76.988789</td>\n      <td>WASHINGTON</td>\n      <td>DC</td>\n      <td>20032.0</td>\n      <td>279187.0</td>\n      <td>8.0</td>\n      <td>NaN</td>\n    </tr>\n    <tr>\n      <th>6401</th>\n      <td>-76.936911</td>\n      <td>38.880609</td>\n      <td>8306</td>\n      <td>FESPEDNU</td>\n      <td>FEMS - Community Events</td>\n      <td>FEMS-Special Events</td>\n      <td>FEMS</td>\n      <td>1</td>\n      <td>2020/01/06 18:58:23+00</td>\n      <td>2020/01/10 19:00:26+00</td>\n      <td>...</td>\n      <td>405474.30</td>\n      <td>134753.82</td>\n      <td>38.880602</td>\n      <td>-76.936908</td>\n      <td>WASHINGTON</td>\n      <td>DC</td>\n      <td>20019.0</td>\n      <td>21041.0</td>\n      <td>7.0</td>\n      <td>NaN</td>\n    </tr>\n    <tr>\n      <th>6471</th>\n      <td>-76.991575</td>\n      <td>38.903698</td>\n      <td>8376</td>\n      <td>FESPEDNU</td>\n      <td>FEMS - Community Events</td>\n      <td>FEMS-Special Events</td>\n      <td>FEMS</td>\n      <td>1</td>\n      <td>2020/01/06 17:49:35+00</td>\n      <td>2020/01/09 15:13:11+00</td>\n      <td>...</td>\n      <td>400730.97</td>\n      <td>137315.00</td>\n      <td>38.903690</td>\n      <td>-76.991573</td>\n      <td>WASHINGTON</td>\n      <td>DC</td>\n      <td>20002.0</td>\n      <td>285821.0</td>\n      <td>5.0</td>\n      <td>NaN</td>\n    </tr>\n    <tr>\n      <th>...</th>\n      <td>...</td>\n      <td>...</td>\n      <td>...</td>\n      <td>...</td>\n      <td>...</td>\n      <td>...</td>\n      <td>...</td>\n      <td>...</td>\n      <td>...</td>\n      <td>...</td>\n      <td>...</td>\n      <td>...</td>\n      <td>...</td>\n      <td>...</td>\n      <td>...</td>\n      <td>...</td>\n      <td>...</td>\n      <td>...</td>\n      <td>...</td>\n      <td>...</td>\n      <td>...</td>\n    </tr>\n    <tr>\n      <th>79629</th>\n      <td>-76.993517</td>\n      <td>38.881809</td>\n      <td>111901</td>\n      <td>FESAADNU</td>\n      <td>FEMS - Smoke Alarm Application</td>\n      <td>FEMS-Smoke Alarms</td>\n      <td>FEMS</td>\n      <td>1</td>\n      <td>2020/03/27 18:59:13+00</td>\n      <td>2020/04/09 13:54:48+00</td>\n      <td>...</td>\n      <td>400562.70</td>\n      <td>134885.09</td>\n      <td>38.881801</td>\n      <td>-76.993515</td>\n      <td>WASHINGTON</td>\n      <td>DC</td>\n      <td>20003.0</td>\n      <td>10968.0</td>\n      <td>6.0</td>\n      <td>NaN</td>\n    </tr>\n    <tr>\n      <th>80583</th>\n      <td>-77.004331</td>\n      <td>38.914935</td>\n      <td>113639</td>\n      <td>FESAADNU</td>\n      <td>FEMS - Smoke Alarm Application</td>\n      <td>FEMS-Smoke Alarms</td>\n      <td>FEMS</td>\n      <td>1</td>\n      <td>2020/03/29 03:02:57+00</td>\n      <td>2020/04/09 13:54:48+00</td>\n      <td>...</td>\n      <td>399624.61</td>\n      <td>138562.33</td>\n      <td>38.914927</td>\n      <td>-77.004328</td>\n      <td>WASHINGTON</td>\n      <td>DC</td>\n      <td>20002.0</td>\n      <td>296345.0</td>\n      <td>5.0</td>\n      <td>NaN</td>\n    </tr>\n    <tr>\n      <th>84250</th>\n      <td>-77.021938</td>\n      <td>38.957644</td>\n      <td>118682</td>\n      <td>FESAADNU</td>\n      <td>FEMS - Smoke Alarm Application</td>\n      <td>FEMS-Smoke Alarms</td>\n      <td>FEMS</td>\n      <td>1</td>\n      <td>2020/04/03 05:15:51+00</td>\n      <td>2020/04/09 13:54:48+00</td>\n      <td>...</td>\n      <td>398098.71</td>\n      <td>143303.60</td>\n      <td>38.957636</td>\n      <td>-77.021936</td>\n      <td>WASHINGTON</td>\n      <td>DC</td>\n      <td>20011.0</td>\n      <td>246643.0</td>\n      <td>4.0</td>\n      <td>NaN</td>\n    </tr>\n    <tr>\n      <th>88092</th>\n      <td>-76.990267</td>\n      <td>38.950702</td>\n      <td>125308</td>\n      <td>FESAADNU</td>\n      <td>FEMS - Smoke Alarm Application</td>\n      <td>FEMS-Smoke Alarms</td>\n      <td>FEMS</td>\n      <td>1</td>\n      <td>2020/04/08 18:51:25+00</td>\n      <td>2020/04/09 13:54:48+00</td>\n      <td>...</td>\n      <td>400843.90</td>\n      <td>142532.81</td>\n      <td>38.950694</td>\n      <td>-76.990264</td>\n      <td>WASHINGTON</td>\n      <td>DC</td>\n      <td>20017.0</td>\n      <td>15424.0</td>\n      <td>5.0</td>\n      <td>NaN</td>\n    </tr>\n    <tr>\n      <th>88861</th>\n      <td>-76.985839</td>\n      <td>38.858020</td>\n      <td>126269</td>\n      <td>FESAADNU</td>\n      <td>FEMS - Smoke Alarm Application</td>\n      <td>FEMS-Smoke Alarms</td>\n      <td>FEMS</td>\n      <td>1</td>\n      <td>2020/04/09 15:40:04+00</td>\n      <td>2021/02/12 18:36:13+00</td>\n      <td>...</td>\n      <td>401229.33</td>\n      <td>132244.44</td>\n      <td>38.858013</td>\n      <td>-76.985836</td>\n      <td>WASHINGTON</td>\n      <td>DC</td>\n      <td>20020.0</td>\n      <td>48567.0</td>\n      <td>8.0</td>\n      <td>NaN</td>\n    </tr>\n  </tbody>\n</table>\n<p>160 rows × 30 columns</p>\n</div>"
     },
     "metadata": {},
     "execution_count": 8
    }
   ],
   "source": [
    "DC_311_2020_fems = DC_311_2020_df.loc[DC_311_2020_df['ORGANIZATIONACRONYM'] == 'FEMS']\n",
    "DC_311_2020_fems"
   ]
  },
  {
   "cell_type": "code",
   "execution_count": 9,
   "metadata": {},
   "outputs": [
    {
     "output_type": "stream",
     "name": "stdout",
     "text": [
      "#311 reports that were assigned to FEMS in 2019: 1254\n#311 reports that were assigned to FEMS in 2020: 160\nFEMS reports/ total #311 in 2019 0.003435512902350888\nFEMS reports/ total #311 in 2020 0.0005250205086136178\n"
     ]
    }
   ],
   "source": [
    "print(\"#311 reports that were assigned to FEMS in 2019: \" + str(DC_311_2019_fems.shape[0]))\n",
    "print(\"#311 reports that were assigned to FEMS in 2020: \" + str(DC_311_2020_fems.shape[0]))\n",
    "\n",
    "print(\"FEMS reports/ total #311 in 2019 \" + str(DC_311_2019_fems.shape[0] / DC_311_2019_df.shape[0]))\n",
    "print(\"FEMS reports/ total #311 in 2020 \" + str(DC_311_2020_fems.shape[0] / DC_311_2020_df.shape[0]))"
   ]
  },
  {
   "cell_type": "code",
   "execution_count": 10,
   "metadata": {},
   "outputs": [
    {
     "output_type": "stream",
     "name": "stderr",
     "text": [
      "<ipython-input-10-35b38d23c2bb>:1: SettingWithCopyWarning: \nA value is trying to be set on a copy of a slice from a DataFrame.\nTry using .loc[row_indexer,col_indexer] = value instead\n\nSee the caveats in the documentation: https://pandas.pydata.org/pandas-docs/stable/user_guide/indexing.html#returning-a-view-versus-a-copy\n  DC_311_2019_fems['dates'] = pd.to_datetime(DC_311_2019_fems['ADDDATE'], format='%Y/%m/%d')\n"
     ]
    }
   ],
   "source": [
    "DC_311_2019_fems['dates'] = pd.to_datetime(DC_311_2019_fems['ADDDATE'], format='%Y/%m/%d')"
   ]
  },
  {
   "cell_type": "code",
   "execution_count": 11,
   "metadata": {},
   "outputs": [
    {
     "output_type": "stream",
     "name": "stderr",
     "text": [
      "<ipython-input-11-972359df5f8d>:1: SettingWithCopyWarning: \nA value is trying to be set on a copy of a slice from a DataFrame.\nTry using .loc[row_indexer,col_indexer] = value instead\n\nSee the caveats in the documentation: https://pandas.pydata.org/pandas-docs/stable/user_guide/indexing.html#returning-a-view-versus-a-copy\n  DC_311_2019_fems['add_month'] = DC_311_2019_fems['dates'].dt.month\n"
     ]
    },
    {
     "output_type": "execute_result",
     "data": {
      "text/plain": [
       "add_month\n",
       "1     124\n",
       "2      77\n",
       "3     104\n",
       "4     126\n",
       "5     119\n",
       "6     125\n",
       "7     111\n",
       "8     105\n",
       "9     102\n",
       "10    131\n",
       "11     79\n",
       "12     51\n",
       "dtype: int64"
      ]
     },
     "metadata": {},
     "execution_count": 11
    }
   ],
   "source": [
    "DC_311_2019_fems['add_month'] = DC_311_2019_fems['dates'].dt.month\n",
    "DC_311_2019_fems.groupby('add_month').size()"
   ]
  },
  {
   "cell_type": "code",
   "execution_count": 12,
   "metadata": {},
   "outputs": [
    {
     "output_type": "stream",
     "name": "stderr",
     "text": [
      "<ipython-input-12-de5183375514>:1: SettingWithCopyWarning: \nA value is trying to be set on a copy of a slice from a DataFrame.\nTry using .loc[row_indexer,col_indexer] = value instead\n\nSee the caveats in the documentation: https://pandas.pydata.org/pandas-docs/stable/user_guide/indexing.html#returning-a-view-versus-a-copy\n  DC_311_2020_fems['dates'] = pd.to_datetime(DC_311_2020_fems['ADDDATE'], format='%Y/%m/%d')\n<ipython-input-12-de5183375514>:2: SettingWithCopyWarning: \nA value is trying to be set on a copy of a slice from a DataFrame.\nTry using .loc[row_indexer,col_indexer] = value instead\n\nSee the caveats in the documentation: https://pandas.pydata.org/pandas-docs/stable/user_guide/indexing.html#returning-a-view-versus-a-copy\n  DC_311_2020_fems['add_month'] = DC_311_2020_fems['dates'].dt.month\n"
     ]
    },
    {
     "output_type": "execute_result",
     "data": {
      "text/plain": [
       "add_month\n",
       "1    55\n",
       "2    72\n",
       "3    30\n",
       "4     3\n",
       "dtype: int64"
      ]
     },
     "metadata": {},
     "execution_count": 12
    }
   ],
   "source": [
    "DC_311_2020_fems['dates'] = pd.to_datetime(DC_311_2020_fems['ADDDATE'], format='%Y/%m/%d')\n",
    "DC_311_2020_fems['add_month'] = DC_311_2020_fems['dates'].dt.month\n",
    "DC_311_2020_fems.groupby('add_month').size()"
   ]
  },
  {
   "cell_type": "code",
   "execution_count": null,
   "metadata": {},
   "outputs": [],
   "source": []
  }
 ]
}
{
 "metadata": {
  "language_info": {
   "codemirror_mode": {
    "name": "ipython",
    "version": 3
   },
   "file_extension": ".py",
   "mimetype": "text/x-python",
   "name": "python",
   "nbconvert_exporter": "python",
   "pygments_lexer": "ipython3",
   "version": "3.8.5-final"
  },
  "orig_nbformat": 2,
  "kernelspec": {
   "name": "python385jvsc74a57bd0f5c9dfabb21bd2a91b63810df81acbdc6b5e617e45414f0ef050ca96090c868f",
   "display_name": "Python 3.8.5 64-bit ('myenv': conda)"
  }
 },
 "nbformat": 4,
 "nbformat_minor": 2,
 "cells": [
  {
   "source": [
    "## DC 311 Requests Analysis\n",
    "1. Analyze the # of 311 requests for each type before and after lock down (March 2020)\n",
    "2. Exploratay analysis on FEMS requests"
   ],
   "cell_type": "markdown",
   "metadata": {}
  },
  {
   "source": [
    "### Some findings:\n",
    "1. 50 types of service requests changed significantly after lock down (p-val <0.05)\n",
    "2. t-test results can be found at the result directory (../result/DC_service_type_ttest.csv) \n",
    "3. Box plots can be found at the figure directory (../figure/DC_ServiceTypeBoxPlt/)\n",
    "4. The #311 requests that were assigned to FEMS decreased in 2020\n",
    "5. There were no requests assigned to FEMS after April 2020 (maybe the procedure has been changed because of COVID-19)"
   ],
   "cell_type": "markdown",
   "metadata": {}
  },
  {
   "cell_type": "code",
   "execution_count": 1,
   "metadata": {},
   "outputs": [],
   "source": [
    "import numpy as np\n",
    "import pandas as pd\n",
    "import os\n",
    "import re\n",
    "import glob\n",
    "import csv\n",
    "import warnings\n",
    "import matplotlib\n",
    "import matplotlib.pyplot as plt\n",
    "import seaborn as sns\n",
    "from scipy import stats\n",
    "import math\n",
    "warnings.filterwarnings(\"ignore\")\n",
    "DC_311_2019 = '/Users/julia/Box/Data_311/DMV_311/DMV_nonEM/DC/311_Washington_DC_2019.csv'\n",
    "DC_311_2020 = '/Users/julia/Box/Data_311/DMV_311/DMV_nonEM/DC/311_Washington_DC_2020.csv'"
   ]
  },
  {
   "source": [
    "### All 311 Requests in D.C during 2019 to 2020"
   ],
   "cell_type": "markdown",
   "metadata": {}
  },
  {
   "source": [
    "1. DC 2019"
   ],
   "cell_type": "markdown",
   "metadata": {}
  },
  {
   "cell_type": "code",
   "execution_count": 2,
   "metadata": {},
   "outputs": [
    {
     "output_type": "stream",
     "name": "stdout",
     "text": [
      "#311 reports between 2019-01-01 05:15:41+00:00 and 2019-12-31 23:59:53+00:00: 364928\n"
     ]
    }
   ],
   "source": [
    "DC_311_2019_df = pd.read_csv(DC_311_2019)\n",
    "DC_311_2019_df['opened_date'] = pd.to_datetime(DC_311_2019_df['ADDDATE'], format='%Y/%m/%d %H:%M:%S')\n",
    "DC_311_2019_df = DC_311_2019_df.loc[ DC_311_2019_df['opened_date'].dt.year == 2019]\n",
    "DC_311_2019_df.drop_duplicates(subset=['OBJECTID'], inplace = True)\n",
    "min_date = min(DC_311_2019_df['opened_date'])\n",
    "max_date = max(DC_311_2019_df['opened_date'])\n",
    "print(\"#311 reports between \" + str(min_date) + \" and \" + str(max_date) + \": \" + str(DC_311_2019_df.shape[0]))"
   ]
  },
  {
   "cell_type": "code",
   "execution_count": 3,
   "metadata": {},
   "outputs": [
    {
     "output_type": "stream",
     "name": "stdout",
     "text": [
      "Index(['X', 'Y', 'OBJECTID', 'SERVICECODE', 'SERVICECODEDESCRIPTION',\n       'SERVICETYPECODEDESCRIPTION', 'ORGANIZATIONACRONYM', 'SERVICECALLCOUNT',\n       'ADDDATE', 'RESOLUTIONDATE', 'SERVICEDUEDATE', 'SERVICEORDERDATE',\n       'INSPECTIONFLAG', 'INSPECTIONDATE', 'INSPECTORNAME',\n       'SERVICEORDERSTATUS', 'STATUS_CODE', 'SERVICEREQUESTID', 'PRIORITY',\n       'STREETADDRESS', 'XCOORD', 'YCOORD', 'LATITUDE', 'LONGITUDE', 'CITY',\n       'STATE', 'ZIPCODE', 'MARADDRESSREPOSITORYID', 'WARD', 'DETAILS',\n       'opened_date'],\n      dtype='object')\n"
     ]
    }
   ],
   "source": [
    "print(DC_311_2019_df.columns)"
   ]
  },
  {
   "cell_type": "code",
   "execution_count": 4,
   "metadata": {},
   "outputs": [
    {
     "output_type": "stream",
     "name": "stdout",
     "text": [
      "#311 reports between 2020-01-01 05:00:38+00:00 and 2020-12-31 23:56:22+00:00: 304718\n"
     ]
    }
   ],
   "source": [
    "DC_311_2020_df = pd.read_csv(DC_311_2020)\n",
    "DC_311_2020_df['opened_date'] = pd.to_datetime(DC_311_2020_df['ADDDATE'], format='%Y/%m/%d %H:%M:%S')\n",
    "DC_311_2020_df = DC_311_2020_df.loc[ DC_311_2020_df['opened_date'].dt.year == 2020]\n",
    "DC_311_2020_df.drop_duplicates(subset=['OBJECTID'], inplace = True)\n",
    "min_date = min(DC_311_2020_df['opened_date'])\n",
    "max_date = max(DC_311_2020_df['opened_date'])\n",
    "print(\"#311 reports between \" + str(min_date) + \" and \" + str(max_date) + \": \" + str(DC_311_2020_df.shape[0]))"
   ]
  },
  {
   "cell_type": "code",
   "execution_count": 5,
   "metadata": {},
   "outputs": [],
   "source": [
    "service_desc_2019 = DC_311_2019_df['SERVICECODEDESCRIPTION'].unique().tolist()\n",
    "service_desc_2020 = DC_311_2020_df['SERVICECODEDESCRIPTION'].unique().tolist()"
   ]
  },
  {
   "cell_type": "code",
   "execution_count": 6,
   "metadata": {},
   "outputs": [
    {
     "output_type": "stream",
     "name": "stdout",
     "text": [
      "133\n"
     ]
    }
   ],
   "source": [
    "print(len(service_desc_2019))"
   ]
  },
  {
   "cell_type": "code",
   "execution_count": 7,
   "metadata": {},
   "outputs": [
    {
     "output_type": "stream",
     "name": "stdout",
     "text": [
      "122\n"
     ]
    }
   ],
   "source": [
    "print(len(service_desc_2020))"
   ]
  },
  {
   "cell_type": "code",
   "execution_count": 8,
   "metadata": {},
   "outputs": [
    {
     "output_type": "stream",
     "name": "stdout",
     "text": [
      "113\n"
     ]
    },
    {
     "output_type": "execute_result",
     "data": {
      "text/plain": [
       "{'311Force Reported Issues',\n",
       " 'Abandoned Bicycle',\n",
       " 'Abandoned Vehicle - On Private Property',\n",
       " 'Abandoned Vehicle - On Public Property',\n",
       " 'Alley Cleaning',\n",
       " 'Alley Repair',\n",
       " 'Bicycle Services',\n",
       " 'Bulk Collection',\n",
       " 'Bus/Rail Issues',\n",
       " 'Christmas Tree Collection Concerns',\n",
       " 'Christmas Tree Removal-Seasonal',\n",
       " 'Container Removal',\n",
       " 'DC Facilities Landscaping and Grounds Maintenance(DGS)',\n",
       " 'DC Government Information',\n",
       " 'DCRA - Illegal Construction',\n",
       " 'DCRA - Vacant Private Property Inspection',\n",
       " 'DFHV - For Hire Vehicle Concerns',\n",
       " 'DFHV - Lost and Found Claims (DC Taxi)',\n",
       " 'DMV - Adjudication Supervisor',\n",
       " 'DMV - Appeal',\n",
       " 'DMV - Copy of Ticket',\n",
       " 'DMV - Driver Record Issues',\n",
       " 'DMV - Driver and Vehicle Services Refund',\n",
       " 'DMV - Drivers License/ID Issues',\n",
       " 'DMV - Drivers License/ID Reinstatement',\n",
       " 'DMV - Forms, Applications, and Manuals Request',\n",
       " 'DMV - Hearings',\n",
       " 'DMV - Online Processing Issues',\n",
       " 'DMV - Processing Center Manager',\n",
       " 'DMV - Refunds - Tickets',\n",
       " 'DMV - Ticket Payment Dispute',\n",
       " 'DMV - Vehicle Inspection Issues',\n",
       " 'DMV - Vehicle Insurance Lapse',\n",
       " 'DMV - Vehicle Registration Issues',\n",
       " 'DMV - Vehicle Title Issues',\n",
       " 'DMV - eTIMS Ticket Alert Services Issues',\n",
       " 'DOEE - Bag Law Tips',\n",
       " 'DOEE - Construction – Erosion Runoff',\n",
       " 'DOEE - Engine Idling Tips',\n",
       " 'DOEE - Foam Ban / Food Service Ware Requirements',\n",
       " 'DOEE - Nuisance Odor Complaints',\n",
       " 'DOEE - Reporting Electronics in Trash',\n",
       " 'Dead Animal Collection',\n",
       " 'Emergency - Flooding',\n",
       " 'Emergency - Power Outage/Wires Down',\n",
       " 'Emergency - Senior Assistance',\n",
       " 'Emergency No-Parking Verification',\n",
       " 'FEMS - Community Events',\n",
       " 'FEMS - Fire Safety Education',\n",
       " 'FEMS - Fire Safety Inspection',\n",
       " 'FEMS - Smoke Alarm Application',\n",
       " 'Graffiti Removal',\n",
       " 'Grass and Weeds Mowing',\n",
       " 'How Is My Driving - Complaint',\n",
       " 'How Is My Driving - Compliment',\n",
       " 'Hypothermia Shelter Information',\n",
       " 'Illegal Dumping',\n",
       " 'Illegal Poster',\n",
       " 'Insect Treatment',\n",
       " 'Issue',\n",
       " 'Leaf Season Collection',\n",
       " 'Neighborhood Clean-Up',\n",
       " 'Out of State Parking Violation (ROSA)',\n",
       " 'Parking Enforcement',\n",
       " 'Parking Meter Repair',\n",
       " 'Pet Waste Complaint',\n",
       " 'Playground Maintenance',\n",
       " 'Pothole',\n",
       " 'Public Space Litter Can- Installation/Removal/Repair',\n",
       " 'Public Space Litter Can-Collection',\n",
       " 'Rat Replacement Containers',\n",
       " 'Recycling - Commercial Only',\n",
       " 'Recycling - School Program',\n",
       " 'Recycling Cart - Repair',\n",
       " 'Recycling Cart Delivery',\n",
       " 'Recycling Collection - Missed',\n",
       " 'Recycling- Information Request',\n",
       " 'Resident Parking Permit',\n",
       " 'Residential Parking Permit Violation',\n",
       " 'Roadway Repair',\n",
       " 'Roadway Signs',\n",
       " 'Roadway Striping / Markings',\n",
       " 'Rodent Inspection and Treatment',\n",
       " 'Sanitation Enforcement',\n",
       " 'Sidewalk Repair',\n",
       " 'Signed Street Sweeping Missed',\n",
       " 'Snow Metro Bus Shelter/Stop',\n",
       " 'Snow Other (Snow Vehicle / Property Damage)',\n",
       " 'Snow Removal Complaints for Sidewalks',\n",
       " 'Snow Sidewalk Shoveling Enforcement Exemption',\n",
       " 'Snow Towing',\n",
       " 'Snow/Ice Removal',\n",
       " 'Snow/Ice Removal (Roadways AND Bridge walkways ONLY)',\n",
       " 'Street Cleaning',\n",
       " 'Streetlight Repair Investigation',\n",
       " 'Supercan - Delivery',\n",
       " 'Supercan - Repair',\n",
       " 'Test',\n",
       " 'Test Animal - Vaccination Investigation - DAS',\n",
       " 'Ticket Ombudsman',\n",
       " 'Traffic Safety Investigation',\n",
       " 'Traffic Signal Issue',\n",
       " 'Trash Cart - Delivery',\n",
       " 'Trash Cart Repair',\n",
       " 'Trash Collection - Missed',\n",
       " 'Tree Inspection',\n",
       " 'Tree Planting',\n",
       " 'Tree Pruning',\n",
       " 'Tree Removal',\n",
       " 'Utility Repair Issue',\n",
       " 'Vacant Lot - Public Property Only',\n",
       " 'Wire Down/Power Outage',\n",
       " 'Yard Waste - Missed'}"
      ]
     },
     "metadata": {},
     "execution_count": 8
    }
   ],
   "source": [
    "intersect_service_desc = set(service_desc_2019) & set(service_desc_2020)\n",
    "print(len(intersect_service_desc))\n",
    "intersect_service_desc"
   ]
  },
  {
   "source": [
    "#### Difference of service description between 2019 and 2020"
   ],
   "cell_type": "markdown",
   "metadata": {}
  },
  {
   "cell_type": "code",
   "execution_count": 9,
   "metadata": {},
   "outputs": [
    {
     "output_type": "stream",
     "name": "stdout",
     "text": [
      "29\n"
     ]
    },
    {
     "output_type": "execute_result",
     "data": {
      "text/plain": [
       "{'Automation Activity',\n",
       " 'Automation Activity Outcome',\n",
       " 'Automation All Questions',\n",
       " 'Automation Auto Close',\n",
       " 'Automation Dep Picklist',\n",
       " 'Automation Reallocate',\n",
       " 'Automation Schedule',\n",
       " 'Child Safety Seat Program',\n",
       " 'Christmas Tree Removal-Missed',\n",
       " 'Coronavirus (COVID-19) Mass Gathering Tracking',\n",
       " 'DC Facilities Landscaping and Grounds Maintenance',\n",
       " 'DDS - Improper Use of Restraints',\n",
       " 'DGS-SRT-TEST',\n",
       " 'DMV - Offset Tracking',\n",
       " 'DOEE - Energy Benchmarking',\n",
       " 'DOEE – Foam and Straw Ban',\n",
       " 'FEMS - Honor Guard',\n",
       " 'Illegal Fireworks',\n",
       " 'Junk Motor Vehicle - CCS',\n",
       " 'OUC NYE Test',\n",
       " 'Quarantine Resource and Service Request (COVID-19)',\n",
       " 'Rodent Inspection and Treatment- Follow Up',\n",
       " 'Sample SR',\n",
       " 'Shut the Door (DOEE)',\n",
       " 'Snow Ticket Reimbursement',\n",
       " 'Streetcar',\n",
       " 'Test-Automation Activity',\n",
       " 'Test-Provar-Service-Question',\n",
       " 'Test-SW-Bulk Scheduled'}"
      ]
     },
     "metadata": {},
     "execution_count": 9
    }
   ],
   "source": [
    "sym_diff_service_desc = set(service_desc_2019) ^ set(service_desc_2020)\n",
    "print(len(sym_diff_service_desc))\n",
    "sym_diff_service_desc"
   ]
  },
  {
   "cell_type": "code",
   "execution_count": 10,
   "metadata": {},
   "outputs": [
    {
     "output_type": "stream",
     "name": "stdout",
     "text": [
      "20\n"
     ]
    }
   ],
   "source": [
    "diff_service_desc_2019 =  set(service_desc_2019) - set(service_desc_2020)\n",
    "print(len(diff_service_desc_2019))\n",
    "diff_service_desc_2019_ls = list(diff_service_desc_2019)"
   ]
  },
  {
   "cell_type": "code",
   "execution_count": 11,
   "metadata": {},
   "outputs": [
    {
     "output_type": "execute_result",
     "data": {
      "text/plain": [
       "SERVICECODEDESCRIPTION\n",
       "Automation Activity                                   9\n",
       "Automation Activity Outcome                           6\n",
       "Automation All Questions                              1\n",
       "Automation Auto Close                                 1\n",
       "Automation Dep Picklist                               1\n",
       "Automation Reallocate                                 2\n",
       "Automation Schedule                                  10\n",
       "Child Safety Seat Program                             8\n",
       "DC Facilities Landscaping and Grounds Maintenance    15\n",
       "DDS - Improper Use of Restraints                      2\n",
       "DGS-SRT-TEST                                          2\n",
       "DMV - Offset Tracking                                 9\n",
       "DOEE - Energy Benchmarking                            1\n",
       "DOEE – Foam and Straw Ban                            49\n",
       "FEMS - Honor Guard                                    1\n",
       "Junk Motor Vehicle - CCS                              4\n",
       "OUC NYE Test                                          1\n",
       "Rodent Inspection and Treatment- Follow Up            9\n",
       "Shut the Door (DOEE)                                 60\n",
       "Streetcar                                             3\n",
       "dtype: int64"
      ]
     },
     "metadata": {},
     "execution_count": 11
    }
   ],
   "source": [
    "DC_311_2019_df.loc[DC_311_2019_df['SERVICECODEDESCRIPTION'].isin(diff_service_desc_2019_ls)].groupby('SERVICECODEDESCRIPTION').size()"
   ]
  },
  {
   "cell_type": "code",
   "execution_count": 12,
   "metadata": {},
   "outputs": [
    {
     "output_type": "stream",
     "name": "stdout",
     "text": [
      "9\n"
     ]
    }
   ],
   "source": [
    "diff_service_desc_2020 =  set(service_desc_2020) - set(service_desc_2019) \n",
    "print(len(diff_service_desc_2020))\n",
    "diff_service_desc_2020_ls = list(diff_service_desc_2020)"
   ]
  },
  {
   "cell_type": "code",
   "execution_count": 13,
   "metadata": {},
   "outputs": [
    {
     "output_type": "execute_result",
     "data": {
      "text/plain": [
       "SERVICECODEDESCRIPTION\n",
       "Christmas Tree Removal-Missed                          101\n",
       "Coronavirus (COVID-19) Mass Gathering Tracking        1152\n",
       "Illegal Fireworks                                      151\n",
       "Quarantine Resource and Service Request (COVID-19)      17\n",
       "Sample SR                                                9\n",
       "Snow Ticket Reimbursement                                1\n",
       "Test-Automation Activity                                 3\n",
       "Test-Provar-Service-Question                             2\n",
       "Test-SW-Bulk Scheduled                                  10\n",
       "dtype: int64"
      ]
     },
     "metadata": {},
     "execution_count": 13
    }
   ],
   "source": [
    "DC_311_2020_df.loc[DC_311_2020_df['SERVICECODEDESCRIPTION'].isin(diff_service_desc_2020_ls)].groupby('SERVICECODEDESCRIPTION').size()"
   ]
  },
  {
   "cell_type": "code",
   "execution_count": 14,
   "metadata": {},
   "outputs": [
    {
     "output_type": "execute_result",
     "data": {
      "text/plain": [
       "array(['SWMA- Solid Waste Management Admistration',\n",
       "       'Transportation Operations Administration',\n",
       "       'PEMA- Parking Enforcement Management Administration',\n",
       "       'Urban Forrestry', 'Department of Energy and Environment',\n",
       "       'DOH- Department Of Health', 'Toa-Street & Bridge Maintenance',\n",
       "       'Toa-Trans Sys Mnt-Signs', 'SIOD', 'SNOW', 'FEMS-Smoke Alarms',\n",
       "       'Department of Transportation', 'Toa- Trans Sys Mnt',\n",
       "       'Driver Vehicle Services', 'Adjudication Services',\n",
       "       'Transportation Policy & Planning Administration',\n",
       "       'HOMYDRPR- How Is My Driving Program', 'FEMS-Special Events',\n",
       "       '311- Call Center', '311- Emergencies', nan,\n",
       "       'Dept of Consumer & Regulatory Affairs',\n",
       "       'Department of Disability Services', 'FEMS',\n",
       "       'DFHV - Department of For-Hire Vehicles'], dtype=object)"
      ]
     },
     "metadata": {},
     "execution_count": 14
    }
   ],
   "source": [
    "DC_311_2019_df['SERVICETYPECODEDESCRIPTION'].unique()"
   ]
  },
  {
   "cell_type": "code",
   "execution_count": 15,
   "metadata": {},
   "outputs": [
    {
     "output_type": "execute_result",
     "data": {
      "text/plain": [
       "array(['Transportation Operations Administration',\n",
       "       'DOH- Department Of Health',\n",
       "       'SWMA- Solid Waste Management Admistration',\n",
       "       'PEMA- Parking Enforcement Management Administration',\n",
       "       'Department of Energy and Environment', 'Toa-Trans Sys Mnt-Signs',\n",
       "       'Toa-Street & Bridge Maintenance', 'Urban Forrestry',\n",
       "       '311- Call Center', 'SIOD', 'Driver Vehicle Services',\n",
       "       'Dept of Consumer & Regulatory Affairs', 'Toa- Trans Sys Mnt',\n",
       "       'Adjudication Services', 'Department of Transportation',\n",
       "       'Transportation Policy & Planning Administration', 'SNOW', nan,\n",
       "       'HOMYDRPR- How Is My Driving Program', 'FEMS-Smoke Alarms', 'FEMS',\n",
       "       'FEMS-Special Events', 'DFHV - Department of For-Hire Vehicles',\n",
       "       '311- Emergencies', 'OUC - SNOW'], dtype=object)"
      ]
     },
     "metadata": {},
     "execution_count": 15
    }
   ],
   "source": [
    "DC_311_2020_df['SERVICETYPECODEDESCRIPTION'].unique()"
   ]
  },
  {
   "cell_type": "code",
   "execution_count": 16,
   "metadata": {},
   "outputs": [
    {
     "output_type": "execute_result",
     "data": {
      "text/plain": [
       "                 SERVICECODEDESCRIPTION  2019_1  2019_2  2019_3  2019_4  \\\n",
       "0                       Bulk Collection    3979    3412    4601    5298   \n",
       "1                   Parking Enforcement    2825    2759    4167    4454   \n",
       "2                  Parking Meter Repair    3164    2883    3263    3452   \n",
       "3     Emergency No-Parking Verification    1172    1277    1347    1807   \n",
       "4                               Pothole    2007    3267    3863    1153   \n",
       "5             Trash Collection - Missed    2025     791     739     984   \n",
       "6                         Roadway Signs    1055    1138    1050    1357   \n",
       "7                       Illegal Dumping    1203    1210     882     832   \n",
       "8  Residential Parking Permit Violation     812     710    1018    1117   \n",
       "9                Sanitation Enforcement     834     832     738     803   \n",
       "\n",
       "   2019_5  2019_6  2019_7  2019_8  2019_9  2019_10  2019_11  2019_12  \\\n",
       "0    5563    5290    5437    4933    4464     4316     3816     4635   \n",
       "1    4974    4239    4152    4354    4092     4188     2950     3167   \n",
       "2    3066    2269    1926    2670    2341     2079     1862     2750   \n",
       "3    1833    2018    2011    2120    1894     1785     1349     1158   \n",
       "4     887     628     506     436     234      283      303      545   \n",
       "5    1113    1253    1798    1264     878      987      928     1098   \n",
       "6    1198    1296    1453    1132     796     1044      856      826   \n",
       "7     947    1062    1254    1107     994      930      903     1012   \n",
       "8    1327    1022    1061    1222    1114     1123      898      855   \n",
       "9    1158    1112    1218    1055     908      725      600      634   \n",
       "\n",
       "   total #reports_2019  \n",
       "0                55744  \n",
       "1                46321  \n",
       "2                31725  \n",
       "3                19771  \n",
       "4                14112  \n",
       "5                13858  \n",
       "6                13201  \n",
       "7                12336  \n",
       "8                12279  \n",
       "9                10617  "
      ],
      "text/html": "<div>\n<style scoped>\n    .dataframe tbody tr th:only-of-type {\n        vertical-align: middle;\n    }\n\n    .dataframe tbody tr th {\n        vertical-align: top;\n    }\n\n    .dataframe thead th {\n        text-align: right;\n    }\n</style>\n<table border=\"1\" class=\"dataframe\">\n  <thead>\n    <tr style=\"text-align: right;\">\n      <th></th>\n      <th>SERVICECODEDESCRIPTION</th>\n      <th>2019_1</th>\n      <th>2019_2</th>\n      <th>2019_3</th>\n      <th>2019_4</th>\n      <th>2019_5</th>\n      <th>2019_6</th>\n      <th>2019_7</th>\n      <th>2019_8</th>\n      <th>2019_9</th>\n      <th>2019_10</th>\n      <th>2019_11</th>\n      <th>2019_12</th>\n      <th>total #reports_2019</th>\n    </tr>\n  </thead>\n  <tbody>\n    <tr>\n      <th>0</th>\n      <td>Bulk Collection</td>\n      <td>3979</td>\n      <td>3412</td>\n      <td>4601</td>\n      <td>5298</td>\n      <td>5563</td>\n      <td>5290</td>\n      <td>5437</td>\n      <td>4933</td>\n      <td>4464</td>\n      <td>4316</td>\n      <td>3816</td>\n      <td>4635</td>\n      <td>55744</td>\n    </tr>\n    <tr>\n      <th>1</th>\n      <td>Parking Enforcement</td>\n      <td>2825</td>\n      <td>2759</td>\n      <td>4167</td>\n      <td>4454</td>\n      <td>4974</td>\n      <td>4239</td>\n      <td>4152</td>\n      <td>4354</td>\n      <td>4092</td>\n      <td>4188</td>\n      <td>2950</td>\n      <td>3167</td>\n      <td>46321</td>\n    </tr>\n    <tr>\n      <th>2</th>\n      <td>Parking Meter Repair</td>\n      <td>3164</td>\n      <td>2883</td>\n      <td>3263</td>\n      <td>3452</td>\n      <td>3066</td>\n      <td>2269</td>\n      <td>1926</td>\n      <td>2670</td>\n      <td>2341</td>\n      <td>2079</td>\n      <td>1862</td>\n      <td>2750</td>\n      <td>31725</td>\n    </tr>\n    <tr>\n      <th>3</th>\n      <td>Emergency No-Parking Verification</td>\n      <td>1172</td>\n      <td>1277</td>\n      <td>1347</td>\n      <td>1807</td>\n      <td>1833</td>\n      <td>2018</td>\n      <td>2011</td>\n      <td>2120</td>\n      <td>1894</td>\n      <td>1785</td>\n      <td>1349</td>\n      <td>1158</td>\n      <td>19771</td>\n    </tr>\n    <tr>\n      <th>4</th>\n      <td>Pothole</td>\n      <td>2007</td>\n      <td>3267</td>\n      <td>3863</td>\n      <td>1153</td>\n      <td>887</td>\n      <td>628</td>\n      <td>506</td>\n      <td>436</td>\n      <td>234</td>\n      <td>283</td>\n      <td>303</td>\n      <td>545</td>\n      <td>14112</td>\n    </tr>\n    <tr>\n      <th>5</th>\n      <td>Trash Collection - Missed</td>\n      <td>2025</td>\n      <td>791</td>\n      <td>739</td>\n      <td>984</td>\n      <td>1113</td>\n      <td>1253</td>\n      <td>1798</td>\n      <td>1264</td>\n      <td>878</td>\n      <td>987</td>\n      <td>928</td>\n      <td>1098</td>\n      <td>13858</td>\n    </tr>\n    <tr>\n      <th>6</th>\n      <td>Roadway Signs</td>\n      <td>1055</td>\n      <td>1138</td>\n      <td>1050</td>\n      <td>1357</td>\n      <td>1198</td>\n      <td>1296</td>\n      <td>1453</td>\n      <td>1132</td>\n      <td>796</td>\n      <td>1044</td>\n      <td>856</td>\n      <td>826</td>\n      <td>13201</td>\n    </tr>\n    <tr>\n      <th>7</th>\n      <td>Illegal Dumping</td>\n      <td>1203</td>\n      <td>1210</td>\n      <td>882</td>\n      <td>832</td>\n      <td>947</td>\n      <td>1062</td>\n      <td>1254</td>\n      <td>1107</td>\n      <td>994</td>\n      <td>930</td>\n      <td>903</td>\n      <td>1012</td>\n      <td>12336</td>\n    </tr>\n    <tr>\n      <th>8</th>\n      <td>Residential Parking Permit Violation</td>\n      <td>812</td>\n      <td>710</td>\n      <td>1018</td>\n      <td>1117</td>\n      <td>1327</td>\n      <td>1022</td>\n      <td>1061</td>\n      <td>1222</td>\n      <td>1114</td>\n      <td>1123</td>\n      <td>898</td>\n      <td>855</td>\n      <td>12279</td>\n    </tr>\n    <tr>\n      <th>9</th>\n      <td>Sanitation Enforcement</td>\n      <td>834</td>\n      <td>832</td>\n      <td>738</td>\n      <td>803</td>\n      <td>1158</td>\n      <td>1112</td>\n      <td>1218</td>\n      <td>1055</td>\n      <td>908</td>\n      <td>725</td>\n      <td>600</td>\n      <td>634</td>\n      <td>10617</td>\n    </tr>\n  </tbody>\n</table>\n</div>"
     },
     "metadata": {},
     "execution_count": 16
    }
   ],
   "source": [
    "DC_311_2019_df['added_month'] = DC_311_2019_df['opened_date'].dt.month\n",
    "df = DC_311_2019_df.groupby(['added_month','SERVICECODEDESCRIPTION']).size().reset_index(name='count')\n",
    "service_count_2019 = pd.DataFrame(columns = df['added_month'].unique().tolist(), index = df['SERVICECODEDESCRIPTION'].unique().tolist())\n",
    "for row in range(df.shape[0]):\n",
    "    setvice_type = df.at[row, 'SERVICECODEDESCRIPTION']\n",
    "    month = df.at[row, 'added_month']\n",
    "    service_count_2019.at[setvice_type, month] = df.at[row, 'count']\n",
    "service_count_2019.fillna(0, inplace = True)\n",
    "service_count_2019 = service_count_2019.add_prefix('2019_')\n",
    "service_count_2019['total #reports_2019'] = service_count_2019.sum(axis=1)\n",
    "service_count_2019.sort_values(by = 'total #reports_2019', ascending=False, inplace=True)\n",
    "service_count_2019.reset_index(inplace=True)\n",
    "service_count_2019.rename(columns = {'index': 'SERVICECODEDESCRIPTION'}, inplace = True)\n",
    "service_count_2019.head(10)\n"
   ]
  },
  {
   "cell_type": "code",
   "execution_count": 17,
   "metadata": {},
   "outputs": [
    {
     "output_type": "execute_result",
     "data": {
      "text/plain": [
       "             SERVICECODEDESCRIPTION  2020_1  2020_2  2020_3  2020_4  2020_5  \\\n",
       "0                   Bulk Collection    4533    3495    4518    4868    6409   \n",
       "1               Parking Enforcement    3063    3015    2485    1291    1295   \n",
       "2         Trash Collection - Missed    1444     781     977    1219    1131   \n",
       "3                   Illegal Dumping    1165     941     748     727    1024   \n",
       "4         DC Government Information     151      65     934    1276    1080   \n",
       "5                     Roadway Signs    1124    1421    1112    1508     867   \n",
       "6  Streetlight Repair Investigation     878     797     555     605     681   \n",
       "7   Rodent Inspection and Treatment     502     507     467     659     938   \n",
       "8              Parking Meter Repair    2174    2096    1215     136     198   \n",
       "9            Sanitation Enforcement     885     721     636     589     742   \n",
       "\n",
       "   2020_6  2020_7  2020_8  2020_9  2020_10  2020_11  2020_12  \\\n",
       "0    6463    6759    6613    6442     5665     5301     5269   \n",
       "1    1511    1559    1772    1749     2118     1493     1590   \n",
       "2    1328    1597    1842    1458     1392     1434     1254   \n",
       "3    1146    1293    1365    1394     1112      810     1083   \n",
       "4    1313    1333    1201     995     1294      896     1008   \n",
       "5     618     841     763     970      745      698      659   \n",
       "6     744     865     861     921      887     1027      968   \n",
       "7     990     917     863     910      846      638      515   \n",
       "8     313     336     360     440      410      311      176   \n",
       "9     675     719     773     780      547      403      492   \n",
       "\n",
       "   total #reports_2020  \n",
       "0                66335  \n",
       "1                22941  \n",
       "2                15857  \n",
       "3                12808  \n",
       "4                11546  \n",
       "5                11326  \n",
       "6                 9789  \n",
       "7                 8752  \n",
       "8                 8165  \n",
       "9                 7962  "
      ],
      "text/html": "<div>\n<style scoped>\n    .dataframe tbody tr th:only-of-type {\n        vertical-align: middle;\n    }\n\n    .dataframe tbody tr th {\n        vertical-align: top;\n    }\n\n    .dataframe thead th {\n        text-align: right;\n    }\n</style>\n<table border=\"1\" class=\"dataframe\">\n  <thead>\n    <tr style=\"text-align: right;\">\n      <th></th>\n      <th>SERVICECODEDESCRIPTION</th>\n      <th>2020_1</th>\n      <th>2020_2</th>\n      <th>2020_3</th>\n      <th>2020_4</th>\n      <th>2020_5</th>\n      <th>2020_6</th>\n      <th>2020_7</th>\n      <th>2020_8</th>\n      <th>2020_9</th>\n      <th>2020_10</th>\n      <th>2020_11</th>\n      <th>2020_12</th>\n      <th>total #reports_2020</th>\n    </tr>\n  </thead>\n  <tbody>\n    <tr>\n      <th>0</th>\n      <td>Bulk Collection</td>\n      <td>4533</td>\n      <td>3495</td>\n      <td>4518</td>\n      <td>4868</td>\n      <td>6409</td>\n      <td>6463</td>\n      <td>6759</td>\n      <td>6613</td>\n      <td>6442</td>\n      <td>5665</td>\n      <td>5301</td>\n      <td>5269</td>\n      <td>66335</td>\n    </tr>\n    <tr>\n      <th>1</th>\n      <td>Parking Enforcement</td>\n      <td>3063</td>\n      <td>3015</td>\n      <td>2485</td>\n      <td>1291</td>\n      <td>1295</td>\n      <td>1511</td>\n      <td>1559</td>\n      <td>1772</td>\n      <td>1749</td>\n      <td>2118</td>\n      <td>1493</td>\n      <td>1590</td>\n      <td>22941</td>\n    </tr>\n    <tr>\n      <th>2</th>\n      <td>Trash Collection - Missed</td>\n      <td>1444</td>\n      <td>781</td>\n      <td>977</td>\n      <td>1219</td>\n      <td>1131</td>\n      <td>1328</td>\n      <td>1597</td>\n      <td>1842</td>\n      <td>1458</td>\n      <td>1392</td>\n      <td>1434</td>\n      <td>1254</td>\n      <td>15857</td>\n    </tr>\n    <tr>\n      <th>3</th>\n      <td>Illegal Dumping</td>\n      <td>1165</td>\n      <td>941</td>\n      <td>748</td>\n      <td>727</td>\n      <td>1024</td>\n      <td>1146</td>\n      <td>1293</td>\n      <td>1365</td>\n      <td>1394</td>\n      <td>1112</td>\n      <td>810</td>\n      <td>1083</td>\n      <td>12808</td>\n    </tr>\n    <tr>\n      <th>4</th>\n      <td>DC Government Information</td>\n      <td>151</td>\n      <td>65</td>\n      <td>934</td>\n      <td>1276</td>\n      <td>1080</td>\n      <td>1313</td>\n      <td>1333</td>\n      <td>1201</td>\n      <td>995</td>\n      <td>1294</td>\n      <td>896</td>\n      <td>1008</td>\n      <td>11546</td>\n    </tr>\n    <tr>\n      <th>5</th>\n      <td>Roadway Signs</td>\n      <td>1124</td>\n      <td>1421</td>\n      <td>1112</td>\n      <td>1508</td>\n      <td>867</td>\n      <td>618</td>\n      <td>841</td>\n      <td>763</td>\n      <td>970</td>\n      <td>745</td>\n      <td>698</td>\n      <td>659</td>\n      <td>11326</td>\n    </tr>\n    <tr>\n      <th>6</th>\n      <td>Streetlight Repair Investigation</td>\n      <td>878</td>\n      <td>797</td>\n      <td>555</td>\n      <td>605</td>\n      <td>681</td>\n      <td>744</td>\n      <td>865</td>\n      <td>861</td>\n      <td>921</td>\n      <td>887</td>\n      <td>1027</td>\n      <td>968</td>\n      <td>9789</td>\n    </tr>\n    <tr>\n      <th>7</th>\n      <td>Rodent Inspection and Treatment</td>\n      <td>502</td>\n      <td>507</td>\n      <td>467</td>\n      <td>659</td>\n      <td>938</td>\n      <td>990</td>\n      <td>917</td>\n      <td>863</td>\n      <td>910</td>\n      <td>846</td>\n      <td>638</td>\n      <td>515</td>\n      <td>8752</td>\n    </tr>\n    <tr>\n      <th>8</th>\n      <td>Parking Meter Repair</td>\n      <td>2174</td>\n      <td>2096</td>\n      <td>1215</td>\n      <td>136</td>\n      <td>198</td>\n      <td>313</td>\n      <td>336</td>\n      <td>360</td>\n      <td>440</td>\n      <td>410</td>\n      <td>311</td>\n      <td>176</td>\n      <td>8165</td>\n    </tr>\n    <tr>\n      <th>9</th>\n      <td>Sanitation Enforcement</td>\n      <td>885</td>\n      <td>721</td>\n      <td>636</td>\n      <td>589</td>\n      <td>742</td>\n      <td>675</td>\n      <td>719</td>\n      <td>773</td>\n      <td>780</td>\n      <td>547</td>\n      <td>403</td>\n      <td>492</td>\n      <td>7962</td>\n    </tr>\n  </tbody>\n</table>\n</div>"
     },
     "metadata": {},
     "execution_count": 17
    }
   ],
   "source": [
    "DC_311_2020_df['added_month'] = DC_311_2020_df['opened_date'].dt.month\n",
    "df = DC_311_2020_df.groupby(['added_month','SERVICECODEDESCRIPTION']).size().reset_index(name='count')\n",
    "service_count_2020 = pd.DataFrame(columns = df['added_month'].unique().tolist(), index = df['SERVICECODEDESCRIPTION'].unique().tolist())\n",
    "for row in range(df.shape[0]):\n",
    "    setvice_type = df.at[row, 'SERVICECODEDESCRIPTION']\n",
    "    month = df.at[row, 'added_month']\n",
    "    service_count_2020.at[setvice_type, month] = df.at[row, 'count']\n",
    "service_count_2020.fillna(0, inplace = True)\n",
    "service_count_2020 = service_count_2020.add_prefix('2020_')\n",
    "service_count_2020['total #reports_2020'] = service_count_2020.sum(axis=1)\n",
    "service_count_2020.sort_values(by = 'total #reports_2020', ascending=False, inplace=True)\n",
    "service_count_2020.reset_index(inplace=True)\n",
    "service_count_2020.rename(columns = {'index': 'SERVICECODEDESCRIPTION'}, inplace = True)\n",
    "service_count_2020.head(10)"
   ]
  },
  {
   "cell_type": "code",
   "execution_count": 18,
   "metadata": {},
   "outputs": [
    {
     "output_type": "execute_result",
     "data": {
      "text/plain": [
       "              SERVICECODEDESCRIPTION  2019_1  2019_2  2019_3  2019_4  2019_5  \\\n",
       "0                    Bulk Collection  3979.0  3412.0  4601.0  5298.0  5563.0   \n",
       "1                Parking Enforcement  2825.0  2759.0  4167.0  4454.0  4974.0   \n",
       "2               Parking Meter Repair  3164.0  2883.0  3263.0  3452.0  3066.0   \n",
       "3  Emergency No-Parking Verification  1172.0  1277.0  1347.0  1807.0  1833.0   \n",
       "4                            Pothole  2007.0  3267.0  3863.0  1153.0   887.0   \n",
       "\n",
       "   2019_6  2019_7  2019_8  2019_9  ...  2020_3  2020_4  2020_5  2020_6  \\\n",
       "0  5290.0  5437.0  4933.0  4464.0  ...  4518.0  4868.0  6409.0  6463.0   \n",
       "1  4239.0  4152.0  4354.0  4092.0  ...  2485.0  1291.0  1295.0  1511.0   \n",
       "2  2269.0  1926.0  2670.0  2341.0  ...  1215.0   136.0   198.0   313.0   \n",
       "3  2018.0  2011.0  2120.0  1894.0  ...  1651.0   133.0     4.0     3.0   \n",
       "4   628.0   506.0   436.0   234.0  ...   490.0   283.0   335.0   245.0   \n",
       "\n",
       "   2020_7  2020_8  2020_9  2020_10  2020_11  2020_12  \n",
       "0  6759.0  6613.0  6442.0   5665.0   5301.0   5269.0  \n",
       "1  1559.0  1772.0  1749.0   2118.0   1493.0   1590.0  \n",
       "2   336.0   360.0   440.0    410.0    311.0    176.0  \n",
       "3    67.0    87.0    59.0      3.0      4.0     11.0  \n",
       "4   214.0   285.0   199.0    158.0    150.0    227.0  \n",
       "\n",
       "[5 rows x 25 columns]"
      ],
      "text/html": "<div>\n<style scoped>\n    .dataframe tbody tr th:only-of-type {\n        vertical-align: middle;\n    }\n\n    .dataframe tbody tr th {\n        vertical-align: top;\n    }\n\n    .dataframe thead th {\n        text-align: right;\n    }\n</style>\n<table border=\"1\" class=\"dataframe\">\n  <thead>\n    <tr style=\"text-align: right;\">\n      <th></th>\n      <th>SERVICECODEDESCRIPTION</th>\n      <th>2019_1</th>\n      <th>2019_2</th>\n      <th>2019_3</th>\n      <th>2019_4</th>\n      <th>2019_5</th>\n      <th>2019_6</th>\n      <th>2019_7</th>\n      <th>2019_8</th>\n      <th>2019_9</th>\n      <th>...</th>\n      <th>2020_3</th>\n      <th>2020_4</th>\n      <th>2020_5</th>\n      <th>2020_6</th>\n      <th>2020_7</th>\n      <th>2020_8</th>\n      <th>2020_9</th>\n      <th>2020_10</th>\n      <th>2020_11</th>\n      <th>2020_12</th>\n    </tr>\n  </thead>\n  <tbody>\n    <tr>\n      <th>0</th>\n      <td>Bulk Collection</td>\n      <td>3979.0</td>\n      <td>3412.0</td>\n      <td>4601.0</td>\n      <td>5298.0</td>\n      <td>5563.0</td>\n      <td>5290.0</td>\n      <td>5437.0</td>\n      <td>4933.0</td>\n      <td>4464.0</td>\n      <td>...</td>\n      <td>4518.0</td>\n      <td>4868.0</td>\n      <td>6409.0</td>\n      <td>6463.0</td>\n      <td>6759.0</td>\n      <td>6613.0</td>\n      <td>6442.0</td>\n      <td>5665.0</td>\n      <td>5301.0</td>\n      <td>5269.0</td>\n    </tr>\n    <tr>\n      <th>1</th>\n      <td>Parking Enforcement</td>\n      <td>2825.0</td>\n      <td>2759.0</td>\n      <td>4167.0</td>\n      <td>4454.0</td>\n      <td>4974.0</td>\n      <td>4239.0</td>\n      <td>4152.0</td>\n      <td>4354.0</td>\n      <td>4092.0</td>\n      <td>...</td>\n      <td>2485.0</td>\n      <td>1291.0</td>\n      <td>1295.0</td>\n      <td>1511.0</td>\n      <td>1559.0</td>\n      <td>1772.0</td>\n      <td>1749.0</td>\n      <td>2118.0</td>\n      <td>1493.0</td>\n      <td>1590.0</td>\n    </tr>\n    <tr>\n      <th>2</th>\n      <td>Parking Meter Repair</td>\n      <td>3164.0</td>\n      <td>2883.0</td>\n      <td>3263.0</td>\n      <td>3452.0</td>\n      <td>3066.0</td>\n      <td>2269.0</td>\n      <td>1926.0</td>\n      <td>2670.0</td>\n      <td>2341.0</td>\n      <td>...</td>\n      <td>1215.0</td>\n      <td>136.0</td>\n      <td>198.0</td>\n      <td>313.0</td>\n      <td>336.0</td>\n      <td>360.0</td>\n      <td>440.0</td>\n      <td>410.0</td>\n      <td>311.0</td>\n      <td>176.0</td>\n    </tr>\n    <tr>\n      <th>3</th>\n      <td>Emergency No-Parking Verification</td>\n      <td>1172.0</td>\n      <td>1277.0</td>\n      <td>1347.0</td>\n      <td>1807.0</td>\n      <td>1833.0</td>\n      <td>2018.0</td>\n      <td>2011.0</td>\n      <td>2120.0</td>\n      <td>1894.0</td>\n      <td>...</td>\n      <td>1651.0</td>\n      <td>133.0</td>\n      <td>4.0</td>\n      <td>3.0</td>\n      <td>67.0</td>\n      <td>87.0</td>\n      <td>59.0</td>\n      <td>3.0</td>\n      <td>4.0</td>\n      <td>11.0</td>\n    </tr>\n    <tr>\n      <th>4</th>\n      <td>Pothole</td>\n      <td>2007.0</td>\n      <td>3267.0</td>\n      <td>3863.0</td>\n      <td>1153.0</td>\n      <td>887.0</td>\n      <td>628.0</td>\n      <td>506.0</td>\n      <td>436.0</td>\n      <td>234.0</td>\n      <td>...</td>\n      <td>490.0</td>\n      <td>283.0</td>\n      <td>335.0</td>\n      <td>245.0</td>\n      <td>214.0</td>\n      <td>285.0</td>\n      <td>199.0</td>\n      <td>158.0</td>\n      <td>150.0</td>\n      <td>227.0</td>\n    </tr>\n  </tbody>\n</table>\n<p>5 rows × 25 columns</p>\n</div>"
     },
     "metadata": {},
     "execution_count": 18
    }
   ],
   "source": [
    "# remove the last column\n",
    "merge_service_count = pd.merge(service_count_2019.iloc[:,0:-1], service_count_2020.iloc[:,0:-1], on = 'SERVICECODEDESCRIPTION', how = 'outer')\n",
    "merge_service_count.fillna(0, inplace = True)\n",
    "merge_service_count.head()"
   ]
  },
  {
   "cell_type": "code",
   "execution_count": 19,
   "metadata": {},
   "outputs": [
    {
     "output_type": "execute_result",
     "data": {
      "text/plain": [
       "Index(['SERVICECODEDESCRIPTION', '2019_1', '2019_2', '2019_3', '2019_4',\n",
       "       '2019_5', '2019_6', '2019_7', '2019_8', '2019_9', '2019_10', '2019_11',\n",
       "       '2019_12', '2020_1', '2020_2', '2020_3', '2020_4', '2020_5', '2020_6',\n",
       "       '2020_7', '2020_8', '2020_9', '2020_10', '2020_11', '2020_12'],\n",
       "      dtype='object')"
      ]
     },
     "metadata": {},
     "execution_count": 19
    }
   ],
   "source": [
    "merge_service_count.columns"
   ]
  },
  {
   "cell_type": "code",
   "execution_count": 20,
   "metadata": {},
   "outputs": [],
   "source": [
    "pre_covid_cols = ['SERVICECODEDESCRIPTION', '2019_1', '2019_2', '2019_3', '2019_4','2019_5', '2019_6', '2019_7', '2019_8', '2019_9', '2019_10', '2019_11','2019_12', '2020_1', '2020_2']\n",
    "covid_cols = ['SERVICECODEDESCRIPTION', '2020_3', '2020_4', '2020_5', '2020_6','2020_7', '2020_8', '2020_9', '2020_10', '2020_11','2020_12']\n",
    "pre_covid_service_count = merge_service_count[pre_covid_cols]\n",
    "covid_service_count = merge_service_count[covid_cols]"
   ]
  },
  {
   "cell_type": "code",
   "execution_count": 21,
   "metadata": {},
   "outputs": [],
   "source": [
    "pre_covid_service_count['total #reports before lock down'] = pre_covid_service_count.sum(axis=1)\n",
    "covid_service_count['total #reports after lock down'] = covid_service_count.sum(axis=1)"
   ]
  },
  {
   "cell_type": "code",
   "execution_count": 22,
   "metadata": {},
   "outputs": [],
   "source": [
    "pre_covid_service_count.sort_values(by = 'total #reports before lock down', ascending=False, inplace=True)\n",
    "pre_covid_service_count.reset_index(drop= True, inplace=True)"
   ]
  },
  {
   "cell_type": "code",
   "execution_count": 23,
   "metadata": {},
   "outputs": [],
   "source": [
    "covid_service_count.sort_values(by = 'total #reports after lock down', ascending=False, inplace=True)\n",
    "covid_service_count.reset_index(drop= True, inplace=True)"
   ]
  },
  {
   "cell_type": "code",
   "execution_count": 24,
   "metadata": {},
   "outputs": [
    {
     "output_type": "execute_result",
     "data": {
      "text/plain": [
       "                SERVICECODEDESCRIPTION  2019_1  2019_2  2019_3  2019_4  \\\n",
       "0                      Bulk Collection  3979.0  3412.0  4601.0  5298.0   \n",
       "1                  Parking Enforcement  2825.0  2759.0  4167.0  4454.0   \n",
       "2                 Parking Meter Repair  3164.0  2883.0  3263.0  3452.0   \n",
       "3    Emergency No-Parking Verification  1172.0  1277.0  1347.0  1807.0   \n",
       "4            Trash Collection - Missed  2025.0   791.0   739.0   984.0   \n",
       "..                                 ...     ...     ...     ...     ...   \n",
       "137             Test-SW-Bulk Scheduled     0.0     0.0     0.0     0.0   \n",
       "138                          Sample SR     0.0     0.0     0.0     0.0   \n",
       "139           Test-Automation Activity     0.0     0.0     0.0     0.0   \n",
       "140       Test-Provar-Service-Question     0.0     0.0     0.0     0.0   \n",
       "141          Snow Ticket Reimbursement     0.0     0.0     0.0     0.0   \n",
       "\n",
       "     2019_5  2019_6  2019_7  2019_8  2019_9  2019_10  2019_11  2019_12  \\\n",
       "0    5563.0  5290.0  5437.0  4933.0  4464.0   4316.0   3816.0   4635.0   \n",
       "1    4974.0  4239.0  4152.0  4354.0  4092.0   4188.0   2950.0   3167.0   \n",
       "2    3066.0  2269.0  1926.0  2670.0  2341.0   2079.0   1862.0   2750.0   \n",
       "3    1833.0  2018.0  2011.0  2120.0  1894.0   1785.0   1349.0   1158.0   \n",
       "4    1113.0  1253.0  1798.0  1264.0   878.0    987.0    928.0   1098.0   \n",
       "..      ...     ...     ...     ...     ...      ...      ...      ...   \n",
       "137     0.0     0.0     0.0     0.0     0.0      0.0      0.0      0.0   \n",
       "138     0.0     0.0     0.0     0.0     0.0      0.0      0.0      0.0   \n",
       "139     0.0     0.0     0.0     0.0     0.0      0.0      0.0      0.0   \n",
       "140     0.0     0.0     0.0     0.0     0.0      0.0      0.0      0.0   \n",
       "141     0.0     0.0     0.0     0.0     0.0      0.0      0.0      0.0   \n",
       "\n",
       "     2020_1  2020_2  total #reports before lock down  \n",
       "0    4533.0  3495.0                          63772.0  \n",
       "1    3063.0  3015.0                          52399.0  \n",
       "2    2174.0  2096.0                          35995.0  \n",
       "3    1165.0  1558.0                          22494.0  \n",
       "4    1444.0   781.0                          16083.0  \n",
       "..      ...     ...                              ...  \n",
       "137     0.0     0.0                              0.0  \n",
       "138     0.0     0.0                              0.0  \n",
       "139     0.0     0.0                              0.0  \n",
       "140     0.0     0.0                              0.0  \n",
       "141     0.0     0.0                              0.0  \n",
       "\n",
       "[142 rows x 16 columns]"
      ],
      "text/html": "<div>\n<style scoped>\n    .dataframe tbody tr th:only-of-type {\n        vertical-align: middle;\n    }\n\n    .dataframe tbody tr th {\n        vertical-align: top;\n    }\n\n    .dataframe thead th {\n        text-align: right;\n    }\n</style>\n<table border=\"1\" class=\"dataframe\">\n  <thead>\n    <tr style=\"text-align: right;\">\n      <th></th>\n      <th>SERVICECODEDESCRIPTION</th>\n      <th>2019_1</th>\n      <th>2019_2</th>\n      <th>2019_3</th>\n      <th>2019_4</th>\n      <th>2019_5</th>\n      <th>2019_6</th>\n      <th>2019_7</th>\n      <th>2019_8</th>\n      <th>2019_9</th>\n      <th>2019_10</th>\n      <th>2019_11</th>\n      <th>2019_12</th>\n      <th>2020_1</th>\n      <th>2020_2</th>\n      <th>total #reports before lock down</th>\n    </tr>\n  </thead>\n  <tbody>\n    <tr>\n      <th>0</th>\n      <td>Bulk Collection</td>\n      <td>3979.0</td>\n      <td>3412.0</td>\n      <td>4601.0</td>\n      <td>5298.0</td>\n      <td>5563.0</td>\n      <td>5290.0</td>\n      <td>5437.0</td>\n      <td>4933.0</td>\n      <td>4464.0</td>\n      <td>4316.0</td>\n      <td>3816.0</td>\n      <td>4635.0</td>\n      <td>4533.0</td>\n      <td>3495.0</td>\n      <td>63772.0</td>\n    </tr>\n    <tr>\n      <th>1</th>\n      <td>Parking Enforcement</td>\n      <td>2825.0</td>\n      <td>2759.0</td>\n      <td>4167.0</td>\n      <td>4454.0</td>\n      <td>4974.0</td>\n      <td>4239.0</td>\n      <td>4152.0</td>\n      <td>4354.0</td>\n      <td>4092.0</td>\n      <td>4188.0</td>\n      <td>2950.0</td>\n      <td>3167.0</td>\n      <td>3063.0</td>\n      <td>3015.0</td>\n      <td>52399.0</td>\n    </tr>\n    <tr>\n      <th>2</th>\n      <td>Parking Meter Repair</td>\n      <td>3164.0</td>\n      <td>2883.0</td>\n      <td>3263.0</td>\n      <td>3452.0</td>\n      <td>3066.0</td>\n      <td>2269.0</td>\n      <td>1926.0</td>\n      <td>2670.0</td>\n      <td>2341.0</td>\n      <td>2079.0</td>\n      <td>1862.0</td>\n      <td>2750.0</td>\n      <td>2174.0</td>\n      <td>2096.0</td>\n      <td>35995.0</td>\n    </tr>\n    <tr>\n      <th>3</th>\n      <td>Emergency No-Parking Verification</td>\n      <td>1172.0</td>\n      <td>1277.0</td>\n      <td>1347.0</td>\n      <td>1807.0</td>\n      <td>1833.0</td>\n      <td>2018.0</td>\n      <td>2011.0</td>\n      <td>2120.0</td>\n      <td>1894.0</td>\n      <td>1785.0</td>\n      <td>1349.0</td>\n      <td>1158.0</td>\n      <td>1165.0</td>\n      <td>1558.0</td>\n      <td>22494.0</td>\n    </tr>\n    <tr>\n      <th>4</th>\n      <td>Trash Collection - Missed</td>\n      <td>2025.0</td>\n      <td>791.0</td>\n      <td>739.0</td>\n      <td>984.0</td>\n      <td>1113.0</td>\n      <td>1253.0</td>\n      <td>1798.0</td>\n      <td>1264.0</td>\n      <td>878.0</td>\n      <td>987.0</td>\n      <td>928.0</td>\n      <td>1098.0</td>\n      <td>1444.0</td>\n      <td>781.0</td>\n      <td>16083.0</td>\n    </tr>\n    <tr>\n      <th>...</th>\n      <td>...</td>\n      <td>...</td>\n      <td>...</td>\n      <td>...</td>\n      <td>...</td>\n      <td>...</td>\n      <td>...</td>\n      <td>...</td>\n      <td>...</td>\n      <td>...</td>\n      <td>...</td>\n      <td>...</td>\n      <td>...</td>\n      <td>...</td>\n      <td>...</td>\n      <td>...</td>\n    </tr>\n    <tr>\n      <th>137</th>\n      <td>Test-SW-Bulk Scheduled</td>\n      <td>0.0</td>\n      <td>0.0</td>\n      <td>0.0</td>\n      <td>0.0</td>\n      <td>0.0</td>\n      <td>0.0</td>\n      <td>0.0</td>\n      <td>0.0</td>\n      <td>0.0</td>\n      <td>0.0</td>\n      <td>0.0</td>\n      <td>0.0</td>\n      <td>0.0</td>\n      <td>0.0</td>\n      <td>0.0</td>\n    </tr>\n    <tr>\n      <th>138</th>\n      <td>Sample SR</td>\n      <td>0.0</td>\n      <td>0.0</td>\n      <td>0.0</td>\n      <td>0.0</td>\n      <td>0.0</td>\n      <td>0.0</td>\n      <td>0.0</td>\n      <td>0.0</td>\n      <td>0.0</td>\n      <td>0.0</td>\n      <td>0.0</td>\n      <td>0.0</td>\n      <td>0.0</td>\n      <td>0.0</td>\n      <td>0.0</td>\n    </tr>\n    <tr>\n      <th>139</th>\n      <td>Test-Automation Activity</td>\n      <td>0.0</td>\n      <td>0.0</td>\n      <td>0.0</td>\n      <td>0.0</td>\n      <td>0.0</td>\n      <td>0.0</td>\n      <td>0.0</td>\n      <td>0.0</td>\n      <td>0.0</td>\n      <td>0.0</td>\n      <td>0.0</td>\n      <td>0.0</td>\n      <td>0.0</td>\n      <td>0.0</td>\n      <td>0.0</td>\n    </tr>\n    <tr>\n      <th>140</th>\n      <td>Test-Provar-Service-Question</td>\n      <td>0.0</td>\n      <td>0.0</td>\n      <td>0.0</td>\n      <td>0.0</td>\n      <td>0.0</td>\n      <td>0.0</td>\n      <td>0.0</td>\n      <td>0.0</td>\n      <td>0.0</td>\n      <td>0.0</td>\n      <td>0.0</td>\n      <td>0.0</td>\n      <td>0.0</td>\n      <td>0.0</td>\n      <td>0.0</td>\n    </tr>\n    <tr>\n      <th>141</th>\n      <td>Snow Ticket Reimbursement</td>\n      <td>0.0</td>\n      <td>0.0</td>\n      <td>0.0</td>\n      <td>0.0</td>\n      <td>0.0</td>\n      <td>0.0</td>\n      <td>0.0</td>\n      <td>0.0</td>\n      <td>0.0</td>\n      <td>0.0</td>\n      <td>0.0</td>\n      <td>0.0</td>\n      <td>0.0</td>\n      <td>0.0</td>\n      <td>0.0</td>\n    </tr>\n  </tbody>\n</table>\n<p>142 rows × 16 columns</p>\n</div>"
     },
     "metadata": {},
     "execution_count": 24
    }
   ],
   "source": [
    "pre_covid_types = pre_covid_service_count['SERVICECODEDESCRIPTION'].tolist()\n",
    "covid_types = covid_service_count['SERVICECODEDESCRIPTION'].tolist()\n",
    "pre_covid_service_count"
   ]
  },
  {
   "cell_type": "code",
   "execution_count": 25,
   "metadata": {},
   "outputs": [
    {
     "output_type": "execute_result",
     "data": {
      "text/plain": [
       "142"
      ]
     },
     "metadata": {},
     "execution_count": 25
    }
   ],
   "source": [
    "total_service_types = list(set(pre_covid_types + covid_types))\n",
    "len(total_service_types)"
   ]
  },
  {
   "source": [
    "### Perform t-test on #reports for each type across months\n",
    "* To understand the difference before and after lock down (lock down: March - Dec. 2020)"
   ],
   "cell_type": "markdown",
   "metadata": {}
  },
  {
   "cell_type": "code",
   "execution_count": 26,
   "metadata": {},
   "outputs": [],
   "source": [
    "t_test_df = pd.DataFrame(columns=['service_type','p-value','direction'])\n",
    "for service_type in total_service_types:\n",
    "    pre_covid_var = pre_covid_service_count.loc[pre_covid_service_count['SERVICECODEDESCRIPTION']== service_type][pre_covid_cols[1:]].values.flatten()\n",
    "    covid_var = covid_service_count.loc[covid_service_count['SERVICECODEDESCRIPTION']== service_type][covid_cols[1:]].values.flatten()\n",
    "    t_val, p_val = stats.ttest_ind(pre_covid_var, covid_var, equal_var = False)\n",
    "    direction = covid_var.mean() - pre_covid_var.mean()\n",
    "    t_test_res = {'service_type': service_type, 'p-value': p_val, 'direction': direction}\n",
    "    t_test_df = t_test_df.append(t_test_res,ignore_index = True)"
   ]
  },
  {
   "cell_type": "code",
   "execution_count": 27,
   "metadata": {},
   "outputs": [
    {
     "output_type": "execute_result",
     "data": {
      "text/plain": [
       "                             service_type       p-value    direction\n",
       "0                    Parking Meter Repair  2.217613e-11 -2181.571429\n",
       "1    Residential Parking Permit Violation  5.841563e-09  -882.785714\n",
       "2                     Parking Enforcement  1.776576e-08 -2056.485714\n",
       "3                 FEMS - Community Events  6.265158e-07   -58.871429\n",
       "4       Emergency No-Parking Verification  1.880452e-06 -1404.514286\n",
       "..                                    ...           ...          ...\n",
       "137            DMV - Vehicle Title Issues  8.658522e-01    -0.542857\n",
       "138      DFHV - For Hire Vehicle Concerns  8.845421e-01     0.057143\n",
       "139              311Force Reported Issues  9.496550e-01     0.014286\n",
       "140                Grass and Weeds Mowing  9.524280e-01    -2.500000\n",
       "141          DMV - Ticket Payment Dispute  9.737991e-01    -0.057143\n",
       "\n",
       "[142 rows x 3 columns]"
      ],
      "text/html": "<div>\n<style scoped>\n    .dataframe tbody tr th:only-of-type {\n        vertical-align: middle;\n    }\n\n    .dataframe tbody tr th {\n        vertical-align: top;\n    }\n\n    .dataframe thead th {\n        text-align: right;\n    }\n</style>\n<table border=\"1\" class=\"dataframe\">\n  <thead>\n    <tr style=\"text-align: right;\">\n      <th></th>\n      <th>service_type</th>\n      <th>p-value</th>\n      <th>direction</th>\n    </tr>\n  </thead>\n  <tbody>\n    <tr>\n      <th>0</th>\n      <td>Parking Meter Repair</td>\n      <td>2.217613e-11</td>\n      <td>-2181.571429</td>\n    </tr>\n    <tr>\n      <th>1</th>\n      <td>Residential Parking Permit Violation</td>\n      <td>5.841563e-09</td>\n      <td>-882.785714</td>\n    </tr>\n    <tr>\n      <th>2</th>\n      <td>Parking Enforcement</td>\n      <td>1.776576e-08</td>\n      <td>-2056.485714</td>\n    </tr>\n    <tr>\n      <th>3</th>\n      <td>FEMS - Community Events</td>\n      <td>6.265158e-07</td>\n      <td>-58.871429</td>\n    </tr>\n    <tr>\n      <th>4</th>\n      <td>Emergency No-Parking Verification</td>\n      <td>1.880452e-06</td>\n      <td>-1404.514286</td>\n    </tr>\n    <tr>\n      <th>...</th>\n      <td>...</td>\n      <td>...</td>\n      <td>...</td>\n    </tr>\n    <tr>\n      <th>137</th>\n      <td>DMV - Vehicle Title Issues</td>\n      <td>8.658522e-01</td>\n      <td>-0.542857</td>\n    </tr>\n    <tr>\n      <th>138</th>\n      <td>DFHV - For Hire Vehicle Concerns</td>\n      <td>8.845421e-01</td>\n      <td>0.057143</td>\n    </tr>\n    <tr>\n      <th>139</th>\n      <td>311Force Reported Issues</td>\n      <td>9.496550e-01</td>\n      <td>0.014286</td>\n    </tr>\n    <tr>\n      <th>140</th>\n      <td>Grass and Weeds Mowing</td>\n      <td>9.524280e-01</td>\n      <td>-2.500000</td>\n    </tr>\n    <tr>\n      <th>141</th>\n      <td>DMV - Ticket Payment Dispute</td>\n      <td>9.737991e-01</td>\n      <td>-0.057143</td>\n    </tr>\n  </tbody>\n</table>\n<p>142 rows × 3 columns</p>\n</div>"
     },
     "metadata": {},
     "execution_count": 27
    }
   ],
   "source": [
    "t_test_df.sort_values(by = 'p-value', inplace=True)\n",
    "t_test_df.reset_index(drop=True, inplace = True)\n",
    "t_test_df"
   ]
  },
  {
   "cell_type": "code",
   "execution_count": 28,
   "metadata": {},
   "outputs": [],
   "source": [
    "t_test_df.to_csv('../result/DC_service_type_ttest.csv')"
   ]
  },
  {
   "cell_type": "code",
   "execution_count": 29,
   "metadata": {},
   "outputs": [
    {
     "output_type": "execute_result",
     "data": {
      "text/plain": [
       "     inc/dec  #service types\n",
       "0  decreased              27\n",
       "1  increased              23"
      ],
      "text/html": "<div>\n<style scoped>\n    .dataframe tbody tr th:only-of-type {\n        vertical-align: middle;\n    }\n\n    .dataframe tbody tr th {\n        vertical-align: top;\n    }\n\n    .dataframe thead th {\n        text-align: right;\n    }\n</style>\n<table border=\"1\" class=\"dataframe\">\n  <thead>\n    <tr style=\"text-align: right;\">\n      <th></th>\n      <th>inc/dec</th>\n      <th>#service types</th>\n    </tr>\n  </thead>\n  <tbody>\n    <tr>\n      <th>0</th>\n      <td>decreased</td>\n      <td>27</td>\n    </tr>\n    <tr>\n      <th>1</th>\n      <td>increased</td>\n      <td>23</td>\n    </tr>\n  </tbody>\n</table>\n</div>"
     },
     "metadata": {},
     "execution_count": 29
    }
   ],
   "source": [
    "t_test_low_p = t_test_df.loc[t_test_df['p-value']<=0.05]\n",
    "t_test_low_p.sort_values(by = ['direction','p-value'], inplace=True)\n",
    "t_test_low_p.reset_index(drop = True, inplace = True)\n",
    "t_test_low_p['inc/dec'] =['increased' if sign == True else 'decreased' for sign in (t_test_low_p['direction'] >0).tolist()]\n",
    "inc_dec_df = t_test_low_p.groupby('inc/dec').size().reset_index()\n",
    "inc_dec_df.rename(columns = {0:'#service types'}, inplace = True)\n",
    "inc_dec_df"
   ]
  },
  {
   "cell_type": "code",
   "execution_count": 30,
   "metadata": {},
   "outputs": [
    {
     "output_type": "execute_result",
     "data": {
      "text/plain": [
       "                            service_type       p-value    direction    inc/dec\n",
       "0                   Parking Meter Repair  2.217613e-11 -2181.571429  decreased\n",
       "1                    Parking Enforcement  1.776576e-08 -2056.485714  decreased\n",
       "2      Emergency No-Parking Verification  1.880452e-06 -1404.514286  decreased\n",
       "3   Residential Parking Permit Violation  5.841563e-09  -882.785714  decreased\n",
       "4                                Pothole  1.635736e-02  -843.400000  decreased\n",
       "5                          Roadway Signs  2.657126e-02  -246.614286  decreased\n",
       "6                 Sanitation Enforcement  1.557205e-03  -237.471429  decreased\n",
       "7  Out of State Parking Violation (ROSA)  1.122262e-04  -199.871429  decreased\n",
       "8                         Roadway Repair  1.447568e-03   -94.028571  decreased\n",
       "9                FEMS - Community Events  6.265158e-07   -58.871429  decreased"
      ],
      "text/html": "<div>\n<style scoped>\n    .dataframe tbody tr th:only-of-type {\n        vertical-align: middle;\n    }\n\n    .dataframe tbody tr th {\n        vertical-align: top;\n    }\n\n    .dataframe thead th {\n        text-align: right;\n    }\n</style>\n<table border=\"1\" class=\"dataframe\">\n  <thead>\n    <tr style=\"text-align: right;\">\n      <th></th>\n      <th>service_type</th>\n      <th>p-value</th>\n      <th>direction</th>\n      <th>inc/dec</th>\n    </tr>\n  </thead>\n  <tbody>\n    <tr>\n      <th>0</th>\n      <td>Parking Meter Repair</td>\n      <td>2.217613e-11</td>\n      <td>-2181.571429</td>\n      <td>decreased</td>\n    </tr>\n    <tr>\n      <th>1</th>\n      <td>Parking Enforcement</td>\n      <td>1.776576e-08</td>\n      <td>-2056.485714</td>\n      <td>decreased</td>\n    </tr>\n    <tr>\n      <th>2</th>\n      <td>Emergency No-Parking Verification</td>\n      <td>1.880452e-06</td>\n      <td>-1404.514286</td>\n      <td>decreased</td>\n    </tr>\n    <tr>\n      <th>3</th>\n      <td>Residential Parking Permit Violation</td>\n      <td>5.841563e-09</td>\n      <td>-882.785714</td>\n      <td>decreased</td>\n    </tr>\n    <tr>\n      <th>4</th>\n      <td>Pothole</td>\n      <td>1.635736e-02</td>\n      <td>-843.400000</td>\n      <td>decreased</td>\n    </tr>\n    <tr>\n      <th>5</th>\n      <td>Roadway Signs</td>\n      <td>2.657126e-02</td>\n      <td>-246.614286</td>\n      <td>decreased</td>\n    </tr>\n    <tr>\n      <th>6</th>\n      <td>Sanitation Enforcement</td>\n      <td>1.557205e-03</td>\n      <td>-237.471429</td>\n      <td>decreased</td>\n    </tr>\n    <tr>\n      <th>7</th>\n      <td>Out of State Parking Violation (ROSA)</td>\n      <td>1.122262e-04</td>\n      <td>-199.871429</td>\n      <td>decreased</td>\n    </tr>\n    <tr>\n      <th>8</th>\n      <td>Roadway Repair</td>\n      <td>1.447568e-03</td>\n      <td>-94.028571</td>\n      <td>decreased</td>\n    </tr>\n    <tr>\n      <th>9</th>\n      <td>FEMS - Community Events</td>\n      <td>6.265158e-07</td>\n      <td>-58.871429</td>\n      <td>decreased</td>\n    </tr>\n  </tbody>\n</table>\n</div>"
     },
     "metadata": {},
     "execution_count": 30
    }
   ],
   "source": [
    "t_test_low_p.head(10)"
   ]
  },
  {
   "source": [
    "### Box plot for types that have p-value <0.05"
   ],
   "cell_type": "markdown",
   "metadata": {}
  },
  {
   "cell_type": "code",
   "execution_count": 31,
   "metadata": {},
   "outputs": [],
   "source": [
    "low_p_types = t_test_low_p['service_type'].tolist()"
   ]
  },
  {
   "cell_type": "code",
   "execution_count": 32,
   "metadata": {},
   "outputs": [
    {
     "output_type": "execute_result",
     "data": {
      "text/plain": [
       "SERVICECODEDESCRIPTION year_month  Bulk Collection  Parking Enforcement  \\\n",
       "0                          2019_1           3979.0               2825.0   \n",
       "1                          2019_2           3412.0               2759.0   \n",
       "2                          2019_3           4601.0               4167.0   \n",
       "3                          2019_4           5298.0               4454.0   \n",
       "4                          2019_5           5563.0               4974.0   \n",
       "5                          2019_6           5290.0               4239.0   \n",
       "6                          2019_7           5437.0               4152.0   \n",
       "7                          2019_8           4933.0               4354.0   \n",
       "8                          2019_9           4464.0               4092.0   \n",
       "9                         2019_10           4316.0               4188.0   \n",
       "\n",
       "SERVICECODEDESCRIPTION  Parking Meter Repair  \\\n",
       "0                                     3164.0   \n",
       "1                                     2883.0   \n",
       "2                                     3263.0   \n",
       "3                                     3452.0   \n",
       "4                                     3066.0   \n",
       "5                                     2269.0   \n",
       "6                                     1926.0   \n",
       "7                                     2670.0   \n",
       "8                                     2341.0   \n",
       "9                                     2079.0   \n",
       "\n",
       "SERVICECODEDESCRIPTION  Emergency No-Parking Verification  \\\n",
       "0                                                  1172.0   \n",
       "1                                                  1277.0   \n",
       "2                                                  1347.0   \n",
       "3                                                  1807.0   \n",
       "4                                                  1833.0   \n",
       "5                                                  2018.0   \n",
       "6                                                  2011.0   \n",
       "7                                                  2120.0   \n",
       "8                                                  1894.0   \n",
       "9                                                  1785.0   \n",
       "\n",
       "SERVICECODEDESCRIPTION  Trash Collection - Missed  Roadway Signs  Pothole  \\\n",
       "0                                          2025.0         1055.0   2007.0   \n",
       "1                                           791.0         1138.0   3267.0   \n",
       "2                                           739.0         1050.0   3863.0   \n",
       "3                                           984.0         1357.0   1153.0   \n",
       "4                                          1113.0         1198.0    887.0   \n",
       "5                                          1253.0         1296.0    628.0   \n",
       "6                                          1798.0         1453.0    506.0   \n",
       "7                                          1264.0         1132.0    436.0   \n",
       "8                                           878.0          796.0    234.0   \n",
       "9                                           987.0         1044.0    283.0   \n",
       "\n",
       "SERVICECODEDESCRIPTION  Residential Parking Permit Violation  Illegal Dumping  \\\n",
       "0                                                      812.0           1203.0   \n",
       "1                                                      710.0           1210.0   \n",
       "2                                                     1018.0            882.0   \n",
       "3                                                     1117.0            832.0   \n",
       "4                                                     1327.0            947.0   \n",
       "5                                                     1022.0           1062.0   \n",
       "6                                                     1061.0           1254.0   \n",
       "7                                                     1222.0           1107.0   \n",
       "8                                                     1114.0            994.0   \n",
       "9                                                     1123.0            930.0   \n",
       "\n",
       "SERVICECODEDESCRIPTION  ...  Automation Dep Picklist  \\\n",
       "0                       ...                      0.0   \n",
       "1                       ...                      0.0   \n",
       "2                       ...                      0.0   \n",
       "3                       ...                      0.0   \n",
       "4                       ...                      0.0   \n",
       "5                       ...                      1.0   \n",
       "6                       ...                      0.0   \n",
       "7                       ...                      0.0   \n",
       "8                       ...                      0.0   \n",
       "9                       ...                      0.0   \n",
       "\n",
       "SERVICECODEDESCRIPTION  Coronavirus (COVID-19) Mass Gathering Tracking  \\\n",
       "0                                                                  0.0   \n",
       "1                                                                  0.0   \n",
       "2                                                                  0.0   \n",
       "3                                                                  0.0   \n",
       "4                                                                  0.0   \n",
       "5                                                                  0.0   \n",
       "6                                                                  0.0   \n",
       "7                                                                  0.0   \n",
       "8                                                                  0.0   \n",
       "9                                                                  0.0   \n",
       "\n",
       "SERVICECODEDESCRIPTION  Illegal Fireworks  \\\n",
       "0                                     0.0   \n",
       "1                                     0.0   \n",
       "2                                     0.0   \n",
       "3                                     0.0   \n",
       "4                                     0.0   \n",
       "5                                     0.0   \n",
       "6                                     0.0   \n",
       "7                                     0.0   \n",
       "8                                     0.0   \n",
       "9                                     0.0   \n",
       "\n",
       "SERVICECODEDESCRIPTION  Quarantine Resource and Service Request (COVID-19)  \\\n",
       "0                                                                     0.0    \n",
       "1                                                                     0.0    \n",
       "2                                                                     0.0    \n",
       "3                                                                     0.0    \n",
       "4                                                                     0.0    \n",
       "5                                                                     0.0    \n",
       "6                                                                     0.0    \n",
       "7                                                                     0.0    \n",
       "8                                                                     0.0    \n",
       "9                                                                     0.0    \n",
       "\n",
       "SERVICECODEDESCRIPTION  Test-SW-Bulk Scheduled  Sample SR  \\\n",
       "0                                          0.0        0.0   \n",
       "1                                          0.0        0.0   \n",
       "2                                          0.0        0.0   \n",
       "3                                          0.0        0.0   \n",
       "4                                          0.0        0.0   \n",
       "5                                          0.0        0.0   \n",
       "6                                          0.0        0.0   \n",
       "7                                          0.0        0.0   \n",
       "8                                          0.0        0.0   \n",
       "9                                          0.0        0.0   \n",
       "\n",
       "SERVICECODEDESCRIPTION  Test-Automation Activity  \\\n",
       "0                                            0.0   \n",
       "1                                            0.0   \n",
       "2                                            0.0   \n",
       "3                                            0.0   \n",
       "4                                            0.0   \n",
       "5                                            0.0   \n",
       "6                                            0.0   \n",
       "7                                            0.0   \n",
       "8                                            0.0   \n",
       "9                                            0.0   \n",
       "\n",
       "SERVICECODEDESCRIPTION  Test-Provar-Service-Question  \\\n",
       "0                                                0.0   \n",
       "1                                                0.0   \n",
       "2                                                0.0   \n",
       "3                                                0.0   \n",
       "4                                                0.0   \n",
       "5                                                0.0   \n",
       "6                                                0.0   \n",
       "7                                                0.0   \n",
       "8                                                0.0   \n",
       "9                                                0.0   \n",
       "\n",
       "SERVICECODEDESCRIPTION  Snow Ticket Reimbursement            period  \n",
       "0                                             0.0  before lock down  \n",
       "1                                             0.0  before lock down  \n",
       "2                                             0.0  before lock down  \n",
       "3                                             0.0  before lock down  \n",
       "4                                             0.0  before lock down  \n",
       "5                                             0.0  before lock down  \n",
       "6                                             0.0  before lock down  \n",
       "7                                             0.0  before lock down  \n",
       "8                                             0.0  before lock down  \n",
       "9                                             0.0  before lock down  \n",
       "\n",
       "[10 rows x 144 columns]"
      ],
      "text/html": "<div>\n<style scoped>\n    .dataframe tbody tr th:only-of-type {\n        vertical-align: middle;\n    }\n\n    .dataframe tbody tr th {\n        vertical-align: top;\n    }\n\n    .dataframe thead th {\n        text-align: right;\n    }\n</style>\n<table border=\"1\" class=\"dataframe\">\n  <thead>\n    <tr style=\"text-align: right;\">\n      <th>SERVICECODEDESCRIPTION</th>\n      <th>year_month</th>\n      <th>Bulk Collection</th>\n      <th>Parking Enforcement</th>\n      <th>Parking Meter Repair</th>\n      <th>Emergency No-Parking Verification</th>\n      <th>Trash Collection - Missed</th>\n      <th>Roadway Signs</th>\n      <th>Pothole</th>\n      <th>Residential Parking Permit Violation</th>\n      <th>Illegal Dumping</th>\n      <th>...</th>\n      <th>Automation Dep Picklist</th>\n      <th>Coronavirus (COVID-19) Mass Gathering Tracking</th>\n      <th>Illegal Fireworks</th>\n      <th>Quarantine Resource and Service Request (COVID-19)</th>\n      <th>Test-SW-Bulk Scheduled</th>\n      <th>Sample SR</th>\n      <th>Test-Automation Activity</th>\n      <th>Test-Provar-Service-Question</th>\n      <th>Snow Ticket Reimbursement</th>\n      <th>period</th>\n    </tr>\n  </thead>\n  <tbody>\n    <tr>\n      <th>0</th>\n      <td>2019_1</td>\n      <td>3979.0</td>\n      <td>2825.0</td>\n      <td>3164.0</td>\n      <td>1172.0</td>\n      <td>2025.0</td>\n      <td>1055.0</td>\n      <td>2007.0</td>\n      <td>812.0</td>\n      <td>1203.0</td>\n      <td>...</td>\n      <td>0.0</td>\n      <td>0.0</td>\n      <td>0.0</td>\n      <td>0.0</td>\n      <td>0.0</td>\n      <td>0.0</td>\n      <td>0.0</td>\n      <td>0.0</td>\n      <td>0.0</td>\n      <td>before lock down</td>\n    </tr>\n    <tr>\n      <th>1</th>\n      <td>2019_2</td>\n      <td>3412.0</td>\n      <td>2759.0</td>\n      <td>2883.0</td>\n      <td>1277.0</td>\n      <td>791.0</td>\n      <td>1138.0</td>\n      <td>3267.0</td>\n      <td>710.0</td>\n      <td>1210.0</td>\n      <td>...</td>\n      <td>0.0</td>\n      <td>0.0</td>\n      <td>0.0</td>\n      <td>0.0</td>\n      <td>0.0</td>\n      <td>0.0</td>\n      <td>0.0</td>\n      <td>0.0</td>\n      <td>0.0</td>\n      <td>before lock down</td>\n    </tr>\n    <tr>\n      <th>2</th>\n      <td>2019_3</td>\n      <td>4601.0</td>\n      <td>4167.0</td>\n      <td>3263.0</td>\n      <td>1347.0</td>\n      <td>739.0</td>\n      <td>1050.0</td>\n      <td>3863.0</td>\n      <td>1018.0</td>\n      <td>882.0</td>\n      <td>...</td>\n      <td>0.0</td>\n      <td>0.0</td>\n      <td>0.0</td>\n      <td>0.0</td>\n      <td>0.0</td>\n      <td>0.0</td>\n      <td>0.0</td>\n      <td>0.0</td>\n      <td>0.0</td>\n      <td>before lock down</td>\n    </tr>\n    <tr>\n      <th>3</th>\n      <td>2019_4</td>\n      <td>5298.0</td>\n      <td>4454.0</td>\n      <td>3452.0</td>\n      <td>1807.0</td>\n      <td>984.0</td>\n      <td>1357.0</td>\n      <td>1153.0</td>\n      <td>1117.0</td>\n      <td>832.0</td>\n      <td>...</td>\n      <td>0.0</td>\n      <td>0.0</td>\n      <td>0.0</td>\n      <td>0.0</td>\n      <td>0.0</td>\n      <td>0.0</td>\n      <td>0.0</td>\n      <td>0.0</td>\n      <td>0.0</td>\n      <td>before lock down</td>\n    </tr>\n    <tr>\n      <th>4</th>\n      <td>2019_5</td>\n      <td>5563.0</td>\n      <td>4974.0</td>\n      <td>3066.0</td>\n      <td>1833.0</td>\n      <td>1113.0</td>\n      <td>1198.0</td>\n      <td>887.0</td>\n      <td>1327.0</td>\n      <td>947.0</td>\n      <td>...</td>\n      <td>0.0</td>\n      <td>0.0</td>\n      <td>0.0</td>\n      <td>0.0</td>\n      <td>0.0</td>\n      <td>0.0</td>\n      <td>0.0</td>\n      <td>0.0</td>\n      <td>0.0</td>\n      <td>before lock down</td>\n    </tr>\n    <tr>\n      <th>5</th>\n      <td>2019_6</td>\n      <td>5290.0</td>\n      <td>4239.0</td>\n      <td>2269.0</td>\n      <td>2018.0</td>\n      <td>1253.0</td>\n      <td>1296.0</td>\n      <td>628.0</td>\n      <td>1022.0</td>\n      <td>1062.0</td>\n      <td>...</td>\n      <td>1.0</td>\n      <td>0.0</td>\n      <td>0.0</td>\n      <td>0.0</td>\n      <td>0.0</td>\n      <td>0.0</td>\n      <td>0.0</td>\n      <td>0.0</td>\n      <td>0.0</td>\n      <td>before lock down</td>\n    </tr>\n    <tr>\n      <th>6</th>\n      <td>2019_7</td>\n      <td>5437.0</td>\n      <td>4152.0</td>\n      <td>1926.0</td>\n      <td>2011.0</td>\n      <td>1798.0</td>\n      <td>1453.0</td>\n      <td>506.0</td>\n      <td>1061.0</td>\n      <td>1254.0</td>\n      <td>...</td>\n      <td>0.0</td>\n      <td>0.0</td>\n      <td>0.0</td>\n      <td>0.0</td>\n      <td>0.0</td>\n      <td>0.0</td>\n      <td>0.0</td>\n      <td>0.0</td>\n      <td>0.0</td>\n      <td>before lock down</td>\n    </tr>\n    <tr>\n      <th>7</th>\n      <td>2019_8</td>\n      <td>4933.0</td>\n      <td>4354.0</td>\n      <td>2670.0</td>\n      <td>2120.0</td>\n      <td>1264.0</td>\n      <td>1132.0</td>\n      <td>436.0</td>\n      <td>1222.0</td>\n      <td>1107.0</td>\n      <td>...</td>\n      <td>0.0</td>\n      <td>0.0</td>\n      <td>0.0</td>\n      <td>0.0</td>\n      <td>0.0</td>\n      <td>0.0</td>\n      <td>0.0</td>\n      <td>0.0</td>\n      <td>0.0</td>\n      <td>before lock down</td>\n    </tr>\n    <tr>\n      <th>8</th>\n      <td>2019_9</td>\n      <td>4464.0</td>\n      <td>4092.0</td>\n      <td>2341.0</td>\n      <td>1894.0</td>\n      <td>878.0</td>\n      <td>796.0</td>\n      <td>234.0</td>\n      <td>1114.0</td>\n      <td>994.0</td>\n      <td>...</td>\n      <td>0.0</td>\n      <td>0.0</td>\n      <td>0.0</td>\n      <td>0.0</td>\n      <td>0.0</td>\n      <td>0.0</td>\n      <td>0.0</td>\n      <td>0.0</td>\n      <td>0.0</td>\n      <td>before lock down</td>\n    </tr>\n    <tr>\n      <th>9</th>\n      <td>2019_10</td>\n      <td>4316.0</td>\n      <td>4188.0</td>\n      <td>2079.0</td>\n      <td>1785.0</td>\n      <td>987.0</td>\n      <td>1044.0</td>\n      <td>283.0</td>\n      <td>1123.0</td>\n      <td>930.0</td>\n      <td>...</td>\n      <td>0.0</td>\n      <td>0.0</td>\n      <td>0.0</td>\n      <td>0.0</td>\n      <td>0.0</td>\n      <td>0.0</td>\n      <td>0.0</td>\n      <td>0.0</td>\n      <td>0.0</td>\n      <td>before lock down</td>\n    </tr>\n  </tbody>\n</table>\n<p>10 rows × 144 columns</p>\n</div>"
     },
     "metadata": {},
     "execution_count": 32
    }
   ],
   "source": [
    "pre_covid_box_plt = pre_covid_service_count.set_index('SERVICECODEDESCRIPTION').T.iloc[:-1].reset_index()\n",
    "\n",
    "covid_box_plt = covid_service_count.set_index('SERVICECODEDESCRIPTION').T.iloc[:-1].reset_index()\n",
    "covid_box_plt = covid_box_plt[pre_covid_box_plt.columns.to_list()]\n",
    "box_plt_df = pre_covid_box_plt.append(covid_box_plt,ignore_index=True,sort=False)\n",
    "box_plt_df.rename(columns={'index':'year_month'},inplace = True)\n",
    "period_ls = ['before lock down']* (pre_covid_box_plt.shape[0])\n",
    "period_ls.extend(['after lock down']* (covid_box_plt.shape[0]))\n",
    "box_plt_df['period'] = period_ls\n",
    "box_plt_df.head(10)"
   ]
  },
  {
   "cell_type": "code",
   "execution_count": 33,
   "metadata": {},
   "outputs": [],
   "source": [
    "num_imgs = math.ceil(len(low_p_types)/4)\n",
    "sns.set_theme(style=\"whitegrid\")\n",
    "type_count =0\n",
    "for img in range(num_imgs):\n",
    "    if img < num_imgs -1:\n",
    "        rows = 2\n",
    "    else:\n",
    "        rows = int(math.ceil(len(low_p_types) - type_count) /2)\n",
    "    fig, axes = plt.subplots(rows,2, figsize = (20,10))\n",
    "    for row in range(rows):\n",
    "        for col in range(2):\n",
    "            if rows >1:\n",
    "                sns.boxplot(x='period', y=low_p_types[type_count], data=box_plt_df, ax=axes[row, col])\n",
    "            else:\n",
    "                sns.boxplot(x='period', y=low_p_types[type_count], data=box_plt_df, ax=axes[col])\n",
    "            type_count +=1\n",
    "    plt.savefig('../figure/DC_ServiceTypesBoxPlt/box_plt_' + str(img +1))\n",
    "    plt.close()"
   ]
  },
  {
   "source": [
    "## Analysis of 311 calls that were assigned to FEMS"
   ],
   "cell_type": "markdown",
   "metadata": {}
  },
  {
   "cell_type": "code",
   "execution_count": 34,
   "metadata": {},
   "outputs": [
    {
     "output_type": "execute_result",
     "data": {
      "text/plain": [
       "['DPW',\n",
       " 'DDOT',\n",
       " 'DOEE',\n",
       " 'DOH',\n",
       " 'FEMS',\n",
       " 'DMV',\n",
       " 'ORM',\n",
       " 'OUC',\n",
       " 'DCRA',\n",
       " nan,\n",
       " 'DDS',\n",
       " 'DGS',\n",
       " 'DFHV',\n",
       " '311 Customer Service Center']"
      ]
     },
     "metadata": {},
     "execution_count": 34
    }
   ],
   "source": [
    "DC_311_2019_df.ORGANIZATIONACRONYM.unique().tolist()"
   ]
  },
  {
   "source": [
    "### 311 calls that were assigned to FEMS during 2019"
   ],
   "cell_type": "markdown",
   "metadata": {}
  },
  {
   "cell_type": "code",
   "execution_count": 35,
   "metadata": {},
   "outputs": [
    {
     "output_type": "execute_result",
     "data": {
      "text/plain": [
       "                X          Y  OBJECTID   SERVICECODE  \\\n",
       "91     -76.925117  38.886951    279126      FESAADNU   \n",
       "539    -76.960797  38.877512    279574      FESAADNU   \n",
       "707    -76.981361  38.922836    279742      FESAADNU   \n",
       "1051   -77.020444  38.961513    280086      FESAADNU   \n",
       "1187   -76.993583  38.892218    280222      FESAADNU   \n",
       "...           ...        ...       ...           ...   \n",
       "359992 -77.022480  38.930865    716835      FESAADNU   \n",
       "360159 -77.000487  38.962512    717002      FESAADNU   \n",
       "363225 -77.019651  38.958943    720116      FESAADNU   \n",
       "363470 -76.995047  38.853735    720361  FEMSFIREINSP   \n",
       "363634 -77.044550  38.902192    720525  FEMSFIREINSP   \n",
       "\n",
       "                SERVICECODEDESCRIPTION SERVICETYPECODEDESCRIPTION  \\\n",
       "91      FEMS - Smoke Alarm Application          FEMS-Smoke Alarms   \n",
       "539     FEMS - Smoke Alarm Application          FEMS-Smoke Alarms   \n",
       "707     FEMS - Smoke Alarm Application          FEMS-Smoke Alarms   \n",
       "1051    FEMS - Smoke Alarm Application          FEMS-Smoke Alarms   \n",
       "1187    FEMS - Smoke Alarm Application          FEMS-Smoke Alarms   \n",
       "...                                ...                        ...   \n",
       "359992  FEMS - Smoke Alarm Application          FEMS-Smoke Alarms   \n",
       "360159  FEMS - Smoke Alarm Application          FEMS-Smoke Alarms   \n",
       "363225  FEMS - Smoke Alarm Application          FEMS-Smoke Alarms   \n",
       "363470   FEMS - Fire Safety Inspection                       FEMS   \n",
       "363634   FEMS - Fire Safety Inspection                       FEMS   \n",
       "\n",
       "       ORGANIZATIONACRONYM  SERVICECALLCOUNT                 ADDDATE  \\\n",
       "91                    FEMS                 1  2019/01/04 17:06:41+00   \n",
       "539                   FEMS                 1  2019/01/16 22:27:57+00   \n",
       "707                   FEMS                 1  2019/01/18 19:50:06+00   \n",
       "1051                  FEMS                 1  2019/01/15 18:43:00+00   \n",
       "1187                  FEMS                 1  2019/01/11 19:02:21+00   \n",
       "...                    ...               ...                     ...   \n",
       "359992                FEMS                 1  2019/12/26 14:17:21+00   \n",
       "360159                FEMS                 1  2019/12/26 21:31:56+00   \n",
       "363225                FEMS                 1  2019/12/30 19:19:01+00   \n",
       "363470                FEMS                 1  2019/12/30 21:40:15+00   \n",
       "363634                FEMS                 1  2019/12/31 13:50:03+00   \n",
       "\n",
       "                RESOLUTIONDATE  ...   LATITUDE  LONGITUDE        CITY STATE  \\\n",
       "91      2019/01/07 15:06:27+00  ...  38.886944 -76.925115  WASHINGTON    DC   \n",
       "539     2019/03/23 16:02:28+00  ...  38.877504 -76.960795  WASHINGTON    DC   \n",
       "707     2019/01/23 21:05:37+00  ...  38.922828 -76.981359  WASHINGTON    DC   \n",
       "1051    2019/02/01 19:23:58+00  ...  38.961505 -77.020442  WASHINGTON    DC   \n",
       "1187    2019/03/14 17:30:29+00  ...  38.892211 -76.993581  WASHINGTON    DC   \n",
       "...                        ...  ...        ...        ...         ...   ...   \n",
       "359992  2020/01/17 20:15:20+00  ...  38.930858 -77.022478  WASHINGTON    DC   \n",
       "360159  2020/01/03 14:58:46+00  ...  38.962505 -77.000485  WASHINGTON    DC   \n",
       "363225  2020/01/27 19:52:12+00  ...  38.958936 -77.019648  WASHINGTON    DC   \n",
       "363470  2019/12/30 22:22:11+00  ...  38.853728 -76.995045  WASHINGTON    DC   \n",
       "363634  2020/01/17 20:53:57+00  ...  38.902185 -77.044548  WASHINGTON    DC   \n",
       "\n",
       "        ZIPCODE MARADDRESSREPOSITORYID WARD                        DETAILS  \\\n",
       "91      20019.0                10428.0  7.0                            NaN   \n",
       "539     20019.0                50666.0  7.0  FIREFIGHTERS NEVER SHOWED UP.   \n",
       "707     20018.0                61311.0  5.0                            NaN   \n",
       "1051    20011.0               246463.0  4.0          REQUEST SMOKE ALARMS.   \n",
       "1187    20002.0                81651.0  6.0       SMOKE ALARMS, INSTALLED.   \n",
       "...         ...                    ...  ...                            ...   \n",
       "359992  20010.0               228942.0  1.0                            NaN   \n",
       "360159  20011.0                25978.0  4.0                            NaN   \n",
       "363225  20011.0               248819.0  4.0                            NaN   \n",
       "363470  20032.0               301360.0  8.0                            NaN   \n",
       "363634  20006.0               218576.0  2.0                            NaN   \n",
       "\n",
       "                     opened_date added_month  \n",
       "91     2019-01-04 17:06:41+00:00           1  \n",
       "539    2019-01-16 22:27:57+00:00           1  \n",
       "707    2019-01-18 19:50:06+00:00           1  \n",
       "1051   2019-01-15 18:43:00+00:00           1  \n",
       "1187   2019-01-11 19:02:21+00:00           1  \n",
       "...                          ...         ...  \n",
       "359992 2019-12-26 14:17:21+00:00          12  \n",
       "360159 2019-12-26 21:31:56+00:00          12  \n",
       "363225 2019-12-30 19:19:01+00:00          12  \n",
       "363470 2019-12-30 21:40:15+00:00          12  \n",
       "363634 2019-12-31 13:50:03+00:00          12  \n",
       "\n",
       "[1254 rows x 32 columns]"
      ],
      "text/html": "<div>\n<style scoped>\n    .dataframe tbody tr th:only-of-type {\n        vertical-align: middle;\n    }\n\n    .dataframe tbody tr th {\n        vertical-align: top;\n    }\n\n    .dataframe thead th {\n        text-align: right;\n    }\n</style>\n<table border=\"1\" class=\"dataframe\">\n  <thead>\n    <tr style=\"text-align: right;\">\n      <th></th>\n      <th>X</th>\n      <th>Y</th>\n      <th>OBJECTID</th>\n      <th>SERVICECODE</th>\n      <th>SERVICECODEDESCRIPTION</th>\n      <th>SERVICETYPECODEDESCRIPTION</th>\n      <th>ORGANIZATIONACRONYM</th>\n      <th>SERVICECALLCOUNT</th>\n      <th>ADDDATE</th>\n      <th>RESOLUTIONDATE</th>\n      <th>...</th>\n      <th>LATITUDE</th>\n      <th>LONGITUDE</th>\n      <th>CITY</th>\n      <th>STATE</th>\n      <th>ZIPCODE</th>\n      <th>MARADDRESSREPOSITORYID</th>\n      <th>WARD</th>\n      <th>DETAILS</th>\n      <th>opened_date</th>\n      <th>added_month</th>\n    </tr>\n  </thead>\n  <tbody>\n    <tr>\n      <th>91</th>\n      <td>-76.925117</td>\n      <td>38.886951</td>\n      <td>279126</td>\n      <td>FESAADNU</td>\n      <td>FEMS - Smoke Alarm Application</td>\n      <td>FEMS-Smoke Alarms</td>\n      <td>FEMS</td>\n      <td>1</td>\n      <td>2019/01/04 17:06:41+00</td>\n      <td>2019/01/07 15:06:27+00</td>\n      <td>...</td>\n      <td>38.886944</td>\n      <td>-76.925115</td>\n      <td>WASHINGTON</td>\n      <td>DC</td>\n      <td>20019.0</td>\n      <td>10428.0</td>\n      <td>7.0</td>\n      <td>NaN</td>\n      <td>2019-01-04 17:06:41+00:00</td>\n      <td>1</td>\n    </tr>\n    <tr>\n      <th>539</th>\n      <td>-76.960797</td>\n      <td>38.877512</td>\n      <td>279574</td>\n      <td>FESAADNU</td>\n      <td>FEMS - Smoke Alarm Application</td>\n      <td>FEMS-Smoke Alarms</td>\n      <td>FEMS</td>\n      <td>1</td>\n      <td>2019/01/16 22:27:57+00</td>\n      <td>2019/03/23 16:02:28+00</td>\n      <td>...</td>\n      <td>38.877504</td>\n      <td>-76.960795</td>\n      <td>WASHINGTON</td>\n      <td>DC</td>\n      <td>20019.0</td>\n      <td>50666.0</td>\n      <td>7.0</td>\n      <td>FIREFIGHTERS NEVER SHOWED UP.</td>\n      <td>2019-01-16 22:27:57+00:00</td>\n      <td>1</td>\n    </tr>\n    <tr>\n      <th>707</th>\n      <td>-76.981361</td>\n      <td>38.922836</td>\n      <td>279742</td>\n      <td>FESAADNU</td>\n      <td>FEMS - Smoke Alarm Application</td>\n      <td>FEMS-Smoke Alarms</td>\n      <td>FEMS</td>\n      <td>1</td>\n      <td>2019/01/18 19:50:06+00</td>\n      <td>2019/01/23 21:05:37+00</td>\n      <td>...</td>\n      <td>38.922828</td>\n      <td>-76.981359</td>\n      <td>WASHINGTON</td>\n      <td>DC</td>\n      <td>20018.0</td>\n      <td>61311.0</td>\n      <td>5.0</td>\n      <td>NaN</td>\n      <td>2019-01-18 19:50:06+00:00</td>\n      <td>1</td>\n    </tr>\n    <tr>\n      <th>1051</th>\n      <td>-77.020444</td>\n      <td>38.961513</td>\n      <td>280086</td>\n      <td>FESAADNU</td>\n      <td>FEMS - Smoke Alarm Application</td>\n      <td>FEMS-Smoke Alarms</td>\n      <td>FEMS</td>\n      <td>1</td>\n      <td>2019/01/15 18:43:00+00</td>\n      <td>2019/02/01 19:23:58+00</td>\n      <td>...</td>\n      <td>38.961505</td>\n      <td>-77.020442</td>\n      <td>WASHINGTON</td>\n      <td>DC</td>\n      <td>20011.0</td>\n      <td>246463.0</td>\n      <td>4.0</td>\n      <td>REQUEST SMOKE ALARMS.</td>\n      <td>2019-01-15 18:43:00+00:00</td>\n      <td>1</td>\n    </tr>\n    <tr>\n      <th>1187</th>\n      <td>-76.993583</td>\n      <td>38.892218</td>\n      <td>280222</td>\n      <td>FESAADNU</td>\n      <td>FEMS - Smoke Alarm Application</td>\n      <td>FEMS-Smoke Alarms</td>\n      <td>FEMS</td>\n      <td>1</td>\n      <td>2019/01/11 19:02:21+00</td>\n      <td>2019/03/14 17:30:29+00</td>\n      <td>...</td>\n      <td>38.892211</td>\n      <td>-76.993581</td>\n      <td>WASHINGTON</td>\n      <td>DC</td>\n      <td>20002.0</td>\n      <td>81651.0</td>\n      <td>6.0</td>\n      <td>SMOKE ALARMS, INSTALLED.</td>\n      <td>2019-01-11 19:02:21+00:00</td>\n      <td>1</td>\n    </tr>\n    <tr>\n      <th>...</th>\n      <td>...</td>\n      <td>...</td>\n      <td>...</td>\n      <td>...</td>\n      <td>...</td>\n      <td>...</td>\n      <td>...</td>\n      <td>...</td>\n      <td>...</td>\n      <td>...</td>\n      <td>...</td>\n      <td>...</td>\n      <td>...</td>\n      <td>...</td>\n      <td>...</td>\n      <td>...</td>\n      <td>...</td>\n      <td>...</td>\n      <td>...</td>\n      <td>...</td>\n      <td>...</td>\n    </tr>\n    <tr>\n      <th>359992</th>\n      <td>-77.022480</td>\n      <td>38.930865</td>\n      <td>716835</td>\n      <td>FESAADNU</td>\n      <td>FEMS - Smoke Alarm Application</td>\n      <td>FEMS-Smoke Alarms</td>\n      <td>FEMS</td>\n      <td>1</td>\n      <td>2019/12/26 14:17:21+00</td>\n      <td>2020/01/17 20:15:20+00</td>\n      <td>...</td>\n      <td>38.930858</td>\n      <td>-77.022478</td>\n      <td>WASHINGTON</td>\n      <td>DC</td>\n      <td>20010.0</td>\n      <td>228942.0</td>\n      <td>1.0</td>\n      <td>NaN</td>\n      <td>2019-12-26 14:17:21+00:00</td>\n      <td>12</td>\n    </tr>\n    <tr>\n      <th>360159</th>\n      <td>-77.000487</td>\n      <td>38.962512</td>\n      <td>717002</td>\n      <td>FESAADNU</td>\n      <td>FEMS - Smoke Alarm Application</td>\n      <td>FEMS-Smoke Alarms</td>\n      <td>FEMS</td>\n      <td>1</td>\n      <td>2019/12/26 21:31:56+00</td>\n      <td>2020/01/03 14:58:46+00</td>\n      <td>...</td>\n      <td>38.962505</td>\n      <td>-77.000485</td>\n      <td>WASHINGTON</td>\n      <td>DC</td>\n      <td>20011.0</td>\n      <td>25978.0</td>\n      <td>4.0</td>\n      <td>NaN</td>\n      <td>2019-12-26 21:31:56+00:00</td>\n      <td>12</td>\n    </tr>\n    <tr>\n      <th>363225</th>\n      <td>-77.019651</td>\n      <td>38.958943</td>\n      <td>720116</td>\n      <td>FESAADNU</td>\n      <td>FEMS - Smoke Alarm Application</td>\n      <td>FEMS-Smoke Alarms</td>\n      <td>FEMS</td>\n      <td>1</td>\n      <td>2019/12/30 19:19:01+00</td>\n      <td>2020/01/27 19:52:12+00</td>\n      <td>...</td>\n      <td>38.958936</td>\n      <td>-77.019648</td>\n      <td>WASHINGTON</td>\n      <td>DC</td>\n      <td>20011.0</td>\n      <td>248819.0</td>\n      <td>4.0</td>\n      <td>NaN</td>\n      <td>2019-12-30 19:19:01+00:00</td>\n      <td>12</td>\n    </tr>\n    <tr>\n      <th>363470</th>\n      <td>-76.995047</td>\n      <td>38.853735</td>\n      <td>720361</td>\n      <td>FEMSFIREINSP</td>\n      <td>FEMS - Fire Safety Inspection</td>\n      <td>FEMS</td>\n      <td>FEMS</td>\n      <td>1</td>\n      <td>2019/12/30 21:40:15+00</td>\n      <td>2019/12/30 22:22:11+00</td>\n      <td>...</td>\n      <td>38.853728</td>\n      <td>-76.995045</td>\n      <td>WASHINGTON</td>\n      <td>DC</td>\n      <td>20032.0</td>\n      <td>301360.0</td>\n      <td>8.0</td>\n      <td>NaN</td>\n      <td>2019-12-30 21:40:15+00:00</td>\n      <td>12</td>\n    </tr>\n    <tr>\n      <th>363634</th>\n      <td>-77.044550</td>\n      <td>38.902192</td>\n      <td>720525</td>\n      <td>FEMSFIREINSP</td>\n      <td>FEMS - Fire Safety Inspection</td>\n      <td>FEMS</td>\n      <td>FEMS</td>\n      <td>1</td>\n      <td>2019/12/31 13:50:03+00</td>\n      <td>2020/01/17 20:53:57+00</td>\n      <td>...</td>\n      <td>38.902185</td>\n      <td>-77.044548</td>\n      <td>WASHINGTON</td>\n      <td>DC</td>\n      <td>20006.0</td>\n      <td>218576.0</td>\n      <td>2.0</td>\n      <td>NaN</td>\n      <td>2019-12-31 13:50:03+00:00</td>\n      <td>12</td>\n    </tr>\n  </tbody>\n</table>\n<p>1254 rows × 32 columns</p>\n</div>"
     },
     "metadata": {},
     "execution_count": 35
    }
   ],
   "source": [
    "DC_311_2019_fems = DC_311_2019_df.loc[DC_311_2019_df['ORGANIZATIONACRONYM'] == 'FEMS']\n",
    "DC_311_2019_fems"
   ]
  },
  {
   "source": [
    "### 311 calls that were assigned to FEMS during 2020"
   ],
   "cell_type": "markdown",
   "metadata": {}
  },
  {
   "cell_type": "code",
   "execution_count": 36,
   "metadata": {},
   "outputs": [
    {
     "output_type": "execute_result",
     "data": {
      "text/plain": [
       "               X          Y  OBJECTID SERVICECODE  \\\n",
       "4948  -77.000547  38.962513      6405    FESAADNU   \n",
       "5495  -76.935298  38.902693      7208    FEMEDUPR   \n",
       "5561  -76.988792  38.835090      7274    FESAADNU   \n",
       "6401  -76.936911  38.880609      8306    FESPEDNU   \n",
       "6471  -76.991575  38.903698      8376    FESPEDNU   \n",
       "...          ...        ...       ...         ...   \n",
       "79629 -76.993517  38.881809    111901    FESAADNU   \n",
       "80583 -77.004331  38.914935    113639    FESAADNU   \n",
       "84250 -77.021938  38.957644    118682    FESAADNU   \n",
       "88092 -76.990267  38.950702    125308    FESAADNU   \n",
       "88861 -76.985839  38.858020    126269    FESAADNU   \n",
       "\n",
       "               SERVICECODEDESCRIPTION SERVICETYPECODEDESCRIPTION  \\\n",
       "4948   FEMS - Smoke Alarm Application          FEMS-Smoke Alarms   \n",
       "5495     FEMS - Fire Safety Education                       FEMS   \n",
       "5561   FEMS - Smoke Alarm Application          FEMS-Smoke Alarms   \n",
       "6401          FEMS - Community Events        FEMS-Special Events   \n",
       "6471          FEMS - Community Events        FEMS-Special Events   \n",
       "...                               ...                        ...   \n",
       "79629  FEMS - Smoke Alarm Application          FEMS-Smoke Alarms   \n",
       "80583  FEMS - Smoke Alarm Application          FEMS-Smoke Alarms   \n",
       "84250  FEMS - Smoke Alarm Application          FEMS-Smoke Alarms   \n",
       "88092  FEMS - Smoke Alarm Application          FEMS-Smoke Alarms   \n",
       "88861  FEMS - Smoke Alarm Application          FEMS-Smoke Alarms   \n",
       "\n",
       "      ORGANIZATIONACRONYM  SERVICECALLCOUNT                 ADDDATE  \\\n",
       "4948                 FEMS                 1  2020/01/04 23:27:47+00   \n",
       "5495                 FEMS                 1  2020/01/06 12:29:45+00   \n",
       "5561                 FEMS                 1  2020/01/06 14:17:17+00   \n",
       "6401                 FEMS                 1  2020/01/06 18:58:23+00   \n",
       "6471                 FEMS                 1  2020/01/06 17:49:35+00   \n",
       "...                   ...               ...                     ...   \n",
       "79629                FEMS                 1  2020/03/27 18:59:13+00   \n",
       "80583                FEMS                 1  2020/03/29 03:02:57+00   \n",
       "84250                FEMS                 1  2020/04/03 05:15:51+00   \n",
       "88092                FEMS                 1  2020/04/08 18:51:25+00   \n",
       "88861                FEMS                 1  2020/04/09 15:40:04+00   \n",
       "\n",
       "               RESOLUTIONDATE  ...   LATITUDE  LONGITUDE        CITY STATE  \\\n",
       "4948   2020/01/16 20:52:53+00  ...  38.962505 -77.000545  WASHINGTON    DC   \n",
       "5495   2020/02/20 14:39:52+00  ...  38.902686 -76.935296  WASHINGTON    DC   \n",
       "5561   2020/01/27 19:53:13+00  ...  38.835083 -76.988789  WASHINGTON    DC   \n",
       "6401   2020/01/10 19:00:26+00  ...  38.880602 -76.936908  WASHINGTON    DC   \n",
       "6471   2020/01/09 15:13:11+00  ...  38.903690 -76.991573  WASHINGTON    DC   \n",
       "...                       ...  ...        ...        ...         ...   ...   \n",
       "79629  2020/04/09 13:54:48+00  ...  38.881801 -76.993515  WASHINGTON    DC   \n",
       "80583  2020/04/09 13:54:48+00  ...  38.914927 -77.004328  WASHINGTON    DC   \n",
       "84250  2020/04/09 13:54:48+00  ...  38.957636 -77.021936  WASHINGTON    DC   \n",
       "88092  2020/04/09 13:54:48+00  ...  38.950694 -76.990264  WASHINGTON    DC   \n",
       "88861  2021/02/12 18:36:13+00  ...  38.858013 -76.985836  WASHINGTON    DC   \n",
       "\n",
       "       ZIPCODE MARADDRESSREPOSITORYID  WARD DETAILS               opened_date  \\\n",
       "4948   20011.0                26070.0   4.0     NaN 2020-01-04 23:27:47+00:00   \n",
       "5495   20019.0                18109.0   7.0     NaN 2020-01-06 12:29:45+00:00   \n",
       "5561   20032.0               279187.0   8.0     NaN 2020-01-06 14:17:17+00:00   \n",
       "6401   20019.0                21041.0   7.0     NaN 2020-01-06 18:58:23+00:00   \n",
       "6471   20002.0               285821.0   5.0     NaN 2020-01-06 17:49:35+00:00   \n",
       "...        ...                    ...   ...     ...                       ...   \n",
       "79629  20003.0                10968.0   6.0     NaN 2020-03-27 18:59:13+00:00   \n",
       "80583  20002.0               296345.0   5.0     NaN 2020-03-29 03:02:57+00:00   \n",
       "84250  20011.0               246643.0   4.0     NaN 2020-04-03 05:15:51+00:00   \n",
       "88092  20017.0                15424.0   5.0     NaN 2020-04-08 18:51:25+00:00   \n",
       "88861  20020.0                48567.0   8.0     NaN 2020-04-09 15:40:04+00:00   \n",
       "\n",
       "      added_month  \n",
       "4948            1  \n",
       "5495            1  \n",
       "5561            1  \n",
       "6401            1  \n",
       "6471            1  \n",
       "...           ...  \n",
       "79629           3  \n",
       "80583           3  \n",
       "84250           4  \n",
       "88092           4  \n",
       "88861           4  \n",
       "\n",
       "[160 rows x 32 columns]"
      ],
      "text/html": "<div>\n<style scoped>\n    .dataframe tbody tr th:only-of-type {\n        vertical-align: middle;\n    }\n\n    .dataframe tbody tr th {\n        vertical-align: top;\n    }\n\n    .dataframe thead th {\n        text-align: right;\n    }\n</style>\n<table border=\"1\" class=\"dataframe\">\n  <thead>\n    <tr style=\"text-align: right;\">\n      <th></th>\n      <th>X</th>\n      <th>Y</th>\n      <th>OBJECTID</th>\n      <th>SERVICECODE</th>\n      <th>SERVICECODEDESCRIPTION</th>\n      <th>SERVICETYPECODEDESCRIPTION</th>\n      <th>ORGANIZATIONACRONYM</th>\n      <th>SERVICECALLCOUNT</th>\n      <th>ADDDATE</th>\n      <th>RESOLUTIONDATE</th>\n      <th>...</th>\n      <th>LATITUDE</th>\n      <th>LONGITUDE</th>\n      <th>CITY</th>\n      <th>STATE</th>\n      <th>ZIPCODE</th>\n      <th>MARADDRESSREPOSITORYID</th>\n      <th>WARD</th>\n      <th>DETAILS</th>\n      <th>opened_date</th>\n      <th>added_month</th>\n    </tr>\n  </thead>\n  <tbody>\n    <tr>\n      <th>4948</th>\n      <td>-77.000547</td>\n      <td>38.962513</td>\n      <td>6405</td>\n      <td>FESAADNU</td>\n      <td>FEMS - Smoke Alarm Application</td>\n      <td>FEMS-Smoke Alarms</td>\n      <td>FEMS</td>\n      <td>1</td>\n      <td>2020/01/04 23:27:47+00</td>\n      <td>2020/01/16 20:52:53+00</td>\n      <td>...</td>\n      <td>38.962505</td>\n      <td>-77.000545</td>\n      <td>WASHINGTON</td>\n      <td>DC</td>\n      <td>20011.0</td>\n      <td>26070.0</td>\n      <td>4.0</td>\n      <td>NaN</td>\n      <td>2020-01-04 23:27:47+00:00</td>\n      <td>1</td>\n    </tr>\n    <tr>\n      <th>5495</th>\n      <td>-76.935298</td>\n      <td>38.902693</td>\n      <td>7208</td>\n      <td>FEMEDUPR</td>\n      <td>FEMS - Fire Safety Education</td>\n      <td>FEMS</td>\n      <td>FEMS</td>\n      <td>1</td>\n      <td>2020/01/06 12:29:45+00</td>\n      <td>2020/02/20 14:39:52+00</td>\n      <td>...</td>\n      <td>38.902686</td>\n      <td>-76.935296</td>\n      <td>WASHINGTON</td>\n      <td>DC</td>\n      <td>20019.0</td>\n      <td>18109.0</td>\n      <td>7.0</td>\n      <td>NaN</td>\n      <td>2020-01-06 12:29:45+00:00</td>\n      <td>1</td>\n    </tr>\n    <tr>\n      <th>5561</th>\n      <td>-76.988792</td>\n      <td>38.835090</td>\n      <td>7274</td>\n      <td>FESAADNU</td>\n      <td>FEMS - Smoke Alarm Application</td>\n      <td>FEMS-Smoke Alarms</td>\n      <td>FEMS</td>\n      <td>1</td>\n      <td>2020/01/06 14:17:17+00</td>\n      <td>2020/01/27 19:53:13+00</td>\n      <td>...</td>\n      <td>38.835083</td>\n      <td>-76.988789</td>\n      <td>WASHINGTON</td>\n      <td>DC</td>\n      <td>20032.0</td>\n      <td>279187.0</td>\n      <td>8.0</td>\n      <td>NaN</td>\n      <td>2020-01-06 14:17:17+00:00</td>\n      <td>1</td>\n    </tr>\n    <tr>\n      <th>6401</th>\n      <td>-76.936911</td>\n      <td>38.880609</td>\n      <td>8306</td>\n      <td>FESPEDNU</td>\n      <td>FEMS - Community Events</td>\n      <td>FEMS-Special Events</td>\n      <td>FEMS</td>\n      <td>1</td>\n      <td>2020/01/06 18:58:23+00</td>\n      <td>2020/01/10 19:00:26+00</td>\n      <td>...</td>\n      <td>38.880602</td>\n      <td>-76.936908</td>\n      <td>WASHINGTON</td>\n      <td>DC</td>\n      <td>20019.0</td>\n      <td>21041.0</td>\n      <td>7.0</td>\n      <td>NaN</td>\n      <td>2020-01-06 18:58:23+00:00</td>\n      <td>1</td>\n    </tr>\n    <tr>\n      <th>6471</th>\n      <td>-76.991575</td>\n      <td>38.903698</td>\n      <td>8376</td>\n      <td>FESPEDNU</td>\n      <td>FEMS - Community Events</td>\n      <td>FEMS-Special Events</td>\n      <td>FEMS</td>\n      <td>1</td>\n      <td>2020/01/06 17:49:35+00</td>\n      <td>2020/01/09 15:13:11+00</td>\n      <td>...</td>\n      <td>38.903690</td>\n      <td>-76.991573</td>\n      <td>WASHINGTON</td>\n      <td>DC</td>\n      <td>20002.0</td>\n      <td>285821.0</td>\n      <td>5.0</td>\n      <td>NaN</td>\n      <td>2020-01-06 17:49:35+00:00</td>\n      <td>1</td>\n    </tr>\n    <tr>\n      <th>...</th>\n      <td>...</td>\n      <td>...</td>\n      <td>...</td>\n      <td>...</td>\n      <td>...</td>\n      <td>...</td>\n      <td>...</td>\n      <td>...</td>\n      <td>...</td>\n      <td>...</td>\n      <td>...</td>\n      <td>...</td>\n      <td>...</td>\n      <td>...</td>\n      <td>...</td>\n      <td>...</td>\n      <td>...</td>\n      <td>...</td>\n      <td>...</td>\n      <td>...</td>\n      <td>...</td>\n    </tr>\n    <tr>\n      <th>79629</th>\n      <td>-76.993517</td>\n      <td>38.881809</td>\n      <td>111901</td>\n      <td>FESAADNU</td>\n      <td>FEMS - Smoke Alarm Application</td>\n      <td>FEMS-Smoke Alarms</td>\n      <td>FEMS</td>\n      <td>1</td>\n      <td>2020/03/27 18:59:13+00</td>\n      <td>2020/04/09 13:54:48+00</td>\n      <td>...</td>\n      <td>38.881801</td>\n      <td>-76.993515</td>\n      <td>WASHINGTON</td>\n      <td>DC</td>\n      <td>20003.0</td>\n      <td>10968.0</td>\n      <td>6.0</td>\n      <td>NaN</td>\n      <td>2020-03-27 18:59:13+00:00</td>\n      <td>3</td>\n    </tr>\n    <tr>\n      <th>80583</th>\n      <td>-77.004331</td>\n      <td>38.914935</td>\n      <td>113639</td>\n      <td>FESAADNU</td>\n      <td>FEMS - Smoke Alarm Application</td>\n      <td>FEMS-Smoke Alarms</td>\n      <td>FEMS</td>\n      <td>1</td>\n      <td>2020/03/29 03:02:57+00</td>\n      <td>2020/04/09 13:54:48+00</td>\n      <td>...</td>\n      <td>38.914927</td>\n      <td>-77.004328</td>\n      <td>WASHINGTON</td>\n      <td>DC</td>\n      <td>20002.0</td>\n      <td>296345.0</td>\n      <td>5.0</td>\n      <td>NaN</td>\n      <td>2020-03-29 03:02:57+00:00</td>\n      <td>3</td>\n    </tr>\n    <tr>\n      <th>84250</th>\n      <td>-77.021938</td>\n      <td>38.957644</td>\n      <td>118682</td>\n      <td>FESAADNU</td>\n      <td>FEMS - Smoke Alarm Application</td>\n      <td>FEMS-Smoke Alarms</td>\n      <td>FEMS</td>\n      <td>1</td>\n      <td>2020/04/03 05:15:51+00</td>\n      <td>2020/04/09 13:54:48+00</td>\n      <td>...</td>\n      <td>38.957636</td>\n      <td>-77.021936</td>\n      <td>WASHINGTON</td>\n      <td>DC</td>\n      <td>20011.0</td>\n      <td>246643.0</td>\n      <td>4.0</td>\n      <td>NaN</td>\n      <td>2020-04-03 05:15:51+00:00</td>\n      <td>4</td>\n    </tr>\n    <tr>\n      <th>88092</th>\n      <td>-76.990267</td>\n      <td>38.950702</td>\n      <td>125308</td>\n      <td>FESAADNU</td>\n      <td>FEMS - Smoke Alarm Application</td>\n      <td>FEMS-Smoke Alarms</td>\n      <td>FEMS</td>\n      <td>1</td>\n      <td>2020/04/08 18:51:25+00</td>\n      <td>2020/04/09 13:54:48+00</td>\n      <td>...</td>\n      <td>38.950694</td>\n      <td>-76.990264</td>\n      <td>WASHINGTON</td>\n      <td>DC</td>\n      <td>20017.0</td>\n      <td>15424.0</td>\n      <td>5.0</td>\n      <td>NaN</td>\n      <td>2020-04-08 18:51:25+00:00</td>\n      <td>4</td>\n    </tr>\n    <tr>\n      <th>88861</th>\n      <td>-76.985839</td>\n      <td>38.858020</td>\n      <td>126269</td>\n      <td>FESAADNU</td>\n      <td>FEMS - Smoke Alarm Application</td>\n      <td>FEMS-Smoke Alarms</td>\n      <td>FEMS</td>\n      <td>1</td>\n      <td>2020/04/09 15:40:04+00</td>\n      <td>2021/02/12 18:36:13+00</td>\n      <td>...</td>\n      <td>38.858013</td>\n      <td>-76.985836</td>\n      <td>WASHINGTON</td>\n      <td>DC</td>\n      <td>20020.0</td>\n      <td>48567.0</td>\n      <td>8.0</td>\n      <td>NaN</td>\n      <td>2020-04-09 15:40:04+00:00</td>\n      <td>4</td>\n    </tr>\n  </tbody>\n</table>\n<p>160 rows × 32 columns</p>\n</div>"
     },
     "metadata": {},
     "execution_count": 36
    }
   ],
   "source": [
    "DC_311_2020_fems = DC_311_2020_df.loc[DC_311_2020_df['ORGANIZATIONACRONYM'] == 'FEMS']\n",
    "DC_311_2020_fems"
   ]
  },
  {
   "cell_type": "code",
   "execution_count": 37,
   "metadata": {},
   "outputs": [
    {
     "output_type": "stream",
     "name": "stdout",
     "text": [
      "#311 reports that were assigned to FEMS in 2019: 1254\n#311 reports that were assigned to FEMS in 2020: 160\nFEMS reports/ total #311 in 2019 0.003436294282707822\nFEMS reports/ total #311 in 2020 0.0005250756437099219\n"
     ]
    }
   ],
   "source": [
    "print(\"#311 reports that were assigned to FEMS in 2019: \" + str(DC_311_2019_fems.shape[0]))\n",
    "print(\"#311 reports that were assigned to FEMS in 2020: \" + str(DC_311_2020_fems.shape[0]))\n",
    "\n",
    "print(\"FEMS reports/ total #311 in 2019 \" + str(DC_311_2019_fems.shape[0] / DC_311_2019_df.shape[0]))\n",
    "print(\"FEMS reports/ total #311 in 2020 \" + str(DC_311_2020_fems.shape[0] / DC_311_2020_df.shape[0]))"
   ]
  },
  {
   "cell_type": "code",
   "execution_count": 38,
   "metadata": {},
   "outputs": [
    {
     "output_type": "execute_result",
     "data": {
      "text/plain": [
       "add_month\n",
       "1     124\n",
       "2      77\n",
       "3     104\n",
       "4     126\n",
       "5     119\n",
       "6     125\n",
       "7     111\n",
       "8     105\n",
       "9     102\n",
       "10    131\n",
       "11     79\n",
       "12     51\n",
       "dtype: int64"
      ]
     },
     "metadata": {},
     "execution_count": 38
    }
   ],
   "source": [
    "DC_311_2019_fems['add_month'] = DC_311_2019_fems['opened_date'].dt.month\n",
    "DC_311_2019_fems.groupby('add_month').size()"
   ]
  },
  {
   "cell_type": "code",
   "execution_count": 39,
   "metadata": {},
   "outputs": [
    {
     "output_type": "execute_result",
     "data": {
      "text/plain": [
       "add_month\n",
       "1    55\n",
       "2    72\n",
       "3    30\n",
       "4     3\n",
       "dtype: int64"
      ]
     },
     "metadata": {},
     "execution_count": 39
    }
   ],
   "source": [
    "DC_311_2020_fems['add_month'] = DC_311_2020_fems['opened_date'].dt.month\n",
    "DC_311_2020_fems.groupby('add_month').size()"
   ]
  },
  {
   "cell_type": "code",
   "execution_count": null,
   "metadata": {},
   "outputs": [],
   "source": []
  }
 ]
}
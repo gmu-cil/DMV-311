{
 "metadata": {
  "language_info": {
   "codemirror_mode": {
    "name": "ipython",
    "version": 3
   },
   "file_extension": ".py",
   "mimetype": "text/x-python",
   "name": "python",
   "nbconvert_exporter": "python",
   "pygments_lexer": "ipython3",
   "version": "3.8.3-final"
  },
  "orig_nbformat": 2,
  "kernelspec": {
   "name": "python383jvsc74a57bd0dca0ade3e726a953b501b15e8e990130d2b7799f14cfd9f4271676035ebe5511",
   "display_name": "Python 3.8.3 64-bit ('base': conda)"
  }
 },
 "nbformat": 4,
 "nbformat_minor": 2,
 "cells": [
  {
   "cell_type": "code",
   "execution_count": 1,
   "metadata": {},
   "outputs": [],
   "source": [
    "import numpy as np\n",
    "import pandas as pd\n",
    "import glob\n",
    "import datetime as dt\n",
    "import csv\n",
    "import re"
   ]
  },
  {
   "source": [
    "### Washington D.C"
   ],
   "cell_type": "markdown",
   "metadata": {}
  },
  {
   "cell_type": "code",
   "execution_count": 2,
   "metadata": {},
   "outputs": [
    {
     "output_type": "stream",
     "name": "stderr",
     "text": [
      "/opt/anaconda3/lib/python3.8/site-packages/IPython/core/interactiveshell.py:3071: DtypeWarning: Columns (12,14,16) have mixed types.Specify dtype option on import or set low_memory=False.\n",
      "  has_raised = await self.run_ast_nodes(code_ast.body, cell_name,\n",
      "/opt/anaconda3/lib/python3.8/site-packages/IPython/core/interactiveshell.py:3071: DtypeWarning: Columns (29) have mixed types.Specify dtype option on import or set low_memory=False.\n",
      "  has_raised = await self.run_ast_nodes(code_ast.body, cell_name,\n"
     ]
    }
   ],
   "source": [
    "DC_311_2019 = '/Users/julia/Box/Data_311/DMV_311/DMV_nonEM/DC/311_Washington_DC_2019.csv'\n",
    "DC_311_2020 = '/Users/julia/Box/Data_311/DMV_311/DMV_nonEM/DC/311_Washington_DC_2020.csv'\n",
    "DC_311_2019_df = pd.read_csv(DC_311_2019)\n",
    "DC_311_2020_df = pd.read_csv(DC_311_2020)"
   ]
  },
  {
   "source": [
    "1. DC 2019"
   ],
   "cell_type": "markdown",
   "metadata": {}
  },
  {
   "cell_type": "code",
   "execution_count": 3,
   "metadata": {},
   "outputs": [
    {
     "output_type": "execute_result",
     "data": {
      "text/plain": [
       "           X          Y  OBJECTID SERVICECODE  \\\n",
       "0 -76.930018  38.904475    278741       S0031   \n",
       "1 -77.034081  38.941341    278742       S05SL   \n",
       "2 -77.034326  38.915358    278743       S05SL   \n",
       "3 -76.942364  38.898615    278744       S0336   \n",
       "4 -76.978173  38.888846    278745       S0316   \n",
       "\n",
       "                  SERVICECODEDESCRIPTION  \\\n",
       "0                        Bulk Collection   \n",
       "1       Streetlight Repair Investigation   \n",
       "2       Streetlight Repair Investigation   \n",
       "3  Out of State Parking Violation (ROSA)   \n",
       "4                Recycling Cart Delivery   \n",
       "\n",
       "                          SERVICETYPECODEDESCRIPTION ORGANIZATIONACRONYM  \\\n",
       "0          SWMA- Solid Waste Management Admistration                 DPW   \n",
       "1           Transportation Operations Administration                DDOT   \n",
       "2           Transportation Operations Administration                DDOT   \n",
       "3  PEMA- Parking Enforcement Management Administr...                 DPW   \n",
       "4          SWMA- Solid Waste Management Admistration                 DPW   \n",
       "\n",
       "   SERVICECALLCOUNT                 ADDDATE          RESOLUTIONDATE  ...  \\\n",
       "0                 1  2019/07/18 00:57:15+00  2019/08/05 19:42:09+00  ...   \n",
       "1                 1  2019/07/18 01:00:00+00  2019/07/21 03:03:10+00  ...   \n",
       "2                 1  2019/07/18 01:58:52+00  2019/07/19 07:23:15+00  ...   \n",
       "3                 1  2019/07/18 01:59:10+00  2019/07/18 06:39:36+00  ...   \n",
       "4                 1  2019/07/18 01:01:44+00  2019/08/19 11:09:05+00  ...   \n",
       "\n",
       "      XCOORD     YCOORD   LATITUDE  LONGITUDE        CITY STATE  ZIPCODE  \\\n",
       "0  406070.32  137403.48  38.904467 -76.930016  WASHINGTON    DC  20019.0   \n",
       "1  397045.59  141494.19  38.941334 -77.034079  WASHINGTON    DC  20011.0   \n",
       "2  397023.24  138609.83  38.915350 -77.034324  WASHINGTON    DC  20009.0   \n",
       "3  404999.88  136752.30  38.898608 -76.942362  WASHINGTON    DC  20019.0   \n",
       "4  401893.88  135666.52  38.888839 -76.978170  WASHINGTON    DC  20003.0   \n",
       "\n",
       "  MARADDRESSREPOSITORYID WARD DETAILS  \n",
       "0                15976.0  7.0     NaN  \n",
       "1               259155.0  4.0     NaN  \n",
       "2               240017.0  2.0     NaN  \n",
       "3                25746.0  7.0     NaN  \n",
       "4                55558.0  6.0     NaN  \n",
       "\n",
       "[5 rows x 30 columns]"
      ],
      "text/html": "<div>\n<style scoped>\n    .dataframe tbody tr th:only-of-type {\n        vertical-align: middle;\n    }\n\n    .dataframe tbody tr th {\n        vertical-align: top;\n    }\n\n    .dataframe thead th {\n        text-align: right;\n    }\n</style>\n<table border=\"1\" class=\"dataframe\">\n  <thead>\n    <tr style=\"text-align: right;\">\n      <th></th>\n      <th>X</th>\n      <th>Y</th>\n      <th>OBJECTID</th>\n      <th>SERVICECODE</th>\n      <th>SERVICECODEDESCRIPTION</th>\n      <th>SERVICETYPECODEDESCRIPTION</th>\n      <th>ORGANIZATIONACRONYM</th>\n      <th>SERVICECALLCOUNT</th>\n      <th>ADDDATE</th>\n      <th>RESOLUTIONDATE</th>\n      <th>...</th>\n      <th>XCOORD</th>\n      <th>YCOORD</th>\n      <th>LATITUDE</th>\n      <th>LONGITUDE</th>\n      <th>CITY</th>\n      <th>STATE</th>\n      <th>ZIPCODE</th>\n      <th>MARADDRESSREPOSITORYID</th>\n      <th>WARD</th>\n      <th>DETAILS</th>\n    </tr>\n  </thead>\n  <tbody>\n    <tr>\n      <th>0</th>\n      <td>-76.930018</td>\n      <td>38.904475</td>\n      <td>278741</td>\n      <td>S0031</td>\n      <td>Bulk Collection</td>\n      <td>SWMA- Solid Waste Management Admistration</td>\n      <td>DPW</td>\n      <td>1</td>\n      <td>2019/07/18 00:57:15+00</td>\n      <td>2019/08/05 19:42:09+00</td>\n      <td>...</td>\n      <td>406070.32</td>\n      <td>137403.48</td>\n      <td>38.904467</td>\n      <td>-76.930016</td>\n      <td>WASHINGTON</td>\n      <td>DC</td>\n      <td>20019.0</td>\n      <td>15976.0</td>\n      <td>7.0</td>\n      <td>NaN</td>\n    </tr>\n    <tr>\n      <th>1</th>\n      <td>-77.034081</td>\n      <td>38.941341</td>\n      <td>278742</td>\n      <td>S05SL</td>\n      <td>Streetlight Repair Investigation</td>\n      <td>Transportation Operations Administration</td>\n      <td>DDOT</td>\n      <td>1</td>\n      <td>2019/07/18 01:00:00+00</td>\n      <td>2019/07/21 03:03:10+00</td>\n      <td>...</td>\n      <td>397045.59</td>\n      <td>141494.19</td>\n      <td>38.941334</td>\n      <td>-77.034079</td>\n      <td>WASHINGTON</td>\n      <td>DC</td>\n      <td>20011.0</td>\n      <td>259155.0</td>\n      <td>4.0</td>\n      <td>NaN</td>\n    </tr>\n    <tr>\n      <th>2</th>\n      <td>-77.034326</td>\n      <td>38.915358</td>\n      <td>278743</td>\n      <td>S05SL</td>\n      <td>Streetlight Repair Investigation</td>\n      <td>Transportation Operations Administration</td>\n      <td>DDOT</td>\n      <td>1</td>\n      <td>2019/07/18 01:58:52+00</td>\n      <td>2019/07/19 07:23:15+00</td>\n      <td>...</td>\n      <td>397023.24</td>\n      <td>138609.83</td>\n      <td>38.915350</td>\n      <td>-77.034324</td>\n      <td>WASHINGTON</td>\n      <td>DC</td>\n      <td>20009.0</td>\n      <td>240017.0</td>\n      <td>2.0</td>\n      <td>NaN</td>\n    </tr>\n    <tr>\n      <th>3</th>\n      <td>-76.942364</td>\n      <td>38.898615</td>\n      <td>278744</td>\n      <td>S0336</td>\n      <td>Out of State Parking Violation (ROSA)</td>\n      <td>PEMA- Parking Enforcement Management Administr...</td>\n      <td>DPW</td>\n      <td>1</td>\n      <td>2019/07/18 01:59:10+00</td>\n      <td>2019/07/18 06:39:36+00</td>\n      <td>...</td>\n      <td>404999.88</td>\n      <td>136752.30</td>\n      <td>38.898608</td>\n      <td>-76.942362</td>\n      <td>WASHINGTON</td>\n      <td>DC</td>\n      <td>20019.0</td>\n      <td>25746.0</td>\n      <td>7.0</td>\n      <td>NaN</td>\n    </tr>\n    <tr>\n      <th>4</th>\n      <td>-76.978173</td>\n      <td>38.888846</td>\n      <td>278745</td>\n      <td>S0316</td>\n      <td>Recycling Cart Delivery</td>\n      <td>SWMA- Solid Waste Management Admistration</td>\n      <td>DPW</td>\n      <td>1</td>\n      <td>2019/07/18 01:01:44+00</td>\n      <td>2019/08/19 11:09:05+00</td>\n      <td>...</td>\n      <td>401893.88</td>\n      <td>135666.52</td>\n      <td>38.888839</td>\n      <td>-76.978170</td>\n      <td>WASHINGTON</td>\n      <td>DC</td>\n      <td>20003.0</td>\n      <td>55558.0</td>\n      <td>6.0</td>\n      <td>NaN</td>\n    </tr>\n  </tbody>\n</table>\n<p>5 rows × 30 columns</p>\n</div>"
     },
     "metadata": {},
     "execution_count": 3
    }
   ],
   "source": [
    "DC_311_2019_df.head()"
   ]
  },
  {
   "cell_type": "code",
   "execution_count": 4,
   "metadata": {},
   "outputs": [
    {
     "output_type": "stream",
     "name": "stdout",
     "text": [
      "Index(['X', 'Y', 'OBJECTID', 'SERVICECODE', 'SERVICECODEDESCRIPTION',\n",
      "       'SERVICETYPECODEDESCRIPTION', 'ORGANIZATIONACRONYM', 'SERVICECALLCOUNT',\n",
      "       'ADDDATE', 'RESOLUTIONDATE', 'SERVICEDUEDATE', 'SERVICEORDERDATE',\n",
      "       'INSPECTIONFLAG', 'INSPECTIONDATE', 'INSPECTORNAME',\n",
      "       'SERVICEORDERSTATUS', 'STATUS_CODE', 'SERVICEREQUESTID', 'PRIORITY',\n",
      "       'STREETADDRESS', 'XCOORD', 'YCOORD', 'LATITUDE', 'LONGITUDE', 'CITY',\n",
      "       'STATE', 'ZIPCODE', 'MARADDRESSREPOSITORYID', 'WARD', 'DETAILS',\n",
      "       'opened_date'],\n",
      "      dtype='object')\n",
      "#attributes: 30\n",
      "#311 reports between 2019-01-01 05:15:41+00:00 and 2019-12-31 23:59:53+00:00: 364928\n"
     ]
    }
   ],
   "source": [
    "DC_311_2019_df['opened_date'] = pd.to_datetime(DC_311_2019_df['ADDDATE'], format='%Y/%m/%d %H:%M:%S')\n",
    "print(DC_311_2019_df.columns)\n",
    "DC_311_2019_df = DC_311_2019_df.loc[ DC_311_2019_df['opened_date'].dt.year == 2019]\n",
    "print('#attributes: ' + str(len(DC_311_2019_df.columns) -1))\n",
    "DC_311_2019_df.drop_duplicates(subset=['OBJECTID'], inplace = True)\n",
    "min_date = min(DC_311_2019_df['opened_date'])\n",
    "max_date = max(DC_311_2019_df['opened_date'])\n",
    "print(\"#311 reports between \" + str(min_date) + \" and \" + str(max_date) + \": \" + str(DC_311_2019_df.shape[0]))"
   ]
  },
  {
   "source": [
    "2. DC 2020"
   ],
   "cell_type": "markdown",
   "metadata": {}
  },
  {
   "cell_type": "code",
   "execution_count": 5,
   "metadata": {},
   "outputs": [
    {
     "output_type": "execute_result",
     "data": {
      "text/plain": [
       "           X          Y  OBJECTID SERVICECODE  \\\n",
       "0 -77.052255  38.901881         1       S05SL   \n",
       "1 -76.995047  38.853735         2       S0311   \n",
       "2 -77.024210  38.913582         3       S0441   \n",
       "3 -77.025296  38.905826         4       S0441   \n",
       "4 -77.014662  38.881105         5       EMNPV   \n",
       "\n",
       "              SERVICECODEDESCRIPTION  \\\n",
       "0   Streetlight Repair Investigation   \n",
       "1    Rodent Inspection and Treatment   \n",
       "2          Trash Collection - Missed   \n",
       "3          Trash Collection - Missed   \n",
       "4  Emergency No-Parking Verification   \n",
       "\n",
       "                          SERVICETYPECODEDESCRIPTION ORGANIZATIONACRONYM  \\\n",
       "0           Transportation Operations Administration                DDOT   \n",
       "1                          DOH- Department Of Health                 DOH   \n",
       "2          SWMA- Solid Waste Management Admistration                 DPW   \n",
       "3          SWMA- Solid Waste Management Admistration                 DPW   \n",
       "4  PEMA- Parking Enforcement Management Administr...                 DPW   \n",
       "\n",
       "   SERVICECALLCOUNT                 ADDDATE          RESOLUTIONDATE  ...  \\\n",
       "0                 1  2020/01/01 05:00:38+00  2020/01/04 08:35:04+00  ...   \n",
       "1                 1  2020/01/01 05:02:57+00  2020/01/01 05:12:17+00  ...   \n",
       "2                 1  2020/01/01 05:20:59+00  2020/01/02 13:08:05+00  ...   \n",
       "3                 1  2020/01/01 06:34:21+00  2020/01/02 13:05:05+00  ...   \n",
       "4                 1  2020/01/01 09:07:20+00  2020/01/01 09:18:13+00  ...   \n",
       "\n",
       "      XCOORD     YCOORD   LATITUDE  LONGITUDE        CITY STATE  ZIPCODE  \\\n",
       "0  395467.53  137114.59  38.901874 -77.052253  WASHINGTON    DC  20037.0   \n",
       "1  400430.11  131768.69  38.853728 -76.995045  WASHINGTON    DC  20032.0   \n",
       "2  397900.54  138412.45  38.913575 -77.024208  WASHINGTON    DC  20001.0   \n",
       "3  397806.12  137551.45  38.905818 -77.025294  WASHINGTON    DC  20001.0   \n",
       "4  398728.03  134807.00  38.881097 -77.014660  WASHINGTON    DC  20024.0   \n",
       "\n",
       "  MARADDRESSREPOSITORYID WARD DETAILS  \n",
       "0               273983.0  2.0     NaN  \n",
       "1               301360.0  8.0     NaN  \n",
       "2               239705.0  6.0     NaN  \n",
       "3               239755.0  2.0     NaN  \n",
       "4               277827.0  6.0     NaN  \n",
       "\n",
       "[5 rows x 30 columns]"
      ],
      "text/html": "<div>\n<style scoped>\n    .dataframe tbody tr th:only-of-type {\n        vertical-align: middle;\n    }\n\n    .dataframe tbody tr th {\n        vertical-align: top;\n    }\n\n    .dataframe thead th {\n        text-align: right;\n    }\n</style>\n<table border=\"1\" class=\"dataframe\">\n  <thead>\n    <tr style=\"text-align: right;\">\n      <th></th>\n      <th>X</th>\n      <th>Y</th>\n      <th>OBJECTID</th>\n      <th>SERVICECODE</th>\n      <th>SERVICECODEDESCRIPTION</th>\n      <th>SERVICETYPECODEDESCRIPTION</th>\n      <th>ORGANIZATIONACRONYM</th>\n      <th>SERVICECALLCOUNT</th>\n      <th>ADDDATE</th>\n      <th>RESOLUTIONDATE</th>\n      <th>...</th>\n      <th>XCOORD</th>\n      <th>YCOORD</th>\n      <th>LATITUDE</th>\n      <th>LONGITUDE</th>\n      <th>CITY</th>\n      <th>STATE</th>\n      <th>ZIPCODE</th>\n      <th>MARADDRESSREPOSITORYID</th>\n      <th>WARD</th>\n      <th>DETAILS</th>\n    </tr>\n  </thead>\n  <tbody>\n    <tr>\n      <th>0</th>\n      <td>-77.052255</td>\n      <td>38.901881</td>\n      <td>1</td>\n      <td>S05SL</td>\n      <td>Streetlight Repair Investigation</td>\n      <td>Transportation Operations Administration</td>\n      <td>DDOT</td>\n      <td>1</td>\n      <td>2020/01/01 05:00:38+00</td>\n      <td>2020/01/04 08:35:04+00</td>\n      <td>...</td>\n      <td>395467.53</td>\n      <td>137114.59</td>\n      <td>38.901874</td>\n      <td>-77.052253</td>\n      <td>WASHINGTON</td>\n      <td>DC</td>\n      <td>20037.0</td>\n      <td>273983.0</td>\n      <td>2.0</td>\n      <td>NaN</td>\n    </tr>\n    <tr>\n      <th>1</th>\n      <td>-76.995047</td>\n      <td>38.853735</td>\n      <td>2</td>\n      <td>S0311</td>\n      <td>Rodent Inspection and Treatment</td>\n      <td>DOH- Department Of Health</td>\n      <td>DOH</td>\n      <td>1</td>\n      <td>2020/01/01 05:02:57+00</td>\n      <td>2020/01/01 05:12:17+00</td>\n      <td>...</td>\n      <td>400430.11</td>\n      <td>131768.69</td>\n      <td>38.853728</td>\n      <td>-76.995045</td>\n      <td>WASHINGTON</td>\n      <td>DC</td>\n      <td>20032.0</td>\n      <td>301360.0</td>\n      <td>8.0</td>\n      <td>NaN</td>\n    </tr>\n    <tr>\n      <th>2</th>\n      <td>-77.024210</td>\n      <td>38.913582</td>\n      <td>3</td>\n      <td>S0441</td>\n      <td>Trash Collection - Missed</td>\n      <td>SWMA- Solid Waste Management Admistration</td>\n      <td>DPW</td>\n      <td>1</td>\n      <td>2020/01/01 05:20:59+00</td>\n      <td>2020/01/02 13:08:05+00</td>\n      <td>...</td>\n      <td>397900.54</td>\n      <td>138412.45</td>\n      <td>38.913575</td>\n      <td>-77.024208</td>\n      <td>WASHINGTON</td>\n      <td>DC</td>\n      <td>20001.0</td>\n      <td>239705.0</td>\n      <td>6.0</td>\n      <td>NaN</td>\n    </tr>\n    <tr>\n      <th>3</th>\n      <td>-77.025296</td>\n      <td>38.905826</td>\n      <td>4</td>\n      <td>S0441</td>\n      <td>Trash Collection - Missed</td>\n      <td>SWMA- Solid Waste Management Admistration</td>\n      <td>DPW</td>\n      <td>1</td>\n      <td>2020/01/01 06:34:21+00</td>\n      <td>2020/01/02 13:05:05+00</td>\n      <td>...</td>\n      <td>397806.12</td>\n      <td>137551.45</td>\n      <td>38.905818</td>\n      <td>-77.025294</td>\n      <td>WASHINGTON</td>\n      <td>DC</td>\n      <td>20001.0</td>\n      <td>239755.0</td>\n      <td>2.0</td>\n      <td>NaN</td>\n    </tr>\n    <tr>\n      <th>4</th>\n      <td>-77.014662</td>\n      <td>38.881105</td>\n      <td>5</td>\n      <td>EMNPV</td>\n      <td>Emergency No-Parking Verification</td>\n      <td>PEMA- Parking Enforcement Management Administr...</td>\n      <td>DPW</td>\n      <td>1</td>\n      <td>2020/01/01 09:07:20+00</td>\n      <td>2020/01/01 09:18:13+00</td>\n      <td>...</td>\n      <td>398728.03</td>\n      <td>134807.00</td>\n      <td>38.881097</td>\n      <td>-77.014660</td>\n      <td>WASHINGTON</td>\n      <td>DC</td>\n      <td>20024.0</td>\n      <td>277827.0</td>\n      <td>6.0</td>\n      <td>NaN</td>\n    </tr>\n  </tbody>\n</table>\n<p>5 rows × 30 columns</p>\n</div>"
     },
     "metadata": {},
     "execution_count": 5
    }
   ],
   "source": [
    "DC_311_2020_df.head()"
   ]
  },
  {
   "cell_type": "code",
   "execution_count": 6,
   "metadata": {},
   "outputs": [
    {
     "output_type": "stream",
     "name": "stdout",
     "text": [
      "Index(['X', 'Y', 'OBJECTID', 'SERVICECODE', 'SERVICECODEDESCRIPTION',\n",
      "       'SERVICETYPECODEDESCRIPTION', 'ORGANIZATIONACRONYM', 'SERVICECALLCOUNT',\n",
      "       'ADDDATE', 'RESOLUTIONDATE', 'SERVICEDUEDATE', 'SERVICEORDERDATE',\n",
      "       'INSPECTIONFLAG', 'INSPECTIONDATE', 'INSPECTORNAME',\n",
      "       'SERVICEORDERSTATUS', 'STATUS_CODE', 'SERVICEREQUESTID', 'PRIORITY',\n",
      "       'STREETADDRESS', 'XCOORD', 'YCOORD', 'LATITUDE', 'LONGITUDE', 'CITY',\n",
      "       'STATE', 'ZIPCODE', 'MARADDRESSREPOSITORYID', 'WARD', 'DETAILS',\n",
      "       'opened_date'],\n",
      "      dtype='object')\n",
      "#attributes: 30\n",
      "#311 reports between 2020-01-01 05:00:38+00:00 and 2020-12-31 23:56:22+00:00: 304718\n"
     ]
    }
   ],
   "source": [
    "DC_311_2020_df['opened_date'] = pd.to_datetime(DC_311_2020_df['ADDDATE'], format='%Y/%m/%d %H:%M:%S')\n",
    "DC_311_2020_df = DC_311_2020_df.loc[ DC_311_2020_df['opened_date'].dt.year == 2020]\n",
    "print(DC_311_2020_df.columns)\n",
    "print('#attributes: ' + str(len(DC_311_2020_df.columns)-1))\n",
    "DC_311_2020_df.drop_duplicates(subset=['OBJECTID'], inplace = True)\n",
    "min_date = min(DC_311_2020_df['opened_date'])\n",
    "max_date = max(DC_311_2020_df['opened_date'])\n",
    "print(\"#311 reports between \" + str(min_date) + \" and \" + str(max_date) + \": \" + str(DC_311_2020_df.shape[0]))"
   ]
  },
  {
   "source": [
    "### Montgomery County"
   ],
   "cell_type": "markdown",
   "metadata": {}
  },
  {
   "cell_type": "code",
   "execution_count": 7,
   "metadata": {},
   "outputs": [
    {
     "output_type": "stream",
     "name": "stdout",
     "text": [
      "Index(['SR ID', 'Opened', 'Closed', 'Status', 'Department', 'Area', 'Sub-Area',\n       'Attached Solution (Topic)', 'Attached Solution SLA Days', 'City',\n       'State', 'Zip Code', 'Source', 'Election District',\n       'Maryland State District', 'Congressional District',\n       'Congressional Member', 'Council District', 'Council Member Name',\n       'Changed Date', '# of Days Open', 'Within SLA Windows', 'SLA Yes',\n       'SLA No'],\n      dtype='object')\n#attributes: 24\n"
     ]
    }
   ],
   "source": [
    "MC_311_all = '/Users/julia/Box/Data_311/DMV_311/DMV_nonEM/Montgomery County/311_Montgomery County_MD_2012_2021.csv'\n",
    "MC_311_all_df = pd.read_csv(MC_311_all)\n",
    "MC_311_all_df.drop_duplicates(subset=['SR ID'], inplace = True)\n",
    "print(MC_311_all_df.columns)\n",
    "print('#attributes: ' + str(len(MC_311_all_df.columns)))"
   ]
  },
  {
   "cell_type": "code",
   "execution_count": 8,
   "metadata": {},
   "outputs": [
    {
     "output_type": "execute_result",
     "data": {
      "text/plain": [
       "        SR ID                  Opened                  Closed  Status  \\\n",
       "0  1303668945  10/11/2016 12:33:37 PM  10/13/2016 02:24:33 PM  Closed   \n",
       "1  1305658856  11/15/2016 02:25:38 PM  11/18/2016 07:57:00 AM  Closed   \n",
       "2  1310137174  02/06/2017 08:33:04 AM  02/06/2017 08:35:08 AM  Closed   \n",
       "3  1310137190  02/06/2017 08:40:43 AM  02/06/2017 08:41:17 AM  Closed   \n",
       "4  1377072702  01/15/2019 09:54:44 AM  01/18/2019 12:48:24 PM  Closed   \n",
       "\n",
       "  Department                      Area                 Sub-Area  \\\n",
       "0        DEP               Solid Waste      Scrap Metal Request   \n",
       "1        DEP               Solid Waste      Scrap Metal Request   \n",
       "2        DPS  Residential Construction  Residential Inspections   \n",
       "3        FIN                   Payroll                      NaN   \n",
       "4        DOT          Highway Services             Snow Removal   \n",
       "\n",
       "                           Attached Solution (Topic)  \\\n",
       "0                        Scrap Metal Pick-Up Request   \n",
       "1                        Scrap Metal Pick-Up Request   \n",
       "2  Name and Telephone Number of DPS Residential B...   \n",
       "3               Employee - Questions on the W-2 Form   \n",
       "4                   Report Unplowed or Missed Street   \n",
       "\n",
       "   Attached Solution SLA Days           City  ... Congressional District  \\\n",
       "0                         5.0  SILVER SPRING  ...                    8.0   \n",
       "1                         5.0      ROCKVILLE  ...                    8.0   \n",
       "2                         1.0            NaN  ...                    NaN   \n",
       "3                         1.0            NaN  ...                    NaN   \n",
       "4                         1.0  SILVER SPRING  ...                    8.0   \n",
       "\n",
       "             Congressional Member Council District  Council Member Name  \\\n",
       "0  CHRISTOPHER VAN HOLLEN,JR -Dem              5.0           Tom Hucker   \n",
       "1  CHRISTOPHER VAN HOLLEN,JR -Dem              4.0        Nancy Navarro   \n",
       "2                             NaN              NaN                  NaN   \n",
       "3                             NaN              NaN                  NaN   \n",
       "4  CHRISTOPHER VAN HOLLEN,JR -Dem              4.0        Nancy Navarro   \n",
       "\n",
       "             Changed Date  # of Days Open Within SLA Windows  SLA Yes SLA No  \\\n",
       "0  10/13/2016 06:24:34 PM               2                Yes        1      0   \n",
       "1  11/18/2016 12:57:00 PM               3                Yes        1      0   \n",
       "2  02/06/2017 01:35:10 PM               0                Yes        1      0   \n",
       "3  02/06/2017 01:41:18 PM               0                Yes        1      0   \n",
       "4  01/18/2019 05:48:27 PM               3                 No        0      1   \n",
       "\n",
       "          opened_date  \n",
       "0 2016-10-11 12:33:37  \n",
       "1 2016-11-15 14:25:38  \n",
       "2 2017-02-06 08:33:04  \n",
       "3 2017-02-06 08:40:43  \n",
       "4 2019-01-15 09:54:44  \n",
       "\n",
       "[5 rows x 25 columns]"
      ],
      "text/html": "<div>\n<style scoped>\n    .dataframe tbody tr th:only-of-type {\n        vertical-align: middle;\n    }\n\n    .dataframe tbody tr th {\n        vertical-align: top;\n    }\n\n    .dataframe thead th {\n        text-align: right;\n    }\n</style>\n<table border=\"1\" class=\"dataframe\">\n  <thead>\n    <tr style=\"text-align: right;\">\n      <th></th>\n      <th>SR ID</th>\n      <th>Opened</th>\n      <th>Closed</th>\n      <th>Status</th>\n      <th>Department</th>\n      <th>Area</th>\n      <th>Sub-Area</th>\n      <th>Attached Solution (Topic)</th>\n      <th>Attached Solution SLA Days</th>\n      <th>City</th>\n      <th>...</th>\n      <th>Congressional District</th>\n      <th>Congressional Member</th>\n      <th>Council District</th>\n      <th>Council Member Name</th>\n      <th>Changed Date</th>\n      <th># of Days Open</th>\n      <th>Within SLA Windows</th>\n      <th>SLA Yes</th>\n      <th>SLA No</th>\n      <th>opened_date</th>\n    </tr>\n  </thead>\n  <tbody>\n    <tr>\n      <th>0</th>\n      <td>1303668945</td>\n      <td>10/11/2016 12:33:37 PM</td>\n      <td>10/13/2016 02:24:33 PM</td>\n      <td>Closed</td>\n      <td>DEP</td>\n      <td>Solid Waste</td>\n      <td>Scrap Metal Request</td>\n      <td>Scrap Metal Pick-Up Request</td>\n      <td>5.0</td>\n      <td>SILVER SPRING</td>\n      <td>...</td>\n      <td>8.0</td>\n      <td>CHRISTOPHER VAN HOLLEN,JR -Dem</td>\n      <td>5.0</td>\n      <td>Tom Hucker</td>\n      <td>10/13/2016 06:24:34 PM</td>\n      <td>2</td>\n      <td>Yes</td>\n      <td>1</td>\n      <td>0</td>\n      <td>2016-10-11 12:33:37</td>\n    </tr>\n    <tr>\n      <th>1</th>\n      <td>1305658856</td>\n      <td>11/15/2016 02:25:38 PM</td>\n      <td>11/18/2016 07:57:00 AM</td>\n      <td>Closed</td>\n      <td>DEP</td>\n      <td>Solid Waste</td>\n      <td>Scrap Metal Request</td>\n      <td>Scrap Metal Pick-Up Request</td>\n      <td>5.0</td>\n      <td>ROCKVILLE</td>\n      <td>...</td>\n      <td>8.0</td>\n      <td>CHRISTOPHER VAN HOLLEN,JR -Dem</td>\n      <td>4.0</td>\n      <td>Nancy Navarro</td>\n      <td>11/18/2016 12:57:00 PM</td>\n      <td>3</td>\n      <td>Yes</td>\n      <td>1</td>\n      <td>0</td>\n      <td>2016-11-15 14:25:38</td>\n    </tr>\n    <tr>\n      <th>2</th>\n      <td>1310137174</td>\n      <td>02/06/2017 08:33:04 AM</td>\n      <td>02/06/2017 08:35:08 AM</td>\n      <td>Closed</td>\n      <td>DPS</td>\n      <td>Residential Construction</td>\n      <td>Residential Inspections</td>\n      <td>Name and Telephone Number of DPS Residential B...</td>\n      <td>1.0</td>\n      <td>NaN</td>\n      <td>...</td>\n      <td>NaN</td>\n      <td>NaN</td>\n      <td>NaN</td>\n      <td>NaN</td>\n      <td>02/06/2017 01:35:10 PM</td>\n      <td>0</td>\n      <td>Yes</td>\n      <td>1</td>\n      <td>0</td>\n      <td>2017-02-06 08:33:04</td>\n    </tr>\n    <tr>\n      <th>3</th>\n      <td>1310137190</td>\n      <td>02/06/2017 08:40:43 AM</td>\n      <td>02/06/2017 08:41:17 AM</td>\n      <td>Closed</td>\n      <td>FIN</td>\n      <td>Payroll</td>\n      <td>NaN</td>\n      <td>Employee - Questions on the W-2 Form</td>\n      <td>1.0</td>\n      <td>NaN</td>\n      <td>...</td>\n      <td>NaN</td>\n      <td>NaN</td>\n      <td>NaN</td>\n      <td>NaN</td>\n      <td>02/06/2017 01:41:18 PM</td>\n      <td>0</td>\n      <td>Yes</td>\n      <td>1</td>\n      <td>0</td>\n      <td>2017-02-06 08:40:43</td>\n    </tr>\n    <tr>\n      <th>4</th>\n      <td>1377072702</td>\n      <td>01/15/2019 09:54:44 AM</td>\n      <td>01/18/2019 12:48:24 PM</td>\n      <td>Closed</td>\n      <td>DOT</td>\n      <td>Highway Services</td>\n      <td>Snow Removal</td>\n      <td>Report Unplowed or Missed Street</td>\n      <td>1.0</td>\n      <td>SILVER SPRING</td>\n      <td>...</td>\n      <td>8.0</td>\n      <td>CHRISTOPHER VAN HOLLEN,JR -Dem</td>\n      <td>4.0</td>\n      <td>Nancy Navarro</td>\n      <td>01/18/2019 05:48:27 PM</td>\n      <td>3</td>\n      <td>No</td>\n      <td>0</td>\n      <td>1</td>\n      <td>2019-01-15 09:54:44</td>\n    </tr>\n  </tbody>\n</table>\n<p>5 rows × 25 columns</p>\n</div>"
     },
     "metadata": {},
     "execution_count": 8
    }
   ],
   "source": [
    "MC_311_all_df['opened_date'] = pd.to_datetime(MC_311_all_df['Opened'], format='%m/%d/%Y %I:%M:%S %p')\n",
    "MC_311_all_df.head()"
   ]
  },
  {
   "source": [
    "1. Montgomery County 2019"
   ],
   "cell_type": "markdown",
   "metadata": {}
  },
  {
   "cell_type": "code",
   "execution_count": 9,
   "metadata": {},
   "outputs": [],
   "source": [
    "MC_311_2019 = MC_311_all_df.loc[ MC_311_all_df['opened_date'].dt.year == 2019]\n",
    "MC_311_2019.reset_index(drop = True, inplace = True)\n",
    "# MC_311_2019.to_csv('/Users/julia/Box/Data_311/DMV_311/DMV_nonEM/Montgomery County/311_Montgomery County_MD_2019.csv')"
   ]
  },
  {
   "cell_type": "code",
   "execution_count": 10,
   "metadata": {},
   "outputs": [
    {
     "output_type": "stream",
     "name": "stdout",
     "text": [
      "Index(['SR ID', 'Opened', 'Closed', 'Status', 'Department', 'Area', 'Sub-Area',\n",
      "       'Attached Solution (Topic)', 'Attached Solution SLA Days', 'City',\n",
      "       'State', 'Zip Code', 'Source', 'Election District',\n",
      "       'Maryland State District', 'Congressional District',\n",
      "       'Congressional Member', 'Council District', 'Council Member Name',\n",
      "       'Changed Date', '# of Days Open', 'Within SLA Windows', 'SLA Yes',\n",
      "       'SLA No', 'opened_date'],\n",
      "      dtype='object')\n",
      "#attributes: 24\n",
      "#311 reports between 2019-01-01 00:22:32 and 2019-12-31 22:51:04: 555509\n"
     ]
    }
   ],
   "source": [
    "print(MC_311_2019.columns)\n",
    "print('#attributes: ' + str(len(MC_311_2019.columns)-1))\n",
    "min_date = min(MC_311_2019['opened_date'])\n",
    "max_date = max(MC_311_2019['opened_date'])\n",
    "print(\"#311 reports between \" + str(min_date) + \" and \" + str(max_date) + \": \" + str(MC_311_2019.shape[0]))"
   ]
  },
  {
   "source": [
    "2. Montgomery County 2020"
   ],
   "cell_type": "markdown",
   "metadata": {}
  },
  {
   "cell_type": "code",
   "execution_count": 11,
   "metadata": {},
   "outputs": [],
   "source": [
    "MC_311_2020 = MC_311_all_df.loc[ MC_311_all_df['opened_date'].dt.year == 2020]\n",
    "MC_311_2020.reset_index(drop = True, inplace = True)\n",
    "# MC_311_2020.to_csv('/Users/julia/Box/Data_311/DMV_311/DMV_nonEM/Montgomery County/311_Montgomery County_MD_2020.csv')"
   ]
  },
  {
   "cell_type": "code",
   "execution_count": 12,
   "metadata": {},
   "outputs": [
    {
     "output_type": "stream",
     "name": "stdout",
     "text": [
      "Index(['SR ID', 'Opened', 'Closed', 'Status', 'Department', 'Area', 'Sub-Area',\n",
      "       'Attached Solution (Topic)', 'Attached Solution SLA Days', 'City',\n",
      "       'State', 'Zip Code', 'Source', 'Election District',\n",
      "       'Maryland State District', 'Congressional District',\n",
      "       'Congressional Member', 'Council District', 'Council Member Name',\n",
      "       'Changed Date', '# of Days Open', 'Within SLA Windows', 'SLA Yes',\n",
      "       'SLA No', 'opened_date'],\n",
      "      dtype='object')\n",
      "#attributes: 24\n",
      "#311 reports between 2020-01-01 02:08:54 and 2020-12-31 23:19:24: 576486\n"
     ]
    }
   ],
   "source": [
    "print(MC_311_2020.columns)\n",
    "print('#attributes: ' + str(len(MC_311_2020.columns)-1))\n",
    "min_date = min(MC_311_2020['opened_date'])\n",
    "max_date = max(MC_311_2020['opened_date'])\n",
    "print(\"#311 reports between \" + str(min_date) + \" and \" + str(max_date) + \": \" + str(MC_311_2020.shape[0]))"
   ]
  },
  {
   "cell_type": "code",
   "execution_count": 13,
   "metadata": {},
   "outputs": [
    {
     "output_type": "execute_result",
     "data": {
      "text/plain": [
       "array(['Closed', 'In Progress'], dtype=object)"
      ]
     },
     "metadata": {},
     "execution_count": 13
    }
   ],
   "source": [
    "MC_311_2020['Status'].unique()"
   ]
  },
  {
   "source": [
    "### Prince George's County"
   ],
   "cell_type": "markdown",
   "metadata": {}
  },
  {
   "cell_type": "code",
   "execution_count": 14,
   "metadata": {},
   "outputs": [
    {
     "output_type": "stream",
     "name": "stdout",
     "text": [
      "Index(['Service Request #', 'Date Request Opened', 'Request Status', 'SLA',\n       'Service Group', 'Agency Responsible', 'Request Name', 'Street Address',\n       'Latitude', 'Longitude', 'Location', 'TNI Area Description'],\n      dtype='object')\n#attributes: 12\n"
     ]
    }
   ],
   "source": [
    "PG_311_all = '/Users/julia/Box/Data_311/DMV_311/DMV_nonEM/Prince George County/311_Prince George County_MD_20210310.csv'\n",
    "PG_311_all = pd.read_csv(PG_311_all)\n",
    "PG_311_all.drop_duplicates(subset=['Service Request #'], inplace = True)\n",
    "print(PG_311_all.columns)\n",
    "print('#attributes: ' + str(len(PG_311_all.columns)))"
   ]
  },
  {
   "cell_type": "code",
   "execution_count": 15,
   "metadata": {},
   "outputs": [
    {
     "output_type": "execute_result",
     "data": {
      "text/plain": [
       "  Service Request #     Date Request Opened Request Status      SLA  \\\n",
       "0       18-00103211  09/22/2018 10:45:44 AM           OPEN  OVERDUE   \n",
       "1       18-00103242  09/23/2018 03:25:01 PM         CLOSED   CLOSED   \n",
       "2       18-00103255  09/23/2018 09:46:43 PM           OPEN   CLOSED   \n",
       "3       18-00103239  09/23/2018 01:56:45 PM           OPEN  OVERDUE   \n",
       "4       18-00103251  09/23/2018 07:09:02 PM           OPEN  OVERDUE   \n",
       "\n",
       "                  Service Group         Agency Responsible  \\\n",
       "0      Administration - Sheriff                    Sheriff   \n",
       "1       3-1-1 Call Center (Ocr)  Community Relations (Ocr)   \n",
       "2                  Multi Family                       DPIE   \n",
       "3  Public Safety Communications          Homeland Security   \n",
       "4  Public Safety Communications          Homeland Security   \n",
       "\n",
       "                                        Request Name       Street Address  \\\n",
       "0                            Status of Open Warrants                  NaN   \n",
       "1  Agency Feedback (Positive Experience/Negative ...  4325 SPRING FOAL CT   \n",
       "2                  ENF-Rental Issues  Apartment Unit        7304 RIGGS RD   \n",
       "3                        PSC Audio Recording Request                  NaN   \n",
       "4                        PSC Audio Recording Request                  NaN   \n",
       "\n",
       "   Latitude  Longitude Location TNI Area Description         opened_date  \n",
       "0       NaN        NaN      NaN       County Address 2018-09-22 10:45:44  \n",
       "1       NaN        NaN      NaN       County Address 2018-09-23 15:25:01  \n",
       "2       NaN        NaN      NaN       County Address 2018-09-23 21:46:43  \n",
       "3       NaN        NaN      NaN       County Address 2018-09-23 13:56:45  \n",
       "4       NaN        NaN      NaN       County Address 2018-09-23 19:09:02  "
      ],
      "text/html": "<div>\n<style scoped>\n    .dataframe tbody tr th:only-of-type {\n        vertical-align: middle;\n    }\n\n    .dataframe tbody tr th {\n        vertical-align: top;\n    }\n\n    .dataframe thead th {\n        text-align: right;\n    }\n</style>\n<table border=\"1\" class=\"dataframe\">\n  <thead>\n    <tr style=\"text-align: right;\">\n      <th></th>\n      <th>Service Request #</th>\n      <th>Date Request Opened</th>\n      <th>Request Status</th>\n      <th>SLA</th>\n      <th>Service Group</th>\n      <th>Agency Responsible</th>\n      <th>Request Name</th>\n      <th>Street Address</th>\n      <th>Latitude</th>\n      <th>Longitude</th>\n      <th>Location</th>\n      <th>TNI Area Description</th>\n      <th>opened_date</th>\n    </tr>\n  </thead>\n  <tbody>\n    <tr>\n      <th>0</th>\n      <td>18-00103211</td>\n      <td>09/22/2018 10:45:44 AM</td>\n      <td>OPEN</td>\n      <td>OVERDUE</td>\n      <td>Administration - Sheriff</td>\n      <td>Sheriff</td>\n      <td>Status of Open Warrants</td>\n      <td>NaN</td>\n      <td>NaN</td>\n      <td>NaN</td>\n      <td>NaN</td>\n      <td>County Address</td>\n      <td>2018-09-22 10:45:44</td>\n    </tr>\n    <tr>\n      <th>1</th>\n      <td>18-00103242</td>\n      <td>09/23/2018 03:25:01 PM</td>\n      <td>CLOSED</td>\n      <td>CLOSED</td>\n      <td>3-1-1 Call Center (Ocr)</td>\n      <td>Community Relations (Ocr)</td>\n      <td>Agency Feedback (Positive Experience/Negative ...</td>\n      <td>4325 SPRING FOAL CT</td>\n      <td>NaN</td>\n      <td>NaN</td>\n      <td>NaN</td>\n      <td>County Address</td>\n      <td>2018-09-23 15:25:01</td>\n    </tr>\n    <tr>\n      <th>2</th>\n      <td>18-00103255</td>\n      <td>09/23/2018 09:46:43 PM</td>\n      <td>OPEN</td>\n      <td>CLOSED</td>\n      <td>Multi Family</td>\n      <td>DPIE</td>\n      <td>ENF-Rental Issues  Apartment Unit</td>\n      <td>7304 RIGGS RD</td>\n      <td>NaN</td>\n      <td>NaN</td>\n      <td>NaN</td>\n      <td>County Address</td>\n      <td>2018-09-23 21:46:43</td>\n    </tr>\n    <tr>\n      <th>3</th>\n      <td>18-00103239</td>\n      <td>09/23/2018 01:56:45 PM</td>\n      <td>OPEN</td>\n      <td>OVERDUE</td>\n      <td>Public Safety Communications</td>\n      <td>Homeland Security</td>\n      <td>PSC Audio Recording Request</td>\n      <td>NaN</td>\n      <td>NaN</td>\n      <td>NaN</td>\n      <td>NaN</td>\n      <td>County Address</td>\n      <td>2018-09-23 13:56:45</td>\n    </tr>\n    <tr>\n      <th>4</th>\n      <td>18-00103251</td>\n      <td>09/23/2018 07:09:02 PM</td>\n      <td>OPEN</td>\n      <td>OVERDUE</td>\n      <td>Public Safety Communications</td>\n      <td>Homeland Security</td>\n      <td>PSC Audio Recording Request</td>\n      <td>NaN</td>\n      <td>NaN</td>\n      <td>NaN</td>\n      <td>NaN</td>\n      <td>County Address</td>\n      <td>2018-09-23 19:09:02</td>\n    </tr>\n  </tbody>\n</table>\n</div>"
     },
     "metadata": {},
     "execution_count": 15
    }
   ],
   "source": [
    "PG_311_all['opened_date'] = pd.to_datetime(PG_311_all['Date Request Opened'], format='%m/%d/%Y %I:%M:%S %p')\n",
    "PG_311_all.head()"
   ]
  },
  {
   "source": [
    "1. Prince George's County 2019"
   ],
   "cell_type": "markdown",
   "metadata": {}
  },
  {
   "cell_type": "code",
   "execution_count": 16,
   "metadata": {},
   "outputs": [],
   "source": [
    "PG_311_2019 = PG_311_all.loc[ PG_311_all['opened_date'].dt.year == 2019]\n",
    "PG_311_2019.reset_index(drop = True, inplace = True)\n",
    "# PG_311_2019.to_csv('/Users/julia/Box/Data_311/DMV_311/DMV_nonEM/Prince George County/311_Prince George County_MD_2019.csv') \n",
    "\n",
    "PG_311_2020 = PG_311_all.loc[ PG_311_all['opened_date'].dt.year == 2020]\n",
    "PG_311_2020.reset_index(drop = True, inplace = True)\n",
    "# PG_311_2020.to_csv('/Users/julia/Box/Data_311/DMV_311/DMV_nonEM/Prince George County/311_Prince George County_MD_2020.csv') \n"
   ]
  },
  {
   "cell_type": "code",
   "execution_count": 17,
   "metadata": {},
   "outputs": [
    {
     "output_type": "stream",
     "name": "stdout",
     "text": [
      "Index(['Service Request #', 'Date Request Opened', 'Request Status', 'SLA',\n       'Service Group', 'Agency Responsible', 'Request Name', 'Street Address',\n       'Latitude', 'Longitude', 'Location', 'TNI Area Description',\n       'opened_date'],\n      dtype='object')\n#attributes: 12\n#311 reports between 2019-01-01 01:21:16 and 2019-12-31 17:15:41: 57553\n"
     ]
    }
   ],
   "source": [
    "print(PG_311_2019.columns)\n",
    "print('#attributes: ' + str(len(PG_311_2019.columns) -1))\n",
    "min_date = min(PG_311_2019['opened_date'])\n",
    "max_date = max(PG_311_2019['opened_date'])\n",
    "print(\"#311 reports between \" + str(min_date) + \" and \" + str(max_date) + \": \" + str(PG_311_2019.shape[0]))"
   ]
  },
  {
   "source": [
    "2. Prince George's County 2020"
   ],
   "cell_type": "markdown",
   "metadata": {}
  },
  {
   "cell_type": "code",
   "execution_count": 18,
   "metadata": {},
   "outputs": [
    {
     "output_type": "stream",
     "name": "stdout",
     "text": [
      "Index(['Service Request #', 'Date Request Opened', 'Request Status', 'SLA',\n",
      "       'Service Group', 'Agency Responsible', 'Request Name', 'Street Address',\n",
      "       'Latitude', 'Longitude', 'Location', 'TNI Area Description',\n",
      "       'opened_date'],\n",
      "      dtype='object')\n",
      "#attributes: 12\n",
      "#311 reports between 2020-01-01 08:08:42 and 2020-12-31 21:57:12: 47145\n"
     ]
    }
   ],
   "source": [
    "print(PG_311_2020.columns)\n",
    "print('#attributes: ' + str(len(PG_311_2020.columns) -1))\n",
    "min_date = min(PG_311_2020['opened_date'])\n",
    "max_date = max(PG_311_2020['opened_date'])\n",
    "print(\"#311 reports between \" + str(min_date) + \" and \" + str(max_date) + \": \" + str(PG_311_2020.shape[0]))"
   ]
  },
  {
   "cell_type": "code",
   "execution_count": 19,
   "metadata": {},
   "outputs": [
    {
     "output_type": "execute_result",
     "data": {
      "text/plain": [
       "array(['CLOSED', 'OPEN'], dtype=object)"
      ]
     },
     "metadata": {},
     "execution_count": 19
    }
   ],
   "source": [
    "PG_311_2020['Request Status'].unique()"
   ]
  },
  {
   "cell_type": "code",
   "execution_count": 20,
   "metadata": {},
   "outputs": [
    {
     "output_type": "execute_result",
     "data": {
      "text/plain": [
       "array(['CLOSED', 'OPEN', 'OVERDUE'], dtype=object)"
      ]
     },
     "metadata": {},
     "execution_count": 20
    }
   ],
   "source": [
    "PG_311_2020['SLA'].unique()"
   ]
  },
  {
   "cell_type": "code",
   "execution_count": 21,
   "metadata": {},
   "outputs": [
    {
     "output_type": "execute_result",
     "data": {
      "text/plain": [
       "array(['Police Department', 'Special Services Division',\n",
       "       'Collections-WMD', 'Zoning', 'Traffic Operations Division',\n",
       "       'Multi Family', 'Single Family (Code Enforcement)',\n",
       "       'Construction Division', 'Traffic Safety Division',\n",
       "       'Rva - General', 'Field Activities - Amd',\n",
       "       'Animal Management Division - A M D', 'Building and Construction',\n",
       "       'Health', 'Public Safety Communications',\n",
       "       'Abandoned Vehicle Unit A V U', 'Stormdrain Maintenance Division',\n",
       "       'Office of Information Technology (Oit)',\n",
       "       'Food Protection and Policy Program', 'Fire and Rescue Operations',\n",
       "       'Revenue Authority', 'Administrative Services Division - A S D',\n",
       "       'Community Relations (Ocr)',\n",
       "       'Sustainable Initiatives Division - SID', 'Permits',\n",
       "       'Child Adult and Family Services', '3-1-1 Call Center (Ocr)',\n",
       "       'Fleet Management Division', 'Office of Highway Maintenance',\n",
       "       'Office of Transportation', 'Site Road',\n",
       "       'Environmental Engineering/Policy Program', 'Recycling-WMD',\n",
       "       'Stormwater Management Division - S M D',\n",
       "       'Public Assistance Programs', 'Code Enforcement',\n",
       "       'Board of Elections (Boe)', 'Fire/Ems', 'Board of License (Blc)',\n",
       "       \"County Executive's Office\", 'Public Safety', 'Treasury',\n",
       "       'Administration - Sheriff', 'Contracts and Procurement',\n",
       "       'Asset Management',\n",
       "       'Environmental Health and Disease Control (Hlt)',\n",
       "       'Field Operations (Sheriff)',\n",
       "       'Land Acquisition and Real Property Division (Ocs)',\n",
       "       \"Director's Office - Do\", 'Licensing', 'Tobacco Coalition Program'],\n",
       "      dtype=object)"
      ]
     },
     "metadata": {},
     "execution_count": 21
    }
   ],
   "source": [
    "PG_311_2020['Service Group'].unique()"
   ]
  },
  {
   "cell_type": "code",
   "execution_count": 22,
   "metadata": {},
   "outputs": [
    {
     "output_type": "execute_result",
     "data": {
      "text/plain": [
       "array(['Police Department', 'Department of Public Works & Transportation',\n",
       "       'Dept. of The Environment-DOE', 'DPIE', 'Revenue Authority',\n",
       "       'Health', 'Homeland Security',\n",
       "       'Office of Information Technology (Oit)',\n",
       "       'Environmental Health and Disease Control (Hlt)', 'Fire/Ems',\n",
       "       'Community Relations (Ocr)', 'Social Services',\n",
       "       'Office of Central Services (Ocs)', 'Board of Elections (Boe)',\n",
       "       'Board of License (Blc)', \"County Executive's Office\",\n",
       "       'Public Safety', 'Office of Finance', 'Sheriff', 'Training Group'],\n",
       "      dtype=object)"
      ]
     },
     "metadata": {},
     "execution_count": 22
    }
   ],
   "source": [
    "PG_311_2020['Agency Responsible'].unique()"
   ]
  },
  {
   "cell_type": "code",
   "execution_count": 23,
   "metadata": {},
   "outputs": [
    {
     "output_type": "stream",
     "name": "stdout",
     "text": [
      "173\n177\n"
     ]
    }
   ],
   "source": [
    "print(PG_311_2020['Request Name'].nunique())\n",
    "print(PG_311_2019['Request Name'].nunique())"
   ]
  },
  {
   "cell_type": "code",
   "execution_count": 24,
   "metadata": {},
   "outputs": [
    {
     "output_type": "execute_result",
     "data": {
      "text/plain": [
       "array(['County Address', 'Kentland / Palmer Park', 'Woodlawn - Lanham',\n",
       "       'Forestville', 'Bladensburg / East Riverdale', 'Silver Hill',\n",
       "       'Suitland / Coral Hills', 'Oxon Hill / Glassmanor', 'Langley Park',\n",
       "       'Hillcrest Heights / Marlow Heights'], dtype=object)"
      ]
     },
     "metadata": {},
     "execution_count": 24
    }
   ],
   "source": [
    "PG_311_2020['TNI Area Description'].unique()"
   ]
  },
  {
   "source": [
    "### Arlington County"
   ],
   "cell_type": "markdown",
   "metadata": {}
  },
  {
   "cell_type": "code",
   "execution_count": 25,
   "metadata": {},
   "outputs": [],
   "source": [
    "arlington_311 = '/Users/julia/Box/Data_311/DMV_311/DMV_nonEM/Arlington County/MyArlington_Arlington_VA_2020_2021.txt'\n",
    "arlington_311_csv = '/Users/julia/Box/Data_311/DMV_311/DMV_nonEM/Arlington County/MyArlington_Arlington_VA_2020_2021.csv'"
   ]
  },
  {
   "cell_type": "code",
   "execution_count": 26,
   "metadata": {},
   "outputs": [],
   "source": [
    "with open(arlington_311) as txt_file:\n",
    "    arlington_311_cols = txt_file.readline().rstrip().split('|')\n",
    "    lines = txt_file.readlines()\n",
    "    arlington_311_df = pd.DataFrame(columns=arlington_311_cols)\n",
    "    txt_file.close()  "
   ]
  },
  {
   "cell_type": "code",
   "execution_count": 27,
   "metadata": {
    "tags": []
   },
   "outputs": [
    {
     "output_type": "execute_result",
     "data": {
      "text/plain": [
       "  service_request_key service_request_id                     name  \\\n",
       "0                  12            7272245       Facilities Damaged   \n",
       "1                  28            7272780        Trail Maintenance   \n",
       "2                  44            7273620  Streetlight Damaged/Out   \n",
       "3                  60            7274198   Street Surface Damaged   \n",
       "4                  76            7274767           ITS Specialist   \n",
       "\n",
       "                                         description     status     longitude  \\\n",
       "0            Please control the water flow. Too much  COMPLETED  -77.11682500   \n",
       "1  \"Sorry this is a weird one but its worth a go....  SUBMITTED  -77.12064024   \n",
       "2                                                     COMPLETED  -77.13011250   \n",
       "3  In the intersection with S. Wayne St. - part o...  COMPLETED  -77.08359069   \n",
       "4                                            No comm  COMPLETED  -77.07080400   \n",
       "\n",
       "      latitude                                          address  \\\n",
       "0  38.87067800              Lubber Run Park,Arlington, VA 22203   \n",
       "1  38.90418015    2400 N Wakefield Ct, Arlington, VA 22207, USA   \n",
       "2  38.87678140  858 N Jacksonville St, Arlington, VA 22205, USA   \n",
       "3  38.87152199          2220 2nd St S, Arlington, VA 22204, USA   \n",
       "4  38.89824900  Lee Hwy & North Lynn Street, Arlington, VA, USA   \n",
       "\n",
       "            created_at           updated_at                   permission  \\\n",
       "0  2020-01-01 12:51:59  2020-01-08 12:16:19  This is visible to Everyone   \n",
       "1  2020-01-01 16:46:35  2020-01-01 16:46:35  This is visible to Everyone   \n",
       "2  2020-01-02 07:18:01  2020-01-02 08:50:30  This is visible to Everyone   \n",
       "3  2020-01-02 09:38:22  2020-02-12 08:38:07  This is visible to Everyone   \n",
       "4  2020-01-02 10:44:27  2020-01-02 10:44:55  This is visible to Everyone   \n",
       "\n",
       "  source_system  \n",
       "0   PublicStuff  \n",
       "1   PublicStuff  \n",
       "2   PublicStuff  \n",
       "3   PublicStuff  \n",
       "4   PublicStuff  "
      ],
      "text/html": "<div>\n<style scoped>\n    .dataframe tbody tr th:only-of-type {\n        vertical-align: middle;\n    }\n\n    .dataframe tbody tr th {\n        vertical-align: top;\n    }\n\n    .dataframe thead th {\n        text-align: right;\n    }\n</style>\n<table border=\"1\" class=\"dataframe\">\n  <thead>\n    <tr style=\"text-align: right;\">\n      <th></th>\n      <th>service_request_key</th>\n      <th>service_request_id</th>\n      <th>name</th>\n      <th>description</th>\n      <th>status</th>\n      <th>longitude</th>\n      <th>latitude</th>\n      <th>address</th>\n      <th>created_at</th>\n      <th>updated_at</th>\n      <th>permission</th>\n      <th>source_system</th>\n    </tr>\n  </thead>\n  <tbody>\n    <tr>\n      <th>0</th>\n      <td>12</td>\n      <td>7272245</td>\n      <td>Facilities Damaged</td>\n      <td>Please control the water flow. Too much</td>\n      <td>COMPLETED</td>\n      <td>-77.11682500</td>\n      <td>38.87067800</td>\n      <td>Lubber Run Park,Arlington, VA 22203</td>\n      <td>2020-01-01 12:51:59</td>\n      <td>2020-01-08 12:16:19</td>\n      <td>This is visible to Everyone</td>\n      <td>PublicStuff</td>\n    </tr>\n    <tr>\n      <th>1</th>\n      <td>28</td>\n      <td>7272780</td>\n      <td>Trail Maintenance</td>\n      <td>\"Sorry this is a weird one but its worth a go....</td>\n      <td>SUBMITTED</td>\n      <td>-77.12064024</td>\n      <td>38.90418015</td>\n      <td>2400 N Wakefield Ct, Arlington, VA 22207, USA</td>\n      <td>2020-01-01 16:46:35</td>\n      <td>2020-01-01 16:46:35</td>\n      <td>This is visible to Everyone</td>\n      <td>PublicStuff</td>\n    </tr>\n    <tr>\n      <th>2</th>\n      <td>44</td>\n      <td>7273620</td>\n      <td>Streetlight Damaged/Out</td>\n      <td></td>\n      <td>COMPLETED</td>\n      <td>-77.13011250</td>\n      <td>38.87678140</td>\n      <td>858 N Jacksonville St, Arlington, VA 22205, USA</td>\n      <td>2020-01-02 07:18:01</td>\n      <td>2020-01-02 08:50:30</td>\n      <td>This is visible to Everyone</td>\n      <td>PublicStuff</td>\n    </tr>\n    <tr>\n      <th>3</th>\n      <td>60</td>\n      <td>7274198</td>\n      <td>Street Surface Damaged</td>\n      <td>In the intersection with S. Wayne St. - part o...</td>\n      <td>COMPLETED</td>\n      <td>-77.08359069</td>\n      <td>38.87152199</td>\n      <td>2220 2nd St S, Arlington, VA 22204, USA</td>\n      <td>2020-01-02 09:38:22</td>\n      <td>2020-02-12 08:38:07</td>\n      <td>This is visible to Everyone</td>\n      <td>PublicStuff</td>\n    </tr>\n    <tr>\n      <th>4</th>\n      <td>76</td>\n      <td>7274767</td>\n      <td>ITS Specialist</td>\n      <td>No comm</td>\n      <td>COMPLETED</td>\n      <td>-77.07080400</td>\n      <td>38.89824900</td>\n      <td>Lee Hwy &amp; North Lynn Street, Arlington, VA, USA</td>\n      <td>2020-01-02 10:44:27</td>\n      <td>2020-01-02 10:44:55</td>\n      <td>This is visible to Everyone</td>\n      <td>PublicStuff</td>\n    </tr>\n  </tbody>\n</table>\n</div>"
     },
     "metadata": {},
     "execution_count": 27
    }
   ],
   "source": [
    "for line in lines:\n",
    "    line = line.rstrip()\n",
    "    line = re.sub('\\s+\\|\\s+', ' ', line)\n",
    "    record = line.split('|')\n",
    "    if len(record) < len(arlington_311_cols):\n",
    "        nan_ls = [np.nan] *(len(arlington_311_cols) - len(record)) \n",
    "        record.extend(nan_ls)\n",
    "    record_series = pd.Series(record, index = arlington_311_cols)\n",
    "    arlington_311_df =  arlington_311_df.append(record_series, ignore_index=True)\n",
    "arlington_311_df.to_csv(arlington_311_csv)\n",
    "arlington_311_df.head()"
   ]
  },
  {
   "cell_type": "code",
   "execution_count": 28,
   "metadata": {},
   "outputs": [],
   "source": [
    "arlington_311_df['opened_date'] = pd.to_datetime(arlington_311_df['created_at'], format='%Y-%m-%d %H:%M:%S')\n",
    "arlington_311_df['updated_date'] = pd.to_datetime(arlington_311_df['updated_at'], format='%Y-%m-%d %H:%M:%S')\n"
   ]
  },
  {
   "source": [
    "* Service requests submitted over the past 6 months, so 2019's data is not available"
   ],
   "cell_type": "markdown",
   "metadata": {}
  },
  {
   "cell_type": "code",
   "execution_count": 29,
   "metadata": {},
   "outputs": [
    {
     "output_type": "execute_result",
     "data": {
      "text/plain": [
       "Empty DataFrame\n",
       "Columns: [service_request_key, service_request_id, name, description, status, longitude, latitude, address, created_at, updated_at, permission, source_system, opened_date, updated_date]\n",
       "Index: []"
      ],
      "text/html": "<div>\n<style scoped>\n    .dataframe tbody tr th:only-of-type {\n        vertical-align: middle;\n    }\n\n    .dataframe tbody tr th {\n        vertical-align: top;\n    }\n\n    .dataframe thead th {\n        text-align: right;\n    }\n</style>\n<table border=\"1\" class=\"dataframe\">\n  <thead>\n    <tr style=\"text-align: right;\">\n      <th></th>\n      <th>service_request_key</th>\n      <th>service_request_id</th>\n      <th>name</th>\n      <th>description</th>\n      <th>status</th>\n      <th>longitude</th>\n      <th>latitude</th>\n      <th>address</th>\n      <th>created_at</th>\n      <th>updated_at</th>\n      <th>permission</th>\n      <th>source_system</th>\n      <th>opened_date</th>\n      <th>updated_date</th>\n    </tr>\n  </thead>\n  <tbody>\n  </tbody>\n</table>\n</div>"
     },
     "metadata": {},
     "execution_count": 29
    }
   ],
   "source": [
    "arlington_311_2019 = arlington_311_df.loc[ arlington_311_df['opened_date'].dt.year == 2019]\n",
    "arlington_311_2019.reset_index(drop = True, inplace = True)\n",
    "\n",
    "# arlington_311_2019.to_csv('/Users/julia/Box/Data_311/DMV_311/DMV_nonEM/Arlington County/MyArlington_Arlington_VA_2019.csv') \n",
    "arlington_311_2019"
   ]
  },
  {
   "cell_type": "code",
   "execution_count": 30,
   "metadata": {},
   "outputs": [
    {
     "output_type": "execute_result",
     "data": {
      "text/plain": [
       "  service_request_key service_request_id                     name  \\\n",
       "0                  12            7272245       Facilities Damaged   \n",
       "1                  28            7272780        Trail Maintenance   \n",
       "2                  44            7273620  Streetlight Damaged/Out   \n",
       "3                  60            7274198   Street Surface Damaged   \n",
       "4                  76            7274767           ITS Specialist   \n",
       "\n",
       "                                         description     status     longitude  \\\n",
       "0            Please control the water flow. Too much  COMPLETED  -77.11682500   \n",
       "1  \"Sorry this is a weird one but its worth a go....  SUBMITTED  -77.12064024   \n",
       "2                                                     COMPLETED  -77.13011250   \n",
       "3  In the intersection with S. Wayne St. - part o...  COMPLETED  -77.08359069   \n",
       "4                                            No comm  COMPLETED  -77.07080400   \n",
       "\n",
       "      latitude                                          address  \\\n",
       "0  38.87067800              Lubber Run Park,Arlington, VA 22203   \n",
       "1  38.90418015    2400 N Wakefield Ct, Arlington, VA 22207, USA   \n",
       "2  38.87678140  858 N Jacksonville St, Arlington, VA 22205, USA   \n",
       "3  38.87152199          2220 2nd St S, Arlington, VA 22204, USA   \n",
       "4  38.89824900  Lee Hwy & North Lynn Street, Arlington, VA, USA   \n",
       "\n",
       "            created_at           updated_at                   permission  \\\n",
       "0  2020-01-01 12:51:59  2020-01-08 12:16:19  This is visible to Everyone   \n",
       "1  2020-01-01 16:46:35  2020-01-01 16:46:35  This is visible to Everyone   \n",
       "2  2020-01-02 07:18:01  2020-01-02 08:50:30  This is visible to Everyone   \n",
       "3  2020-01-02 09:38:22  2020-02-12 08:38:07  This is visible to Everyone   \n",
       "4  2020-01-02 10:44:27  2020-01-02 10:44:55  This is visible to Everyone   \n",
       "\n",
       "  source_system         opened_date        updated_date  \n",
       "0   PublicStuff 2020-01-01 12:51:59 2020-01-08 12:16:19  \n",
       "1   PublicStuff 2020-01-01 16:46:35 2020-01-01 16:46:35  \n",
       "2   PublicStuff 2020-01-02 07:18:01 2020-01-02 08:50:30  \n",
       "3   PublicStuff 2020-01-02 09:38:22 2020-02-12 08:38:07  \n",
       "4   PublicStuff 2020-01-02 10:44:27 2020-01-02 10:44:55  "
      ],
      "text/html": "<div>\n<style scoped>\n    .dataframe tbody tr th:only-of-type {\n        vertical-align: middle;\n    }\n\n    .dataframe tbody tr th {\n        vertical-align: top;\n    }\n\n    .dataframe thead th {\n        text-align: right;\n    }\n</style>\n<table border=\"1\" class=\"dataframe\">\n  <thead>\n    <tr style=\"text-align: right;\">\n      <th></th>\n      <th>service_request_key</th>\n      <th>service_request_id</th>\n      <th>name</th>\n      <th>description</th>\n      <th>status</th>\n      <th>longitude</th>\n      <th>latitude</th>\n      <th>address</th>\n      <th>created_at</th>\n      <th>updated_at</th>\n      <th>permission</th>\n      <th>source_system</th>\n      <th>opened_date</th>\n      <th>updated_date</th>\n    </tr>\n  </thead>\n  <tbody>\n    <tr>\n      <th>0</th>\n      <td>12</td>\n      <td>7272245</td>\n      <td>Facilities Damaged</td>\n      <td>Please control the water flow. Too much</td>\n      <td>COMPLETED</td>\n      <td>-77.11682500</td>\n      <td>38.87067800</td>\n      <td>Lubber Run Park,Arlington, VA 22203</td>\n      <td>2020-01-01 12:51:59</td>\n      <td>2020-01-08 12:16:19</td>\n      <td>This is visible to Everyone</td>\n      <td>PublicStuff</td>\n      <td>2020-01-01 12:51:59</td>\n      <td>2020-01-08 12:16:19</td>\n    </tr>\n    <tr>\n      <th>1</th>\n      <td>28</td>\n      <td>7272780</td>\n      <td>Trail Maintenance</td>\n      <td>\"Sorry this is a weird one but its worth a go....</td>\n      <td>SUBMITTED</td>\n      <td>-77.12064024</td>\n      <td>38.90418015</td>\n      <td>2400 N Wakefield Ct, Arlington, VA 22207, USA</td>\n      <td>2020-01-01 16:46:35</td>\n      <td>2020-01-01 16:46:35</td>\n      <td>This is visible to Everyone</td>\n      <td>PublicStuff</td>\n      <td>2020-01-01 16:46:35</td>\n      <td>2020-01-01 16:46:35</td>\n    </tr>\n    <tr>\n      <th>2</th>\n      <td>44</td>\n      <td>7273620</td>\n      <td>Streetlight Damaged/Out</td>\n      <td></td>\n      <td>COMPLETED</td>\n      <td>-77.13011250</td>\n      <td>38.87678140</td>\n      <td>858 N Jacksonville St, Arlington, VA 22205, USA</td>\n      <td>2020-01-02 07:18:01</td>\n      <td>2020-01-02 08:50:30</td>\n      <td>This is visible to Everyone</td>\n      <td>PublicStuff</td>\n      <td>2020-01-02 07:18:01</td>\n      <td>2020-01-02 08:50:30</td>\n    </tr>\n    <tr>\n      <th>3</th>\n      <td>60</td>\n      <td>7274198</td>\n      <td>Street Surface Damaged</td>\n      <td>In the intersection with S. Wayne St. - part o...</td>\n      <td>COMPLETED</td>\n      <td>-77.08359069</td>\n      <td>38.87152199</td>\n      <td>2220 2nd St S, Arlington, VA 22204, USA</td>\n      <td>2020-01-02 09:38:22</td>\n      <td>2020-02-12 08:38:07</td>\n      <td>This is visible to Everyone</td>\n      <td>PublicStuff</td>\n      <td>2020-01-02 09:38:22</td>\n      <td>2020-02-12 08:38:07</td>\n    </tr>\n    <tr>\n      <th>4</th>\n      <td>76</td>\n      <td>7274767</td>\n      <td>ITS Specialist</td>\n      <td>No comm</td>\n      <td>COMPLETED</td>\n      <td>-77.07080400</td>\n      <td>38.89824900</td>\n      <td>Lee Hwy &amp; North Lynn Street, Arlington, VA, USA</td>\n      <td>2020-01-02 10:44:27</td>\n      <td>2020-01-02 10:44:55</td>\n      <td>This is visible to Everyone</td>\n      <td>PublicStuff</td>\n      <td>2020-01-02 10:44:27</td>\n      <td>2020-01-02 10:44:55</td>\n    </tr>\n  </tbody>\n</table>\n</div>"
     },
     "metadata": {},
     "execution_count": 30
    }
   ],
   "source": [
    "arlington_311_2020 = arlington_311_df.loc[ arlington_311_df['opened_date'].dt.year == 2020]\n",
    "arlington_311_2020.reset_index(drop = True, inplace = True)\n",
    "# arlington_311_2020.to_csv('/Users/julia/Box/Data_311/DMV_311/DMV_nonEM/Arlington County/MyArlington_Arlington_VA_2020.csv') \n",
    "arlington_311_2020.head()"
   ]
  },
  {
   "cell_type": "code",
   "execution_count": 31,
   "metadata": {},
   "outputs": [
    {
     "output_type": "stream",
     "name": "stdout",
     "text": [
      "Index(['service_request_key', 'service_request_id', 'name', 'description',\n       'status', 'longitude', 'latitude', 'address', 'created_at',\n       'updated_at', 'permission', 'source_system', 'opened_date',\n       'updated_date'],\n      dtype='object')\n#attributes: 12\n#reports between 2020-01-01 09:46:03 and 2020-12-31 14:59:00: 10645\n"
     ]
    }
   ],
   "source": [
    "print(arlington_311_2020.columns)\n",
    "print('#attributes: ' + str(len(arlington_311_2020.columns) -2))\n",
    "min_date = min(arlington_311_2020['opened_date'])\n",
    "max_date = max(arlington_311_2020['opened_date'])\n",
    "\n",
    "print(\"#reports between \" + str(min_date) + \" and \" + str(max_date) + \": \" + str(arlington_311_2020.shape[0]))"
   ]
  },
  {
   "cell_type": "code",
   "execution_count": 32,
   "metadata": {},
   "outputs": [
    {
     "output_type": "execute_result",
     "data": {
      "text/plain": [
       "array(['COMPLETED', 'SUBMITTED', 'IN_PROGRESS', 'RECEIVED', 'OTHER',\n",
       "       'OPEN', 'CLOSED', 'ON_HOLD'], dtype=object)"
      ]
     },
     "metadata": {},
     "execution_count": 32
    }
   ],
   "source": [
    "arlington_311_2020['status'].unique()"
   ]
  },
  {
   "cell_type": "code",
   "execution_count": null,
   "metadata": {},
   "outputs": [],
   "source": []
  }
 ]
}
{
 "metadata": {
  "language_info": {
   "codemirror_mode": {
    "name": "ipython",
    "version": 3
   },
   "file_extension": ".py",
   "mimetype": "text/x-python",
   "name": "python",
   "nbconvert_exporter": "python",
   "pygments_lexer": "ipython3",
   "version": "3.8.3-final"
  },
  "orig_nbformat": 2,
  "kernelspec": {
   "name": "python3",
   "display_name": "Python 3",
   "language": "python"
  }
 },
 "nbformat": 4,
 "nbformat_minor": 2,
 "cells": [
  {
   "source": [
    "### Data Exploration on emergency and non-emergency dataset in Washington D.C.\n",
    "* Dataset: \n",
    "    1. [All 311 data in the last 30 days (collected on 3/29/2021)](https://opendata.dc.gov/datasets/all-311-city-service-requests-last-30-days?geometry=-77.651%2C38.811%2C-76.372%2C38.998)\n",
    "    2. [311 Service requests in the last 30 days assigned to the DC Fire and Emergency Medical Services agency (collected on 3/29/2021)] (https://opendata.dc.gov/datasets/fems-service-requests-in-last-30-days?geometry=-77.612%2C38.823%2C-76.334%2C39.010)"
   ],
   "cell_type": "markdown",
   "metadata": {}
  },
  {
   "cell_type": "code",
   "execution_count": 63,
   "metadata": {},
   "outputs": [],
   "source": [
    "import numpy as np\n",
    "import pandas as pd\n",
    "import os\n",
    "import re\n",
    "import glob\n",
    "import csv\n",
    "EM_DATA = '/Users/julia/Box/Data_311/DMV_311/DMV_EM/DC/FEMS_Service_Requests_30days_20210329.csv'\n",
    "nonEM_DATA = '/Users/julia/Box/Data_311/DMV_311/DMV_nonEM/DC/311_Washington_DC_30days_20210329.csv'"
   ]
  },
  {
   "cell_type": "code",
   "execution_count": 64,
   "metadata": {},
   "outputs": [],
   "source": [
    "def read_data():\n",
    "    em_df = pd.read_csv(EM_DATA)\n",
    "    nonEM_df = pd.read_csv(nonEM_DATA)\n",
    "    return em_df, nonEM_df\n",
    "em_df, nonEM_df = read_data()"
   ]
  },
  {
   "source": [
    "### Emergent 311 reports"
   ],
   "cell_type": "markdown",
   "metadata": {}
  },
  {
   "cell_type": "code",
   "execution_count": 65,
   "metadata": {},
   "outputs": [
    {
     "output_type": "execute_result",
     "data": {
      "text/plain": [
       "           X          Y  OBJECTID SERVICECODE          SERVICECODEDESCRIPTION  \\\n",
       "0 -76.941531  38.881247         1    FESAADNU  FEMS - Smoke Alarm Application   \n",
       "1 -76.995936  38.930586         2    FESAADNU  FEMS - Smoke Alarm Application   \n",
       "2 -76.989061  38.900873         3    FESAADNU  FEMS - Smoke Alarm Application   \n",
       "3 -76.947104  38.869324         4    FESAADNU  FEMS - Smoke Alarm Application   \n",
       "4 -76.996413  38.901537         5    FESAADNU  FEMS - Smoke Alarm Application   \n",
       "\n",
       "  SERVICETYPECODEDESCRIPTION ORGANIZATIONACRONYM  SERVICECALLCOUNT  \\\n",
       "0          FEMS-Smoke Alarms                FEMS                 1   \n",
       "1          FEMS-Smoke Alarms                FEMS                 1   \n",
       "2          FEMS-Smoke Alarms                FEMS                 1   \n",
       "3          FEMS-Smoke Alarms                FEMS                 1   \n",
       "4          FEMS-Smoke Alarms                FEMS                 1   \n",
       "\n",
       "                  ADDDATE          RESOLUTIONDATE  ...  \\\n",
       "0  2021/03/10 09:57:39+00  2021/03/16 15:17:00+00  ...   \n",
       "1  2021/03/04 13:35:12+00  2021/03/05 16:11:35+00  ...   \n",
       "2  2021/03/05 16:09:05+00  2021/03/09 09:46:37+00  ...   \n",
       "3  2021/02/25 16:20:25+00  2021/03/04 16:20:23+00  ...   \n",
       "4  2021/03/04 11:22:43+00  2021/03/05 15:34:05+00  ...   \n",
       "\n",
       "            STREETADDRESS     XCOORD     YCOORD   LATITUDE  LONGITUDE  \\\n",
       "0  4334 GORMAN TERRACE SE  405073.37  134824.32  38.881239 -76.941529   \n",
       "1      3301 7TH STREET NE  400352.54  140299.69  38.930578 -76.995934   \n",
       "2    1232 WYLIE STREET NE  400949.10  137001.37  38.900865 -76.989058   \n",
       "3  4023 ALABAMA AVENUE SE  404590.60  133500.46  38.869316 -76.947101   \n",
       "4       902 7TH STREET NE  400311.30  137075.07  38.901530 -76.996411   \n",
       "\n",
       "         CITY  STATE ZIPCODE MARADDRESSREPOSITORYID WARD  \n",
       "0  WASHINGTON     DC   20019                  23028    7  \n",
       "1  WASHINGTON     DC   20017                  37180    5  \n",
       "2  WASHINGTON     DC   20002                  70457    6  \n",
       "3  WASHINGTON     DC   20020                  27845    7  \n",
       "4  WASHINGTON     DC   20002                  81728    6  \n",
       "\n",
       "[5 rows x 29 columns]"
      ],
      "text/html": "<div>\n<style scoped>\n    .dataframe tbody tr th:only-of-type {\n        vertical-align: middle;\n    }\n\n    .dataframe tbody tr th {\n        vertical-align: top;\n    }\n\n    .dataframe thead th {\n        text-align: right;\n    }\n</style>\n<table border=\"1\" class=\"dataframe\">\n  <thead>\n    <tr style=\"text-align: right;\">\n      <th></th>\n      <th>X</th>\n      <th>Y</th>\n      <th>OBJECTID</th>\n      <th>SERVICECODE</th>\n      <th>SERVICECODEDESCRIPTION</th>\n      <th>SERVICETYPECODEDESCRIPTION</th>\n      <th>ORGANIZATIONACRONYM</th>\n      <th>SERVICECALLCOUNT</th>\n      <th>ADDDATE</th>\n      <th>RESOLUTIONDATE</th>\n      <th>...</th>\n      <th>STREETADDRESS</th>\n      <th>XCOORD</th>\n      <th>YCOORD</th>\n      <th>LATITUDE</th>\n      <th>LONGITUDE</th>\n      <th>CITY</th>\n      <th>STATE</th>\n      <th>ZIPCODE</th>\n      <th>MARADDRESSREPOSITORYID</th>\n      <th>WARD</th>\n    </tr>\n  </thead>\n  <tbody>\n    <tr>\n      <th>0</th>\n      <td>-76.941531</td>\n      <td>38.881247</td>\n      <td>1</td>\n      <td>FESAADNU</td>\n      <td>FEMS - Smoke Alarm Application</td>\n      <td>FEMS-Smoke Alarms</td>\n      <td>FEMS</td>\n      <td>1</td>\n      <td>2021/03/10 09:57:39+00</td>\n      <td>2021/03/16 15:17:00+00</td>\n      <td>...</td>\n      <td>4334 GORMAN TERRACE SE</td>\n      <td>405073.37</td>\n      <td>134824.32</td>\n      <td>38.881239</td>\n      <td>-76.941529</td>\n      <td>WASHINGTON</td>\n      <td>DC</td>\n      <td>20019</td>\n      <td>23028</td>\n      <td>7</td>\n    </tr>\n    <tr>\n      <th>1</th>\n      <td>-76.995936</td>\n      <td>38.930586</td>\n      <td>2</td>\n      <td>FESAADNU</td>\n      <td>FEMS - Smoke Alarm Application</td>\n      <td>FEMS-Smoke Alarms</td>\n      <td>FEMS</td>\n      <td>1</td>\n      <td>2021/03/04 13:35:12+00</td>\n      <td>2021/03/05 16:11:35+00</td>\n      <td>...</td>\n      <td>3301 7TH STREET NE</td>\n      <td>400352.54</td>\n      <td>140299.69</td>\n      <td>38.930578</td>\n      <td>-76.995934</td>\n      <td>WASHINGTON</td>\n      <td>DC</td>\n      <td>20017</td>\n      <td>37180</td>\n      <td>5</td>\n    </tr>\n    <tr>\n      <th>2</th>\n      <td>-76.989061</td>\n      <td>38.900873</td>\n      <td>3</td>\n      <td>FESAADNU</td>\n      <td>FEMS - Smoke Alarm Application</td>\n      <td>FEMS-Smoke Alarms</td>\n      <td>FEMS</td>\n      <td>1</td>\n      <td>2021/03/05 16:09:05+00</td>\n      <td>2021/03/09 09:46:37+00</td>\n      <td>...</td>\n      <td>1232 WYLIE STREET NE</td>\n      <td>400949.10</td>\n      <td>137001.37</td>\n      <td>38.900865</td>\n      <td>-76.989058</td>\n      <td>WASHINGTON</td>\n      <td>DC</td>\n      <td>20002</td>\n      <td>70457</td>\n      <td>6</td>\n    </tr>\n    <tr>\n      <th>3</th>\n      <td>-76.947104</td>\n      <td>38.869324</td>\n      <td>4</td>\n      <td>FESAADNU</td>\n      <td>FEMS - Smoke Alarm Application</td>\n      <td>FEMS-Smoke Alarms</td>\n      <td>FEMS</td>\n      <td>1</td>\n      <td>2021/02/25 16:20:25+00</td>\n      <td>2021/03/04 16:20:23+00</td>\n      <td>...</td>\n      <td>4023 ALABAMA AVENUE SE</td>\n      <td>404590.60</td>\n      <td>133500.46</td>\n      <td>38.869316</td>\n      <td>-76.947101</td>\n      <td>WASHINGTON</td>\n      <td>DC</td>\n      <td>20020</td>\n      <td>27845</td>\n      <td>7</td>\n    </tr>\n    <tr>\n      <th>4</th>\n      <td>-76.996413</td>\n      <td>38.901537</td>\n      <td>5</td>\n      <td>FESAADNU</td>\n      <td>FEMS - Smoke Alarm Application</td>\n      <td>FEMS-Smoke Alarms</td>\n      <td>FEMS</td>\n      <td>1</td>\n      <td>2021/03/04 11:22:43+00</td>\n      <td>2021/03/05 15:34:05+00</td>\n      <td>...</td>\n      <td>902 7TH STREET NE</td>\n      <td>400311.30</td>\n      <td>137075.07</td>\n      <td>38.901530</td>\n      <td>-76.996411</td>\n      <td>WASHINGTON</td>\n      <td>DC</td>\n      <td>20002</td>\n      <td>81728</td>\n      <td>6</td>\n    </tr>\n  </tbody>\n</table>\n<p>5 rows × 29 columns</p>\n</div>"
     },
     "metadata": {},
     "execution_count": 65
    }
   ],
   "source": [
    "em_df[0:5]"
   ]
  },
  {
   "source": [
    "### All 311 reports"
   ],
   "cell_type": "markdown",
   "metadata": {}
  },
  {
   "cell_type": "code",
   "execution_count": 32,
   "metadata": {},
   "outputs": [
    {
     "output_type": "execute_result",
     "data": {
      "text/plain": [
       "           X          Y  OBJECTID SERVICECODE        SERVICECODEDESCRIPTION  \\\n",
       "0 -77.027916  38.910516         1       S0031               Bulk Collection   \n",
       "1 -77.020893  38.951184         2    CONTREMO             Container Removal   \n",
       "2 -76.985410  38.902046         3    SPSTDAMA  Traffic Safety Investigation   \n",
       "3 -77.011224  38.915367         4       S0316       Recycling Cart Delivery   \n",
       "4 -76.991989  38.879100         5       S0441     Trash Collection - Missed   \n",
       "\n",
       "                  SERVICETYPECODEDESCRIPTION ORGANIZATIONACRONYM  \\\n",
       "0  SWMA- Solid Waste Management Admistration                 DPW   \n",
       "1  SWMA- Solid Waste Management Admistration                 DPW   \n",
       "2               Department of Transportation                DDOT   \n",
       "3  SWMA- Solid Waste Management Admistration                 DPW   \n",
       "4  SWMA- Solid Waste Management Admistration                 DPW   \n",
       "\n",
       "   SERVICECALLCOUNT                 ADDDATE          RESOLUTIONDATE  ...  \\\n",
       "0                 1  2021/03/02 22:53:44+00  2021/03/05 06:34:32+00  ...   \n",
       "1                 1  2021/03/02 23:01:53+00  1970/01/01 00:00:00+00  ...   \n",
       "2                 1  2021/03/02 23:01:54+00  1970/01/01 00:00:00+00  ...   \n",
       "3                 1  2021/03/02 23:05:07+00  2021/03/18 10:22:32+00  ...   \n",
       "4                 1  2021/03/08 13:09:55+00  2021/03/10 08:58:55+00  ...   \n",
       "\n",
       "      XCOORD     YCOORD   LATITUDE  LONGITUDE        CITY STATE  ZIPCODE  \\\n",
       "0  397578.99  138072.12  38.910508 -77.027914  WASHINGTON    DC  20005.0   \n",
       "1  398189.19  142586.47  38.951176 -77.020890  WASHINGTON    DC  20011.0   \n",
       "2  401265.72  137131.62  38.902038 -76.985408  WASHINGTON    DC  20002.0   \n",
       "3  399026.76  138610.36  38.915360 -77.011222  WASHINGTON    DC  20001.0   \n",
       "4  400695.32  134584.35  38.879092 -76.991987  WASHINGTON    DC  20003.0   \n",
       "\n",
       "  MARADDRESSREPOSITORYID WARD DETAILS  \n",
       "0                 225329  2.0     NaN  \n",
       "1                 247046  4.0     NaN  \n",
       "2                  72301  5.0     NaN  \n",
       "3                 227289  5.0     NaN  \n",
       "4                  75576  6.0     NaN  \n",
       "\n",
       "[5 rows x 30 columns]"
      ],
      "text/html": "<div>\n<style scoped>\n    .dataframe tbody tr th:only-of-type {\n        vertical-align: middle;\n    }\n\n    .dataframe tbody tr th {\n        vertical-align: top;\n    }\n\n    .dataframe thead th {\n        text-align: right;\n    }\n</style>\n<table border=\"1\" class=\"dataframe\">\n  <thead>\n    <tr style=\"text-align: right;\">\n      <th></th>\n      <th>X</th>\n      <th>Y</th>\n      <th>OBJECTID</th>\n      <th>SERVICECODE</th>\n      <th>SERVICECODEDESCRIPTION</th>\n      <th>SERVICETYPECODEDESCRIPTION</th>\n      <th>ORGANIZATIONACRONYM</th>\n      <th>SERVICECALLCOUNT</th>\n      <th>ADDDATE</th>\n      <th>RESOLUTIONDATE</th>\n      <th>...</th>\n      <th>XCOORD</th>\n      <th>YCOORD</th>\n      <th>LATITUDE</th>\n      <th>LONGITUDE</th>\n      <th>CITY</th>\n      <th>STATE</th>\n      <th>ZIPCODE</th>\n      <th>MARADDRESSREPOSITORYID</th>\n      <th>WARD</th>\n      <th>DETAILS</th>\n    </tr>\n  </thead>\n  <tbody>\n    <tr>\n      <th>0</th>\n      <td>-77.027916</td>\n      <td>38.910516</td>\n      <td>1</td>\n      <td>S0031</td>\n      <td>Bulk Collection</td>\n      <td>SWMA- Solid Waste Management Admistration</td>\n      <td>DPW</td>\n      <td>1</td>\n      <td>2021/03/02 22:53:44+00</td>\n      <td>2021/03/05 06:34:32+00</td>\n      <td>...</td>\n      <td>397578.99</td>\n      <td>138072.12</td>\n      <td>38.910508</td>\n      <td>-77.027914</td>\n      <td>WASHINGTON</td>\n      <td>DC</td>\n      <td>20005.0</td>\n      <td>225329</td>\n      <td>2.0</td>\n      <td>NaN</td>\n    </tr>\n    <tr>\n      <th>1</th>\n      <td>-77.020893</td>\n      <td>38.951184</td>\n      <td>2</td>\n      <td>CONTREMO</td>\n      <td>Container Removal</td>\n      <td>SWMA- Solid Waste Management Admistration</td>\n      <td>DPW</td>\n      <td>1</td>\n      <td>2021/03/02 23:01:53+00</td>\n      <td>1970/01/01 00:00:00+00</td>\n      <td>...</td>\n      <td>398189.19</td>\n      <td>142586.47</td>\n      <td>38.951176</td>\n      <td>-77.020890</td>\n      <td>WASHINGTON</td>\n      <td>DC</td>\n      <td>20011.0</td>\n      <td>247046</td>\n      <td>4.0</td>\n      <td>NaN</td>\n    </tr>\n    <tr>\n      <th>2</th>\n      <td>-76.985410</td>\n      <td>38.902046</td>\n      <td>3</td>\n      <td>SPSTDAMA</td>\n      <td>Traffic Safety Investigation</td>\n      <td>Department of Transportation</td>\n      <td>DDOT</td>\n      <td>1</td>\n      <td>2021/03/02 23:01:54+00</td>\n      <td>1970/01/01 00:00:00+00</td>\n      <td>...</td>\n      <td>401265.72</td>\n      <td>137131.62</td>\n      <td>38.902038</td>\n      <td>-76.985408</td>\n      <td>WASHINGTON</td>\n      <td>DC</td>\n      <td>20002.0</td>\n      <td>72301</td>\n      <td>5.0</td>\n      <td>NaN</td>\n    </tr>\n    <tr>\n      <th>3</th>\n      <td>-77.011224</td>\n      <td>38.915367</td>\n      <td>4</td>\n      <td>S0316</td>\n      <td>Recycling Cart Delivery</td>\n      <td>SWMA- Solid Waste Management Admistration</td>\n      <td>DPW</td>\n      <td>1</td>\n      <td>2021/03/02 23:05:07+00</td>\n      <td>2021/03/18 10:22:32+00</td>\n      <td>...</td>\n      <td>399026.76</td>\n      <td>138610.36</td>\n      <td>38.915360</td>\n      <td>-77.011222</td>\n      <td>WASHINGTON</td>\n      <td>DC</td>\n      <td>20001.0</td>\n      <td>227289</td>\n      <td>5.0</td>\n      <td>NaN</td>\n    </tr>\n    <tr>\n      <th>4</th>\n      <td>-76.991989</td>\n      <td>38.879100</td>\n      <td>5</td>\n      <td>S0441</td>\n      <td>Trash Collection - Missed</td>\n      <td>SWMA- Solid Waste Management Admistration</td>\n      <td>DPW</td>\n      <td>1</td>\n      <td>2021/03/08 13:09:55+00</td>\n      <td>2021/03/10 08:58:55+00</td>\n      <td>...</td>\n      <td>400695.32</td>\n      <td>134584.35</td>\n      <td>38.879092</td>\n      <td>-76.991987</td>\n      <td>WASHINGTON</td>\n      <td>DC</td>\n      <td>20003.0</td>\n      <td>75576</td>\n      <td>6.0</td>\n      <td>NaN</td>\n    </tr>\n  </tbody>\n</table>\n<p>5 rows × 30 columns</p>\n</div>"
     },
     "metadata": {},
     "execution_count": 32
    }
   ],
   "source": [
    "nonEM_df[0:5]"
   ]
  },
  {
   "source": [
    "### Columns names from two datasets"
   ],
   "cell_type": "markdown",
   "metadata": {}
  },
  {
   "cell_type": "code",
   "execution_count": 35,
   "metadata": {},
   "outputs": [
    {
     "output_type": "stream",
     "name": "stdout",
     "text": [
      "emergency columns:\n['X', 'Y', 'OBJECTID', 'SERVICECODE', 'SERVICECODEDESCRIPTION', 'SERVICETYPECODEDESCRIPTION', 'ORGANIZATIONACRONYM', 'SERVICECALLCOUNT', 'ADDDATE', 'RESOLUTIONDATE', 'SERVICEDUEDATE', 'SERVICEORDERDATE', 'INSPECTIONFLAG', 'INSPECTIONDATE', 'INSPECTORNAME', 'SERVICEORDERSTATUS', 'STATUS_CODE', 'SERVICEREQUESTID', 'PRIORITY', 'STREETADDRESS', 'XCOORD', 'YCOORD', 'LATITUDE', 'LONGITUDE', 'CITY', 'STATE', 'ZIPCODE', 'MARADDRESSREPOSITORYID', 'WARD']\nlength: 29\nnon emergency columns:\n['X', 'Y', 'OBJECTID', 'SERVICECODE', 'SERVICECODEDESCRIPTION', 'SERVICETYPECODEDESCRIPTION', 'ORGANIZATIONACRONYM', 'SERVICECALLCOUNT', 'ADDDATE', 'RESOLUTIONDATE', 'SERVICEDUEDATE', 'SERVICEORDERDATE', 'INSPECTIONFLAG', 'INSPECTIONDATE', 'INSPECTORNAME', 'SERVICEORDERSTATUS', 'STATUS_CODE', 'SERVICEREQUESTID', 'PRIORITY', 'STREETADDRESS', 'XCOORD', 'YCOORD', 'LATITUDE', 'LONGITUDE', 'CITY', 'STATE', 'ZIPCODE', 'MARADDRESSREPOSITORYID', 'WARD', 'DETAILS']\nlength: 30\n"
     ]
    }
   ],
   "source": [
    "em_cols = em_df.columns.tolist()\n",
    "nonEM_cols = nonEM_df.columns.tolist()\n",
    "print(\"emergency columns:\\n\"+ str(em_cols) + \"\\nlength: \"  + str( len(em_cols) )) \n",
    "print(\"non emergency columns:\\n\"+ str(nonEM_cols) +  \"\\nlength: \"  + str( len(nonEM_cols) ))  "
   ]
  },
  {
   "source": [
    "* Details column is not included in the emergent 311 reports dataset\n",
    "* OBJECT IDs are different, which means \"OBJECTID\" column cannot be used to merge two tables\n",
    "* Merge the table using columns of locations, SERVICE CODE DESCRIPTION, ADD DATE and others..,"
   ],
   "cell_type": "markdown",
   "metadata": {}
  },
  {
   "cell_type": "code",
   "execution_count": 36,
   "metadata": {},
   "outputs": [
    {
     "output_type": "stream",
     "name": "stdout",
     "text": [
      "different columns:\n['DETAILS']\n"
     ]
    }
   ],
   "source": [
    "diff_cols = list(set(em_cols) ^ set(nonEM_cols))\n",
    "print(\"different columns:\\n\"+ str(diff_cols))  "
   ]
  },
  {
   "cell_type": "code",
   "execution_count": 67,
   "metadata": {},
   "outputs": [
    {
     "output_type": "execute_result",
     "data": {
      "text/plain": [
       "            X          Y   SERVICECODE          SERVICECODEDESCRIPTION  \\\n",
       "0  -76.987107  38.912102      FESAADNU  FEMS - Smoke Alarm Application   \n",
       "1  -76.996413  38.901537      FESAADNU  FEMS - Smoke Alarm Application   \n",
       "2  -77.025731  38.939540      FESAADNU  FEMS - Smoke Alarm Application   \n",
       "3  -76.941531  38.881247      FESAADNU  FEMS - Smoke Alarm Application   \n",
       "4  -76.995936  38.930586      FESAADNU  FEMS - Smoke Alarm Application   \n",
       "5  -76.989061  38.900873      FESAADNU  FEMS - Smoke Alarm Application   \n",
       "6  -76.963655  38.861410      FESAADNU  FEMS - Smoke Alarm Application   \n",
       "7  -77.000866  38.956075  FEMSFIREINSP   FEMS - Fire Safety Inspection   \n",
       "8  -76.941562  38.870856      FESAADNU  FEMS - Smoke Alarm Application   \n",
       "9  -77.001257  38.960708      FESAADNU  FEMS - Smoke Alarm Application   \n",
       "10 -77.013739  38.918348      FESAADNU  FEMS - Smoke Alarm Application   \n",
       "11 -77.026977  38.982168  FEMSFIREINSP   FEMS - Fire Safety Inspection   \n",
       "12 -77.027473  38.978198      FESAADNU  FEMS - Smoke Alarm Application   \n",
       "13 -77.016871  38.959354      FESAADNU  FEMS - Smoke Alarm Application   \n",
       "14 -76.998229  38.901141      FESAADNU  FEMS - Smoke Alarm Application   \n",
       "15 -76.947104  38.869324      FESAADNU  FEMS - Smoke Alarm Application   \n",
       "16 -77.020770  38.972563      FESAADNU  FEMS - Smoke Alarm Application   \n",
       "17 -76.987259  38.863699      FESAADNU  FEMS - Smoke Alarm Application   \n",
       "18 -76.919791  38.888310      FESAADNU  FEMS - Smoke Alarm Application   \n",
       "19 -76.957704  38.886982      FESAADNU  FEMS - Smoke Alarm Application   \n",
       "20 -77.014024  38.909865      FESAADNU  FEMS - Smoke Alarm Application   \n",
       "\n",
       "   SERVICETYPECODEDESCRIPTION ORGANIZATIONACRONYM  SERVICECALLCOUNT  \\\n",
       "0           FEMS-Smoke Alarms                FEMS                 1   \n",
       "1           FEMS-Smoke Alarms                FEMS                 1   \n",
       "2           FEMS-Smoke Alarms                FEMS                 1   \n",
       "3           FEMS-Smoke Alarms                FEMS                 1   \n",
       "4           FEMS-Smoke Alarms                FEMS                 1   \n",
       "5           FEMS-Smoke Alarms                FEMS                 1   \n",
       "6           FEMS-Smoke Alarms                FEMS                 1   \n",
       "7                        FEMS                FEMS                 1   \n",
       "8           FEMS-Smoke Alarms                FEMS                 1   \n",
       "9           FEMS-Smoke Alarms                FEMS                 1   \n",
       "10          FEMS-Smoke Alarms                FEMS                 1   \n",
       "11                       FEMS                FEMS                 1   \n",
       "12          FEMS-Smoke Alarms                FEMS                 1   \n",
       "13          FEMS-Smoke Alarms                FEMS                 1   \n",
       "14          FEMS-Smoke Alarms                FEMS                 1   \n",
       "15          FEMS-Smoke Alarms                FEMS                 1   \n",
       "16          FEMS-Smoke Alarms                FEMS                 1   \n",
       "17          FEMS-Smoke Alarms                FEMS                 1   \n",
       "18          FEMS-Smoke Alarms                FEMS                 1   \n",
       "19          FEMS-Smoke Alarms                FEMS                 1   \n",
       "20          FEMS-Smoke Alarms                FEMS                 1   \n",
       "\n",
       "                   ADDDATE          RESOLUTIONDATE          SERVICEDUEDATE  \\\n",
       "0   2021/03/16 13:10:28+00  2021/03/18 15:05:10+00  2021/04/05 13:10:28+00   \n",
       "1   2021/03/04 11:22:43+00  2021/03/05 15:34:05+00  2021/03/24 12:22:43+00   \n",
       "2   2021/03/11 12:36:48+00  2021/03/11 15:18:11+00  2021/03/31 13:36:48+00   \n",
       "3   2021/03/10 09:57:39+00  2021/03/16 15:17:00+00  2021/03/30 10:57:39+00   \n",
       "4   2021/03/04 13:35:12+00  2021/03/05 16:11:35+00  2021/03/24 14:35:12+00   \n",
       "5   2021/03/05 16:09:05+00  2021/03/09 09:46:37+00  2021/03/25 17:09:05+00   \n",
       "6   2021/03/01 09:59:33+00  2021/03/04 16:27:15+00  2021/03/19 10:59:33+00   \n",
       "7   2021/03/17 19:30:27+00  2021/03/19 12:46:40+00  2021/04/29 19:30:27+00   \n",
       "8   2021/02/27 18:40:02+00  2021/03/04 16:25:06+00  2021/03/18 19:40:02+00   \n",
       "9   2021/03/25 17:20:50+00  1970/01/01 00:00:00+00  2021/04/14 17:20:50+00   \n",
       "10  2021/03/26 11:15:50+00  1970/01/01 00:00:00+00  2021/04/15 11:15:50+00   \n",
       "11  2021/03/23 11:52:38+00  2021/03/25 09:49:39+00  2021/05/05 11:52:38+00   \n",
       "12  2021/03/25 09:14:35+00  2021/03/25 10:35:16+00  2021/04/14 09:14:35+00   \n",
       "13  2021/03/01 13:52:14+00  2021/03/04 16:29:52+00  2021/03/19 14:52:14+00   \n",
       "14  2021/02/28 18:37:05+00  2021/03/04 16:22:23+00  2021/03/18 19:37:05+00   \n",
       "15  2021/02/25 16:20:25+00  2021/03/04 16:20:23+00  2021/03/17 17:20:25+00   \n",
       "16  2021/02/25 10:23:06+00  2021/03/04 16:11:56+00  2021/03/17 11:23:06+00   \n",
       "17  2021/02/24 12:37:47+00  2021/03/04 16:31:30+00  2021/03/16 13:37:47+00   \n",
       "18  2021/02/25 15:41:44+00  2021/03/04 16:17:35+00  2021/03/17 16:41:44+00   \n",
       "19  2021/02/25 13:07:27+00  2021/03/03 15:59:14+00  2021/03/17 14:07:27+00   \n",
       "20  2021/02/25 13:50:20+00  2021/03/04 16:14:19+00  2021/03/17 14:50:20+00   \n",
       "\n",
       "    ...     XCOORD     YCOORD   LATITUDE  LONGITUDE        CITY  STATE  \\\n",
       "0   ...  401118.42  138247.97  38.912095 -76.987104  WASHINGTON     DC   \n",
       "1   ...  400311.30  137075.07  38.901530 -76.996411  WASHINGTON     DC   \n",
       "2   ...  397769.45  141294.00  38.939532 -77.025728  WASHINGTON     DC   \n",
       "3   ...  405073.37  134824.32  38.881239 -76.941529  WASHINGTON     DC   \n",
       "4   ...  400352.54  140299.69  38.930578 -76.995934  WASHINGTON     DC   \n",
       "5   ...  400949.10  137001.37  38.900865 -76.989058  WASHINGTON     DC   \n",
       "6   ...  403154.64  132621.29  38.861403 -76.963652  WASHINGTON     DC   \n",
       "7   ...  399925.12  143129.29  38.956068 -77.000864  WASHINGTON     DC   \n",
       "8   ...  405071.40  133670.82  38.870848 -76.941560  WASHINGTON     DC   \n",
       "9   ...  399891.26  143643.59  38.960701 -77.001255  WASHINGTON     DC   \n",
       "10  ...  398808.77  138941.34  38.918341 -77.013736  WASHINGTON     DC   \n",
       "11  ...  397662.83  146026.13  38.982160 -77.026974  WASHINGTON     DC   \n",
       "12  ...  397619.67  145585.43  38.978190 -77.027471  WASHINGTON     DC   \n",
       "13  ...  398537.96  143493.37  38.959346 -77.016869  WASHINGTON     DC   \n",
       "14  ...  400153.82  137031.10  38.901134 -76.998227  WASHINGTON     DC   \n",
       "15  ...  404590.60  133500.46  38.869316 -76.947101  WASHINGTON     DC   \n",
       "16  ...  398200.35  144959.80  38.972556 -77.020768  WASHINGTON     DC   \n",
       "17  ...  401105.95  132874.78  38.863691 -76.987257  WASHINGTON     DC   \n",
       "18  ...  406959.01  135609.83  38.888303 -76.919788  WASHINGTON     DC   \n",
       "19  ...  403669.79  135460.17  38.886974 -76.957702  WASHINGTON     DC   \n",
       "20  ...  398783.91  137999.59  38.909857 -77.014021  WASHINGTON     DC   \n",
       "\n",
       "    ZIPCODE MARADDRESSREPOSITORYID WARD      _merge  \n",
       "0   20002.0                  54899  5.0        both  \n",
       "1   20002.0                  81728  6.0        both  \n",
       "2   20011.0                 225107  4.0        both  \n",
       "3   20019.0                  23028  7.0        both  \n",
       "4   20017.0                  37180  5.0        both  \n",
       "5   20002.0                  70457  6.0        both  \n",
       "6   20020.0                  41615  7.0        both  \n",
       "7   20011.0                 331773  4.0   left_only  \n",
       "8   20019.0                  26472  7.0        both  \n",
       "9   20011.0                  34203  4.0   left_only  \n",
       "10  20001.0                 227870  5.0   left_only  \n",
       "11  20012.0                 253572  4.0   left_only  \n",
       "12  20012.0                 253434  4.0   left_only  \n",
       "13  20011.0                 249374  4.0        both  \n",
       "14  20002.0                  81162  6.0        both  \n",
       "15  20020.0                  27845  7.0  right_only  \n",
       "16  20012.0                 251276  4.0  right_only  \n",
       "17  20020.0                 150328  8.0  right_only  \n",
       "18  20019.0                 303544  7.0  right_only  \n",
       "19  20019.0                  35843  7.0  right_only  \n",
       "20  20001.0                 237832  5.0  right_only  \n",
       "\n",
       "[21 rows x 29 columns]"
      ],
      "text/html": "<div>\n<style scoped>\n    .dataframe tbody tr th:only-of-type {\n        vertical-align: middle;\n    }\n\n    .dataframe tbody tr th {\n        vertical-align: top;\n    }\n\n    .dataframe thead th {\n        text-align: right;\n    }\n</style>\n<table border=\"1\" class=\"dataframe\">\n  <thead>\n    <tr style=\"text-align: right;\">\n      <th></th>\n      <th>X</th>\n      <th>Y</th>\n      <th>SERVICECODE</th>\n      <th>SERVICECODEDESCRIPTION</th>\n      <th>SERVICETYPECODEDESCRIPTION</th>\n      <th>ORGANIZATIONACRONYM</th>\n      <th>SERVICECALLCOUNT</th>\n      <th>ADDDATE</th>\n      <th>RESOLUTIONDATE</th>\n      <th>SERVICEDUEDATE</th>\n      <th>...</th>\n      <th>XCOORD</th>\n      <th>YCOORD</th>\n      <th>LATITUDE</th>\n      <th>LONGITUDE</th>\n      <th>CITY</th>\n      <th>STATE</th>\n      <th>ZIPCODE</th>\n      <th>MARADDRESSREPOSITORYID</th>\n      <th>WARD</th>\n      <th>_merge</th>\n    </tr>\n  </thead>\n  <tbody>\n    <tr>\n      <th>0</th>\n      <td>-76.987107</td>\n      <td>38.912102</td>\n      <td>FESAADNU</td>\n      <td>FEMS - Smoke Alarm Application</td>\n      <td>FEMS-Smoke Alarms</td>\n      <td>FEMS</td>\n      <td>1</td>\n      <td>2021/03/16 13:10:28+00</td>\n      <td>2021/03/18 15:05:10+00</td>\n      <td>2021/04/05 13:10:28+00</td>\n      <td>...</td>\n      <td>401118.42</td>\n      <td>138247.97</td>\n      <td>38.912095</td>\n      <td>-76.987104</td>\n      <td>WASHINGTON</td>\n      <td>DC</td>\n      <td>20002.0</td>\n      <td>54899</td>\n      <td>5.0</td>\n      <td>both</td>\n    </tr>\n    <tr>\n      <th>1</th>\n      <td>-76.996413</td>\n      <td>38.901537</td>\n      <td>FESAADNU</td>\n      <td>FEMS - Smoke Alarm Application</td>\n      <td>FEMS-Smoke Alarms</td>\n      <td>FEMS</td>\n      <td>1</td>\n      <td>2021/03/04 11:22:43+00</td>\n      <td>2021/03/05 15:34:05+00</td>\n      <td>2021/03/24 12:22:43+00</td>\n      <td>...</td>\n      <td>400311.30</td>\n      <td>137075.07</td>\n      <td>38.901530</td>\n      <td>-76.996411</td>\n      <td>WASHINGTON</td>\n      <td>DC</td>\n      <td>20002.0</td>\n      <td>81728</td>\n      <td>6.0</td>\n      <td>both</td>\n    </tr>\n    <tr>\n      <th>2</th>\n      <td>-77.025731</td>\n      <td>38.939540</td>\n      <td>FESAADNU</td>\n      <td>FEMS - Smoke Alarm Application</td>\n      <td>FEMS-Smoke Alarms</td>\n      <td>FEMS</td>\n      <td>1</td>\n      <td>2021/03/11 12:36:48+00</td>\n      <td>2021/03/11 15:18:11+00</td>\n      <td>2021/03/31 13:36:48+00</td>\n      <td>...</td>\n      <td>397769.45</td>\n      <td>141294.00</td>\n      <td>38.939532</td>\n      <td>-77.025728</td>\n      <td>WASHINGTON</td>\n      <td>DC</td>\n      <td>20011.0</td>\n      <td>225107</td>\n      <td>4.0</td>\n      <td>both</td>\n    </tr>\n    <tr>\n      <th>3</th>\n      <td>-76.941531</td>\n      <td>38.881247</td>\n      <td>FESAADNU</td>\n      <td>FEMS - Smoke Alarm Application</td>\n      <td>FEMS-Smoke Alarms</td>\n      <td>FEMS</td>\n      <td>1</td>\n      <td>2021/03/10 09:57:39+00</td>\n      <td>2021/03/16 15:17:00+00</td>\n      <td>2021/03/30 10:57:39+00</td>\n      <td>...</td>\n      <td>405073.37</td>\n      <td>134824.32</td>\n      <td>38.881239</td>\n      <td>-76.941529</td>\n      <td>WASHINGTON</td>\n      <td>DC</td>\n      <td>20019.0</td>\n      <td>23028</td>\n      <td>7.0</td>\n      <td>both</td>\n    </tr>\n    <tr>\n      <th>4</th>\n      <td>-76.995936</td>\n      <td>38.930586</td>\n      <td>FESAADNU</td>\n      <td>FEMS - Smoke Alarm Application</td>\n      <td>FEMS-Smoke Alarms</td>\n      <td>FEMS</td>\n      <td>1</td>\n      <td>2021/03/04 13:35:12+00</td>\n      <td>2021/03/05 16:11:35+00</td>\n      <td>2021/03/24 14:35:12+00</td>\n      <td>...</td>\n      <td>400352.54</td>\n      <td>140299.69</td>\n      <td>38.930578</td>\n      <td>-76.995934</td>\n      <td>WASHINGTON</td>\n      <td>DC</td>\n      <td>20017.0</td>\n      <td>37180</td>\n      <td>5.0</td>\n      <td>both</td>\n    </tr>\n    <tr>\n      <th>5</th>\n      <td>-76.989061</td>\n      <td>38.900873</td>\n      <td>FESAADNU</td>\n      <td>FEMS - Smoke Alarm Application</td>\n      <td>FEMS-Smoke Alarms</td>\n      <td>FEMS</td>\n      <td>1</td>\n      <td>2021/03/05 16:09:05+00</td>\n      <td>2021/03/09 09:46:37+00</td>\n      <td>2021/03/25 17:09:05+00</td>\n      <td>...</td>\n      <td>400949.10</td>\n      <td>137001.37</td>\n      <td>38.900865</td>\n      <td>-76.989058</td>\n      <td>WASHINGTON</td>\n      <td>DC</td>\n      <td>20002.0</td>\n      <td>70457</td>\n      <td>6.0</td>\n      <td>both</td>\n    </tr>\n    <tr>\n      <th>6</th>\n      <td>-76.963655</td>\n      <td>38.861410</td>\n      <td>FESAADNU</td>\n      <td>FEMS - Smoke Alarm Application</td>\n      <td>FEMS-Smoke Alarms</td>\n      <td>FEMS</td>\n      <td>1</td>\n      <td>2021/03/01 09:59:33+00</td>\n      <td>2021/03/04 16:27:15+00</td>\n      <td>2021/03/19 10:59:33+00</td>\n      <td>...</td>\n      <td>403154.64</td>\n      <td>132621.29</td>\n      <td>38.861403</td>\n      <td>-76.963652</td>\n      <td>WASHINGTON</td>\n      <td>DC</td>\n      <td>20020.0</td>\n      <td>41615</td>\n      <td>7.0</td>\n      <td>both</td>\n    </tr>\n    <tr>\n      <th>7</th>\n      <td>-77.000866</td>\n      <td>38.956075</td>\n      <td>FEMSFIREINSP</td>\n      <td>FEMS - Fire Safety Inspection</td>\n      <td>FEMS</td>\n      <td>FEMS</td>\n      <td>1</td>\n      <td>2021/03/17 19:30:27+00</td>\n      <td>2021/03/19 12:46:40+00</td>\n      <td>2021/04/29 19:30:27+00</td>\n      <td>...</td>\n      <td>399925.12</td>\n      <td>143129.29</td>\n      <td>38.956068</td>\n      <td>-77.000864</td>\n      <td>WASHINGTON</td>\n      <td>DC</td>\n      <td>20011.0</td>\n      <td>331773</td>\n      <td>4.0</td>\n      <td>left_only</td>\n    </tr>\n    <tr>\n      <th>8</th>\n      <td>-76.941562</td>\n      <td>38.870856</td>\n      <td>FESAADNU</td>\n      <td>FEMS - Smoke Alarm Application</td>\n      <td>FEMS-Smoke Alarms</td>\n      <td>FEMS</td>\n      <td>1</td>\n      <td>2021/02/27 18:40:02+00</td>\n      <td>2021/03/04 16:25:06+00</td>\n      <td>2021/03/18 19:40:02+00</td>\n      <td>...</td>\n      <td>405071.40</td>\n      <td>133670.82</td>\n      <td>38.870848</td>\n      <td>-76.941560</td>\n      <td>WASHINGTON</td>\n      <td>DC</td>\n      <td>20019.0</td>\n      <td>26472</td>\n      <td>7.0</td>\n      <td>both</td>\n    </tr>\n    <tr>\n      <th>9</th>\n      <td>-77.001257</td>\n      <td>38.960708</td>\n      <td>FESAADNU</td>\n      <td>FEMS - Smoke Alarm Application</td>\n      <td>FEMS-Smoke Alarms</td>\n      <td>FEMS</td>\n      <td>1</td>\n      <td>2021/03/25 17:20:50+00</td>\n      <td>1970/01/01 00:00:00+00</td>\n      <td>2021/04/14 17:20:50+00</td>\n      <td>...</td>\n      <td>399891.26</td>\n      <td>143643.59</td>\n      <td>38.960701</td>\n      <td>-77.001255</td>\n      <td>WASHINGTON</td>\n      <td>DC</td>\n      <td>20011.0</td>\n      <td>34203</td>\n      <td>4.0</td>\n      <td>left_only</td>\n    </tr>\n    <tr>\n      <th>10</th>\n      <td>-77.013739</td>\n      <td>38.918348</td>\n      <td>FESAADNU</td>\n      <td>FEMS - Smoke Alarm Application</td>\n      <td>FEMS-Smoke Alarms</td>\n      <td>FEMS</td>\n      <td>1</td>\n      <td>2021/03/26 11:15:50+00</td>\n      <td>1970/01/01 00:00:00+00</td>\n      <td>2021/04/15 11:15:50+00</td>\n      <td>...</td>\n      <td>398808.77</td>\n      <td>138941.34</td>\n      <td>38.918341</td>\n      <td>-77.013736</td>\n      <td>WASHINGTON</td>\n      <td>DC</td>\n      <td>20001.0</td>\n      <td>227870</td>\n      <td>5.0</td>\n      <td>left_only</td>\n    </tr>\n    <tr>\n      <th>11</th>\n      <td>-77.026977</td>\n      <td>38.982168</td>\n      <td>FEMSFIREINSP</td>\n      <td>FEMS - Fire Safety Inspection</td>\n      <td>FEMS</td>\n      <td>FEMS</td>\n      <td>1</td>\n      <td>2021/03/23 11:52:38+00</td>\n      <td>2021/03/25 09:49:39+00</td>\n      <td>2021/05/05 11:52:38+00</td>\n      <td>...</td>\n      <td>397662.83</td>\n      <td>146026.13</td>\n      <td>38.982160</td>\n      <td>-77.026974</td>\n      <td>WASHINGTON</td>\n      <td>DC</td>\n      <td>20012.0</td>\n      <td>253572</td>\n      <td>4.0</td>\n      <td>left_only</td>\n    </tr>\n    <tr>\n      <th>12</th>\n      <td>-77.027473</td>\n      <td>38.978198</td>\n      <td>FESAADNU</td>\n      <td>FEMS - Smoke Alarm Application</td>\n      <td>FEMS-Smoke Alarms</td>\n      <td>FEMS</td>\n      <td>1</td>\n      <td>2021/03/25 09:14:35+00</td>\n      <td>2021/03/25 10:35:16+00</td>\n      <td>2021/04/14 09:14:35+00</td>\n      <td>...</td>\n      <td>397619.67</td>\n      <td>145585.43</td>\n      <td>38.978190</td>\n      <td>-77.027471</td>\n      <td>WASHINGTON</td>\n      <td>DC</td>\n      <td>20012.0</td>\n      <td>253434</td>\n      <td>4.0</td>\n      <td>left_only</td>\n    </tr>\n    <tr>\n      <th>13</th>\n      <td>-77.016871</td>\n      <td>38.959354</td>\n      <td>FESAADNU</td>\n      <td>FEMS - Smoke Alarm Application</td>\n      <td>FEMS-Smoke Alarms</td>\n      <td>FEMS</td>\n      <td>1</td>\n      <td>2021/03/01 13:52:14+00</td>\n      <td>2021/03/04 16:29:52+00</td>\n      <td>2021/03/19 14:52:14+00</td>\n      <td>...</td>\n      <td>398537.96</td>\n      <td>143493.37</td>\n      <td>38.959346</td>\n      <td>-77.016869</td>\n      <td>WASHINGTON</td>\n      <td>DC</td>\n      <td>20011.0</td>\n      <td>249374</td>\n      <td>4.0</td>\n      <td>both</td>\n    </tr>\n    <tr>\n      <th>14</th>\n      <td>-76.998229</td>\n      <td>38.901141</td>\n      <td>FESAADNU</td>\n      <td>FEMS - Smoke Alarm Application</td>\n      <td>FEMS-Smoke Alarms</td>\n      <td>FEMS</td>\n      <td>1</td>\n      <td>2021/02/28 18:37:05+00</td>\n      <td>2021/03/04 16:22:23+00</td>\n      <td>2021/03/18 19:37:05+00</td>\n      <td>...</td>\n      <td>400153.82</td>\n      <td>137031.10</td>\n      <td>38.901134</td>\n      <td>-76.998227</td>\n      <td>WASHINGTON</td>\n      <td>DC</td>\n      <td>20002.0</td>\n      <td>81162</td>\n      <td>6.0</td>\n      <td>both</td>\n    </tr>\n    <tr>\n      <th>15</th>\n      <td>-76.947104</td>\n      <td>38.869324</td>\n      <td>FESAADNU</td>\n      <td>FEMS - Smoke Alarm Application</td>\n      <td>FEMS-Smoke Alarms</td>\n      <td>FEMS</td>\n      <td>1</td>\n      <td>2021/02/25 16:20:25+00</td>\n      <td>2021/03/04 16:20:23+00</td>\n      <td>2021/03/17 17:20:25+00</td>\n      <td>...</td>\n      <td>404590.60</td>\n      <td>133500.46</td>\n      <td>38.869316</td>\n      <td>-76.947101</td>\n      <td>WASHINGTON</td>\n      <td>DC</td>\n      <td>20020.0</td>\n      <td>27845</td>\n      <td>7.0</td>\n      <td>right_only</td>\n    </tr>\n    <tr>\n      <th>16</th>\n      <td>-77.020770</td>\n      <td>38.972563</td>\n      <td>FESAADNU</td>\n      <td>FEMS - Smoke Alarm Application</td>\n      <td>FEMS-Smoke Alarms</td>\n      <td>FEMS</td>\n      <td>1</td>\n      <td>2021/02/25 10:23:06+00</td>\n      <td>2021/03/04 16:11:56+00</td>\n      <td>2021/03/17 11:23:06+00</td>\n      <td>...</td>\n      <td>398200.35</td>\n      <td>144959.80</td>\n      <td>38.972556</td>\n      <td>-77.020768</td>\n      <td>WASHINGTON</td>\n      <td>DC</td>\n      <td>20012.0</td>\n      <td>251276</td>\n      <td>4.0</td>\n      <td>right_only</td>\n    </tr>\n    <tr>\n      <th>17</th>\n      <td>-76.987259</td>\n      <td>38.863699</td>\n      <td>FESAADNU</td>\n      <td>FEMS - Smoke Alarm Application</td>\n      <td>FEMS-Smoke Alarms</td>\n      <td>FEMS</td>\n      <td>1</td>\n      <td>2021/02/24 12:37:47+00</td>\n      <td>2021/03/04 16:31:30+00</td>\n      <td>2021/03/16 13:37:47+00</td>\n      <td>...</td>\n      <td>401105.95</td>\n      <td>132874.78</td>\n      <td>38.863691</td>\n      <td>-76.987257</td>\n      <td>WASHINGTON</td>\n      <td>DC</td>\n      <td>20020.0</td>\n      <td>150328</td>\n      <td>8.0</td>\n      <td>right_only</td>\n    </tr>\n    <tr>\n      <th>18</th>\n      <td>-76.919791</td>\n      <td>38.888310</td>\n      <td>FESAADNU</td>\n      <td>FEMS - Smoke Alarm Application</td>\n      <td>FEMS-Smoke Alarms</td>\n      <td>FEMS</td>\n      <td>1</td>\n      <td>2021/02/25 15:41:44+00</td>\n      <td>2021/03/04 16:17:35+00</td>\n      <td>2021/03/17 16:41:44+00</td>\n      <td>...</td>\n      <td>406959.01</td>\n      <td>135609.83</td>\n      <td>38.888303</td>\n      <td>-76.919788</td>\n      <td>WASHINGTON</td>\n      <td>DC</td>\n      <td>20019.0</td>\n      <td>303544</td>\n      <td>7.0</td>\n      <td>right_only</td>\n    </tr>\n    <tr>\n      <th>19</th>\n      <td>-76.957704</td>\n      <td>38.886982</td>\n      <td>FESAADNU</td>\n      <td>FEMS - Smoke Alarm Application</td>\n      <td>FEMS-Smoke Alarms</td>\n      <td>FEMS</td>\n      <td>1</td>\n      <td>2021/02/25 13:07:27+00</td>\n      <td>2021/03/03 15:59:14+00</td>\n      <td>2021/03/17 14:07:27+00</td>\n      <td>...</td>\n      <td>403669.79</td>\n      <td>135460.17</td>\n      <td>38.886974</td>\n      <td>-76.957702</td>\n      <td>WASHINGTON</td>\n      <td>DC</td>\n      <td>20019.0</td>\n      <td>35843</td>\n      <td>7.0</td>\n      <td>right_only</td>\n    </tr>\n    <tr>\n      <th>20</th>\n      <td>-77.014024</td>\n      <td>38.909865</td>\n      <td>FESAADNU</td>\n      <td>FEMS - Smoke Alarm Application</td>\n      <td>FEMS-Smoke Alarms</td>\n      <td>FEMS</td>\n      <td>1</td>\n      <td>2021/02/25 13:50:20+00</td>\n      <td>2021/03/04 16:14:19+00</td>\n      <td>2021/03/17 14:50:20+00</td>\n      <td>...</td>\n      <td>398783.91</td>\n      <td>137999.59</td>\n      <td>38.909857</td>\n      <td>-77.014021</td>\n      <td>WASHINGTON</td>\n      <td>DC</td>\n      <td>20001.0</td>\n      <td>237832</td>\n      <td>5.0</td>\n      <td>right_only</td>\n    </tr>\n  </tbody>\n</table>\n<p>21 rows × 29 columns</p>\n</div>"
     },
     "metadata": {},
     "execution_count": 67
    }
   ],
   "source": [
    "cols = ['X', 'Y', 'SERVICECODE', 'SERVICECODEDESCRIPTION', 'SERVICETYPECODEDESCRIPTION', 'ORGANIZATIONACRONYM', 'SERVICECALLCOUNT', 'ADDDATE', 'RESOLUTIONDATE', 'SERVICEDUEDATE', 'SERVICEORDERDATE', 'INSPECTIONFLAG', 'INSPECTIONDATE', 'INSPECTORNAME', 'SERVICEORDERSTATUS', 'STATUS_CODE', 'SERVICEREQUESTID', 'PRIORITY', 'STREETADDRESS', 'XCOORD', 'YCOORD', 'LATITUDE', 'LONGITUDE', 'CITY', 'STATE', 'ZIPCODE', 'MARADDRESSREPOSITORYID', 'WARD']\n",
    "# get the records that have ORGANIZATION ACRONYM == 'FEMS'\n",
    "nonEM_fems = nonEM_df.loc[nonEM_df['ORGANIZATIONACRONYM'] == 'FEMS']\n",
    "merged_df = pd.merge(nonEM_fems[cols], em_df[cols], how='outer', indicator=True)\n",
    "merged_df"
   ]
  },
  {
   "source": [
    "### Records that appear in both dataset"
   ],
   "cell_type": "markdown",
   "metadata": {}
  },
  {
   "source": [
    "both_df = merged_df.loc[(merged_df['_merge'] == 'both') ]\n",
    "both_df"
   ],
   "cell_type": "code",
   "metadata": {},
   "execution_count": 69,
   "outputs": [
    {
     "output_type": "execute_result",
     "data": {
      "text/plain": [
       "            X          Y SERVICECODE          SERVICECODEDESCRIPTION  \\\n",
       "0  -76.987107  38.912102    FESAADNU  FEMS - Smoke Alarm Application   \n",
       "1  -76.996413  38.901537    FESAADNU  FEMS - Smoke Alarm Application   \n",
       "2  -77.025731  38.939540    FESAADNU  FEMS - Smoke Alarm Application   \n",
       "3  -76.941531  38.881247    FESAADNU  FEMS - Smoke Alarm Application   \n",
       "4  -76.995936  38.930586    FESAADNU  FEMS - Smoke Alarm Application   \n",
       "5  -76.989061  38.900873    FESAADNU  FEMS - Smoke Alarm Application   \n",
       "6  -76.963655  38.861410    FESAADNU  FEMS - Smoke Alarm Application   \n",
       "8  -76.941562  38.870856    FESAADNU  FEMS - Smoke Alarm Application   \n",
       "13 -77.016871  38.959354    FESAADNU  FEMS - Smoke Alarm Application   \n",
       "14 -76.998229  38.901141    FESAADNU  FEMS - Smoke Alarm Application   \n",
       "\n",
       "   SERVICETYPECODEDESCRIPTION ORGANIZATIONACRONYM  SERVICECALLCOUNT  \\\n",
       "0           FEMS-Smoke Alarms                FEMS                 1   \n",
       "1           FEMS-Smoke Alarms                FEMS                 1   \n",
       "2           FEMS-Smoke Alarms                FEMS                 1   \n",
       "3           FEMS-Smoke Alarms                FEMS                 1   \n",
       "4           FEMS-Smoke Alarms                FEMS                 1   \n",
       "5           FEMS-Smoke Alarms                FEMS                 1   \n",
       "6           FEMS-Smoke Alarms                FEMS                 1   \n",
       "8           FEMS-Smoke Alarms                FEMS                 1   \n",
       "13          FEMS-Smoke Alarms                FEMS                 1   \n",
       "14          FEMS-Smoke Alarms                FEMS                 1   \n",
       "\n",
       "                   ADDDATE          RESOLUTIONDATE          SERVICEDUEDATE  \\\n",
       "0   2021/03/16 13:10:28+00  2021/03/18 15:05:10+00  2021/04/05 13:10:28+00   \n",
       "1   2021/03/04 11:22:43+00  2021/03/05 15:34:05+00  2021/03/24 12:22:43+00   \n",
       "2   2021/03/11 12:36:48+00  2021/03/11 15:18:11+00  2021/03/31 13:36:48+00   \n",
       "3   2021/03/10 09:57:39+00  2021/03/16 15:17:00+00  2021/03/30 10:57:39+00   \n",
       "4   2021/03/04 13:35:12+00  2021/03/05 16:11:35+00  2021/03/24 14:35:12+00   \n",
       "5   2021/03/05 16:09:05+00  2021/03/09 09:46:37+00  2021/03/25 17:09:05+00   \n",
       "6   2021/03/01 09:59:33+00  2021/03/04 16:27:15+00  2021/03/19 10:59:33+00   \n",
       "8   2021/02/27 18:40:02+00  2021/03/04 16:25:06+00  2021/03/18 19:40:02+00   \n",
       "13  2021/03/01 13:52:14+00  2021/03/04 16:29:52+00  2021/03/19 14:52:14+00   \n",
       "14  2021/02/28 18:37:05+00  2021/03/04 16:22:23+00  2021/03/18 19:37:05+00   \n",
       "\n",
       "    ...     XCOORD     YCOORD   LATITUDE  LONGITUDE        CITY  STATE  \\\n",
       "0   ...  401118.42  138247.97  38.912095 -76.987104  WASHINGTON     DC   \n",
       "1   ...  400311.30  137075.07  38.901530 -76.996411  WASHINGTON     DC   \n",
       "2   ...  397769.45  141294.00  38.939532 -77.025728  WASHINGTON     DC   \n",
       "3   ...  405073.37  134824.32  38.881239 -76.941529  WASHINGTON     DC   \n",
       "4   ...  400352.54  140299.69  38.930578 -76.995934  WASHINGTON     DC   \n",
       "5   ...  400949.10  137001.37  38.900865 -76.989058  WASHINGTON     DC   \n",
       "6   ...  403154.64  132621.29  38.861403 -76.963652  WASHINGTON     DC   \n",
       "8   ...  405071.40  133670.82  38.870848 -76.941560  WASHINGTON     DC   \n",
       "13  ...  398537.96  143493.37  38.959346 -77.016869  WASHINGTON     DC   \n",
       "14  ...  400153.82  137031.10  38.901134 -76.998227  WASHINGTON     DC   \n",
       "\n",
       "    ZIPCODE MARADDRESSREPOSITORYID WARD  _merge  \n",
       "0   20002.0                  54899  5.0    both  \n",
       "1   20002.0                  81728  6.0    both  \n",
       "2   20011.0                 225107  4.0    both  \n",
       "3   20019.0                  23028  7.0    both  \n",
       "4   20017.0                  37180  5.0    both  \n",
       "5   20002.0                  70457  6.0    both  \n",
       "6   20020.0                  41615  7.0    both  \n",
       "8   20019.0                  26472  7.0    both  \n",
       "13  20011.0                 249374  4.0    both  \n",
       "14  20002.0                  81162  6.0    both  \n",
       "\n",
       "[10 rows x 29 columns]"
      ],
      "text/html": "<div>\n<style scoped>\n    .dataframe tbody tr th:only-of-type {\n        vertical-align: middle;\n    }\n\n    .dataframe tbody tr th {\n        vertical-align: top;\n    }\n\n    .dataframe thead th {\n        text-align: right;\n    }\n</style>\n<table border=\"1\" class=\"dataframe\">\n  <thead>\n    <tr style=\"text-align: right;\">\n      <th></th>\n      <th>X</th>\n      <th>Y</th>\n      <th>SERVICECODE</th>\n      <th>SERVICECODEDESCRIPTION</th>\n      <th>SERVICETYPECODEDESCRIPTION</th>\n      <th>ORGANIZATIONACRONYM</th>\n      <th>SERVICECALLCOUNT</th>\n      <th>ADDDATE</th>\n      <th>RESOLUTIONDATE</th>\n      <th>SERVICEDUEDATE</th>\n      <th>...</th>\n      <th>XCOORD</th>\n      <th>YCOORD</th>\n      <th>LATITUDE</th>\n      <th>LONGITUDE</th>\n      <th>CITY</th>\n      <th>STATE</th>\n      <th>ZIPCODE</th>\n      <th>MARADDRESSREPOSITORYID</th>\n      <th>WARD</th>\n      <th>_merge</th>\n    </tr>\n  </thead>\n  <tbody>\n    <tr>\n      <th>0</th>\n      <td>-76.987107</td>\n      <td>38.912102</td>\n      <td>FESAADNU</td>\n      <td>FEMS - Smoke Alarm Application</td>\n      <td>FEMS-Smoke Alarms</td>\n      <td>FEMS</td>\n      <td>1</td>\n      <td>2021/03/16 13:10:28+00</td>\n      <td>2021/03/18 15:05:10+00</td>\n      <td>2021/04/05 13:10:28+00</td>\n      <td>...</td>\n      <td>401118.42</td>\n      <td>138247.97</td>\n      <td>38.912095</td>\n      <td>-76.987104</td>\n      <td>WASHINGTON</td>\n      <td>DC</td>\n      <td>20002.0</td>\n      <td>54899</td>\n      <td>5.0</td>\n      <td>both</td>\n    </tr>\n    <tr>\n      <th>1</th>\n      <td>-76.996413</td>\n      <td>38.901537</td>\n      <td>FESAADNU</td>\n      <td>FEMS - Smoke Alarm Application</td>\n      <td>FEMS-Smoke Alarms</td>\n      <td>FEMS</td>\n      <td>1</td>\n      <td>2021/03/04 11:22:43+00</td>\n      <td>2021/03/05 15:34:05+00</td>\n      <td>2021/03/24 12:22:43+00</td>\n      <td>...</td>\n      <td>400311.30</td>\n      <td>137075.07</td>\n      <td>38.901530</td>\n      <td>-76.996411</td>\n      <td>WASHINGTON</td>\n      <td>DC</td>\n      <td>20002.0</td>\n      <td>81728</td>\n      <td>6.0</td>\n      <td>both</td>\n    </tr>\n    <tr>\n      <th>2</th>\n      <td>-77.025731</td>\n      <td>38.939540</td>\n      <td>FESAADNU</td>\n      <td>FEMS - Smoke Alarm Application</td>\n      <td>FEMS-Smoke Alarms</td>\n      <td>FEMS</td>\n      <td>1</td>\n      <td>2021/03/11 12:36:48+00</td>\n      <td>2021/03/11 15:18:11+00</td>\n      <td>2021/03/31 13:36:48+00</td>\n      <td>...</td>\n      <td>397769.45</td>\n      <td>141294.00</td>\n      <td>38.939532</td>\n      <td>-77.025728</td>\n      <td>WASHINGTON</td>\n      <td>DC</td>\n      <td>20011.0</td>\n      <td>225107</td>\n      <td>4.0</td>\n      <td>both</td>\n    </tr>\n    <tr>\n      <th>3</th>\n      <td>-76.941531</td>\n      <td>38.881247</td>\n      <td>FESAADNU</td>\n      <td>FEMS - Smoke Alarm Application</td>\n      <td>FEMS-Smoke Alarms</td>\n      <td>FEMS</td>\n      <td>1</td>\n      <td>2021/03/10 09:57:39+00</td>\n      <td>2021/03/16 15:17:00+00</td>\n      <td>2021/03/30 10:57:39+00</td>\n      <td>...</td>\n      <td>405073.37</td>\n      <td>134824.32</td>\n      <td>38.881239</td>\n      <td>-76.941529</td>\n      <td>WASHINGTON</td>\n      <td>DC</td>\n      <td>20019.0</td>\n      <td>23028</td>\n      <td>7.0</td>\n      <td>both</td>\n    </tr>\n    <tr>\n      <th>4</th>\n      <td>-76.995936</td>\n      <td>38.930586</td>\n      <td>FESAADNU</td>\n      <td>FEMS - Smoke Alarm Application</td>\n      <td>FEMS-Smoke Alarms</td>\n      <td>FEMS</td>\n      <td>1</td>\n      <td>2021/03/04 13:35:12+00</td>\n      <td>2021/03/05 16:11:35+00</td>\n      <td>2021/03/24 14:35:12+00</td>\n      <td>...</td>\n      <td>400352.54</td>\n      <td>140299.69</td>\n      <td>38.930578</td>\n      <td>-76.995934</td>\n      <td>WASHINGTON</td>\n      <td>DC</td>\n      <td>20017.0</td>\n      <td>37180</td>\n      <td>5.0</td>\n      <td>both</td>\n    </tr>\n    <tr>\n      <th>5</th>\n      <td>-76.989061</td>\n      <td>38.900873</td>\n      <td>FESAADNU</td>\n      <td>FEMS - Smoke Alarm Application</td>\n      <td>FEMS-Smoke Alarms</td>\n      <td>FEMS</td>\n      <td>1</td>\n      <td>2021/03/05 16:09:05+00</td>\n      <td>2021/03/09 09:46:37+00</td>\n      <td>2021/03/25 17:09:05+00</td>\n      <td>...</td>\n      <td>400949.10</td>\n      <td>137001.37</td>\n      <td>38.900865</td>\n      <td>-76.989058</td>\n      <td>WASHINGTON</td>\n      <td>DC</td>\n      <td>20002.0</td>\n      <td>70457</td>\n      <td>6.0</td>\n      <td>both</td>\n    </tr>\n    <tr>\n      <th>6</th>\n      <td>-76.963655</td>\n      <td>38.861410</td>\n      <td>FESAADNU</td>\n      <td>FEMS - Smoke Alarm Application</td>\n      <td>FEMS-Smoke Alarms</td>\n      <td>FEMS</td>\n      <td>1</td>\n      <td>2021/03/01 09:59:33+00</td>\n      <td>2021/03/04 16:27:15+00</td>\n      <td>2021/03/19 10:59:33+00</td>\n      <td>...</td>\n      <td>403154.64</td>\n      <td>132621.29</td>\n      <td>38.861403</td>\n      <td>-76.963652</td>\n      <td>WASHINGTON</td>\n      <td>DC</td>\n      <td>20020.0</td>\n      <td>41615</td>\n      <td>7.0</td>\n      <td>both</td>\n    </tr>\n    <tr>\n      <th>8</th>\n      <td>-76.941562</td>\n      <td>38.870856</td>\n      <td>FESAADNU</td>\n      <td>FEMS - Smoke Alarm Application</td>\n      <td>FEMS-Smoke Alarms</td>\n      <td>FEMS</td>\n      <td>1</td>\n      <td>2021/02/27 18:40:02+00</td>\n      <td>2021/03/04 16:25:06+00</td>\n      <td>2021/03/18 19:40:02+00</td>\n      <td>...</td>\n      <td>405071.40</td>\n      <td>133670.82</td>\n      <td>38.870848</td>\n      <td>-76.941560</td>\n      <td>WASHINGTON</td>\n      <td>DC</td>\n      <td>20019.0</td>\n      <td>26472</td>\n      <td>7.0</td>\n      <td>both</td>\n    </tr>\n    <tr>\n      <th>13</th>\n      <td>-77.016871</td>\n      <td>38.959354</td>\n      <td>FESAADNU</td>\n      <td>FEMS - Smoke Alarm Application</td>\n      <td>FEMS-Smoke Alarms</td>\n      <td>FEMS</td>\n      <td>1</td>\n      <td>2021/03/01 13:52:14+00</td>\n      <td>2021/03/04 16:29:52+00</td>\n      <td>2021/03/19 14:52:14+00</td>\n      <td>...</td>\n      <td>398537.96</td>\n      <td>143493.37</td>\n      <td>38.959346</td>\n      <td>-77.016869</td>\n      <td>WASHINGTON</td>\n      <td>DC</td>\n      <td>20011.0</td>\n      <td>249374</td>\n      <td>4.0</td>\n      <td>both</td>\n    </tr>\n    <tr>\n      <th>14</th>\n      <td>-76.998229</td>\n      <td>38.901141</td>\n      <td>FESAADNU</td>\n      <td>FEMS - Smoke Alarm Application</td>\n      <td>FEMS-Smoke Alarms</td>\n      <td>FEMS</td>\n      <td>1</td>\n      <td>2021/02/28 18:37:05+00</td>\n      <td>2021/03/04 16:22:23+00</td>\n      <td>2021/03/18 19:37:05+00</td>\n      <td>...</td>\n      <td>400153.82</td>\n      <td>137031.10</td>\n      <td>38.901134</td>\n      <td>-76.998227</td>\n      <td>WASHINGTON</td>\n      <td>DC</td>\n      <td>20002.0</td>\n      <td>81162</td>\n      <td>6.0</td>\n      <td>both</td>\n    </tr>\n  </tbody>\n</table>\n<p>10 rows × 29 columns</p>\n</div>"
     },
     "metadata": {},
     "execution_count": 69
    }
   ]
  },
  {
   "source": [
    "### Records that is missing from the emergent 311 dataset, but have ORGANIZATION ACRONYM == 'FEMS'"
   ],
   "cell_type": "markdown",
   "metadata": {}
  },
  {
   "cell_type": "code",
   "execution_count": 71,
   "metadata": {},
   "outputs": [
    {
     "output_type": "execute_result",
     "data": {
      "text/plain": [
       "            X          Y   SERVICECODE          SERVICECODEDESCRIPTION  \\\n",
       "7  -77.000866  38.956075  FEMSFIREINSP   FEMS - Fire Safety Inspection   \n",
       "9  -77.001257  38.960708      FESAADNU  FEMS - Smoke Alarm Application   \n",
       "10 -77.013739  38.918348      FESAADNU  FEMS - Smoke Alarm Application   \n",
       "11 -77.026977  38.982168  FEMSFIREINSP   FEMS - Fire Safety Inspection   \n",
       "12 -77.027473  38.978198      FESAADNU  FEMS - Smoke Alarm Application   \n",
       "\n",
       "   SERVICETYPECODEDESCRIPTION ORGANIZATIONACRONYM  SERVICECALLCOUNT  \\\n",
       "7                        FEMS                FEMS                 1   \n",
       "9           FEMS-Smoke Alarms                FEMS                 1   \n",
       "10          FEMS-Smoke Alarms                FEMS                 1   \n",
       "11                       FEMS                FEMS                 1   \n",
       "12          FEMS-Smoke Alarms                FEMS                 1   \n",
       "\n",
       "                   ADDDATE          RESOLUTIONDATE          SERVICEDUEDATE  \\\n",
       "7   2021/03/17 19:30:27+00  2021/03/19 12:46:40+00  2021/04/29 19:30:27+00   \n",
       "9   2021/03/25 17:20:50+00  1970/01/01 00:00:00+00  2021/04/14 17:20:50+00   \n",
       "10  2021/03/26 11:15:50+00  1970/01/01 00:00:00+00  2021/04/15 11:15:50+00   \n",
       "11  2021/03/23 11:52:38+00  2021/03/25 09:49:39+00  2021/05/05 11:52:38+00   \n",
       "12  2021/03/25 09:14:35+00  2021/03/25 10:35:16+00  2021/04/14 09:14:35+00   \n",
       "\n",
       "    ...     XCOORD     YCOORD   LATITUDE  LONGITUDE        CITY  STATE  \\\n",
       "7   ...  399925.12  143129.29  38.956068 -77.000864  WASHINGTON     DC   \n",
       "9   ...  399891.26  143643.59  38.960701 -77.001255  WASHINGTON     DC   \n",
       "10  ...  398808.77  138941.34  38.918341 -77.013736  WASHINGTON     DC   \n",
       "11  ...  397662.83  146026.13  38.982160 -77.026974  WASHINGTON     DC   \n",
       "12  ...  397619.67  145585.43  38.978190 -77.027471  WASHINGTON     DC   \n",
       "\n",
       "    ZIPCODE MARADDRESSREPOSITORYID WARD     _merge  \n",
       "7   20011.0                 331773  4.0  left_only  \n",
       "9   20011.0                  34203  4.0  left_only  \n",
       "10  20001.0                 227870  5.0  left_only  \n",
       "11  20012.0                 253572  4.0  left_only  \n",
       "12  20012.0                 253434  4.0  left_only  \n",
       "\n",
       "[5 rows x 29 columns]"
      ],
      "text/html": "<div>\n<style scoped>\n    .dataframe tbody tr th:only-of-type {\n        vertical-align: middle;\n    }\n\n    .dataframe tbody tr th {\n        vertical-align: top;\n    }\n\n    .dataframe thead th {\n        text-align: right;\n    }\n</style>\n<table border=\"1\" class=\"dataframe\">\n  <thead>\n    <tr style=\"text-align: right;\">\n      <th></th>\n      <th>X</th>\n      <th>Y</th>\n      <th>SERVICECODE</th>\n      <th>SERVICECODEDESCRIPTION</th>\n      <th>SERVICETYPECODEDESCRIPTION</th>\n      <th>ORGANIZATIONACRONYM</th>\n      <th>SERVICECALLCOUNT</th>\n      <th>ADDDATE</th>\n      <th>RESOLUTIONDATE</th>\n      <th>SERVICEDUEDATE</th>\n      <th>...</th>\n      <th>XCOORD</th>\n      <th>YCOORD</th>\n      <th>LATITUDE</th>\n      <th>LONGITUDE</th>\n      <th>CITY</th>\n      <th>STATE</th>\n      <th>ZIPCODE</th>\n      <th>MARADDRESSREPOSITORYID</th>\n      <th>WARD</th>\n      <th>_merge</th>\n    </tr>\n  </thead>\n  <tbody>\n    <tr>\n      <th>7</th>\n      <td>-77.000866</td>\n      <td>38.956075</td>\n      <td>FEMSFIREINSP</td>\n      <td>FEMS - Fire Safety Inspection</td>\n      <td>FEMS</td>\n      <td>FEMS</td>\n      <td>1</td>\n      <td>2021/03/17 19:30:27+00</td>\n      <td>2021/03/19 12:46:40+00</td>\n      <td>2021/04/29 19:30:27+00</td>\n      <td>...</td>\n      <td>399925.12</td>\n      <td>143129.29</td>\n      <td>38.956068</td>\n      <td>-77.000864</td>\n      <td>WASHINGTON</td>\n      <td>DC</td>\n      <td>20011.0</td>\n      <td>331773</td>\n      <td>4.0</td>\n      <td>left_only</td>\n    </tr>\n    <tr>\n      <th>9</th>\n      <td>-77.001257</td>\n      <td>38.960708</td>\n      <td>FESAADNU</td>\n      <td>FEMS - Smoke Alarm Application</td>\n      <td>FEMS-Smoke Alarms</td>\n      <td>FEMS</td>\n      <td>1</td>\n      <td>2021/03/25 17:20:50+00</td>\n      <td>1970/01/01 00:00:00+00</td>\n      <td>2021/04/14 17:20:50+00</td>\n      <td>...</td>\n      <td>399891.26</td>\n      <td>143643.59</td>\n      <td>38.960701</td>\n      <td>-77.001255</td>\n      <td>WASHINGTON</td>\n      <td>DC</td>\n      <td>20011.0</td>\n      <td>34203</td>\n      <td>4.0</td>\n      <td>left_only</td>\n    </tr>\n    <tr>\n      <th>10</th>\n      <td>-77.013739</td>\n      <td>38.918348</td>\n      <td>FESAADNU</td>\n      <td>FEMS - Smoke Alarm Application</td>\n      <td>FEMS-Smoke Alarms</td>\n      <td>FEMS</td>\n      <td>1</td>\n      <td>2021/03/26 11:15:50+00</td>\n      <td>1970/01/01 00:00:00+00</td>\n      <td>2021/04/15 11:15:50+00</td>\n      <td>...</td>\n      <td>398808.77</td>\n      <td>138941.34</td>\n      <td>38.918341</td>\n      <td>-77.013736</td>\n      <td>WASHINGTON</td>\n      <td>DC</td>\n      <td>20001.0</td>\n      <td>227870</td>\n      <td>5.0</td>\n      <td>left_only</td>\n    </tr>\n    <tr>\n      <th>11</th>\n      <td>-77.026977</td>\n      <td>38.982168</td>\n      <td>FEMSFIREINSP</td>\n      <td>FEMS - Fire Safety Inspection</td>\n      <td>FEMS</td>\n      <td>FEMS</td>\n      <td>1</td>\n      <td>2021/03/23 11:52:38+00</td>\n      <td>2021/03/25 09:49:39+00</td>\n      <td>2021/05/05 11:52:38+00</td>\n      <td>...</td>\n      <td>397662.83</td>\n      <td>146026.13</td>\n      <td>38.982160</td>\n      <td>-77.026974</td>\n      <td>WASHINGTON</td>\n      <td>DC</td>\n      <td>20012.0</td>\n      <td>253572</td>\n      <td>4.0</td>\n      <td>left_only</td>\n    </tr>\n    <tr>\n      <th>12</th>\n      <td>-77.027473</td>\n      <td>38.978198</td>\n      <td>FESAADNU</td>\n      <td>FEMS - Smoke Alarm Application</td>\n      <td>FEMS-Smoke Alarms</td>\n      <td>FEMS</td>\n      <td>1</td>\n      <td>2021/03/25 09:14:35+00</td>\n      <td>2021/03/25 10:35:16+00</td>\n      <td>2021/04/14 09:14:35+00</td>\n      <td>...</td>\n      <td>397619.67</td>\n      <td>145585.43</td>\n      <td>38.978190</td>\n      <td>-77.027471</td>\n      <td>WASHINGTON</td>\n      <td>DC</td>\n      <td>20012.0</td>\n      <td>253434</td>\n      <td>4.0</td>\n      <td>left_only</td>\n    </tr>\n  </tbody>\n</table>\n<p>5 rows × 29 columns</p>\n</div>"
     },
     "metadata": {},
     "execution_count": 71
    }
   ],
   "source": [
    "left_df = merged_df.loc[(merged_df['_merge'] == 'left_only') ]\n",
    "left_df"
   ]
  },
  {
   "source": [
    "### Records that only appear in the emergent 311 dataset"
   ],
   "cell_type": "markdown",
   "metadata": {}
  },
  {
   "cell_type": "code",
   "execution_count": 72,
   "metadata": {},
   "outputs": [
    {
     "output_type": "execute_result",
     "data": {
      "text/plain": [
       "            X          Y SERVICECODE          SERVICECODEDESCRIPTION  \\\n",
       "15 -76.947104  38.869324    FESAADNU  FEMS - Smoke Alarm Application   \n",
       "16 -77.020770  38.972563    FESAADNU  FEMS - Smoke Alarm Application   \n",
       "17 -76.987259  38.863699    FESAADNU  FEMS - Smoke Alarm Application   \n",
       "18 -76.919791  38.888310    FESAADNU  FEMS - Smoke Alarm Application   \n",
       "19 -76.957704  38.886982    FESAADNU  FEMS - Smoke Alarm Application   \n",
       "20 -77.014024  38.909865    FESAADNU  FEMS - Smoke Alarm Application   \n",
       "\n",
       "   SERVICETYPECODEDESCRIPTION ORGANIZATIONACRONYM  SERVICECALLCOUNT  \\\n",
       "15          FEMS-Smoke Alarms                FEMS                 1   \n",
       "16          FEMS-Smoke Alarms                FEMS                 1   \n",
       "17          FEMS-Smoke Alarms                FEMS                 1   \n",
       "18          FEMS-Smoke Alarms                FEMS                 1   \n",
       "19          FEMS-Smoke Alarms                FEMS                 1   \n",
       "20          FEMS-Smoke Alarms                FEMS                 1   \n",
       "\n",
       "                   ADDDATE          RESOLUTIONDATE          SERVICEDUEDATE  \\\n",
       "15  2021/02/25 16:20:25+00  2021/03/04 16:20:23+00  2021/03/17 17:20:25+00   \n",
       "16  2021/02/25 10:23:06+00  2021/03/04 16:11:56+00  2021/03/17 11:23:06+00   \n",
       "17  2021/02/24 12:37:47+00  2021/03/04 16:31:30+00  2021/03/16 13:37:47+00   \n",
       "18  2021/02/25 15:41:44+00  2021/03/04 16:17:35+00  2021/03/17 16:41:44+00   \n",
       "19  2021/02/25 13:07:27+00  2021/03/03 15:59:14+00  2021/03/17 14:07:27+00   \n",
       "20  2021/02/25 13:50:20+00  2021/03/04 16:14:19+00  2021/03/17 14:50:20+00   \n",
       "\n",
       "    ...     XCOORD     YCOORD   LATITUDE  LONGITUDE        CITY  STATE  \\\n",
       "15  ...  404590.60  133500.46  38.869316 -76.947101  WASHINGTON     DC   \n",
       "16  ...  398200.35  144959.80  38.972556 -77.020768  WASHINGTON     DC   \n",
       "17  ...  401105.95  132874.78  38.863691 -76.987257  WASHINGTON     DC   \n",
       "18  ...  406959.01  135609.83  38.888303 -76.919788  WASHINGTON     DC   \n",
       "19  ...  403669.79  135460.17  38.886974 -76.957702  WASHINGTON     DC   \n",
       "20  ...  398783.91  137999.59  38.909857 -77.014021  WASHINGTON     DC   \n",
       "\n",
       "    ZIPCODE MARADDRESSREPOSITORYID WARD      _merge  \n",
       "15  20020.0                  27845  7.0  right_only  \n",
       "16  20012.0                 251276  4.0  right_only  \n",
       "17  20020.0                 150328  8.0  right_only  \n",
       "18  20019.0                 303544  7.0  right_only  \n",
       "19  20019.0                  35843  7.0  right_only  \n",
       "20  20001.0                 237832  5.0  right_only  \n",
       "\n",
       "[6 rows x 29 columns]"
      ],
      "text/html": "<div>\n<style scoped>\n    .dataframe tbody tr th:only-of-type {\n        vertical-align: middle;\n    }\n\n    .dataframe tbody tr th {\n        vertical-align: top;\n    }\n\n    .dataframe thead th {\n        text-align: right;\n    }\n</style>\n<table border=\"1\" class=\"dataframe\">\n  <thead>\n    <tr style=\"text-align: right;\">\n      <th></th>\n      <th>X</th>\n      <th>Y</th>\n      <th>SERVICECODE</th>\n      <th>SERVICECODEDESCRIPTION</th>\n      <th>SERVICETYPECODEDESCRIPTION</th>\n      <th>ORGANIZATIONACRONYM</th>\n      <th>SERVICECALLCOUNT</th>\n      <th>ADDDATE</th>\n      <th>RESOLUTIONDATE</th>\n      <th>SERVICEDUEDATE</th>\n      <th>...</th>\n      <th>XCOORD</th>\n      <th>YCOORD</th>\n      <th>LATITUDE</th>\n      <th>LONGITUDE</th>\n      <th>CITY</th>\n      <th>STATE</th>\n      <th>ZIPCODE</th>\n      <th>MARADDRESSREPOSITORYID</th>\n      <th>WARD</th>\n      <th>_merge</th>\n    </tr>\n  </thead>\n  <tbody>\n    <tr>\n      <th>15</th>\n      <td>-76.947104</td>\n      <td>38.869324</td>\n      <td>FESAADNU</td>\n      <td>FEMS - Smoke Alarm Application</td>\n      <td>FEMS-Smoke Alarms</td>\n      <td>FEMS</td>\n      <td>1</td>\n      <td>2021/02/25 16:20:25+00</td>\n      <td>2021/03/04 16:20:23+00</td>\n      <td>2021/03/17 17:20:25+00</td>\n      <td>...</td>\n      <td>404590.60</td>\n      <td>133500.46</td>\n      <td>38.869316</td>\n      <td>-76.947101</td>\n      <td>WASHINGTON</td>\n      <td>DC</td>\n      <td>20020.0</td>\n      <td>27845</td>\n      <td>7.0</td>\n      <td>right_only</td>\n    </tr>\n    <tr>\n      <th>16</th>\n      <td>-77.020770</td>\n      <td>38.972563</td>\n      <td>FESAADNU</td>\n      <td>FEMS - Smoke Alarm Application</td>\n      <td>FEMS-Smoke Alarms</td>\n      <td>FEMS</td>\n      <td>1</td>\n      <td>2021/02/25 10:23:06+00</td>\n      <td>2021/03/04 16:11:56+00</td>\n      <td>2021/03/17 11:23:06+00</td>\n      <td>...</td>\n      <td>398200.35</td>\n      <td>144959.80</td>\n      <td>38.972556</td>\n      <td>-77.020768</td>\n      <td>WASHINGTON</td>\n      <td>DC</td>\n      <td>20012.0</td>\n      <td>251276</td>\n      <td>4.0</td>\n      <td>right_only</td>\n    </tr>\n    <tr>\n      <th>17</th>\n      <td>-76.987259</td>\n      <td>38.863699</td>\n      <td>FESAADNU</td>\n      <td>FEMS - Smoke Alarm Application</td>\n      <td>FEMS-Smoke Alarms</td>\n      <td>FEMS</td>\n      <td>1</td>\n      <td>2021/02/24 12:37:47+00</td>\n      <td>2021/03/04 16:31:30+00</td>\n      <td>2021/03/16 13:37:47+00</td>\n      <td>...</td>\n      <td>401105.95</td>\n      <td>132874.78</td>\n      <td>38.863691</td>\n      <td>-76.987257</td>\n      <td>WASHINGTON</td>\n      <td>DC</td>\n      <td>20020.0</td>\n      <td>150328</td>\n      <td>8.0</td>\n      <td>right_only</td>\n    </tr>\n    <tr>\n      <th>18</th>\n      <td>-76.919791</td>\n      <td>38.888310</td>\n      <td>FESAADNU</td>\n      <td>FEMS - Smoke Alarm Application</td>\n      <td>FEMS-Smoke Alarms</td>\n      <td>FEMS</td>\n      <td>1</td>\n      <td>2021/02/25 15:41:44+00</td>\n      <td>2021/03/04 16:17:35+00</td>\n      <td>2021/03/17 16:41:44+00</td>\n      <td>...</td>\n      <td>406959.01</td>\n      <td>135609.83</td>\n      <td>38.888303</td>\n      <td>-76.919788</td>\n      <td>WASHINGTON</td>\n      <td>DC</td>\n      <td>20019.0</td>\n      <td>303544</td>\n      <td>7.0</td>\n      <td>right_only</td>\n    </tr>\n    <tr>\n      <th>19</th>\n      <td>-76.957704</td>\n      <td>38.886982</td>\n      <td>FESAADNU</td>\n      <td>FEMS - Smoke Alarm Application</td>\n      <td>FEMS-Smoke Alarms</td>\n      <td>FEMS</td>\n      <td>1</td>\n      <td>2021/02/25 13:07:27+00</td>\n      <td>2021/03/03 15:59:14+00</td>\n      <td>2021/03/17 14:07:27+00</td>\n      <td>...</td>\n      <td>403669.79</td>\n      <td>135460.17</td>\n      <td>38.886974</td>\n      <td>-76.957702</td>\n      <td>WASHINGTON</td>\n      <td>DC</td>\n      <td>20019.0</td>\n      <td>35843</td>\n      <td>7.0</td>\n      <td>right_only</td>\n    </tr>\n    <tr>\n      <th>20</th>\n      <td>-77.014024</td>\n      <td>38.909865</td>\n      <td>FESAADNU</td>\n      <td>FEMS - Smoke Alarm Application</td>\n      <td>FEMS-Smoke Alarms</td>\n      <td>FEMS</td>\n      <td>1</td>\n      <td>2021/02/25 13:50:20+00</td>\n      <td>2021/03/04 16:14:19+00</td>\n      <td>2021/03/17 14:50:20+00</td>\n      <td>...</td>\n      <td>398783.91</td>\n      <td>137999.59</td>\n      <td>38.909857</td>\n      <td>-77.014021</td>\n      <td>WASHINGTON</td>\n      <td>DC</td>\n      <td>20001.0</td>\n      <td>237832</td>\n      <td>5.0</td>\n      <td>right_only</td>\n    </tr>\n  </tbody>\n</table>\n<p>6 rows × 29 columns</p>\n</div>"
     },
     "metadata": {},
     "execution_count": 72
    }
   ],
   "source": [
    "right_df = merged_df.loc[(merged_df['_merge'] == 'right_only') ]\n",
    "right_df"
   ]
  },
  {
   "cell_type": "code",
   "execution_count": null,
   "metadata": {},
   "outputs": [],
   "source": []
  }
 ]
}